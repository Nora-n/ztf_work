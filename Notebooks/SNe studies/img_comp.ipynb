{
 "cells": [
  {
   "cell_type": "markdown",
   "metadata": {},
   "source": [
    "# Modules"
   ]
  },
  {
   "cell_type": "code",
   "execution_count": 11,
   "metadata": {
    "jupyter": {
     "source_hidden": true
    }
   },
   "outputs": [],
   "source": [
    "%matplotlib widget\n",
    "import glob\n",
    "import pickle\n",
    "import sncosmo\n",
    "import numpy as np\n",
    "import pandas as pd\n",
    "import iminuit as im\n",
    "import astropy as ap\n",
    "import ipywidgets as ipw\n",
    "import matplotlib.pyplot as plt\n",
    "import ztfquery\n",
    "import ztflc\n",
    "\n",
    "from ztflc import fitter\n",
    "from ztflc import diffdata\n",
    "from astropy.io import fits\n",
    "from ztfquery import marshal\n",
    "from astrobject import photometry\n",
    "from ztflc import forcephotometry\n",
    "from scipy.stats import multivariate_normal\n",
    "from sncosmo.models import Source, Model, get_source\n",
    "from sncosmo import get_bandpass, get_magsystem\n",
    "from sncosmo.photdata import photometric_data"
   ]
  },
  {
   "cell_type": "markdown",
   "metadata": {},
   "source": [
    "## Img loading"
   ]
  },
  {
   "cell_type": "code",
   "execution_count": 5,
   "metadata": {},
   "outputs": [],
   "source": [
    "newscipsfimgpath = '/home/nicolas/Work/Data/ztf/ZOGYexample/ztf_20180216349352_000519_zr_c09_o_q3_newscipsf.fits'\n",
    "ztfnewscipsf = photometry.Image(newscipsfimgpath, background=0)"
   ]
  },
  {
   "cell_type": "code",
   "execution_count": 22,
   "metadata": {},
   "outputs": [],
   "source": [
    "with open('../../Data/ztf/ZOGYexample/central_patch', 'rb') as f:\n",
    "    central_patch = pickle.load(f)"
   ]
  },
  {
   "cell_type": "markdown",
   "metadata": {},
   "source": [
    "## Norm values"
   ]
  },
  {
   "cell_type": "code",
   "execution_count": 6,
   "metadata": {},
   "outputs": [],
   "source": [
    "fdata = ztfnewscipsf.rawdata\n",
    "newsci_max = np.max(fdata)"
   ]
  },
  {
   "cell_type": "code",
   "execution_count": 24,
   "metadata": {},
   "outputs": [],
   "source": [
    "central_norm = np.sum(np.ravel(central_patch))\n",
    "central_normed = central_patch/central_norm\n",
    "central_normed_max = np.max(central_normed)\n",
    "central_scaled = central_normed*newsci_max/central_normed_max"
   ]
  },
  {
   "cell_type": "code",
   "execution_count": 28,
   "metadata": {},
   "outputs": [
    {
     "data": {
      "application/vnd.jupyter.widget-view+json": {
       "model_id": "31d4e0036c2c4191aa6e33f365128ac9",
       "version_major": 2,
       "version_minor": 0
      },
      "text/plain": [
       "Canvas(toolbar=Toolbar(toolitems=[('Home', 'Reset original view', 'home', 'home'), ('Back', 'Back to previous …"
      ]
     },
     "metadata": {},
     "output_type": "display_data"
    }
   ],
   "source": [
    "plt.close()\n",
    "fig = plt.figure(figsize=[10, 3])\n",
    "\n",
    "ax = fig.add_subplot(131)\n",
    "ax.imshow(central_scaled)\n",
    "plt.title('Nora')\n",
    "\n",
    "ax = fig.add_subplot(132)\n",
    "ax.imshow(fdata)\n",
    "plt.title('Frank')\n",
    "\n",
    "ax = fig.add_subplot(133)\n",
    "ax.imshow(central_scaled-fdata)\n",
    "plt.title('Nora-Frank')\n",
    "\n",
    "fig.savefig('../../Images/png/central_newscipsf_diff.png')"
   ]
  },
  {
   "cell_type": "markdown",
   "metadata": {},
   "source": [
    "## 2D Gaussian of Frank's psf patch"
   ]
  },
  {
   "cell_type": "code",
   "execution_count": 62,
   "metadata": {},
   "outputs": [
    {
     "data": {
      "application/vnd.jupyter.widget-view+json": {
       "model_id": "3f4a2af866ac45af9e845a534806e7e4",
       "version_major": 2,
       "version_minor": 0
      },
      "text/plain": [
       "Canvas(toolbar=Toolbar(toolitems=[('Home', 'Reset original view', 'home', 'home'), ('Back', 'Back to previous …"
      ]
     },
     "metadata": {},
     "output_type": "display_data"
    }
   ],
   "source": [
    "import numpy as np\n",
    "import matplotlib.pyplot as plt\n",
    "from astropy.modeling import models, fitting\n",
    "from matplotlib.patches import Ellipse\n",
    "\n",
    "# Generate fake data\n",
    "np.random.seed(0)\n",
    "y, x = np.mgrid[:25, :25]\n",
    "z = fdata\n",
    "\n",
    "# From Young-Lo\n",
    "fwmh_x, fwmh_y = (7.869536e-01, 9.828351e-01)\n",
    "\n",
    "fix_dict = {'x_mean': 12.5,\n",
    "            'y_mean': 12.5}\n",
    "\n",
    "# Fit the data using astropy.modeling\n",
    "p_init = models.Gaussian2D(amplitude=0.05,\n",
    "                           x_mean=12.5,\n",
    "                           y_mean=12.5,\n",
    "                           #fixed=fix_dict,\n",
    "                           cov_matrix=np.asarray([[1, 0],\n",
    "                                                  [0, 1]]))\n",
    "fit_p = fitting.LevMarLSQFitter()\n",
    "p = fit_p(p_init, x, y, z)\n",
    "\n",
    "# Plot the data with the best-fit model\n",
    "plt.close()\n",
    "fig = plt.figure(figsize=[10, 3])\n",
    "\n",
    "ax = plt.subplot(1, 3, 1)\n",
    "ax.imshow(z, origin='lower', interpolation='nearest',\n",
    "           vmin=0, vmax=newsci_max)\n",
    "plt.title(\"Frank\")\n",
    "\n",
    "ax = plt.subplot(1, 3, 2)\n",
    "ax.imshow(p(x, y), origin='lower', interpolation='nearest',\n",
    "           vmin=0, vmax=newsci_max)\n",
    "ellipse = Ellipse((p.parameters[1], p.parameters[2]),\n",
    "                  width=p.parameters[3], height=p.parameters[4],\n",
    "                  angle=p.parameters[5],\n",
    "                  ec=None, fc=None, fill=False)\n",
    "ax.add_patch(ellipse)\n",
    "ellipse = Ellipse((p.parameters[1], p.parameters[2]),\n",
    "                  width=2*p.parameters[3], height=2*p.parameters[4],\n",
    "                  angle=p.parameters[5],\n",
    "                  ec=None, fc=None, fill=False)\n",
    "ax.add_patch(ellipse)\n",
    "ellipse = Ellipse((p.parameters[1], p.parameters[2]),\n",
    "                  width=3*p.parameters[3], height=3*p.parameters[4],\n",
    "                  angle=p.parameters[5],\n",
    "                  ec=None, fc=None, fill=False)\n",
    "ax.add_patch(ellipse)\n",
    "\n",
    "plt.title(\"BestFit2DGaussian\")\n",
    "ax = plt.subplot(1, 3, 3)\n",
    "ax.imshow(z - p(x, y), origin='lower', interpolation='nearest',\n",
    "           vmin=-0.0001, vmax=0.005)\n",
    "plt.title(\"Residual\")\n",
    "\n",
    "fig.savefig('../../Images/png/frankpsf2dgauss.png')"
   ]
  },
  {
   "cell_type": "code",
   "execution_count": 67,
   "metadata": {},
   "outputs": [
    {
     "data": {
      "text/plain": [
       "array([0.2, 0. , 0.4])"
      ]
     },
     "execution_count": 67,
     "metadata": {},
     "output_type": "execute_result"
    }
   ],
   "source": [
    "np.asarray([51, 0, 102])/255"
   ]
  },
  {
   "cell_type": "code",
   "execution_count": 60,
   "metadata": {},
   "outputs": [
    {
     "data": {
      "text/plain": [
       "array([ 0.04663146, 12.5       , 12.5       ,  1.66483445,  1.85841131,\n",
       "       -0.84712916])"
      ]
     },
     "execution_count": 60,
     "metadata": {},
     "output_type": "execute_result"
    }
   ],
   "source": [
    "p.parameters"
   ]
  },
  {
   "cell_type": "code",
   "execution_count": 20,
   "metadata": {},
   "outputs": [
    {
     "data": {
      "application/vnd.jupyter.widget-view+json": {
       "model_id": "a74b5c671e934ff2bb4e83ef3ca8797e",
       "version_major": 2,
       "version_minor": 0
      },
      "text/plain": [
       "Canvas(toolbar=Toolbar(toolitems=[('Home', 'Reset original view', 'home', 'home'), ('Back', 'Back to previous …"
      ]
     },
     "metadata": {},
     "output_type": "display_data"
    },
    {
     "data": {
      "text/plain": [
       "<matplotlib.contour.QuadContourSet at 0x7fc5398d4410>"
      ]
     },
     "execution_count": 20,
     "metadata": {},
     "output_type": "execute_result"
    }
   ],
   "source": [
    "x, y = np.mgrid[-1:1:.01, -2:2:.01]\n",
    "pos = np.empty(x.shape + (2,))\n",
    "pos[:, :, 0] = x; pos[:, :, 1] = y\n",
    "rv = multivariate_normal([0.5, -0.2], [[2.0, 1], [1, 0.7]])\n",
    "plt.close()\n",
    "plt.contourf(x, y, multivariate_normal.pdf(pos, [0.5, -0.2], [[2.0, 1], [1, 0.7]]))"
   ]
  },
  {
   "cell_type": "code",
   "execution_count": 16,
   "metadata": {},
   "outputs": [],
   "source": [
    "val = rv.pdf(pos)"
   ]
  },
  {
   "cell_type": "code",
   "execution_count": 29,
   "metadata": {},
   "outputs": [],
   "source": [
    "x = np.linspace(0, 200, 201)\n",
    "y = np.linspace(0, 200, 201)\n",
    "x, y = np.meshgrid(x, y)"
   ]
  },
  {
   "cell_type": "code",
   "execution_count": 25,
   "metadata": {},
   "outputs": [],
   "source": [
    "import numpy as np\n",
    "from scipy.optimize import curve_fit\n",
    "from scipy.signal import argrelmax\n",
    "\n",
    "import matplotlib.pyplot as plt\n",
    "from matplotlib import cm\n",
    "\n",
    "# 2D Gaussian model\n",
    "def func(xy, x0, y0, sigma, H):\n",
    "\n",
    "    x, y = xy\n",
    "\n",
    "    A = 1 / (2 * sigma**2)\n",
    "    I = H * np.exp(-A * ( (x - x0)**2 + (y - y0)**2))\n",
    "    return I\n",
    "\n",
    "# Generate 2D gaussian\n",
    "def generate(x0, y0, sigma, H):\n",
    "\n",
    "    x = np.arange(0, max(x0, y0) * 2 + sigma, 1)\n",
    "    y = np.arange(0, max(x0, y0) * 2 + sigma, 1)\n",
    "    xx, yy = np.meshgrid(x, y)\n",
    "\n",
    "    I = func((xx, yy), x0=x0, y0=y0, sigma=sigma, H=H)\n",
    "\n",
    "    return xx, yy, I\n",
    "\n",
    "def fit(image, with_bounds):\n",
    "\n",
    "    # Prepare fitting\n",
    "    x = np.arange(0, image.shape[1], 1)\n",
    "    y = np.arange(0, image.shape[0], 1)\n",
    "    xx, yy = np.meshgrid(x, y)\n",
    "\n",
    "    # Guess intial parameters\n",
    "    x0 = int(image.shape[0]/2) # Middle of the image\n",
    "    y0 = int(image.shape[1]/2) # Middle of the image\n",
    "    sigma = max(*image.shape) * 0.1 # 10% of the image\n",
    "    H = np.max(image) # Maximum value of the image\n",
    "    initial_guess = [x0, y0, sigma, H]\n",
    "\n",
    "    # Constraints of the parameters\n",
    "    if with_bounds:\n",
    "        lower = [0, 0, 0, 0]\n",
    "        upper = [image.shape[0], image.shape[1], max(*image.shape), image.max() * 2]\n",
    "        bounds = [lower, upper]\n",
    "    else:\n",
    "        bounds = [-np.inf, np.inf]\n",
    "\n",
    "    pred_params, uncert_cov = curve_fit(func, (xx.ravel(), yy.ravel()), image.ravel(),\n",
    "                                        p0=initial_guess, bounds=bounds)\n",
    "\n",
    "    # Get residual\n",
    "    predictions = func((xx, yy), *pred_params)\n",
    "    rms = np.sqrt(np.mean((image.ravel() - predictions.ravel())**2))\n",
    "\n",
    "    print(\"Predicted params : \", pred_params)\n",
    "    print(\"Residual : \", rms)\n",
    "\n",
    "    return pred_params\n",
    "\n",
    "def plot(image, params):\n",
    "\n",
    "    fig, ax = plt.subplots()\n",
    "    ax.imshow(image, cmap='viridis', interpolation='nearest', origin='lower')\n",
    "\n",
    "    ax.scatter(params[0], params[1], s=100, c=\"red\", marker=\"x\")\n",
    "\n",
    "    circle = Circle((params[0], params[1]), params[2], facecolor='none',\n",
    "            edgecolor=\"red\", linewidth=1, alpha=0.8)\n",
    "    ax.add_patch(circle)\n",
    "    circle = Circle((params[0], params[1]), 2*params[2], facecolor='none',\n",
    "        edgecolor=\"green\", linewidth=1, alpha=0.8)\n",
    "    ax.add_patch(circle)\n",
    "    circle = Circle((params[0], params[1]), 3*params[2], facecolor='none',\n",
    "        edgecolor=\"black\", linewidth=1, alpha=0.8)\n",
    "    ax.add_patch(circle)"
   ]
  },
  {
   "cell_type": "code",
   "execution_count": 26,
   "metadata": {},
   "outputs": [
    {
     "name": "stdout",
     "output_type": "stream",
     "text": [
      "Predicted params :  [12.00242999 12.04015469  1.64680838  0.05176076]\n",
      "Residual :  0.0005797823351933234\n"
     ]
    },
    {
     "data": {
      "application/vnd.jupyter.widget-view+json": {
       "model_id": "4fd442ceec7c4be485792f93b9260673",
       "version_major": 2,
       "version_minor": 0
      },
      "text/plain": [
       "Canvas(toolbar=Toolbar(toolitems=[('Home', 'Reset original view', 'home', 'home'), ('Back', 'Back to previous …"
      ]
     },
     "metadata": {},
     "output_type": "display_data"
    }
   ],
   "source": [
    "params = fit(fdata, with_bounds=False)\n",
    "plot(fdata, params)"
   ]
  },
  {
   "cell_type": "code",
   "execution_count": null,
   "metadata": {},
   "outputs": [],
   "source": []
  }
 ],
 "metadata": {
  "kernelspec": {
   "display_name": "Python 3",
   "language": "python",
   "name": "python3"
  },
  "language_info": {
   "codemirror_mode": {
    "name": "ipython",
    "version": 3
   },
   "file_extension": ".py",
   "mimetype": "text/x-python",
   "name": "python",
   "nbconvert_exporter": "python",
   "pygments_lexer": "ipython3",
   "version": "3.7.4"
  }
 },
 "nbformat": 4,
 "nbformat_minor": 4
}
