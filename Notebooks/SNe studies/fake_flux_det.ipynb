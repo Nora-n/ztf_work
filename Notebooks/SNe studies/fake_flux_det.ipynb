{
 "cells": [
  {
   "cell_type": "markdown",
   "metadata": {},
   "source": [
    "# Modules"
   ]
  },
  {
   "cell_type": "code",
   "execution_count": 3,
   "metadata": {
    "jupyter": {
     "source_hidden": true
    }
   },
   "outputs": [],
   "source": [
    "%matplotlib widget\n",
    "import glob\n",
    "import sncosmo\n",
    "import numpy as np\n",
    "import pandas as pd\n",
    "import astropy as ap\n",
    "import ipywidgets as ipw\n",
    "import matplotlib.pyplot as plt\n",
    "import ztfquery\n",
    "import ztflc\n",
    "\n",
    "from ztflc import fitter\n",
    "from ztflc import diffdata\n",
    "from astropy.io import fits\n",
    "from ztfquery import marshal\n",
    "from astrobject import photometry\n",
    "from ztflc import forcephotometry\n",
    "from sncosmo.models import Source, Model, get_source\n",
    "from sncosmo import get_bandpass, get_magsystem\n",
    "from sncosmo.photdata import photometric_data"
   ]
  },
  {
   "cell_type": "code",
   "execution_count": 4,
   "metadata": {},
   "outputs": [],
   "source": [
    "sciimgpath = '/home/nicolas/Work/Data/ztf/ZOGYexample/ztf_20180216349352_000519_zr_c09_o_q3_fake_newscibmtch.fits'\n",
    "diffimgpath = '/home/nicolas/Work/Data/ztf/ZOGYexample/ztf_20180216349352_000519_zr_c09_o_q3_fake_scimrefdiffimg.fits'\n",
    "psfimgpath = '/home/nicolas/Work/Data/ztf/ZOGYexample/ztf_20180216349352_000519_zr_c09_o_q3_fake_diffimgpsf.fits'\n",
    "# x_new, y_new; ra_new, dec_new of fake star; see ../Plots/plot_fakes\n",
    "xy_coords = np.asarray([1710.1536345841566, 822.1381841907526])\n",
    "coords = np.asarray([145.47729522608248, 12.483558931690714])"
   ]
  },
  {
   "cell_type": "markdown",
   "metadata": {},
   "source": [
    "## Calculate aperture of initial star in sciimg"
   ]
  },
  {
   "cell_type": "code",
   "execution_count": 5,
   "metadata": {},
   "outputs": [],
   "source": [
    "ztfsciimg = photometry.Image(sciimgpath, background=0)"
   ]
  },
  {
   "cell_type": "code",
   "execution_count": 6,
   "metadata": {},
   "outputs": [
    {
     "data": {
      "text/plain": [
       "(array([165116.05766235]), array([0.]), array([0], dtype=int16))"
      ]
     },
     "execution_count": 6,
     "metadata": {},
     "output_type": "execute_result"
    }
   ],
   "source": [
    "ztfsciimg.get_aperture(xy_coords[0], xy_coords[1],\n",
    "                       radius=15)"
   ]
  },
  {
   "cell_type": "markdown",
   "metadata": {},
   "source": [
    "## Do forcephotometry on diffimg"
   ]
  },
  {
   "cell_type": "code",
   "execution_count": 7,
   "metadata": {},
   "outputs": [
    {
     "data": {
      "text/plain": [
       "{'sigma': 57.651073303091316,\n",
       " 'sigma.err': 4.5717069380604055e-05,\n",
       " 'ampl': 9617.217027978713,\n",
       " 'ampl.err': 369.700357622332,\n",
       " 'fval': 15299.034694672244,\n",
       " 'chi2': 9082.358,\n",
       " 'chi2dof': 14.578424395565811}"
      ]
     },
     "execution_count": 7,
     "metadata": {},
     "output_type": "execute_result"
    }
   ],
   "source": [
    "fp = ztflc.diffdata.DiffData(diffimgpath, psfimgpath,\n",
    "                             coords, inpixels=True)\n",
    "fp.fit_flux()"
   ]
  },
  {
   "cell_type": "markdown",
   "metadata": {},
   "source": [
    "### Show it"
   ]
  },
  {
   "cell_type": "code",
   "execution_count": 8,
   "metadata": {},
   "outputs": [
    {
     "data": {
      "application/vnd.jupyter.widget-view+json": {
       "model_id": "a8ee443aa3a6492bbf9a554546611fb7",
       "version_major": 2,
       "version_minor": 0
      },
      "text/plain": [
       "Canvas(toolbar=Toolbar(toolitems=[('Home', 'Reset original view', 'home', 'home'), ('Back', 'Back to previous …"
      ]
     },
     "metadata": {},
     "output_type": "display_data"
    }
   ],
   "source": [
    "fig = fp.show()\n",
    "#fig.savefig('./weird_diffimg.pdf')"
   ]
  },
  {
   "cell_type": "markdown",
   "metadata": {},
   "source": [
    "## Calculate aperture on diffimg"
   ]
  },
  {
   "cell_type": "code",
   "execution_count": 9,
   "metadata": {},
   "outputs": [],
   "source": [
    "ztfdiffimg = photometry.Image(diffimgpath, background=0)"
   ]
  },
  {
   "cell_type": "code",
   "execution_count": 10,
   "metadata": {},
   "outputs": [
    {
     "data": {
      "text/plain": [
       "(array([1898.67639636]), array([0.]), array([0], dtype=int16))"
      ]
     },
     "execution_count": 10,
     "metadata": {},
     "output_type": "execute_result"
    }
   ],
   "source": [
    "ztfdiffimg.get_aperture(xy_coords[0], xy_coords[1],\n",
    "                        radius=15)"
   ]
  },
  {
   "cell_type": "markdown",
   "metadata": {},
   "source": [
    "### Just testings"
   ]
  },
  {
   "cell_type": "code",
   "execution_count": 3,
   "metadata": {},
   "outputs": [],
   "source": [
    "ftsdiff = fits.open(diffimgpath)\n",
    "diffdata = ftsdiff[0].data\n",
    "ftspsf = fits.open(psfimgpath)\n",
    "psfdata = ftspsf[0].data"
   ]
  },
  {
   "cell_type": "code",
   "execution_count": 12,
   "metadata": {},
   "outputs": [],
   "source": [
    "psfshape = np.shape(psfdata)\n",
    "x, y = np.asarray(coords, dtype=\"int\")\n",
    "buffer = (np.asarray(psfshape)) / 2 - 0.5\n",
    "xmin, xmax = int(x - buffer[0]), int(x + buffer[0] + 1)\n",
    "ymin, ymax = int(y - buffer[1]), int(y + buffer[1] + 1)\n",
    "diffimg = diffdata[ymin:ymax, xmin:xmax]\n",
    "target_pos = coords - [xmin, ymin]"
   ]
  },
  {
   "cell_type": "code",
   "execution_count": 13,
   "metadata": {},
   "outputs": [
    {
     "data": {
      "text/plain": [
       "array([], shape=(0, 25), dtype=float32)"
      ]
     },
     "execution_count": 13,
     "metadata": {},
     "output_type": "execute_result"
    }
   ],
   "source": [
    "diffimg"
   ]
  }
 ],
 "metadata": {
  "kernelspec": {
   "display_name": "Python 3",
   "language": "python",
   "name": "python3"
  },
  "language_info": {
   "codemirror_mode": {
    "name": "ipython",
    "version": 3
   },
   "file_extension": ".py",
   "mimetype": "text/x-python",
   "name": "python",
   "nbconvert_exporter": "python",
   "pygments_lexer": "ipython3",
   "version": "3.7.4"
  }
 },
 "nbformat": 4,
 "nbformat_minor": 4
}
