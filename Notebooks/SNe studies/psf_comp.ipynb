{
 "cells": [
  {
   "cell_type": "markdown",
   "metadata": {},
   "source": [
    "# Modules"
   ]
  },
  {
   "cell_type": "code",
   "execution_count": 1,
   "metadata": {
    "jupyter": {
     "source_hidden": true
    }
   },
   "outputs": [],
   "source": [
    "%matplotlib widget\n",
    "import glob\n",
    "import psfex\n",
    "import pickle\n",
    "import sncosmo\n",
    "import numpy as np\n",
    "import pandas as pd\n",
    "import iminuit as im\n",
    "import astropy as ap\n",
    "import ipywidgets as ipw\n",
    "import matplotlib.pyplot as plt\n",
    "import ztfquery\n",
    "import ztfimg\n",
    "import ztflc\n",
    "\n",
    "from ztfimg import dao\n",
    "from ztfimg import image\n",
    "from ztflc import fitter\n",
    "from ztflc import diffdata\n",
    "from astropy.io import fits\n",
    "from ztfquery import marshal\n",
    "from astrobject import photometry\n",
    "from ztflc import forcephotometry\n",
    "from scipy.stats import multivariate_normal\n",
    "from sncosmo.models import Source, Model, get_source\n",
    "from sncosmo import get_bandpass, get_magsystem\n",
    "from sncosmo.photdata import photometric_data"
   ]
  },
  {
   "cell_type": "markdown",
   "metadata": {},
   "source": [
    "## Img loading"
   ]
  },
  {
   "cell_type": "code",
   "execution_count": 3,
   "metadata": {},
   "outputs": [],
   "source": [
    "root = \"/home/nicolas/Work/Data/ztf/PSFEx_test/\"\n",
    "sciimg = root + \"ztf_20190124095417_000403_zr_c01_o_q1_sciimg.fits\"\n",
    "mask = root + \"ztf_20190124095417_000403_zr_c01_o_q1_mskimg.fits\"\n",
    "psFranck = root + \"ztf_20190124095417_000403_zr_c01_o_q1_psfcat.fits\"\n",
    "psfcent = root + \"ztf_20190124095417_000403_zr_c01_o_q1_sciimgdaopsfcent.fits\"\n",
    "\n",
    "hdul = fits.open(sciimg)\n",
    "pdul = fits.open(psFranck)\n",
    "cdul = fits.open(psfcent)\n",
    "header = hdul[0].header\n",
    "\n",
    "psfcat = pd.DataFrame(pdul[1].data)\n",
    "x_list, y_list = psfcat['xpos'], psfcat['ypos']\n",
    "\n",
    "z = image.ScienceImage(sciimg, mask)\n",
    "z.load_source_background()\n",
    "z.set_catalog(psfcat, 'psfcat')\n",
    "\n",
    "row = z.header[\"NAXIS1\"]\n",
    "col = z.header[\"NAXIS2\"]"
   ]
  },
  {
   "cell_type": "markdown",
   "metadata": {},
   "source": [
    "## Create sciunc"
   ]
  },
  {
   "cell_type": "markdown",
   "metadata": {},
   "source": [
    "FILE_OUT = sciimg[:-11] + 'sciunc.fits'\n",
    "\n",
    "fake_sci = fits.HDUList(fits.PrimaryHDU(data=z.sourcebackground.rms(),\n",
    "                                        header=header))\n",
    "fake_sci.writeto(FILE_OUT, overwrite=True)"
   ]
  },
  {
   "cell_type": "markdown",
   "metadata": {},
   "source": [
    "## Show img+cat"
   ]
  },
  {
   "cell_type": "code",
   "execution_count": 7,
   "metadata": {},
   "outputs": [
    {
     "data": {
      "application/vnd.jupyter.widget-view+json": {
       "model_id": "569c604bc75b48ee9b5f726b3c3292c6",
       "version_major": 2,
       "version_minor": 0
      },
      "text/plain": [
       "Canvas(toolbar=Toolbar(toolitems=[('Home', 'Reset original view', 'home', 'home'), ('Back', 'Back to previous …"
      ]
     },
     "metadata": {},
     "output_type": "display_data"
    },
    {
     "data": {
      "text/plain": [
       "<matplotlib.collections.PathCollection at 0x7f8e231e7150>"
      ]
     },
     "execution_count": 7,
     "metadata": {},
     "output_type": "execute_result"
    }
   ],
   "source": [
    "plt.close()\n",
    "ax = z.show('dataclean')\n",
    "ax.scatter(x_list, y_list, color='C1', marker='+')"
   ]
  },
  {
   "cell_type": "markdown",
   "metadata": {},
   "source": [
    "## Show PSF stamps at center"
   ]
  },
  {
   "cell_type": "markdown",
   "metadata": {},
   "source": [
    "## PSF choice?"
   ]
  },
  {
   "cell_type": "code",
   "execution_count": 8,
   "metadata": {},
   "outputs": [
    {
     "data": {
      "application/vnd.jupyter.widget-view+json": {
       "model_id": "407ed25ba7b1414eaa696169e420a20c",
       "version_major": 2,
       "version_minor": 0
      },
      "text/plain": [
       "interactive(children=(Dropdown(description='PSF test', index=1, options=('wrapper', 'ZOGY_default', 'ZOGY_Fina…"
      ]
     },
     "metadata": {},
     "output_type": "display_data"
    }
   ],
   "source": [
    "psfchoice = ipw.Dropdown(options=['wrapper', 'ZOGY_default', 'ZOGY_FinalRun'],\n",
    "                         description='PSF test',\n",
    "                         value='ZOGY_default')\n",
    "def choose_psf(psfdir):\n",
    "    global psfimg_cent, psfimg_smpl, psfobj\n",
    "    psfilepath = \"../../Data/ztf/PSFEx_test/config_ZOGY/\" + psfdir + '/test.psf'\n",
    "    psfobj = psfex.PSFEx(psfilepath)\n",
    "    psfimg_cent = psfobj.get_rec(row/2, col/2)\n",
    "    psfimg_smpl = psfobj.get_rec(100, 3050)\n",
    "\n",
    "int_choose_psf = ipw.interactive(choose_psf, psfdir=psfchoice)\n",
    "display(int_choose_psf)"
   ]
  },
  {
   "cell_type": "code",
   "execution_count": 10,
   "metadata": {},
   "outputs": [],
   "source": [
    "psfoutcatpath = root + 'config_ZOGY/' + psfchoice.value + '/psfex_out.cat'\n",
    "#odul = fits.open(psfoutcatpath)\n",
    "#testcat = pd.DataFrame(tdul[2].data)"
   ]
  },
  {
   "cell_type": "markdown",
   "metadata": {},
   "source": [
    "## Norm it on daocent"
   ]
  },
  {
   "cell_type": "code",
   "execution_count": 11,
   "metadata": {},
   "outputs": [],
   "source": [
    "daocent_max = np.max(np.ravel(cdul[0].data))"
   ]
  },
  {
   "cell_type": "code",
   "execution_count": null,
   "metadata": {},
   "outputs": [],
   "source": [
    "psfimg_norm = np.sum(np.ravel(psfimg))\n",
    "psfimg_normed = psfimg/psfimg_norm\n",
    "psfimg_normed_max = np.max(psfimg_normed)\n",
    "psfimg_scaled = psfimg_normed*daocent_max/psfimg_normed_max"
   ]
  },
  {
   "cell_type": "code",
   "execution_count": null,
   "metadata": {},
   "outputs": [],
   "source": [
    "plt.close()\n",
    "fig = plt.figure(figsize=[7, 3])\n",
    "\n",
    "ax = fig.add_subplot(131)\n",
    "ax.imshow(psfimg_scaled, origin='lower', interpolation='nearest')\n",
    "plt.title('PSF from ' + psfchoice.value)\n",
    "\n",
    "ax = fig.add_subplot(132)\n",
    "ax.imshow(cdul[0].data, origin='lower', interpolation='nearest')\n",
    "plt.title('sciimgdaopsfcent')\n",
    "\n",
    "ax = fig.add_subplot(133)\n",
    "ax.imshow(psfimg_scaled-cdul[0].data, origin='lower', interpolation='nearest')\n",
    "plt.title('Difference')\n",
    "\n",
    "fig.savefig('../../Images/png/PSFEx-out_vs_psfcent.png')"
   ]
  },
  {
   "cell_type": "markdown",
   "metadata": {},
   "source": [
    "## Norm it on psfcent"
   ]
  },
  {
   "cell_type": "code",
   "execution_count": 16,
   "metadata": {},
   "outputs": [],
   "source": [
    "psfcent_max = np.max(np.ravel(psfimg_cent))\n",
    "psfimg_norm = np.sum(np.ravel(psfimg_smpl))\n",
    "psfimg_normed = psfimg_smpl/psfimg_norm\n",
    "psfimg_normed_max = np.max(psfimg_normed)\n",
    "psfimg_scaled = psfimg_normed*psfcent_max/psfimg_normed_max"
   ]
  },
  {
   "cell_type": "code",
   "execution_count": 27,
   "metadata": {},
   "outputs": [
    {
     "data": {
      "application/vnd.jupyter.widget-view+json": {
       "model_id": "f4506729b3af47bd9f2f3435d82ac66f",
       "version_major": 2,
       "version_minor": 0
      },
      "text/plain": [
       "Canvas(toolbar=Toolbar(toolitems=[('Home', 'Reset original view', 'home', 'home'), ('Back', 'Back to previous …"
      ]
     },
     "metadata": {},
     "output_type": "display_data"
    }
   ],
   "source": [
    "plt.close()\n",
    "fig = plt.figure(figsize=[10, 3])\n",
    "\n",
    "from mpl_toolkits.axes_grid1 import make_axes_locatable\n",
    "\n",
    "ax = fig.add_subplot(131)\n",
    "ax.imshow(psfimg_scaled)\n",
    "plt.title('PSf @ (100, 3050)')\n",
    "\n",
    "ax = fig.add_subplot(132)\n",
    "ax.imshow(psfimg_cent)\n",
    "plt.title('PSF @ (1536, 1540)')\n",
    "\n",
    "ax = fig.add_subplot(133)\n",
    "im = ax.imshow((psfimg_scaled-psfimg_cent)/np.max(psfimg_cent))\n",
    "plt.title('Diff/max_middle')\n",
    "\n",
    "divider = make_axes_locatable(ax)\n",
    "cax = divider.append_axes('right', size='5%', pad=0.05)\n",
    "fig.colorbar(im, cax=cax, orientation='vertical')\n",
    "\n",
    "fig.savefig('../../Images/png/psfsmpl_psfcent_diff.png')"
   ]
  },
  {
   "cell_type": "markdown",
   "metadata": {},
   "source": [
    "## 2D Gaussian of Frank's psf patch"
   ]
  },
  {
   "cell_type": "code",
   "execution_count": 62,
   "metadata": {},
   "outputs": [
    {
     "data": {
      "application/vnd.jupyter.widget-view+json": {
       "model_id": "3f4a2af866ac45af9e845a534806e7e4",
       "version_major": 2,
       "version_minor": 0
      },
      "text/plain": [
       "Canvas(toolbar=Toolbar(toolitems=[('Home', 'Reset original view', 'home', 'home'), ('Back', 'Back to previous …"
      ]
     },
     "metadata": {},
     "output_type": "display_data"
    }
   ],
   "source": [
    "import numpy as np\n",
    "import matplotlib.pyplot as plt\n",
    "from astropy.modeling import models, fitting\n",
    "from matplotlib.patches import Ellipse\n",
    "\n",
    "# Generate fake data\n",
    "np.random.seed(0)\n",
    "y, x = np.mgrid[:25, :25]\n",
    "z = fdata\n",
    "\n",
    "# From Young-Lo\n",
    "fwmh_x, fwmh_y = (7.869536e-01, 9.828351e-01)\n",
    "\n",
    "fix_dict = {'x_mean': 12.5,\n",
    "            'y_mean': 12.5}\n",
    "\n",
    "# Fit the data using astropy.modeling\n",
    "p_init = models.Gaussian2D(amplitude=0.05,\n",
    "                           x_mean=12.5,\n",
    "                           y_mean=12.5,\n",
    "                           #fixed=fix_dict,\n",
    "                           cov_matrix=np.asarray([[1, 0],\n",
    "                                                  [0, 1]]))\n",
    "fit_p = fitting.LevMarLSQFitter()\n",
    "p = fit_p(p_init, x, y, z)\n",
    "\n",
    "# Plot the data with the best-fit model\n",
    "plt.close()\n",
    "fig = plt.figure(figsize=[10, 3])\n",
    "\n",
    "ax = plt.subplot(1, 3, 1)\n",
    "ax.imshow(z, origin='lower', interpolation='nearest',\n",
    "           vmin=0, vmax=newsci_max)\n",
    "plt.title(\"Frank\")\n",
    "\n",
    "ax = plt.subplot(1, 3, 2)\n",
    "ax.imshow(p(x, y), origin='lower', interpolation='nearest',\n",
    "           vmin=0, vmax=newsci_max)\n",
    "ellipse = Ellipse((p.parameters[1], p.parameters[2]),\n",
    "                  width=p.parameters[3], height=p.parameters[4],\n",
    "                  angle=p.parameters[5],\n",
    "                  ec=None, fc=None, fill=False)\n",
    "ax.add_patch(ellipse)\n",
    "ellipse = Ellipse((p.parameters[1], p.parameters[2]),\n",
    "                  width=2*p.parameters[3], height=2*p.parameters[4],\n",
    "                  angle=p.parameters[5],\n",
    "                  ec=None, fc=None, fill=False)\n",
    "ax.add_patch(ellipse)\n",
    "ellipse = Ellipse((p.parameters[1], p.parameters[2]),\n",
    "                  width=3*p.parameters[3], height=3*p.parameters[4],\n",
    "                  angle=p.parameters[5],\n",
    "                  ec=None, fc=None, fill=False)\n",
    "ax.add_patch(ellipse)\n",
    "\n",
    "plt.title(\"BestFit2DGaussian\")\n",
    "ax = plt.subplot(1, 3, 3)\n",
    "ax.imshow(z - p(x, y), origin='lower', interpolation='nearest',\n",
    "           vmin=-0.0001, vmax=0.005)\n",
    "plt.title(\"Residual\")\n",
    "\n",
    "fig.savefig('../../Images/png/frankpsf2dgauss.png')"
   ]
  },
  {
   "cell_type": "code",
   "execution_count": 67,
   "metadata": {},
   "outputs": [
    {
     "data": {
      "text/plain": [
       "array([0.2, 0. , 0.4])"
      ]
     },
     "execution_count": 67,
     "metadata": {},
     "output_type": "execute_result"
    }
   ],
   "source": [
    "np.asarray([51, 0, 102])/255"
   ]
  },
  {
   "cell_type": "code",
   "execution_count": 60,
   "metadata": {},
   "outputs": [
    {
     "data": {
      "text/plain": [
       "array([ 0.04663146, 12.5       , 12.5       ,  1.66483445,  1.85841131,\n",
       "       -0.84712916])"
      ]
     },
     "execution_count": 60,
     "metadata": {},
     "output_type": "execute_result"
    }
   ],
   "source": [
    "p.parameters"
   ]
  },
  {
   "cell_type": "code",
   "execution_count": 20,
   "metadata": {},
   "outputs": [
    {
     "data": {
      "application/vnd.jupyter.widget-view+json": {
       "model_id": "a74b5c671e934ff2bb4e83ef3ca8797e",
       "version_major": 2,
       "version_minor": 0
      },
      "text/plain": [
       "Canvas(toolbar=Toolbar(toolitems=[('Home', 'Reset original view', 'home', 'home'), ('Back', 'Back to previous …"
      ]
     },
     "metadata": {},
     "output_type": "display_data"
    },
    {
     "data": {
      "text/plain": [
       "<matplotlib.contour.QuadContourSet at 0x7fc5398d4410>"
      ]
     },
     "execution_count": 20,
     "metadata": {},
     "output_type": "execute_result"
    }
   ],
   "source": [
    "x, y = np.mgrid[-1:1:.01, -2:2:.01]\n",
    "pos = np.empty(x.shape + (2,))\n",
    "pos[:, :, 0] = x; pos[:, :, 1] = y\n",
    "rv = multivariate_normal([0.5, -0.2], [[2.0, 1], [1, 0.7]])\n",
    "plt.close()\n",
    "plt.contourf(x, y, multivariate_normal.pdf(pos, [0.5, -0.2], [[2.0, 1], [1, 0.7]]))"
   ]
  },
  {
   "cell_type": "code",
   "execution_count": 16,
   "metadata": {},
   "outputs": [],
   "source": [
    "val = rv.pdf(pos)"
   ]
  },
  {
   "cell_type": "code",
   "execution_count": 29,
   "metadata": {},
   "outputs": [],
   "source": [
    "x = np.linspace(0, 200, 201)\n",
    "y = np.linspace(0, 200, 201)\n",
    "x, y = np.meshgrid(x, y)"
   ]
  },
  {
   "cell_type": "code",
   "execution_count": 25,
   "metadata": {},
   "outputs": [],
   "source": [
    "import numpy as np\n",
    "from scipy.optimize import curve_fit\n",
    "from scipy.signal import argrelmax\n",
    "\n",
    "import matplotlib.pyplot as plt\n",
    "from matplotlib import cm\n",
    "\n",
    "# 2D Gaussian model\n",
    "def func(xy, x0, y0, sigma, H):\n",
    "\n",
    "    x, y = xy\n",
    "\n",
    "    A = 1 / (2 * sigma**2)\n",
    "    I = H * np.exp(-A * ( (x - x0)**2 + (y - y0)**2))\n",
    "    return I\n",
    "\n",
    "# Generate 2D gaussian\n",
    "def generate(x0, y0, sigma, H):\n",
    "\n",
    "    x = np.arange(0, max(x0, y0) * 2 + sigma, 1)\n",
    "    y = np.arange(0, max(x0, y0) * 2 + sigma, 1)\n",
    "    xx, yy = np.meshgrid(x, y)\n",
    "\n",
    "    I = func((xx, yy), x0=x0, y0=y0, sigma=sigma, H=H)\n",
    "\n",
    "    return xx, yy, I\n",
    "\n",
    "def fit(image, with_bounds):\n",
    "\n",
    "    # Prepare fitting\n",
    "    x = np.arange(0, image.shape[1], 1)\n",
    "    y = np.arange(0, image.shape[0], 1)\n",
    "    xx, yy = np.meshgrid(x, y)\n",
    "\n",
    "    # Guess intial parameters\n",
    "    x0 = int(image.shape[0]/2) # Middle of the image\n",
    "    y0 = int(image.shape[1]/2) # Middle of the image\n",
    "    sigma = max(*image.shape) * 0.1 # 10% of the image\n",
    "    H = np.max(image) # Maximum value of the image\n",
    "    initial_guess = [x0, y0, sigma, H]\n",
    "\n",
    "    # Constraints of the parameters\n",
    "    if with_bounds:\n",
    "        lower = [0, 0, 0, 0]\n",
    "        upper = [image.shape[0], image.shape[1], max(*image.shape), image.max() * 2]\n",
    "        bounds = [lower, upper]\n",
    "    else:\n",
    "        bounds = [-np.inf, np.inf]\n",
    "\n",
    "    pred_params, uncert_cov = curve_fit(func, (xx.ravel(), yy.ravel()), image.ravel(),\n",
    "                                        p0=initial_guess, bounds=bounds)\n",
    "\n",
    "    # Get residual\n",
    "    predictions = func((xx, yy), *pred_params)\n",
    "    rms = np.sqrt(np.mean((image.ravel() - predictions.ravel())**2))\n",
    "\n",
    "    print(\"Predicted params : \", pred_params)\n",
    "    print(\"Residual : \", rms)\n",
    "\n",
    "    return pred_params\n",
    "\n",
    "def plot(image, params):\n",
    "\n",
    "    fig, ax = plt.subplots()\n",
    "    ax.imshow(image, cmap='viridis', interpolation='nearest', origin='lower')\n",
    "\n",
    "    ax.scatter(params[0], params[1], s=100, c=\"red\", marker=\"x\")\n",
    "\n",
    "    circle = Circle((params[0], params[1]), params[2], facecolor='none',\n",
    "            edgecolor=\"red\", linewidth=1, alpha=0.8)\n",
    "    ax.add_patch(circle)\n",
    "    circle = Circle((params[0], params[1]), 2*params[2], facecolor='none',\n",
    "        edgecolor=\"green\", linewidth=1, alpha=0.8)\n",
    "    ax.add_patch(circle)\n",
    "    circle = Circle((params[0], params[1]), 3*params[2], facecolor='none',\n",
    "        edgecolor=\"black\", linewidth=1, alpha=0.8)\n",
    "    ax.add_patch(circle)"
   ]
  },
  {
   "cell_type": "code",
   "execution_count": 26,
   "metadata": {},
   "outputs": [
    {
     "name": "stdout",
     "output_type": "stream",
     "text": [
      "Predicted params :  [12.00242999 12.04015469  1.64680838  0.05176076]\n",
      "Residual :  0.0005797823351933234\n"
     ]
    },
    {
     "data": {
      "application/vnd.jupyter.widget-view+json": {
       "model_id": "4fd442ceec7c4be485792f93b9260673",
       "version_major": 2,
       "version_minor": 0
      },
      "text/plain": [
       "Canvas(toolbar=Toolbar(toolitems=[('Home', 'Reset original view', 'home', 'home'), ('Back', 'Back to previous …"
      ]
     },
     "metadata": {},
     "output_type": "display_data"
    }
   ],
   "source": [
    "params = fit(fdata, with_bounds=False)\n",
    "plot(fdata, params)"
   ]
  },
  {
   "cell_type": "code",
   "execution_count": null,
   "metadata": {},
   "outputs": [],
   "source": []
  }
 ],
 "metadata": {
  "kernelspec": {
   "display_name": "Python 3",
   "language": "python",
   "name": "python3"
  },
  "language_info": {
   "codemirror_mode": {
    "name": "ipython",
    "version": 3
   },
   "file_extension": ".py",
   "mimetype": "text/x-python",
   "name": "python",
   "nbconvert_exporter": "python",
   "pygments_lexer": "ipython3",
   "version": "3.7.4"
  }
 },
 "nbformat": 4,
 "nbformat_minor": 4
}
