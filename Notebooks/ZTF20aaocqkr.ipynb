{
 "cells": [
  {
   "cell_type": "code",
   "execution_count": 3,
   "metadata": {
    "jupyter": {
     "source_hidden": true
    }
   },
   "outputs": [],
   "source": [
    "zquery = ztfquery.query.ZTFQuery()\n",
    "zquery.load_metadata(kind='ref', radec=[183.35615869999998, 37.699390050000005], size=0.0001)"
   ]
  },
  {
   "cell_type": "code",
   "execution_count": 8,
   "metadata": {
    "collapsed": true,
    "jupyter": {
     "outputs_hidden": true,
     "source_hidden": true
    }
   },
   "outputs": [
    {
     "name": "stdout",
     "output_type": "stream",
     "text": [
      "No parallel downloading\n",
      "downloading https://irsa.ipac.caltech.edu/ibe/data/ztf/products/ref/000/field000695/zr/ccd12/q2/ztf_000695_zr_c12_q2_refimg.fits to /home/nicolas/Work/Data/ztf/ref/000/field000695/zr/ccd12/q2/ztf_000695_zr_c12_q2_refimg.fits\n",
      "downloading https://irsa.ipac.caltech.edu/ibe/data/ztf/products/ref/001/field001735/zg/ccd02/q2/ztf_001735_zg_c02_q2_refimg.fits to /home/nicolas/Work/Data/ztf/ref/001/field001735/zg/ccd02/q2/ztf_001735_zg_c02_q2_refimg.fits\n",
      "downloading https://irsa.ipac.caltech.edu/ibe/data/ztf/products/ref/000/field000695/zi/ccd12/q2/ztf_000695_zi_c12_q2_refimg.fits to /home/nicolas/Work/Data/ztf/ref/000/field000695/zi/ccd12/q2/ztf_000695_zi_c12_q2_refimg.fits\n",
      "downloading https://irsa.ipac.caltech.edu/ibe/data/ztf/products/ref/000/field000695/zg/ccd12/q2/ztf_000695_zg_c12_q2_refimg.fits to /home/nicolas/Work/Data/ztf/ref/000/field000695/zg/ccd12/q2/ztf_000695_zg_c12_q2_refimg.fits\n",
      "downloading https://irsa.ipac.caltech.edu/ibe/data/ztf/products/ref/001/field001735/zr/ccd02/q2/ztf_001735_zr_c02_q2_refimg.fits to /home/nicolas/Work/Data/ztf/ref/001/field001735/zr/ccd02/q2/ztf_001735_zr_c02_q2_refimg.fits\n",
      "downloading https://irsa.ipac.caltech.edu/ibe/data/ztf/products/ref/000/field000694/zr/ccd09/q4/ztf_000694_zr_c09_q4_refimg.fits to /home/nicolas/Work/Data/ztf/ref/000/field000694/zr/ccd09/q4/ztf_000694_zr_c09_q4_refimg.fits\n",
      "downloading https://irsa.ipac.caltech.edu/ibe/data/ztf/products/ref/000/field000694/zi/ccd09/q4/ztf_000694_zi_c09_q4_refimg.fits to /home/nicolas/Work/Data/ztf/ref/000/field000694/zi/ccd09/q4/ztf_000694_zi_c09_q4_refimg.fits\n",
      "downloading https://irsa.ipac.caltech.edu/ibe/data/ztf/products/ref/000/field000694/zg/ccd09/q4/ztf_000694_zg_c09_q4_refimg.fits to /home/nicolas/Work/Data/ztf/ref/000/field000694/zg/ccd09/q4/ztf_000694_zg_c09_q4_refimg.fits\n"
     ]
    }
   ],
   "source": [
    "zquery.download_data()"
   ]
  },
  {
   "cell_type": "markdown",
   "metadata": {},
   "source": [
    "# Modules"
   ]
  },
  {
   "cell_type": "code",
   "execution_count": 1,
   "metadata": {
    "jupyter": {
     "source_hidden": true
    }
   },
   "outputs": [],
   "source": [
    "%matplotlib widget\n",
    "import glob\n",
    "import sncosmo\n",
    "import numpy as np\n",
    "import pandas as pd\n",
    "import astropy as ap\n",
    "import ipywidgets as ipw\n",
    "import matplotlib.pyplot as plt\n",
    "import ztfquery\n",
    "\n",
    "from ztfquery import marshal\n",
    "from ztflc import forcephotometry\n",
    "from sncosmo.models import Source, Model, get_source\n",
    "from sncosmo import get_bandpass, get_magsystem\n",
    "from sncosmo.photdata import photometric_data"
   ]
  },
  {
   "cell_type": "code",
   "execution_count": 2,
   "metadata": {},
   "outputs": [],
   "source": [
    "# Setup the target\n",
    "fp_20aaocqkr = forcephotometry.ForcePhotometry.from_coords(183.35615869999998, 37.699390050000005,\n",
    "                                                           jdmin=2458209, jdmax=2458932.0821598493)"
   ]
  },
  {
   "cell_type": "code",
   "execution_count": 3,
   "metadata": {},
   "outputs": [],
   "source": [
    "# Load the ztf metadata\n",
    "fp_20aaocqkr.load_metadata()"
   ]
  },
  {
   "cell_type": "markdown",
   "metadata": {},
   "source": [
    "# download it locally\n",
    "fp_20aaocqkr.io.download_data(show_progress=True,\n",
    "                              notebook=True)"
   ]
  },
  {
   "cell_type": "code",
   "execution_count": 4,
   "metadata": {},
   "outputs": [],
   "source": [
    "# Load the ztf file you are going to need (diffimg and psfimg)\n",
    "fp_20aaocqkr.load_filepathes()"
   ]
  },
  {
   "cell_type": "code",
   "execution_count": 7,
   "metadata": {
    "collapsed": true,
    "jupyter": {
     "outputs_hidden": true
    }
   },
   "outputs": [
    {
     "name": "stdout",
     "output_type": "stream",
     "text": [
      "Starting run_forcefit() for 563 image differences\n",
      "fitting 1 \n",
      "fitting 2 \n",
      "fitting 0 \n",
      "fitting 3 \n",
      "{'ampl_guess': 194.66361354402736, 'sigma_guess': 10.838695227829115, 'ampl_boundaires': [331.546492603556, 973.3180677201368], 'sigma_boundaries': [1.0838695227829116, 21.96359634399414]}\n",
      "{'ampl_guess': 213.1882069334196, 'sigma_guess': 7.3666691688022805, 'ampl_boundaires': [299.073520321115, 1065.941034667098], 'sigma_boundaries': [0.736666916880228, 17.00111961364746]}\n",
      "{'ampl_guess': 101.4647352111381, 'sigma_guess': 5.923151224421817, 'ampl_boundaires': [196.36400986368787, 507.32367605569056], 'sigma_boundaries': [0.5923151224421817, 12.289118766784668]}\n"
     ]
    },
    {
     "name": "stderr",
     "output_type": "stream",
     "text": [
      "/home/nicolas/.installs/anaconda3/lib/python3.7/site-packages/numpy/core/fromnumeric.py:3257: RuntimeWarning: Mean of empty slice.\n",
      "  out=out, **kwargs)\n",
      "/home/nicolas/.installs/anaconda3/lib/python3.7/site-packages/numpy/core/_methods.py:161: RuntimeWarning: invalid value encountered in true_divide\n",
      "  ret = ret.dtype.type(ret / rcount)\n",
      "/home/nicolas/.installs/anaconda3/lib/python3.7/site-packages/ztflc-0.2.2-py3.7.egg/ztflc/diffdata.py:39: RuntimeWarning: All-NaN slice encountered\n",
      "/home/nicolas/.installs/anaconda3/lib/python3.7/site-packages/ztflc-0.2.2-py3.7.egg/ztflc/diffdata.py:42: RuntimeWarning: All-NaN slice encountered\n",
      "/home/nicolas/.installs/anaconda3/lib/python3.7/site-packages/ztflc-0.2.2-py3.7.egg/ztflc/diffdata.py:44: RuntimeWarning: All-NaN slice encountered\n",
      "/home/nicolas/.installs/anaconda3/lib/python3.7/site-packages/numpy/lib/nanfunctions.py:1666: RuntimeWarning: Degrees of freedom <= 0 for slice.\n",
      "  keepdims=keepdims)\n"
     ]
    },
    {
     "name": "stdout",
     "output_type": "stream",
     "text": [
      "{'ampl_guess': nan, 'sigma_guess': nan, 'ampl_boundaires': [nan, nan], 'sigma_boundaries': [nan, nan]}\n"
     ]
    },
    {
     "name": "stderr",
     "output_type": "stream",
     "text": [
      "/home/nicolas/.installs/anaconda3/lib/python3.7/site-packages/scipy/stats/_distn_infrastructure.py:899: RuntimeWarning: invalid value encountered in greater_equal\n",
      "  return (a <= x) & (x <= b)\n",
      "/home/nicolas/.installs/anaconda3/lib/python3.7/site-packages/scipy/stats/_distn_infrastructure.py:899: RuntimeWarning: invalid value encountered in less_equal\n",
      "  return (a <= x) & (x <= b)\n"
     ]
    },
    {
     "name": "stdout",
     "output_type": "stream",
     "text": [
      "fitting 4 \n"
     ]
    },
    {
     "name": "stderr",
     "output_type": "stream",
     "text": [
      "/home/nicolas/.installs/anaconda3/lib/python3.7/site-packages/ztflc-0.2.2-py3.7.egg/ztflc/fitter.py:42: UserWarning: migrad is not valid\n",
      "/home/nicolas/.installs/anaconda3/lib/python3.7/site-packages/ztflc-0.2.2-py3.7.egg/ztflc/fitter.py:168: UserWarning: Inaccurate covariance Matrix. Only trace defined\n"
     ]
    },
    {
     "name": "stdout",
     "output_type": "stream",
     "text": [
      "fitting 5 \n",
      "fitting 6 \n",
      "fitting 7 \n"
     ]
    },
    {
     "name": "stderr",
     "output_type": "stream",
     "text": [
      "/home/nicolas/.installs/anaconda3/lib/python3.7/site-packages/ztflc-0.2.2-py3.7.egg/ztflc/forcephotometry.py:275: UserWarning: Shape of diffimg and psfimg do notcorrespond (index: 7). Skipping.\n"
     ]
    },
    {
     "name": "stdout",
     "output_type": "stream",
     "text": [
      "fitting 8 \n",
      "{'ampl_guess': 65.38152840852673, 'sigma_guess': 5.14690296996095, 'ampl_boundaires': [147.2468743751731, 326.90764204263365], 'sigma_boundaries': [0.5146902969960949, 10.146862983703613]}\n"
     ]
    },
    {
     "name": "stderr",
     "output_type": "stream",
     "text": [
      "/home/nicolas/.installs/anaconda3/lib/python3.7/site-packages/scipy/stats/_distn_infrastructure.py:899: RuntimeWarning: invalid value encountered in greater_equal\n",
      "  return (a <= x) & (x <= b)\n",
      "/home/nicolas/.installs/anaconda3/lib/python3.7/site-packages/scipy/stats/_distn_infrastructure.py:899: RuntimeWarning: invalid value encountered in less_equal\n",
      "  return (a <= x) & (x <= b)\n"
     ]
    },
    {
     "name": "stdout",
     "output_type": "stream",
     "text": [
      "{'ampl_guess': 518.8396184495557, 'sigma_guess': 26.851290100594607, 'ampl_boundaires': [1368.0474581612934, 2594.1980922477783], 'sigma_boundaries': [2.6851290100594607, 56.693939208984375]}\n"
     ]
    },
    {
     "name": "stderr",
     "output_type": "stream",
     "text": [
      "/home/nicolas/.installs/anaconda3/lib/python3.7/site-packages/ztflc-0.2.2-py3.7.egg/ztflc/forcephotometry.py:275: UserWarning: Shape of diffimg and psfimg do notcorrespond (index: 5). Skipping.\n"
     ]
    },
    {
     "name": "stdout",
     "output_type": "stream",
     "text": [
      "fitting 9 \n",
      "fitting 10 \n",
      "fitting 11 \n",
      "{'ampl_guess': nan, 'sigma_guess': nan, 'ampl_boundaires': [nan, nan], 'sigma_boundaries': [nan, nan]}\n",
      "fitting 12 \n"
     ]
    },
    {
     "name": "stderr",
     "output_type": "stream",
     "text": [
      "/home/nicolas/.installs/anaconda3/lib/python3.7/site-packages/numpy/core/fromnumeric.py:3257: RuntimeWarning: Mean of empty slice.\n",
      "  out=out, **kwargs)\n",
      "/home/nicolas/.installs/anaconda3/lib/python3.7/site-packages/numpy/core/_methods.py:161: RuntimeWarning: invalid value encountered in true_divide\n",
      "  ret = ret.dtype.type(ret / rcount)\n",
      "/home/nicolas/.installs/anaconda3/lib/python3.7/site-packages/ztflc-0.2.2-py3.7.egg/ztflc/diffdata.py:39: RuntimeWarning: All-NaN slice encountered\n",
      "/home/nicolas/.installs/anaconda3/lib/python3.7/site-packages/ztflc-0.2.2-py3.7.egg/ztflc/forcephotometry.py:275: UserWarning: Shape of diffimg and psfimg do notcorrespond (index: 10). Skipping.\n",
      "/home/nicolas/.installs/anaconda3/lib/python3.7/site-packages/ztflc-0.2.2-py3.7.egg/ztflc/diffdata.py:42: RuntimeWarning: All-NaN slice encountered\n"
     ]
    },
    {
     "name": "stdout",
     "output_type": "stream",
     "text": [
      "fitting 13 \n"
     ]
    },
    {
     "name": "stderr",
     "output_type": "stream",
     "text": [
      "/home/nicolas/.installs/anaconda3/lib/python3.7/site-packages/ztflc-0.2.2-py3.7.egg/ztflc/diffdata.py:44: RuntimeWarning: All-NaN slice encountered\n",
      "/home/nicolas/.installs/anaconda3/lib/python3.7/site-packages/numpy/lib/nanfunctions.py:1666: RuntimeWarning: Degrees of freedom <= 0 for slice.\n",
      "  keepdims=keepdims)\n"
     ]
    },
    {
     "name": "stdout",
     "output_type": "stream",
     "text": [
      "{'ampl_guess': nan, 'sigma_guess': nan, 'ampl_boundaires': [nan, nan], 'sigma_boundaries': [nan, nan]}\n"
     ]
    },
    {
     "name": "stderr",
     "output_type": "stream",
     "text": [
      "/home/nicolas/.installs/anaconda3/lib/python3.7/site-packages/ztflc-0.2.2-py3.7.egg/ztflc/fitter.py:42: UserWarning: migrad is not valid\n",
      "/home/nicolas/.installs/anaconda3/lib/python3.7/site-packages/ztflc-0.2.2-py3.7.egg/ztflc/fitter.py:168: UserWarning: Inaccurate covariance Matrix. Only trace defined\n"
     ]
    },
    {
     "name": "stdout",
     "output_type": "stream",
     "text": [
      "fitting 14 \n",
      "{'ampl_guess': 220.75092964286534, 'sigma_guess': 14.319499607047897, 'ampl_boundaires': [490.8348862429978, 1103.7546482143268], 'sigma_boundaries': [1.4319499607047896, 30.48186683654785]}\n"
     ]
    },
    {
     "name": "stderr",
     "output_type": "stream",
     "text": [
      "/home/nicolas/.installs/anaconda3/lib/python3.7/site-packages/scipy/stats/_distn_infrastructure.py:899: RuntimeWarning: invalid value encountered in greater_equal\n",
      "  return (a <= x) & (x <= b)\n",
      "/home/nicolas/.installs/anaconda3/lib/python3.7/site-packages/scipy/stats/_distn_infrastructure.py:899: RuntimeWarning: invalid value encountered in less_equal\n",
      "  return (a <= x) & (x <= b)\n"
     ]
    },
    {
     "name": "stdout",
     "output_type": "stream",
     "text": [
      "fitting 15 \n",
      "{'ampl_guess': 64.04725257992209, 'sigma_guess': 5.702079230334383, 'ampl_boundaires': [141.94099108225672, 320.23626289961044], 'sigma_boundaries': [0.5702079230334383, 11.043709754943848]}\n",
      "fitting 16 \n",
      "{'ampl_guess': 58.580708092126756, 'sigma_guess': 3.6547203853378325, 'ampl_boundaires': [91.25198249276781, 292.9035404606338], 'sigma_boundaries': [0.36547203853378324, 8.323275566101074]}\n",
      "{'ampl_guess': 88.5285734807781, 'sigma_guess': 7.567440811410953, 'ampl_boundaires': [224.17444166077416, 442.64286740389053], 'sigma_boundaries': [0.7567440811410953, 17.141271591186523]}\n",
      "{'ampl_guess': 1024.520356411989, 'sigma_guess': 9.528905804630005, 'ampl_boundaires': [289.5612339657288, 5122.6017820599445], 'sigma_boundaries': [0.9528905804630006, 30.34004020690918]}\n"
     ]
    },
    {
     "name": "stderr",
     "output_type": "stream",
     "text": [
      "/home/nicolas/.installs/anaconda3/lib/python3.7/site-packages/scipy/stats/_distn_infrastructure.py:899: RuntimeWarning: invalid value encountered in greater_equal\n",
      "  return (a <= x) & (x <= b)\n",
      "/home/nicolas/.installs/anaconda3/lib/python3.7/site-packages/scipy/stats/_distn_infrastructure.py:899: RuntimeWarning: invalid value encountered in less_equal\n",
      "  return (a <= x) & (x <= b)\n"
     ]
    },
    {
     "name": "stdout",
     "output_type": "stream",
     "text": [
      "fitting 17 \n",
      "fitting 18 \n",
      "fitting 19 \n",
      "{'ampl_guess': nan, 'sigma_guess': nan, 'ampl_boundaires': [nan, nan], 'sigma_boundaries': [nan, nan]}\n",
      "fitting 20 \n",
      "{'ampl_guess': 82.13950365317012, 'sigma_guess': 5.090919881572444, 'ampl_boundaires': [160.03651715010338, 410.6975182658506], 'sigma_boundaries': [0.5090919881572444, 10.226367950439453]}\n",
      "fitting 21 \n",
      "{'ampl_guess': 151.39433709689578, 'sigma_guess': 10.212693610945257, 'ampl_boundaires': [323.37700184374484, 756.9716854844789], 'sigma_boundaries': [1.0212693610945256, 20.332889556884766]}\n",
      "fitting 22 \n",
      "{'ampl_guess': 125.37528431612951, 'sigma_guess': 15.62350115013011, 'ampl_boundaires': [255.1306850578622, 626.8764215806475], 'sigma_boundaries': [1.562350115013011, 28.201902389526367]}\n",
      "fitting 23 \n",
      "{'ampl_guess': 60.24314794154133, 'sigma_guess': 4.114517160433288, 'ampl_boundaires': [96.35742655422051, 301.21573970770663], 'sigma_boundaries': [0.4114517160433288, 7.572125434875488]}\n",
      "fitting 24 \n",
      "{'ampl_guess': 116.05906734539944, 'sigma_guess': 4.756255349622264, 'ampl_boundaires': [162.68027446864338, 580.2953367269972], 'sigma_boundaries': [0.47562553496222637, 10.795939445495605]}\n",
      "{'ampl_guess': 68.7198666618013, 'sigma_guess': 4.793355187508472, 'ampl_boundaires': [151.98745057124123, 343.59933330900657], 'sigma_boundaries': [0.4793355187508472, 10.550041198730469]}\n"
     ]
    },
    {
     "name": "stderr",
     "output_type": "stream",
     "text": [
      "/home/nicolas/.installs/anaconda3/lib/python3.7/site-packages/numpy/core/fromnumeric.py:3257: RuntimeWarning: Mean of empty slice.\n",
      "  out=out, **kwargs)\n",
      "/home/nicolas/.installs/anaconda3/lib/python3.7/site-packages/numpy/core/_methods.py:161: RuntimeWarning: invalid value encountered in true_divide\n",
      "  ret = ret.dtype.type(ret / rcount)\n",
      "/home/nicolas/.installs/anaconda3/lib/python3.7/site-packages/ztflc-0.2.2-py3.7.egg/ztflc/diffdata.py:39: RuntimeWarning: All-NaN slice encountered\n",
      "/home/nicolas/.installs/anaconda3/lib/python3.7/site-packages/ztflc-0.2.2-py3.7.egg/ztflc/diffdata.py:42: RuntimeWarning: All-NaN slice encountered\n",
      "/home/nicolas/.installs/anaconda3/lib/python3.7/site-packages/ztflc-0.2.2-py3.7.egg/ztflc/diffdata.py:44: RuntimeWarning: All-NaN slice encountered\n",
      "/home/nicolas/.installs/anaconda3/lib/python3.7/site-packages/numpy/lib/nanfunctions.py:1666: RuntimeWarning: Degrees of freedom <= 0 for slice.\n",
      "  keepdims=keepdims)\n"
     ]
    },
    {
     "name": "stdout",
     "output_type": "stream",
     "text": [
      "{'ampl_guess': nan, 'sigma_guess': nan, 'ampl_boundaires': [nan, nan], 'sigma_boundaries': [nan, nan]}\n"
     ]
    },
    {
     "name": "stderr",
     "output_type": "stream",
     "text": [
      "/home/nicolas/.installs/anaconda3/lib/python3.7/site-packages/ztflc-0.2.2-py3.7.egg/ztflc/fitter.py:42: UserWarning: migrad is not valid\n",
      "/home/nicolas/.installs/anaconda3/lib/python3.7/site-packages/ztflc-0.2.2-py3.7.egg/ztflc/fitter.py:168: UserWarning: Inaccurate covariance Matrix. Only trace defined\n"
     ]
    },
    {
     "name": "stdout",
     "output_type": "stream",
     "text": [
      "fitting 25 \n",
      "fitting 26 \n",
      "fitting 27 \n",
      "{'ampl_guess': 70.71702052122306, 'sigma_guess': 5.565855494437923, 'ampl_boundaires': [140.16104825145482, 353.5851026061153], 'sigma_boundaries': [0.5565855494437922, 10.69556999206543]}\n",
      "fitting 28 \n",
      "{'ampl_guess': 94.30553008435464, 'sigma_guess': 4.928452382918031, 'ampl_boundaires': [113.71836894308927, 471.5276504217732], 'sigma_boundaries': [0.49284523829180304, 11.829142570495605]}\n",
      "{'ampl_guess': 2402.6826043145347, 'sigma_guess': 5.5116638422551345, 'ampl_boundaires': [178.86894090771, 12013.413021572675], 'sigma_boundaries': [0.5511663842255135, 66.0467758178711]}\n",
      "fitting 29 \n",
      "{'ampl_guess': 335.8917841230915, 'sigma_guess': 5.3454162293971015, 'ampl_boundaires': [168.22892809109086, 1679.4589206154576], 'sigma_boundaries': [0.5345416229397102, 13.414405822753906]}\n",
      "fitting 30 \n",
      "fitting 31 \n",
      "{'ampl_guess': 185.4860364176343, 'sigma_guess': 14.567079766869185, 'ampl_boundaires': [311.0735403837545, 927.4301820881715], 'sigma_boundaries': [1.4567079766869184, 27.549394607543945]}\n",
      "{'ampl_guess': 191.7060400277292, 'sigma_guess': 12.291712591426716, 'ampl_boundaires': [448.82614326434077, 958.530200138646], 'sigma_boundaries': [1.2291712591426716, 25.321577072143555]}\n",
      "fitting 32 \n",
      "{'ampl_guess': 62.50590625341831, 'sigma_guess': 4.511153790960109, 'ampl_boundaires': [144.41291875718437, 312.52953126709156], 'sigma_boundaries': [0.4511153790960109, 9.628111839294434]}\n",
      "fitting 33 \n",
      "fitting 34 \n"
     ]
    },
    {
     "name": "stderr",
     "output_type": "stream",
     "text": [
      "/home/nicolas/.installs/anaconda3/lib/python3.7/site-packages/numpy/core/fromnumeric.py:3257: RuntimeWarning: Mean of empty slice.\n",
      "  out=out, **kwargs)\n",
      "/home/nicolas/.installs/anaconda3/lib/python3.7/site-packages/numpy/core/_methods.py:161: RuntimeWarning: invalid value encountered in true_divide\n",
      "  ret = ret.dtype.type(ret / rcount)\n",
      "/home/nicolas/.installs/anaconda3/lib/python3.7/site-packages/ztflc-0.2.2-py3.7.egg/ztflc/diffdata.py:39: RuntimeWarning: All-NaN slice encountered\n",
      "/home/nicolas/.installs/anaconda3/lib/python3.7/site-packages/ztflc-0.2.2-py3.7.egg/ztflc/diffdata.py:42: RuntimeWarning: All-NaN slice encountered\n",
      "/home/nicolas/.installs/anaconda3/lib/python3.7/site-packages/ztflc-0.2.2-py3.7.egg/ztflc/diffdata.py:44: RuntimeWarning: All-NaN slice encountered\n",
      "/home/nicolas/.installs/anaconda3/lib/python3.7/site-packages/numpy/lib/nanfunctions.py:1666: RuntimeWarning: Degrees of freedom <= 0 for slice.\n",
      "  keepdims=keepdims)\n"
     ]
    },
    {
     "name": "stdout",
     "output_type": "stream",
     "text": [
      "{'ampl_guess': nan, 'sigma_guess': nan, 'ampl_boundaires': [nan, nan], 'sigma_boundaries': [nan, nan]}\n"
     ]
    },
    {
     "name": "stderr",
     "output_type": "stream",
     "text": [
      "/home/nicolas/.installs/anaconda3/lib/python3.7/site-packages/ztflc-0.2.2-py3.7.egg/ztflc/fitter.py:42: UserWarning: migrad is not valid\n",
      "/home/nicolas/.installs/anaconda3/lib/python3.7/site-packages/ztflc-0.2.2-py3.7.egg/ztflc/fitter.py:168: UserWarning: Inaccurate covariance Matrix. Only trace defined\n"
     ]
    },
    {
     "name": "stdout",
     "output_type": "stream",
     "text": [
      "fitting 35 \n",
      "{'ampl_guess': 74.68728930161127, 'sigma_guess': 3.733045525190148, 'ampl_boundaires': [137.8307820217201, 373.43644650805635], 'sigma_boundaries': [0.3733045525190148, 8.795897483825684]}\n",
      "{'ampl_guess': 60.554391953760714, 'sigma_guess': 4.716050897648681, 'ampl_boundaires': [117.57383601500726, 302.7719597688036], 'sigma_boundaries': [0.4716050897648681, 10.242398262023926]}\n",
      "fitting 36 \n",
      "fitting 37 \n",
      "{'ampl_guess': 66.31015432221945, 'sigma_guess': 5.472806502234983, 'ampl_boundaires': [121.74481176364385, 331.5507716110973], 'sigma_boundaries': [0.5472806502234983, 10.836494445800781]}\n",
      "fitting 38 \n",
      "{'ampl_guess': 310.7945777781481, 'sigma_guess': 19.26734177718543, 'ampl_boundaires': [521.6240810104861, 1553.9728888907405], 'sigma_boundaries': [1.926734177718543, 38.045310974121094]}\n",
      "fitting 39 \n",
      "{'ampl_guess': 53.14820920511505, 'sigma_guess': 4.847489222465228, 'ampl_boundaires': [102.29464274749894, 265.74104602557526], 'sigma_boundaries': [0.4847489222465228, 8.666942596435547]}\n",
      "{'ampl_guess': 225.89193488654368, 'sigma_guess': 9.076901847725404, 'ampl_boundaires': [483.5553908036577, 1129.4596744327184], 'sigma_boundaries': [0.9076901847725404, 19.883548736572266]}\n",
      "fitting 40 \n",
      "fitting 41 \n",
      "{'ampl_guess': nan, 'sigma_guess': nan, 'ampl_boundaires': [nan, nan], 'sigma_boundaries': [nan, nan]}\n",
      "{'ampl_guess': nan, 'sigma_guess': nan, 'ampl_boundaires': [nan, nan], 'sigma_boundaries': [nan, nan]}\n",
      "fitting 42 \n",
      "fitting 43 \n",
      "{'ampl_guess': nan, 'sigma_guess': nan, 'ampl_boundaires': [nan, nan], 'sigma_boundaries': [nan, nan]}\n",
      "fitting 44 \n",
      "{'ampl_guess': 61.74614097363614, 'sigma_guess': 4.460381703468347, 'ampl_boundaires': [107.63749284076064, 308.7307048681807], 'sigma_boundaries': [0.4460381703468347, 8.125280380249023]}\n",
      "fitting 45 \n",
      "{'ampl_guess': 90.97412908241233, 'sigma_guess': 6.180743349335993, 'ampl_boundaires': [252.95606952032125, 454.87064541206166], 'sigma_boundaries': [0.6180743349335993, 12.436205863952637]}\n",
      "fitting 46 \n",
      "{'ampl_guess': 67.06819365594308, 'sigma_guess': 5.700793977365956, 'ampl_boundaires': [132.04254222507387, 335.3409682797154], 'sigma_boundaries': [0.5700793977365957, 10.727484703063965]}\n",
      "fitting 47 \n",
      "{'ampl_guess': 61.44116008977324, 'sigma_guess': 6.102614390836118, 'ampl_boundaires': [124.62670182812278, 307.20580044886617], 'sigma_boundaries': [0.6102614390836119, 11.264618873596191]}\n",
      "fitting 48 \n",
      "{'ampl_guess': 119.5738011106684, 'sigma_guess': 9.309572224761142, 'ampl_boundaires': [232.29082491693353, 597.869005553342], 'sigma_boundaries': [0.9309572224761142, 18.806215286254883]}\n",
      "fitting 49 \n",
      "{'ampl_guess': nan, 'sigma_guess': nan, 'ampl_boundaires': [nan, nan], 'sigma_boundaries': [nan, nan]}\n",
      "fitting 50 \n",
      "{'ampl_guess': 46.65607983945174, 'sigma_guess': 5.33216674176906, 'ampl_boundaires': [99.28468844167888, 233.2803991972587], 'sigma_boundaries': [0.533216674176906, 9.171401977539062]}\n",
      "fitting 51 \n",
      "{'ampl_guess': 62.126288959804924, 'sigma_guess': 6.596594087564904, 'ampl_boundaires': [202.72101821132745, 310.6314447990246], 'sigma_boundaries': [0.6596594087564904, 12.245827674865723]}\n",
      "{'ampl_guess': 77.5725643240111, 'sigma_guess': 6.011078646146335, 'ampl_boundaires': [459.6141380266775, 387.8628216200555], 'sigma_boundaries': [0.6011078646146335, 14.828156471252441]}\n",
      "fitting 52 \n",
      "fitting 53 \n",
      "{'ampl_guess': 58.61952992590896, 'sigma_guess': 4.346493302917324, 'ampl_boundaires': [100.39698178967912, 293.0976496295448], 'sigma_boundaries': [0.43464933029173236, 8.225142478942871]}\n",
      "{'ampl_guess': nan, 'sigma_guess': nan, 'ampl_boundaires': [nan, nan], 'sigma_boundaries': [nan, nan]}\n",
      "fitting 54 \n",
      "fitting 55 \n",
      "{'ampl_guess': 74.14420435789353, 'sigma_guess': 7.571539764497279, 'ampl_boundaires': [657.5602427992984, 370.72102178946767], 'sigma_boundaries': [0.7571539764497279, 18.27467155456543]}\n",
      "fitting 56 \n",
      "{'ampl_guess': 124.5021564130949, 'sigma_guess': 6.526443877690811, 'ampl_boundaires': [229.71404960470986, 622.5107820654745], 'sigma_boundaries': [0.6526443877690811, 14.017481803894043]}\n",
      "fitting 57 \n",
      "{'ampl_guess': 94.35617058477597, 'sigma_guess': 11.149862182475609, 'ampl_boundaires': [187.48216714005733, 471.7808529238798], 'sigma_boundaries': [1.114986218247561, 17.548032760620117]}\n",
      "fitting 58 \n",
      "{'ampl_guess': 82.84212147245984, 'sigma_guess': 9.374736953923822, 'ampl_boundaires': [166.0670300508234, 414.2106073622992], 'sigma_boundaries': [0.9374736953923822, 16.57586097717285]}\n",
      "fitting 59 \n",
      "{'ampl_guess': 55.88917888157298, 'sigma_guess': 5.737692331701008, 'ampl_boundaires': [111.14178487142611, 279.4458944078649], 'sigma_boundaries': [0.5737692331701008, 10.296762466430664]}\n",
      "fitting 60 \n",
      "{'ampl_guess': nan, 'sigma_guess': nan, 'ampl_boundaires': [nan, nan], 'sigma_boundaries': [nan, nan]}\n",
      "{'ampl_guess': nan, 'sigma_guess': nan, 'ampl_boundaires': [nan, nan], 'sigma_boundaries': [nan, nan]}\n",
      "fitting 61 \n",
      "{'ampl_guess': 174.10684058655718, 'sigma_guess': 10.140513012443375, 'ampl_boundaires': [341.6447209122688, 870.5342029327859], 'sigma_boundaries': [1.0140513012443375, 21.149728775024414]}\n",
      "fitting 62 \n",
      "fitting 63 \n",
      "{'ampl_guess': nan, 'sigma_guess': nan, 'ampl_boundaires': [nan, nan], 'sigma_boundaries': [nan, nan]}\n",
      "{'ampl_guess': 177.9642583121923, 'sigma_guess': 11.010397389244849, 'ampl_boundaires': [270.4515018333641, 889.8212915609615], 'sigma_boundaries': [1.1010397389244848, 21.842018127441406]}\n",
      "{'ampl_guess': 327.61768477668494, 'sigma_guess': 19.865562700643917, 'ampl_boundaires': [637.1120753561381, 1638.0884238834246], 'sigma_boundaries': [1.9865562700643917, 39.94107437133789]}\n",
      "fitting 64 \n",
      "fitting 65 \n",
      "fitting 66 \n",
      "{'ampl_guess': nan, 'sigma_guess': nan, 'ampl_boundaires': [nan, nan], 'sigma_boundaries': [nan, nan]}\n",
      "fitting 67 \n"
     ]
    },
    {
     "name": "stderr",
     "output_type": "stream",
     "text": [
      "/home/nicolas/.installs/anaconda3/lib/python3.7/site-packages/ztflc-0.2.2-py3.7.egg/ztflc/forcephotometry.py:275: UserWarning: Shape of diffimg and psfimg do notcorrespond (index: 64). Skipping.\n"
     ]
    },
    {
     "name": "stdout",
     "output_type": "stream",
     "text": [
      "{'ampl_guess': 112.27260942973913, 'sigma_guess': 6.094235502947339, 'ampl_boundaires': [230.87851337761543, 561.3630471486957], 'sigma_boundaries': [0.6094235502947339, 13.827127456665039]}\n",
      "fitting 68 \n",
      "fitting 69 \n",
      "{'ampl_guess': nan, 'sigma_guess': nan, 'ampl_boundaires': [nan, nan], 'sigma_boundaries': [nan, nan]}\n",
      "fitting 70 \n",
      "{'ampl_guess': 145.6103619647488, 'sigma_guess': 9.86679230599911, 'ampl_boundaires': [237.8522725328787, 728.051809823744], 'sigma_boundaries': [0.986679230599911, 20.926679611206055]}\n",
      "fitting 71 \n",
      "{'ampl_guess': nan, 'sigma_guess': nan, 'ampl_boundaires': [nan, nan], 'sigma_boundaries': [nan, nan]}\n",
      "{'ampl_guess': 122.85607241261738, 'sigma_guess': 10.006790853900478, 'ampl_boundaires': [250.57103199405836, 614.2803620630868], 'sigma_boundaries': [1.0006790853900478, 20.483367919921875]}\n",
      "fitting 72 \n",
      "fitting 73 \n",
      "{'ampl_guess': 101.00632202558329, 'sigma_guess': 9.737101232398993, 'ampl_boundaires': [219.3897558294259, 505.0316101279164], 'sigma_boundaries': [0.9737101232398994, 19.71359634399414]}\n",
      "fitting 74 \n",
      "{'ampl_guess': nan, 'sigma_guess': nan, 'ampl_boundaires': [nan, nan], 'sigma_boundaries': [nan, nan]}\n",
      "fitting 75 \n",
      "{'ampl_guess': nan, 'sigma_guess': nan, 'ampl_boundaires': [nan, nan], 'sigma_boundaries': [nan, nan]}\n",
      "fitting 76 \n",
      "{'ampl_guess': 62.69172036301749, 'sigma_guess': 6.4802921261589805, 'ampl_boundaires': [105.05303922003276, 313.45860181508743], 'sigma_boundaries': [0.6480292126158981, 10.436722755432129]}\n",
      "{'ampl_guess': 71.33929818104528, 'sigma_guess': 5.328148382103196, 'ampl_boundaires': [138.37132346598315, 356.69649090522637], 'sigma_boundaries': [0.5328148382103196, 10.228124618530273]}\n",
      "fitting 77 \n",
      "fitting 78 \n",
      "{'ampl_guess': 111.83426694100915, 'sigma_guess': 4.047568064663176, 'ampl_boundaires': [126.91765856064599, 559.1713347050458], 'sigma_boundaries': [0.4047568064663176, 10.464888572692871]}\n",
      "fitting 79 \n",
      "{'ampl_guess': 59.48617955495652, 'sigma_guess': 5.055286278370789, 'ampl_boundaires': [137.03668428031355, 297.4308977747826], 'sigma_boundaries': [0.505528627837079, 10.495017051696777]}\n",
      "fitting 80 \n",
      "{'ampl_guess': nan, 'sigma_guess': nan, 'ampl_boundaires': [nan, nan], 'sigma_boundaries': [nan, nan]}\n",
      "fitting 81 \n",
      "{'ampl_guess': 204.34386648370378, 'sigma_guess': 13.567113367682367, 'ampl_boundaires': [448.12972163921137, 1021.719332418519], 'sigma_boundaries': [1.3567113367682366, 26.446563720703125]}\n",
      "fitting 82 \n",
      "{'ampl_guess': 1072.6000692319406, 'sigma_guess': 6.550754812277322, 'ampl_boundaires': [157.9793806888797, 5363.000346159703], 'sigma_boundaries': [0.6550754812277322, 42.791133880615234]}\n",
      "fitting 83 \n",
      "{'ampl_guess': nan, 'sigma_guess': nan, 'ampl_boundaires': [nan, nan], 'sigma_boundaries': [nan, nan]}\n",
      "fitting 84 \n",
      "{'ampl_guess': 93.19054980647932, 'sigma_guess': 5.770609088281284, 'ampl_boundaires': [218.22137162503, 465.95274903239664], 'sigma_boundaries': [0.5770609088281284, 12.021807670593262]}\n",
      "{'ampl_guess': nan, 'sigma_guess': nan, 'ampl_boundaires': [nan, nan], 'sigma_boundaries': [nan, nan]}\n",
      "fitting 85 \n",
      "fitting 86 \n",
      "{'ampl_guess': 64.4873879489068, 'sigma_guess': 4.814637859669099, 'ampl_boundaires': [180.2907953509972, 322.436939744534], 'sigma_boundaries': [0.48146378596690986, 10.158445358276367]}\n",
      "fitting 87 \n",
      "{'ampl_guess': nan, 'sigma_guess': nan, 'ampl_boundaires': [nan, nan], 'sigma_boundaries': [nan, nan]}\n",
      "{'ampl_guess': nan, 'sigma_guess': nan, 'ampl_boundaires': [nan, nan], 'sigma_boundaries': [nan, nan]}\n",
      "fitting 88 \n",
      "fitting 89 \n",
      "{'ampl_guess': 93.63076645270225, 'sigma_guess': 12.381578497001303, 'ampl_boundaires': [186.26415601021077, 468.1538322635112], 'sigma_boundaries': [1.2381578497001304, 19.917871475219727]}\n",
      "fitting 90 \n",
      "{'ampl_guess': nan, 'sigma_guess': nan, 'ampl_boundaires': [nan, nan], 'sigma_boundaries': [nan, nan]}\n",
      "{'ampl_guess': nan, 'sigma_guess': nan, 'ampl_boundaires': [nan, nan], 'sigma_boundaries': [nan, nan]}\n",
      "fitting 91 \n",
      "{'ampl_guess': 57.09415696722123, 'sigma_guess': 4.616222160689296, 'ampl_boundaires': [140.54148309846434, 285.47078483610613], 'sigma_boundaries': [0.4616222160689296, 9.430912017822266]}\n",
      "fitting 92 \n",
      "fitting 93 \n",
      "{'ampl_guess': 158.33106251761757, 'sigma_guess': 8.900183099365798, 'ampl_boundaires': [246.05408294741494, 791.6553125880878], 'sigma_boundaries': [0.8900183099365797, 17.81598472595215]}\n"
     ]
    },
    {
     "name": "stderr",
     "output_type": "stream",
     "text": [
      "/home/nicolas/.installs/anaconda3/lib/python3.7/site-packages/ztflc-0.2.2-py3.7.egg/ztflc/fitter.py:136: RuntimeWarning: divide by zero encountered in log\n"
     ]
    },
    {
     "name": "stdout",
     "output_type": "stream",
     "text": [
      "fitting 94 \n",
      "{'ampl_guess': 180.29278425282644, 'sigma_guess': 6.381296541357622, 'ampl_boundaires': [225.26741971216356, 901.4639212641322], 'sigma_boundaries': [0.6381296541357622, 13.460334777832031]}\n",
      "{'ampl_guess': nan, 'sigma_guess': nan, 'ampl_boundaires': [nan, nan], 'sigma_boundaries': [nan, nan]}\n",
      "{'ampl_guess': 244.27196953625133, 'sigma_guess': 8.890564203937624, 'ampl_boundaires': [262.9129328067099, 1221.3598476812567], 'sigma_boundaries': [0.8890564203937623, 21.783611297607422]}\n",
      "fitting 95 \n",
      "fitting 96 \n",
      "fitting 97 \n",
      "{'ampl_guess': 122.02253130560698, 'sigma_guess': 5.443803828745849, 'ampl_boundaires': [130.79070064007425, 610.1126565280349], 'sigma_boundaries': [0.5443803828745849, 11.763669967651367]}\n",
      "fitting 98 \n",
      "{'ampl_guess': 1048.3386032604533, 'sigma_guess': 6.101388522493295, 'ampl_boundaires': [155.7643942690165, 5241.693016302267], 'sigma_boundaries': [0.6101388522493295, 38.915672302246094]}\n",
      "{'ampl_guess': 104.7434398766337, 'sigma_guess': 12.36489000328695, 'ampl_boundaires': [209.18663207327697, 523.7171993831685], 'sigma_boundaries': [1.236489000328695, 21.660463333129883]}\n",
      "fitting 99 \n",
      "{'ampl_guess': 75.29539125488617, 'sigma_guess': 5.964091268097078, 'ampl_boundaires': [117.38171574792548, 376.47695627443085], 'sigma_boundaries': [0.5964091268097078, 10.888101577758789]}\n",
      "fitting 100 \n",
      "fitting 101 \n",
      "{'ampl_guess': nan, 'sigma_guess': nan, 'ampl_boundaires': [nan, nan], 'sigma_boundaries': [nan, nan]}\n",
      "fitting 102 \n",
      "{'ampl_guess': 72.85415290890532, 'sigma_guess': 7.019395654828787, 'ampl_boundaires': [144.71590117719, 364.27076454452657], 'sigma_boundaries': [0.7019395654828787, 12.176065444946289]}\n",
      "fitting 103 \n",
      "{'ampl_guess': nan, 'sigma_guess': nan, 'ampl_boundaires': [nan, nan], 'sigma_boundaries': [nan, nan]}\n",
      "{'ampl_guess': 120.01594928655241, 'sigma_guess': 9.845753181499443, 'ampl_boundaires': [212.68333185369045, 600.079746432762], 'sigma_boundaries': [0.9845753181499444, 19.809894561767578]}\n",
      "fitting 104 \n",
      "fitting 105 \n",
      "{'ampl_guess': nan, 'sigma_guess': nan, 'ampl_boundaires': [nan, nan], 'sigma_boundaries': [nan, nan]}\n",
      "fitting 106 \n",
      "{'ampl_guess': nan, 'sigma_guess': nan, 'ampl_boundaires': [nan, nan], 'sigma_boundaries': [nan, nan]}\n",
      "{'ampl_guess': 51.625853066269265, 'sigma_guess': 5.672760899281772, 'ampl_boundaires': [97.63687371412881, 258.12926533134635], 'sigma_boundaries': [0.5672760899281772, 9.405323028564453]}\n",
      "fitting 107 \n",
      "fitting 108 \n",
      "{'ampl_guess': 66.8188685562007, 'sigma_guess': 4.983221974760713, 'ampl_boundaires': [152.90627540620815, 334.0943427810035], 'sigma_boundaries': [0.4983221974760713, 11.966175079345703]}\n",
      "fitting 109 \n",
      "{'ampl_guess': nan, 'sigma_guess': nan, 'ampl_boundaires': [nan, nan], 'sigma_boundaries': [nan, nan]}\n",
      "fitting 110 \n",
      "{'ampl_guess': 65.62323257193304, 'sigma_guess': 4.758721578984398, 'ampl_boundaires': [100.3587623636625, 328.1161628596652], 'sigma_boundaries': [0.4758721578984398, 9.72636604309082]}\n",
      "fitting 111 \n",
      "{'ampl_guess': 101.27234720727162, 'sigma_guess': 9.538302714671994, 'ampl_boundaires': [178.982518676593, 506.36173603635814], 'sigma_boundaries': [0.9538302714671995, 17.636079788208008]}\n",
      "{'ampl_guess': 19.4039007530381, 'sigma_guess': 2.6164558513552993, 'ampl_boundaires': [38.592641532467766, 97.0195037651905], 'sigma_boundaries': [0.26164558513552993, 4.607885837554932]}\n",
      "fitting 112 \n",
      "fitting 113 \n",
      "{'ampl_guess': 688.590400673021, 'sigma_guess': 7.865504265634015, 'ampl_boundaires': [1559.6859520230528, 3442.952003365105], 'sigma_boundaries': [0.7865504265634015, 43.23109436035156]}\n",
      "fitting 114 \n",
      "{'ampl_guess': 54.10331715542348, 'sigma_guess': 4.943864814141729, 'ampl_boundaires': [119.63342991743339, 270.5165857771174], 'sigma_boundaries': [0.49438648141417285, 9.459592819213867]}\n",
      "fitting 115 \n",
      "{'ampl_guess': nan, 'sigma_guess': nan, 'ampl_boundaires': [nan, nan], 'sigma_boundaries': [nan, nan]}\n",
      "fitting 116 \n",
      "{'ampl_guess': 2009.699316686999, 'sigma_guess': 5.666213037349114, 'ampl_boundaires': [304.8883999278394, 10048.496583434995], 'sigma_boundaries': [0.5666213037349114, 60.37824249267578]}\n",
      "{'ampl_guess': nan, 'sigma_guess': nan, 'ampl_boundaires': [nan, nan], 'sigma_boundaries': [nan, nan]}\n",
      "fitting 117 \n",
      "fitting 118 \n",
      "{'ampl_guess': nan, 'sigma_guess': nan, 'ampl_boundaires': [nan, nan], 'sigma_boundaries': [nan, nan]}\n",
      "fitting 119 \n",
      "{'ampl_guess': 255.02058786718035, 'sigma_guess': 11.101156185082981, 'ampl_boundaires': [445.42397369298413, 1275.1029393359017], 'sigma_boundaries': [1.110115618508298, 23.392070770263672]}\n",
      "fitting 120 \n",
      "{'ampl_guess': 35.36420922931453, 'sigma_guess': 4.343538210833701, 'ampl_boundaires': [76.65938108557904, 176.82104614657266], 'sigma_boundaries': [0.4343538210833701, 7.645763874053955]}\n",
      "{'ampl_guess': 131.39367256531364, 'sigma_guess': 7.739832965619418, 'ampl_boundaires': [277.0127742236774, 656.9683628265682], 'sigma_boundaries': [0.7739832965619418, 15.367064476013184]}\n",
      "fitting 121 \n",
      "fitting 122 \n",
      "{'ampl_guess': 1657.8102596777928, 'sigma_guess': 6.398731584650995, 'ampl_boundaires': [188.0987267071205, 8289.051298388964], 'sigma_boundaries': [0.6398731584650995, 51.5352668762207]}\n"
     ]
    },
    {
     "name": "stderr",
     "output_type": "stream",
     "text": [
      "/home/nicolas/.installs/anaconda3/lib/python3.7/site-packages/ztflc-0.2.2-py3.7.egg/ztflc/fitter.py:136: RuntimeWarning: divide by zero encountered in log\n"
     ]
    },
    {
     "name": "stdout",
     "output_type": "stream",
     "text": [
      "{'ampl_guess': nan, 'sigma_guess': nan, 'ampl_boundaires': [nan, nan], 'sigma_boundaries': [nan, nan]}\n",
      "fitting 123 \n",
      "fitting 124 \n",
      "{'ampl_guess': nan, 'sigma_guess': nan, 'ampl_boundaires': [nan, nan], 'sigma_boundaries': [nan, nan]}\n",
      "fitting 125 \n",
      "{'ampl_guess': 92.53974861705801, 'sigma_guess': 7.579534066239289, 'ampl_boundaires': [152.92329581609295, 462.69874308529006], 'sigma_boundaries': [0.757953406623929, 13.651056289672852]}\n",
      "fitting 126 \n",
      "{'ampl_guess': 77.39746446681413, 'sigma_guess': 5.149769692065995, 'ampl_boundaires': [129.36240138989808, 386.98732233407065], 'sigma_boundaries': [0.5149769692065995, 10.64341926574707]}\n",
      "fitting 127 \n",
      "{'ampl_guess': nan, 'sigma_guess': nan, 'ampl_boundaires': [nan, nan], 'sigma_boundaries': [nan, nan]}\n",
      "fitting 128 \n",
      "{'ampl_guess': 186.551399332087, 'sigma_guess': 6.431504828386061, 'ampl_boundaires': [302.8850594362853, 932.7569966604349], 'sigma_boundaries': [0.6431504828386061, 13.926905632019043]}\n",
      "fitting 129 \n",
      "{'ampl_guess': 114.17623709304667, 'sigma_guess': 7.3552743902846185, 'ampl_boundaires': [261.98126616810515, 570.8811854652333], 'sigma_boundaries': [0.7355274390284618, 13.636103630065918]}\n",
      "fitting 130 \n"
     ]
    },
    {
     "name": "stderr",
     "output_type": "stream",
     "text": [
      "/home/nicolas/.installs/anaconda3/lib/python3.7/site-packages/ztflc-0.2.2-py3.7.egg/ztflc/forcephotometry.py:275: UserWarning: Shape of diffimg and psfimg do notcorrespond (index: 128). Skipping.\n"
     ]
    },
    {
     "name": "stdout",
     "output_type": "stream",
     "text": [
      "fitting 131 \n"
     ]
    },
    {
     "name": "stderr",
     "output_type": "stream",
     "text": [
      "/home/nicolas/.installs/anaconda3/lib/python3.7/site-packages/ztflc-0.2.2-py3.7.egg/ztflc/forcephotometry.py:275: UserWarning: Shape of diffimg and psfimg do notcorrespond (index: 129). Skipping.\n"
     ]
    },
    {
     "name": "stdout",
     "output_type": "stream",
     "text": [
      "fitting 132 \n"
     ]
    },
    {
     "name": "stderr",
     "output_type": "stream",
     "text": [
      "/home/nicolas/.installs/anaconda3/lib/python3.7/site-packages/ztflc-0.2.2-py3.7.egg/ztflc/forcephotometry.py:275: UserWarning: Shape of diffimg and psfimg do notcorrespond (index: 127). Skipping.\n"
     ]
    },
    {
     "name": "stdout",
     "output_type": "stream",
     "text": [
      "fitting 133 \n",
      "{'ampl_guess': 47.111997335691996, 'sigma_guess': 4.201922492324371, 'ampl_boundaires': [220.14286115668855, 235.55998667845998], 'sigma_boundaries': [0.42019224923243714, 10.74007511138916]}\n",
      "fitting 134 \n"
     ]
    },
    {
     "name": "stderr",
     "output_type": "stream",
     "text": [
      "/home/nicolas/.installs/anaconda3/lib/python3.7/site-packages/ztflc-0.2.2-py3.7.egg/ztflc/forcephotometry.py:275: UserWarning: Shape of diffimg and psfimg do notcorrespond (index: 131). Skipping.\n"
     ]
    },
    {
     "name": "stdout",
     "output_type": "stream",
     "text": [
      "fitting 135 \n",
      "{'ampl_guess': 121.85516712908237, 'sigma_guess': 7.144762255157249, 'ampl_boundaires': [465.09650767085446, 609.2758356454119], 'sigma_boundaries': [0.7144762255157249, 18.914304733276367]}\n",
      "fitting 136 \n",
      "{'ampl_guess': 71.8370638929377, 'sigma_guess': 4.310510815040246, 'ampl_boundaires': [103.98817353103736, 359.1853194646885], 'sigma_boundaries': [0.4310510815040246, 9.741039276123047]}\n",
      "fitting 137 \n",
      "{'ampl_guess': 116.69347921878561, 'sigma_guess': 6.510496277876849, 'ampl_boundaires': [445.54621465925794, 583.4673960939281], 'sigma_boundaries': [0.6510496277876849, 16.138622283935547]}\n",
      "fitting 138 \n"
     ]
    },
    {
     "name": "stderr",
     "output_type": "stream",
     "text": [
      "/home/nicolas/.installs/anaconda3/lib/python3.7/site-packages/ztflc-0.2.2-py3.7.egg/ztflc/forcephotometry.py:275: UserWarning: Shape of diffimg and psfimg do notcorrespond (index: 135). Skipping.\n"
     ]
    },
    {
     "name": "stdout",
     "output_type": "stream",
     "text": [
      "fitting 139 \n"
     ]
    },
    {
     "name": "stderr",
     "output_type": "stream",
     "text": [
      "/home/nicolas/.installs/anaconda3/lib/python3.7/site-packages/ztflc-0.2.2-py3.7.egg/ztflc/forcephotometry.py:275: UserWarning: Shape of diffimg and psfimg do notcorrespond (index: 136). Skipping.\n"
     ]
    },
    {
     "name": "stdout",
     "output_type": "stream",
     "text": [
      "fitting 140 \n"
     ]
    },
    {
     "name": "stderr",
     "output_type": "stream",
     "text": [
      "/home/nicolas/.installs/anaconda3/lib/python3.7/site-packages/ztflc-0.2.2-py3.7.egg/ztflc/forcephotometry.py:275: UserWarning: Shape of diffimg and psfimg do notcorrespond (index: 137). Skipping.\n"
     ]
    },
    {
     "name": "stdout",
     "output_type": "stream",
     "text": [
      "fitting 141 \n"
     ]
    },
    {
     "name": "stderr",
     "output_type": "stream",
     "text": [
      "/home/nicolas/.installs/anaconda3/lib/python3.7/site-packages/ztflc-0.2.2-py3.7.egg/ztflc/forcephotometry.py:275: UserWarning: Shape of diffimg and psfimg do notcorrespond (index: 138). Skipping.\n"
     ]
    },
    {
     "name": "stdout",
     "output_type": "stream",
     "text": [
      "fitting 142 \n",
      "{'ampl_guess': 232.10147763797903, 'sigma_guess': 17.24639813270527, 'ampl_boundaires': [445.5544380033596, 1160.5073881898952], 'sigma_boundaries': [1.724639813270527, 32.305458068847656]}\n",
      "fitting 143 \n",
      "{'ampl_guess': 422.84297677475297, 'sigma_guess': 24.35499232303043, 'ampl_boundaires': [696.0676771000338, 2114.214883873765], 'sigma_boundaries': [2.435499232303043, 49.145172119140625]}\n",
      "{'ampl_guess': 93.89780520936127, 'sigma_guess': 8.096737393338172, 'ampl_boundaires': [255.2542838321156, 469.4890260468063], 'sigma_boundaries': [0.8096737393338171, 16.398191452026367]}\n",
      "fitting 144 \n",
      "fitting 145 \n",
      "{'ampl_guess': nan, 'sigma_guess': nan, 'ampl_boundaires': [nan, nan], 'sigma_boundaries': [nan, nan]}\n",
      "fitting 146 \n",
      "{'ampl_guess': 305.99956495653265, 'sigma_guess': 14.50671105318385, 'ampl_boundaires': [471.4931601866864, 1529.9978247826632], 'sigma_boundaries': [1.450671105318385, 30.83086395263672]}\n",
      "{'ampl_guess': 133.0106784385666, 'sigma_guess': 8.975137808235178, 'ampl_boundaires': [179.1121606525583, 665.053392192833], 'sigma_boundaries': [0.8975137808235178, 16.56900978088379]}\n",
      "fitting 147 \n",
      "fitting 148 \n",
      "{'ampl_guess': nan, 'sigma_guess': nan, 'ampl_boundaires': [nan, nan], 'sigma_boundaries': [nan, nan]}\n",
      "fitting 149 \n",
      "{'ampl_guess': 136.88796605843802, 'sigma_guess': 8.633348888612101, 'ampl_boundaires': [257.27837392448424, 684.4398302921901], 'sigma_boundaries': [0.8633348888612101, 17.711576461791992]}\n",
      "fitting 150 \n",
      "{'ampl_guess': 154.44205185138728, 'sigma_guess': 6.031586136854882, 'ampl_boundaires': [364.5731636808227, 772.2102592569363], 'sigma_boundaries': [0.6031586136854882, 14.444188117980957]}\n",
      "{'ampl_guess': nan, 'sigma_guess': nan, 'ampl_boundaires': [nan, nan], 'sigma_boundaries': [nan, nan]}\n",
      "fitting 151 \n",
      "fitting 152 \n",
      "{'ampl_guess': 100.62748403725395, 'sigma_guess': 5.401591610858991, 'ampl_boundaires': [144.3580040302358, 503.13742018626976], 'sigma_boundaries': [0.5401591610858991, 11.510394096374512]}\n",
      "fitting 153 \n",
      "{'ampl_guess': nan, 'sigma_guess': nan, 'ampl_boundaires': [nan, nan], 'sigma_boundaries': [nan, nan]}\n",
      "fitting 154 \n",
      "{'ampl_guess': 185.35467327662445, 'sigma_guess': 7.808049640362241, 'ampl_boundaires': [405.3977833569544, 926.7733663831223], 'sigma_boundaries': [0.7808049640362241, 19.78348731994629]}\n",
      "{'ampl_guess': nan, 'sigma_guess': nan, 'ampl_boundaires': [nan, nan], 'sigma_boundaries': [nan, nan]}\n",
      "fitting 155 \n",
      "fitting 156 \n"
     ]
    },
    {
     "name": "stderr",
     "output_type": "stream",
     "text": [
      "/home/nicolas/.installs/anaconda3/lib/python3.7/site-packages/ztflc-0.2.2-py3.7.egg/ztflc/forcephotometry.py:275: UserWarning: Shape of diffimg and psfimg do notcorrespond (index: 153). Skipping.\n"
     ]
    },
    {
     "name": "stdout",
     "output_type": "stream",
     "text": [
      "fitting 157 \n",
      "{'ampl_guess': nan, 'sigma_guess': nan, 'ampl_boundaires': [nan, nan], 'sigma_boundaries': [nan, nan]}\n",
      "fitting 158 \n",
      "{'ampl_guess': nan, 'sigma_guess': nan, 'ampl_boundaires': [nan, nan], 'sigma_boundaries': [nan, nan]}\n",
      "{'ampl_guess': 120.35663478306131, 'sigma_guess': 6.309268646178719, 'ampl_boundaires': [167.5773906255116, 601.7831739153065], 'sigma_boundaries': [0.6309268646178718, 12.93488883972168]}\n",
      "fitting 159 \n"
     ]
    },
    {
     "name": "stderr",
     "output_type": "stream",
     "text": [
      "/home/nicolas/.installs/anaconda3/lib/python3.7/site-packages/ztflc-0.2.2-py3.7.egg/ztflc/forcephotometry.py:275: UserWarning: Shape of diffimg and psfimg do notcorrespond (index: 157). Skipping.\n"
     ]
    },
    {
     "name": "stdout",
     "output_type": "stream",
     "text": [
      "fitting 160 \n",
      "fitting 161 \n",
      "{'ampl_guess': nan, 'sigma_guess': nan, 'ampl_boundaires': [nan, nan], 'sigma_boundaries': [nan, nan]}\n",
      "fitting 162 \n",
      "{'ampl_guess': nan, 'sigma_guess': nan, 'ampl_boundaires': [nan, nan], 'sigma_boundaries': [nan, nan]}\n",
      "{'ampl_guess': nan, 'sigma_guess': nan, 'ampl_boundaires': [nan, nan], 'sigma_boundaries': [nan, nan]}\n",
      "fitting 163 \n",
      "fitting 164 \n"
     ]
    },
    {
     "name": "stderr",
     "output_type": "stream",
     "text": [
      "/home/nicolas/.installs/anaconda3/lib/python3.7/site-packages/ztflc-0.2.2-py3.7.egg/ztflc/forcephotometry.py:275: UserWarning: Shape of diffimg and psfimg do notcorrespond (index: 161). Skipping.\n"
     ]
    },
    {
     "name": "stdout",
     "output_type": "stream",
     "text": [
      "fitting 165 \n",
      "{'ampl_guess': nan, 'sigma_guess': nan, 'ampl_boundaires': [nan, nan], 'sigma_boundaries': [nan, nan]}\n",
      "fitting 166 \n"
     ]
    },
    {
     "name": "stderr",
     "output_type": "stream",
     "text": [
      "/home/nicolas/.installs/anaconda3/lib/python3.7/site-packages/ztflc-0.2.2-py3.7.egg/ztflc/forcephotometry.py:275: UserWarning: Shape of diffimg and psfimg do notcorrespond (index: 163). Skipping.\n"
     ]
    },
    {
     "name": "stdout",
     "output_type": "stream",
     "text": [
      "{'ampl_guess': nan, 'sigma_guess': nan, 'ampl_boundaires': [nan, nan], 'sigma_boundaries': [nan, nan]}\n",
      "fitting 167 \n",
      "fitting 168 \n",
      "{'ampl_guess': nan, 'sigma_guess': nan, 'ampl_boundaires': [nan, nan], 'sigma_boundaries': [nan, nan]}\n",
      "fitting 169 \n"
     ]
    },
    {
     "name": "stderr",
     "output_type": "stream",
     "text": [
      "/home/nicolas/.installs/anaconda3/lib/python3.7/site-packages/ztflc-0.2.2-py3.7.egg/ztflc/forcephotometry.py:275: UserWarning: Shape of diffimg and psfimg do notcorrespond (index: 167). Skipping.\n"
     ]
    },
    {
     "name": "stdout",
     "output_type": "stream",
     "text": [
      "fitting 170 \n"
     ]
    },
    {
     "name": "stderr",
     "output_type": "stream",
     "text": [
      "/home/nicolas/.installs/anaconda3/lib/python3.7/site-packages/ztflc-0.2.2-py3.7.egg/ztflc/forcephotometry.py:275: UserWarning: Shape of diffimg and psfimg do notcorrespond (index: 166). Skipping.\n"
     ]
    },
    {
     "name": "stdout",
     "output_type": "stream",
     "text": [
      "fitting 171 \n"
     ]
    },
    {
     "name": "stderr",
     "output_type": "stream",
     "text": [
      "/home/nicolas/.installs/anaconda3/lib/python3.7/site-packages/ztflc-0.2.2-py3.7.egg/ztflc/forcephotometry.py:275: UserWarning: Shape of diffimg and psfimg do notcorrespond (index: 168). Skipping.\n"
     ]
    },
    {
     "name": "stdout",
     "output_type": "stream",
     "text": [
      "fitting 172 \n",
      "{'ampl_guess': 21.604400700443183, 'sigma_guess': 2.9489385285344074, 'ampl_boundaires': [43.18516884862215, 108.02200350221591], 'sigma_boundaries': [0.2948938528534407, 4.951939582824707]}\n",
      "fitting 173 \n"
     ]
    },
    {
     "name": "stderr",
     "output_type": "stream",
     "text": [
      "/home/nicolas/.installs/anaconda3/lib/python3.7/site-packages/ztflc-0.2.2-py3.7.egg/ztflc/forcephotometry.py:275: UserWarning: Shape of diffimg and psfimg do notcorrespond (index: 170). Skipping.\n"
     ]
    },
    {
     "name": "stdout",
     "output_type": "stream",
     "text": [
      "fitting 174 \n",
      "{'ampl_guess': 47.533022991668396, 'sigma_guess': 5.496919488069481, 'ampl_boundaires': [95.01627562746577, 237.66511495834197], 'sigma_boundaries': [0.549691948806948, 9.459037780761719]}\n",
      "fitting 175 \n",
      "{'ampl_guess': 148.96498913276423, 'sigma_guess': 8.945694345292901, 'ampl_boundaires': [305.684056279814, 744.8249456638212], 'sigma_boundaries': [0.8945694345292902, 17.802860260009766]}\n",
      "fitting 176 \n",
      "{'ampl_guess': 154.11207582626656, 'sigma_guess': 11.084804911206879, 'ampl_boundaires': [320.6836845339503, 770.5603791313329], 'sigma_boundaries': [1.1084804911206878, 22.22246742248535]}\n",
      "fitting 177 \n",
      "{'ampl_guess': 219.41411987683404, 'sigma_guess': 14.4082937615223, 'ampl_boundaires': [354.9455401433968, 1097.0705993841702], 'sigma_boundaries': [1.44082937615223, 29.007932662963867]}\n",
      "fitting 178 \n",
      "{'ampl_guess': 99.07372141735948, 'sigma_guess': 6.595953581960177, 'ampl_boundaires': [141.07940454704848, 495.3686070867974], 'sigma_boundaries': [0.6595953581960177, 13.947530746459961]}\n",
      "fitting 179 \n",
      "{'ampl_guess': 178.86729623888965, 'sigma_guess': 15.649751982486348, 'ampl_boundaires': [389.26951068689476, 894.3364811944483], 'sigma_boundaries': [1.5649751982486348, 31.04113006591797]}\n",
      "fitting 180 \n",
      "{'ampl_guess': 105.58521388977377, 'sigma_guess': 6.071382319527438, 'ampl_boundaires': [327.89276519891314, 527.9260694488688], 'sigma_boundaries': [0.6071382319527439, 14.72768783569336]}\n"
     ]
    },
    {
     "name": "stderr",
     "output_type": "stream",
     "text": [
      "/home/nicolas/.installs/anaconda3/lib/python3.7/site-packages/ztflc-0.2.2-py3.7.egg/ztflc/forcephotometry.py:275: UserWarning: Shape of diffimg and psfimg do notcorrespond (index: 177). Skipping.\n"
     ]
    },
    {
     "name": "stdout",
     "output_type": "stream",
     "text": [
      "fitting 181 \n",
      "fitting 182 \n",
      "{'ampl_guess': 83.48180202328788, 'sigma_guess': 6.85700415435595, 'ampl_boundaires': [280.8198956819001, 417.4090101164394], 'sigma_boundaries': [0.685700415435595, 13.497124671936035]}\n",
      "fitting 183 \n",
      "{'ampl_guess': 147.5720598242532, 'sigma_guess': 11.153816915756897, 'ampl_boundaires': [290.07995486203833, 737.8602991212659], 'sigma_boundaries': [1.1153816915756898, 22.233871459960938]}\n",
      "fitting 184 \n",
      "{'ampl_guess': 103.61472852651423, 'sigma_guess': 6.1101435130108985, 'ampl_boundaires': [208.21174506799844, 518.0736426325711], 'sigma_boundaries': [0.6110143513010898, 13.508559226989746]}\n",
      "fitting 185 \n",
      "{'ampl_guess': 92.03645127195303, 'sigma_guess': 6.014420445256212, 'ampl_boundaires': [172.20942824146601, 460.1822563597651], 'sigma_boundaries': [0.6014420445256212, 12.489811897277832]}\n",
      "{'ampl_guess': 90.26785856841698, 'sigma_guess': 6.478133070842381, 'ampl_boundaires': [242.98117224907713, 451.33929284208494], 'sigma_boundaries': [0.6478133070842381, 13.154747009277344]}\n",
      "fitting 186 \n",
      "fitting 187 \n"
     ]
    },
    {
     "name": "stderr",
     "output_type": "stream",
     "text": [
      "/home/nicolas/.installs/anaconda3/lib/python3.7/site-packages/ztflc-0.2.2-py3.7.egg/ztflc/forcephotometry.py:275: UserWarning: Shape of diffimg and psfimg do notcorrespond (index: 184). Skipping.\n"
     ]
    },
    {
     "name": "stdout",
     "output_type": "stream",
     "text": [
      "fitting 188 \n",
      "{'ampl_guess': 107.31484132910722, 'sigma_guess': 10.942174351863567, 'ampl_boundaires': [211.69272487433855, 536.5742066455362], 'sigma_boundaries': [1.0942174351863567, 20.824806213378906]}\n",
      "{'ampl_guess': 109.66885007442843, 'sigma_guess': 5.5788158354960595, 'ampl_boundaires': [236.347802167454, 548.3442503721421], 'sigma_boundaries': [0.5578815835496059, 12.040115356445312]}\n",
      "{'ampl_guess': 65.6898416591564, 'sigma_guess': 6.475976136405268, 'ampl_boundaires': [129.45522955796645, 328.449208295782], 'sigma_boundaries': [0.6475976136405268, 11.854731559753418]}\n",
      "fitting 189 \n",
      "fitting 190 \n",
      "fitting 191 \n",
      "{'ampl_guess': 69.50113694261209, 'sigma_guess': 4.728705478580941, 'ampl_boundaires': [171.8173850924339, 347.5056847130605], 'sigma_boundaries': [0.47287054785809407, 11.729899406433105]}\n",
      "fitting 192 \n",
      "{'ampl_guess': nan, 'sigma_guess': nan, 'ampl_boundaires': [nan, nan], 'sigma_boundaries': [nan, nan]}\n",
      "{'ampl_guess': 111.94999616619782, 'sigma_guess': 8.540426795698398, 'ampl_boundaires': [660.0062860643619, 559.7499808309891], 'sigma_boundaries': [0.8540426795698398, 22.4841365814209]}\n",
      "fitting 193 \n",
      "fitting 194 \n",
      "{'ampl_guess': 163.30377606805283, 'sigma_guess': 13.12918427400572, 'ampl_boundaires': [457.7388330903805, 816.5188803402641], 'sigma_boundaries': [1.312918427400572, 26.86923599243164]}\n",
      "fitting 195 \n",
      "{'ampl_guess': nan, 'sigma_guess': nan, 'ampl_boundaires': [nan, nan], 'sigma_boundaries': [nan, nan]}\n",
      "fitting 196 \n",
      "{'ampl_guess': nan, 'sigma_guess': nan, 'ampl_boundaires': [nan, nan], 'sigma_boundaries': [nan, nan]}\n",
      "{'ampl_guess': nan, 'sigma_guess': nan, 'ampl_boundaires': [nan, nan], 'sigma_boundaries': [nan, nan]}\n",
      "fitting 197 \n",
      "fitting 198 \n",
      "{'ampl_guess': nan, 'sigma_guess': nan, 'ampl_boundaires': [nan, nan], 'sigma_boundaries': [nan, nan]}\n",
      "fitting 199 \n",
      "{'ampl_guess': nan, 'sigma_guess': nan, 'ampl_boundaires': [nan, nan], 'sigma_boundaries': [nan, nan]}\n",
      "fitting 200 \n",
      "{'ampl_guess': nan, 'sigma_guess': nan, 'ampl_boundaires': [nan, nan], 'sigma_boundaries': [nan, nan]}\n",
      "fitting 201 \n",
      "{'ampl_guess': nan, 'sigma_guess': nan, 'ampl_boundaires': [nan, nan], 'sigma_boundaries': [nan, nan]}\n",
      "fitting 202 \n",
      "{'ampl_guess': nan, 'sigma_guess': nan, 'ampl_boundaires': [nan, nan], 'sigma_boundaries': [nan, nan]}\n",
      "fitting 203 \n"
     ]
    },
    {
     "name": "stderr",
     "output_type": "stream",
     "text": [
      "/home/nicolas/.installs/anaconda3/lib/python3.7/site-packages/ztflc-0.2.2-py3.7.egg/ztflc/forcephotometry.py:275: UserWarning: Shape of diffimg and psfimg do notcorrespond (index: 200). Skipping.\n"
     ]
    },
    {
     "name": "stdout",
     "output_type": "stream",
     "text": [
      "fitting 204 \n"
     ]
    },
    {
     "name": "stderr",
     "output_type": "stream",
     "text": [
      "/home/nicolas/.installs/anaconda3/lib/python3.7/site-packages/ztflc-0.2.2-py3.7.egg/ztflc/forcephotometry.py:275: UserWarning: Shape of diffimg and psfimg do notcorrespond (index: 201). Skipping.\n"
     ]
    },
    {
     "name": "stdout",
     "output_type": "stream",
     "text": [
      "fitting 205 \n",
      "{'ampl_guess': nan, 'sigma_guess': nan, 'ampl_boundaires': [nan, nan], 'sigma_boundaries': [nan, nan]}\n",
      "{'ampl_guess': nan, 'sigma_guess': nan, 'ampl_boundaires': [nan, nan], 'sigma_boundaries': [nan, nan]}\n",
      "fitting 206 \n",
      "fitting 207 \n"
     ]
    },
    {
     "name": "stderr",
     "output_type": "stream",
     "text": [
      "/home/nicolas/.installs/anaconda3/lib/python3.7/site-packages/ztflc-0.2.2-py3.7.egg/ztflc/forcephotometry.py:275: UserWarning: Shape of diffimg and psfimg do notcorrespond (index: 204). Skipping.\n"
     ]
    },
    {
     "name": "stdout",
     "output_type": "stream",
     "text": [
      "fitting 208 \n",
      "{'ampl_guess': nan, 'sigma_guess': nan, 'ampl_boundaires': [nan, nan], 'sigma_boundaries': [nan, nan]}\n",
      "fitting 209 \n"
     ]
    },
    {
     "name": "stderr",
     "output_type": "stream",
     "text": [
      "/home/nicolas/.installs/anaconda3/lib/python3.7/site-packages/ztflc-0.2.2-py3.7.egg/ztflc/forcephotometry.py:275: UserWarning: Shape of diffimg and psfimg do notcorrespond (index: 207). Skipping.\n"
     ]
    },
    {
     "name": "stdout",
     "output_type": "stream",
     "text": [
      "fitting 210 \n"
     ]
    },
    {
     "name": "stderr",
     "output_type": "stream",
     "text": [
      "/home/nicolas/.installs/anaconda3/lib/python3.7/site-packages/ztflc-0.2.2-py3.7.egg/ztflc/forcephotometry.py:275: UserWarning: Shape of diffimg and psfimg do notcorrespond (index: 206). Skipping.\n"
     ]
    },
    {
     "name": "stdout",
     "output_type": "stream",
     "text": [
      "fitting 211 \n",
      "{'ampl_guess': nan, 'sigma_guess': nan, 'ampl_boundaires': [nan, nan], 'sigma_boundaries': [nan, nan]}\n",
      "fitting 212 \n",
      "{'ampl_guess': nan, 'sigma_guess': nan, 'ampl_boundaires': [nan, nan], 'sigma_boundaries': [nan, nan]}\n",
      "fitting 213 \n",
      "{'ampl_guess': nan, 'sigma_guess': nan, 'ampl_boundaires': [nan, nan], 'sigma_boundaries': [nan, nan]}\n",
      "{'ampl_guess': nan, 'sigma_guess': nan, 'ampl_boundaires': [nan, nan], 'sigma_boundaries': [nan, nan]}\n",
      "fitting 214 \n",
      "fitting 215 \n"
     ]
    },
    {
     "name": "stderr",
     "output_type": "stream",
     "text": [
      "/home/nicolas/.installs/anaconda3/lib/python3.7/site-packages/ztflc-0.2.2-py3.7.egg/ztflc/forcephotometry.py:275: UserWarning: Shape of diffimg and psfimg do notcorrespond (index: 212). Skipping.\n"
     ]
    },
    {
     "name": "stdout",
     "output_type": "stream",
     "text": [
      "fitting 216 \n",
      "{'ampl_guess': nan, 'sigma_guess': nan, 'ampl_boundaires': [nan, nan], 'sigma_boundaries': [nan, nan]}\n",
      "fitting 217 \n",
      "{'ampl_guess': nan, 'sigma_guess': nan, 'ampl_boundaires': [nan, nan], 'sigma_boundaries': [nan, nan]}\n",
      "{'ampl_guess': nan, 'sigma_guess': nan, 'ampl_boundaires': [nan, nan], 'sigma_boundaries': [nan, nan]}\n",
      "{'ampl_guess': nan, 'sigma_guess': nan, 'ampl_boundaires': [nan, nan], 'sigma_boundaries': [nan, nan]}\n",
      "fitting 218 \n",
      "fitting 219 \n",
      "fitting 220 \n",
      "{'ampl_guess': nan, 'sigma_guess': nan, 'ampl_boundaires': [nan, nan], 'sigma_boundaries': [nan, nan]}\n"
     ]
    },
    {
     "name": "stderr",
     "output_type": "stream",
     "text": [
      "/home/nicolas/.installs/anaconda3/lib/python3.7/site-packages/ztflc-0.2.2-py3.7.egg/ztflc/forcephotometry.py:275: UserWarning: Shape of diffimg and psfimg do notcorrespond (index: 219). Skipping.\n"
     ]
    },
    {
     "name": "stdout",
     "output_type": "stream",
     "text": [
      "fitting 221 \n",
      "{'ampl_guess': nan, 'sigma_guess': nan, 'ampl_boundaires': [nan, nan], 'sigma_boundaries': [nan, nan]}\n",
      "fitting 222 \n",
      "fitting 223 \n"
     ]
    },
    {
     "name": "stderr",
     "output_type": "stream",
     "text": [
      "/home/nicolas/.installs/anaconda3/lib/python3.7/site-packages/ztflc-0.2.2-py3.7.egg/ztflc/forcephotometry.py:275: UserWarning: Shape of diffimg and psfimg do notcorrespond (index: 220). Skipping.\n"
     ]
    },
    {
     "name": "stdout",
     "output_type": "stream",
     "text": [
      "fitting 224 \n",
      "{'ampl_guess': nan, 'sigma_guess': nan, 'ampl_boundaires': [nan, nan], 'sigma_boundaries': [nan, nan]}\n"
     ]
    },
    {
     "name": "stderr",
     "output_type": "stream",
     "text": [
      "/home/nicolas/.installs/anaconda3/lib/python3.7/site-packages/ztflc-0.2.2-py3.7.egg/ztflc/forcephotometry.py:275: UserWarning: Shape of diffimg and psfimg do notcorrespond (index: 222). Skipping.\n"
     ]
    },
    {
     "name": "stdout",
     "output_type": "stream",
     "text": [
      "fitting 225 \n",
      "fitting 226 \n",
      "{'ampl_guess': nan, 'sigma_guess': nan, 'ampl_boundaires': [nan, nan], 'sigma_boundaries': [nan, nan]}\n",
      "{'ampl_guess': nan, 'sigma_guess': nan, 'ampl_boundaires': [nan, nan], 'sigma_boundaries': [nan, nan]}\n",
      "fitting 227 \n",
      "fitting 228 \n",
      "{'ampl_guess': nan, 'sigma_guess': nan, 'ampl_boundaires': [nan, nan], 'sigma_boundaries': [nan, nan]}\n"
     ]
    },
    {
     "name": "stderr",
     "output_type": "stream",
     "text": [
      "/home/nicolas/.installs/anaconda3/lib/python3.7/site-packages/ztflc-0.2.2-py3.7.egg/ztflc/forcephotometry.py:275: UserWarning: Shape of diffimg and psfimg do notcorrespond (index: 226). Skipping.\n"
     ]
    },
    {
     "name": "stdout",
     "output_type": "stream",
     "text": [
      "fitting 229 \n",
      "fitting 230 \n",
      "{'ampl_guess': nan, 'sigma_guess': nan, 'ampl_boundaires': [nan, nan], 'sigma_boundaries': [nan, nan]}\n"
     ]
    },
    {
     "name": "stderr",
     "output_type": "stream",
     "text": [
      "/home/nicolas/.installs/anaconda3/lib/python3.7/site-packages/ztflc-0.2.2-py3.7.egg/ztflc/forcephotometry.py:275: UserWarning: Shape of diffimg and psfimg do notcorrespond (index: 227). Skipping.\n"
     ]
    },
    {
     "name": "stdout",
     "output_type": "stream",
     "text": [
      "fitting 231 \n",
      "fitting 232 \n"
     ]
    },
    {
     "name": "stderr",
     "output_type": "stream",
     "text": [
      "/home/nicolas/.installs/anaconda3/lib/python3.7/site-packages/ztflc-0.2.2-py3.7.egg/ztflc/forcephotometry.py:275: UserWarning: Shape of diffimg and psfimg do notcorrespond (index: 230). Skipping.\n"
     ]
    },
    {
     "name": "stdout",
     "output_type": "stream",
     "text": [
      "fitting 233 \n",
      "{'ampl_guess': nan, 'sigma_guess': nan, 'ampl_boundaires': [nan, nan], 'sigma_boundaries': [nan, nan]}\n",
      "fitting 234 \n",
      "{'ampl_guess': nan, 'sigma_guess': nan, 'ampl_boundaires': [nan, nan], 'sigma_boundaries': [nan, nan]}\n",
      "fitting 235 \n"
     ]
    },
    {
     "name": "stderr",
     "output_type": "stream",
     "text": [
      "/home/nicolas/.installs/anaconda3/lib/python3.7/site-packages/ztflc-0.2.2-py3.7.egg/ztflc/forcephotometry.py:275: UserWarning: Shape of diffimg and psfimg do notcorrespond (index: 232). Skipping.\n"
     ]
    },
    {
     "name": "stdout",
     "output_type": "stream",
     "text": [
      "fitting 236 \n",
      "{'ampl_guess': nan, 'sigma_guess': nan, 'ampl_boundaires': [nan, nan], 'sigma_boundaries': [nan, nan]}\n",
      "fitting 237 \n",
      "{'ampl_guess': nan, 'sigma_guess': nan, 'ampl_boundaires': [nan, nan], 'sigma_boundaries': [nan, nan]}\n",
      "fitting 238 \n",
      "{'ampl_guess': nan, 'sigma_guess': nan, 'ampl_boundaires': [nan, nan], 'sigma_boundaries': [nan, nan]}\n",
      "fitting 239 \n",
      "{'ampl_guess': 1394.101919131837, 'sigma_guess': 6.581130755233546, 'ampl_boundaires': [149.321958763, 6970.509595659184], 'sigma_boundaries': [0.6581130755233546, 39.82463836669922]}\n",
      "fitting 240 \n",
      "{'ampl_guess': 1223.65012550979, 'sigma_guess': 15.947041315697074, 'ampl_boundaires': [392.8085702514598, 6118.25062754895], 'sigma_boundaries': [1.5947041315697075, 45.24224090576172]}\n",
      "fitting 241 \n",
      "{'ampl_guess': 108.58195347286305, 'sigma_guess': 8.946090242796927, 'ampl_boundaires': [295.3146488563073, 542.9097673643153], 'sigma_boundaries': [0.8946090242796927, 20.998180389404297]}\n",
      "fitting 242 \n",
      "{'ampl_guess': nan, 'sigma_guess': nan, 'ampl_boundaires': [nan, nan], 'sigma_boundaries': [nan, nan]}\n",
      "fitting 243 \n",
      "{'ampl_guess': nan, 'sigma_guess': nan, 'ampl_boundaires': [nan, nan], 'sigma_boundaries': [nan, nan]}\n",
      "fitting 244 \n",
      "{'ampl_guess': 137.9938910957735, 'sigma_guess': 7.183179866164001, 'ampl_boundaires': [252.46639806515213, 689.9694554788675], 'sigma_boundaries': [0.7183179866164001, 14.831934928894043]}\n",
      "{'ampl_guess': 64.44485126723681, 'sigma_guess': 4.964107194914544, 'ampl_boundaires': [147.2947323254391, 322.2242563361841], 'sigma_boundaries': [0.49641071949145443, 10.683465003967285]}\n",
      "fitting 245 \n",
      "fitting 246 \n",
      "{'ampl_guess': 160.1034226601955, 'sigma_guess': 9.542839275892234, 'ampl_boundaires': [268.32664708966615, 800.5171133009775], 'sigma_boundaries': [0.9542839275892234, 21.124656677246094]}\n",
      "{'ampl_guess': 2162.93410512804, 'sigma_guess': 9.992120730496827, 'ampl_boundaires': [339.47414055055447, 10814.6705256402], 'sigma_boundaries': [0.9992120730496827, 74.142822265625]}\n",
      "fitting 247 \n",
      "fitting 248 \n",
      "{'ampl_guess': nan, 'sigma_guess': nan, 'ampl_boundaires': [nan, nan], 'sigma_boundaries': [nan, nan]}\n",
      "fitting 249 \n",
      "{'ampl_guess': nan, 'sigma_guess': nan, 'ampl_boundaires': [nan, nan], 'sigma_boundaries': [nan, nan]}\n",
      "fitting 250 \n",
      "{'ampl_guess': 101.55110901028951, 'sigma_guess': 5.661043393602346, 'ampl_boundaires': [120.53785433819439, 507.7555450514475], 'sigma_boundaries': [0.5661043393602345, 10.343951225280762]}\n",
      "fitting 251 \n",
      "{'ampl_guess': nan, 'sigma_guess': nan, 'ampl_boundaires': [nan, nan], 'sigma_boundaries': [nan, nan]}\n",
      "fitting 252 \n",
      "{'ampl_guess': nan, 'sigma_guess': nan, 'ampl_boundaires': [nan, nan], 'sigma_boundaries': [nan, nan]}\n",
      "fitting 253 \n",
      "{'ampl_guess': 133.65040679953475, 'sigma_guess': 6.209023156400364, 'ampl_boundaires': [297.89027672516795, 668.2520339976738], 'sigma_boundaries': [0.6209023156400364, 14.780879974365234]}\n",
      "{'ampl_guess': 1763.9420390894854, 'sigma_guess': 6.688265568541782, 'ampl_boundaires': [600.2614727753805, 8819.710195447427], 'sigma_boundaries': [0.6688265568541782, 56.76757049560547]}\n",
      "fitting 254 \n",
      "fitting 255 \n",
      "{'ampl_guess': 1811.8961451092985, 'sigma_guess': 5.525105976436475, 'ampl_boundaires': [238.53974409977656, 9059.480725546491], 'sigma_boundaries': [0.5525105976436475, 49.707969665527344]}\n"
     ]
    },
    {
     "name": "stderr",
     "output_type": "stream",
     "text": [
      "/home/nicolas/.installs/anaconda3/lib/python3.7/site-packages/ztflc-0.2.2-py3.7.egg/ztflc/fitter.py:136: RuntimeWarning: divide by zero encountered in log\n"
     ]
    },
    {
     "name": "stdout",
     "output_type": "stream",
     "text": [
      "fitting 256 \n",
      "{'ampl_guess': 28.896338728751086, 'sigma_guess': 3.8280839023508184, 'ampl_boundaires': [61.55579924376704, 144.48169364375542], 'sigma_boundaries': [0.38280839023508184, 5.993411064147949]}\n",
      "fitting 257 \n",
      "{'ampl_guess': 134.05512919772823, 'sigma_guess': 8.452409590075646, 'ampl_boundaires': [265.81481707178943, 670.2756459886413], 'sigma_boundaries': [0.8452409590075647, 17.217927932739258]}\n",
      "fitting 258 \n",
      "{'ampl_guess': 127.24639152212342, 'sigma_guess': 11.46872298093695, 'ampl_boundaires': [277.93202934990546, 636.2319576106171], 'sigma_boundaries': [1.1468722980936952, 21.483505249023438]}\n",
      "fitting 259 \n",
      "{'ampl_guess': nan, 'sigma_guess': nan, 'ampl_boundaires': [nan, nan], 'sigma_boundaries': [nan, nan]}\n",
      "fitting 260 \n",
      "{'ampl_guess': 2284.5006806892948, 'sigma_guess': 6.939589080655603, 'ampl_boundaires': [188.65864082016256, 11422.503403446473], 'sigma_boundaries': [0.6939589080655603, 67.39358520507812]}\n",
      "fitting 261 \n",
      "{'ampl_guess': 82.36640101617945, 'sigma_guess': 6.047858938190008, 'ampl_boundaires': [170.66866041765778, 411.83200508089726], 'sigma_boundaries': [0.6047858938190008, 12.270201683044434]}\n",
      "{'ampl_guess': 55.81940954408731, 'sigma_guess': 5.1221774034349545, 'ampl_boundaires': [171.66351293745282, 279.09704772043654], 'sigma_boundaries': [0.5122177403434954, 10.39784049987793]}\n",
      "fitting 262 \n",
      "fitting 263 \n",
      "{'ampl_guess': 1.7841937498858544, 'sigma_guess': 0.5217595064543679, 'ampl_boundaires': [3.4887023392239285, 8.920968749429273], 'sigma_boundaries': [0.052175950645436786, 0.7038428783416748]}\n",
      "fitting 264 \n",
      "{'ampl_guess': 52.46570989279029, 'sigma_guess': 4.9482373606817305, 'ampl_boundaires': [146.51203252143853, 262.32854946395145], 'sigma_boundaries': [0.49482373606817304, 9.625591278076172]}\n",
      "fitting 265 \n",
      "{'ampl_guess': 270.6923119471501, 'sigma_guess': 8.272728680034131, 'ampl_boundaires': [276.7195259482014, 1353.4615597357501], 'sigma_boundaries': [0.8272728680034132, 19.473649978637695]}\n",
      "{'ampl_guess': 8.7886966181303, 'sigma_guess': 1.3532202630905474, 'ampl_boundaires': [16.467583625039893, 43.943483090651505], 'sigma_boundaries': [0.13532202630905474, 2.134202718734741]}\n",
      "{'ampl_guess': 179.53824462136, 'sigma_guess': 7.244226554324982, 'ampl_boundaires': [121.01018027452585, 897.6912231068001], 'sigma_boundaries': [0.7244226554324982, 15.908881187438965]}\n",
      "fitting 266 \n",
      "fitting 267 \n",
      "fitting 268 \n",
      "{'ampl_guess': 80.29378363158304, 'sigma_guess': 4.678572482774248, 'ampl_boundaires': [190.70154898368475, 401.4689181579152], 'sigma_boundaries': [0.4678572482774248, 9.552802085876465]}\n",
      "fitting 269 \n",
      "{'ampl_guess': 52.31695342280267, 'sigma_guess': 3.829535290878971, 'ampl_boundaires': [97.92029222479493, 261.58476711401335], 'sigma_boundaries': [0.3829535290878971, 7.990821838378906]}\n",
      "{'ampl_guess': 215.41221990773857, 'sigma_guess': 15.157187619334456, 'ampl_boundaires': [291.06652666556363, 1077.0610995386928], 'sigma_boundaries': [1.5157187619334456, 28.638059616088867]}\n",
      "fitting 270 \n",
      "fitting 271 \n",
      "{'ampl_guess': 242.43992321474025, 'sigma_guess': 13.320402768450277, 'ampl_boundaires': [334.0598525459167, 1212.1996160737012], 'sigma_boundaries': [1.3320402768450277, 29.745777130126953]}\n",
      "fitting 272 \n",
      "{'ampl_guess': 89.9535738312856, 'sigma_guess': 5.9729325077137725, 'ampl_boundaires': [215.69284630622136, 449.767869156428], 'sigma_boundaries': [0.5972932507713773, 12.924762725830078]}\n",
      "fitting 273 \n",
      "{'ampl_guess': nan, 'sigma_guess': nan, 'ampl_boundaires': [nan, nan], 'sigma_boundaries': [nan, nan]}\n",
      "{'ampl_guess': 24.511314592263982, 'sigma_guess': 3.25952171110242, 'ampl_boundaires': [48.1006345372707, 122.55657296131992], 'sigma_boundaries': [0.325952171110242, 5.565160274505615]}\n",
      "fitting 274 \n",
      "fitting 275 \n",
      "{'ampl_guess': 6.636789104268895, 'sigma_guess': 1.3528886989309257, 'ampl_boundaires': [9.632359131805343, 33.18394552134448], 'sigma_boundaries': [0.13528886989309258, 1.7069557905197144]}\n",
      "fitting 276 \n",
      "{'ampl_guess': 80.69722471802115, 'sigma_guess': 5.429150318898173, 'ampl_boundaires': [118.45070267099972, 403.4861235901057], 'sigma_boundaries': [0.5429150318898173, 10.017049789428711]}\n",
      "fitting 277 \n",
      "{'ampl_guess': nan, 'sigma_guess': nan, 'ampl_boundaires': [nan, nan], 'sigma_boundaries': [nan, nan]}\n",
      "{'ampl_guess': nan, 'sigma_guess': nan, 'ampl_boundaires': [nan, nan], 'sigma_boundaries': [nan, nan]}\n",
      "fitting 278 \n",
      "fitting 279 \n",
      "{'ampl_guess': 285.7421790965306, 'sigma_guess': 5.243912704603721, 'ampl_boundaires': [185.85801843186957, 1428.710895482653], 'sigma_boundaries': [0.5243912704603721, 12.485478401184082]}\n",
      "fitting 280 \n",
      "{'ampl_guess': 55.591962364466525, 'sigma_guess': 5.047525626852137, 'ampl_boundaires': [132.75939790409308, 277.9598118223326], 'sigma_boundaries': [0.5047525626852136, 10.024625778198242]}\n",
      "fitting 281 \n",
      "{'ampl_guess': 299.6895252905527, 'sigma_guess': 6.1524635422716205, 'ampl_boundaires': [227.817516966197, 1498.4476264527634], 'sigma_boundaries': [0.615246354227162, 15.564552307128906]}\n",
      "{'ampl_guess': 99.86821120191507, 'sigma_guess': 5.987999235581277, 'ampl_boundaires': [242.55919995232625, 499.34105600957537], 'sigma_boundaries': [0.5987999235581276, 11.922073364257812]}\n",
      "fitting 283 \n",
      "fitting 282 \n",
      "{'ampl_guess': 107.29723763551287, 'sigma_guess': 9.005450831766655, 'ampl_boundaires': [255.70021857109757, 536.4861881775644], 'sigma_boundaries': [0.9005450831766655, 17.910398483276367]}\n",
      "fitting 284 \n",
      "{'ampl_guess': 1410.9320064108322, 'sigma_guess': 5.114601268431571, 'ampl_boundaires': [527.2560007729768, 7054.66003205416], 'sigma_boundaries': [0.5114601268431571, 42.30261993408203]}\n",
      "fitting 285 \n",
      "{'ampl_guess': nan, 'sigma_guess': nan, 'ampl_boundaires': [nan, nan], 'sigma_boundaries': [nan, nan]}\n",
      "fitting 286 \n",
      "{'ampl_guess': 1118.348559619355, 'sigma_guess': 11.206482595149613, 'ampl_boundaires': [632.8806102182143, 5591.742798096775], 'sigma_boundaries': [1.1206482595149612, 41.401363372802734]}\n",
      "fitting 287 \n",
      "{'ampl_guess': nan, 'sigma_guess': nan, 'ampl_boundaires': [nan, nan], 'sigma_boundaries': [nan, nan]}\n",
      "fitting 288 \n",
      "{'ampl_guess': 154.17998534930135, 'sigma_guess': 7.815564623340449, 'ampl_boundaires': [243.30595609298018, 770.8999267465067], 'sigma_boundaries': [0.7815564623340449, 15.83655071258545]}\n",
      "fitting 289 \n",
      "{'ampl_guess': 281.9545068033111, 'sigma_guess': 17.01466518440228, 'ampl_boundaires': [517.5405595701677, 1409.7725340165557], 'sigma_boundaries': [1.701466518440228, 34.203495025634766]}\n",
      "fitting 290 \n",
      "{'ampl_guess': 178.11719338842693, 'sigma_guess': 12.848296408818928, 'ampl_boundaires': [414.67574265355574, 890.5859669421346], 'sigma_boundaries': [1.2848296408818929, 25.388442993164062]}\n",
      "fitting 291 \n",
      "{'ampl_guess': 88.86968926854814, 'sigma_guess': 5.449669120963978, 'ampl_boundaires': [123.60926379813225, 444.3484463427407], 'sigma_boundaries': [0.5449669120963978, 10.278474807739258]}\n",
      "{'ampl_guess': 1502.5397537183046, 'sigma_guess': 6.7891840840769815, 'ampl_boundaires': [167.15838255744853, 7512.698768591523], 'sigma_boundaries': [0.6789184084076981, 47.51632308959961]}\n",
      "fitting 292 \n",
      "fitting 293 \n",
      "{'ampl_guess': nan, 'sigma_guess': nan, 'ampl_boundaires': [nan, nan], 'sigma_boundaries': [nan, nan]}\n",
      "fitting 294 \n",
      "{'ampl_guess': 38.56734996834118, 'sigma_guess': 5.543326452099443, 'ampl_boundaires': [68.19580059182564, 192.83674984170594], 'sigma_boundaries': [0.5543326452099443, 8.823060989379883]}\n",
      "fitting 295 \n",
      "{'ampl_guess': 270.2559966083614, 'sigma_guess': 5.720766299484239, 'ampl_boundaires': [234.2050281832369, 1351.2799830418069], 'sigma_boundaries': [0.5720766299484239, 14.07606315612793]}\n",
      "{'ampl_guess': nan, 'sigma_guess': nan, 'ampl_boundaires': [nan, nan], 'sigma_boundaries': [nan, nan]}\n",
      "fitting 296 \n",
      "fitting 297 \n",
      "{'ampl_guess': nan, 'sigma_guess': nan, 'ampl_boundaires': [nan, nan], 'sigma_boundaries': [nan, nan]}\n",
      "fitting 298 \n",
      "{'ampl_guess': nan, 'sigma_guess': nan, 'ampl_boundaires': [nan, nan], 'sigma_boundaries': [nan, nan]}\n",
      "fitting 299 \n"
     ]
    },
    {
     "name": "stderr",
     "output_type": "stream",
     "text": [
      "/home/nicolas/.installs/anaconda3/lib/python3.7/site-packages/ztflc-0.2.2-py3.7.egg/ztflc/forcephotometry.py:275: UserWarning: Shape of diffimg and psfimg do notcorrespond (index: 297). Skipping.\n"
     ]
    },
    {
     "name": "stdout",
     "output_type": "stream",
     "text": [
      "fitting 300 \n",
      "{'ampl_guess': nan, 'sigma_guess': nan, 'ampl_boundaires': [nan, nan], 'sigma_boundaries': [nan, nan]}\n",
      "fitting 301 \n",
      "{'ampl_guess': nan, 'sigma_guess': nan, 'ampl_boundaires': [nan, nan], 'sigma_boundaries': [nan, nan]}\n",
      "fitting 302 \n"
     ]
    },
    {
     "name": "stderr",
     "output_type": "stream",
     "text": [
      "/home/nicolas/.installs/anaconda3/lib/python3.7/site-packages/ztflc-0.2.2-py3.7.egg/ztflc/forcephotometry.py:275: UserWarning: Shape of diffimg and psfimg do notcorrespond (index: 299). Skipping.\n"
     ]
    },
    {
     "name": "stdout",
     "output_type": "stream",
     "text": [
      "fitting 303 \n",
      "{'ampl_guess': nan, 'sigma_guess': nan, 'ampl_boundaires': [nan, nan], 'sigma_boundaries': [nan, nan]}\n",
      "{'ampl_guess': nan, 'sigma_guess': nan, 'ampl_boundaires': [nan, nan], 'sigma_boundaries': [nan, nan]}\n",
      "fitting 304 \n",
      "fitting 305 \n"
     ]
    },
    {
     "name": "stderr",
     "output_type": "stream",
     "text": [
      "/home/nicolas/.installs/anaconda3/lib/python3.7/site-packages/ztflc-0.2.2-py3.7.egg/ztflc/forcephotometry.py:275: UserWarning: Shape of diffimg and psfimg do notcorrespond (index: 303). Skipping.\n"
     ]
    },
    {
     "name": "stdout",
     "output_type": "stream",
     "text": [
      "fitting 306 \n"
     ]
    },
    {
     "name": "stderr",
     "output_type": "stream",
     "text": [
      "/home/nicolas/.installs/anaconda3/lib/python3.7/site-packages/ztflc-0.2.2-py3.7.egg/ztflc/forcephotometry.py:275: UserWarning: Shape of diffimg and psfimg do notcorrespond (index: 302). Skipping.\n"
     ]
    },
    {
     "name": "stdout",
     "output_type": "stream",
     "text": [
      "fitting 307 \n"
     ]
    },
    {
     "name": "stderr",
     "output_type": "stream",
     "text": [
      "/home/nicolas/.installs/anaconda3/lib/python3.7/site-packages/ztflc-0.2.2-py3.7.egg/ztflc/forcephotometry.py:275: UserWarning: Shape of diffimg and psfimg do notcorrespond (index: 305). Skipping.\n"
     ]
    },
    {
     "name": "stdout",
     "output_type": "stream",
     "text": [
      "fitting 308 \n"
     ]
    },
    {
     "name": "stderr",
     "output_type": "stream",
     "text": [
      "/home/nicolas/.installs/anaconda3/lib/python3.7/site-packages/ztflc-0.2.2-py3.7.egg/ztflc/forcephotometry.py:275: UserWarning: Shape of diffimg and psfimg do notcorrespond (index: 304). Skipping.\n"
     ]
    },
    {
     "name": "stdout",
     "output_type": "stream",
     "text": [
      "fitting 309 \n"
     ]
    },
    {
     "name": "stderr",
     "output_type": "stream",
     "text": [
      "/home/nicolas/.installs/anaconda3/lib/python3.7/site-packages/ztflc-0.2.2-py3.7.egg/ztflc/forcephotometry.py:275: UserWarning: Shape of diffimg and psfimg do notcorrespond (index: 306). Skipping.\n"
     ]
    },
    {
     "name": "stdout",
     "output_type": "stream",
     "text": [
      "fitting 310 \n"
     ]
    },
    {
     "name": "stderr",
     "output_type": "stream",
     "text": [
      "/home/nicolas/.installs/anaconda3/lib/python3.7/site-packages/ztflc-0.2.2-py3.7.egg/ztflc/forcephotometry.py:275: UserWarning: Shape of diffimg and psfimg do notcorrespond (index: 307). Skipping.\n"
     ]
    },
    {
     "name": "stdout",
     "output_type": "stream",
     "text": [
      "fitting 311 \n"
     ]
    },
    {
     "name": "stderr",
     "output_type": "stream",
     "text": [
      "/home/nicolas/.installs/anaconda3/lib/python3.7/site-packages/ztflc-0.2.2-py3.7.egg/ztflc/forcephotometry.py:275: UserWarning: Shape of diffimg and psfimg do notcorrespond (index: 309). Skipping.\n"
     ]
    },
    {
     "name": "stdout",
     "output_type": "stream",
     "text": [
      "fitting 312 \n"
     ]
    },
    {
     "name": "stderr",
     "output_type": "stream",
     "text": [
      "/home/nicolas/.installs/anaconda3/lib/python3.7/site-packages/ztflc-0.2.2-py3.7.egg/ztflc/forcephotometry.py:275: UserWarning: Shape of diffimg and psfimg do notcorrespond (index: 308). Skipping.\n"
     ]
    },
    {
     "name": "stdout",
     "output_type": "stream",
     "text": [
      "fitting 313 \n"
     ]
    },
    {
     "name": "stderr",
     "output_type": "stream",
     "text": [
      "/home/nicolas/.installs/anaconda3/lib/python3.7/site-packages/ztflc-0.2.2-py3.7.egg/ztflc/forcephotometry.py:275: UserWarning: Shape of diffimg and psfimg do notcorrespond (index: 310). Skipping.\n"
     ]
    },
    {
     "name": "stdout",
     "output_type": "stream",
     "text": [
      "fitting 314 \n"
     ]
    },
    {
     "name": "stderr",
     "output_type": "stream",
     "text": [
      "/home/nicolas/.installs/anaconda3/lib/python3.7/site-packages/ztflc-0.2.2-py3.7.egg/ztflc/forcephotometry.py:275: UserWarning: Shape of diffimg and psfimg do notcorrespond (index: 312). Skipping.\n"
     ]
    },
    {
     "name": "stdout",
     "output_type": "stream",
     "text": [
      "fitting 315 \n"
     ]
    },
    {
     "name": "stderr",
     "output_type": "stream",
     "text": [
      "/home/nicolas/.installs/anaconda3/lib/python3.7/site-packages/ztflc-0.2.2-py3.7.egg/ztflc/forcephotometry.py:275: UserWarning: Shape of diffimg and psfimg do notcorrespond (index: 311). Skipping.\n"
     ]
    },
    {
     "name": "stdout",
     "output_type": "stream",
     "text": [
      "fitting 316 \n",
      "{'ampl_guess': 130.59693570417213, 'sigma_guess': 10.432002447220118, 'ampl_boundaires': [291.0895329049922, 652.9846785208607], 'sigma_boundaries': [1.0432002447220117, 19.787120819091797]}\n",
      "fitting 317 \n",
      "{'ampl_guess': 41.75764890373003, 'sigma_guess': 4.969555734313702, 'ampl_boundaires': [174.6305146133838, 208.78824451865015], 'sigma_boundaries': [0.4969555734313702, 9.185113906860352]}\n",
      "{'ampl_guess': 85.84460783439225, 'sigma_guess': 5.296546570804149, 'ampl_boundaires': [134.45362671567733, 429.22303917196126], 'sigma_boundaries': [0.5296546570804149, 11.478482246398926]}\n",
      "fitting 318 \n",
      "fitting 319 \n",
      "{'ampl_guess': nan, 'sigma_guess': nan, 'ampl_boundaires': [nan, nan], 'sigma_boundaries': [nan, nan]}\n",
      "fitting 320 \n",
      "{'ampl_guess': nan, 'sigma_guess': nan, 'ampl_boundaires': [nan, nan], 'sigma_boundaries': [nan, nan]}\n",
      "fitting 321 \n",
      "{'ampl_guess': 76.5691155410214, 'sigma_guess': 4.190379252242699, 'ampl_boundaires': [127.15999859891598, 382.845577705107], 'sigma_boundaries': [0.41903792522426986, 9.464127540588379]}\n",
      "{'ampl_guess': 59.05143238876399, 'sigma_guess': 5.2673954357510056, 'ampl_boundaires': [120.57005924858318, 295.25716194382], 'sigma_boundaries': [0.5267395435751006, 10.422394752502441]}\n",
      "fitting 322 \n",
      "fitting 323 \n",
      "{'ampl_guess': 100.90453423725532, 'sigma_guess': 8.7794845547857, 'ampl_boundaires': [198.70852351518008, 504.52267118627657], 'sigma_boundaries': [0.87794845547857, 16.873212814331055]}\n",
      "{'ampl_guess': 132.53159214842134, 'sigma_guess': 6.041441156865814, 'ampl_boundaires': [234.45392777273216, 662.6579607421068], 'sigma_boundaries': [0.6041441156865814, 12.931937217712402]}\n",
      "fitting 324 \n",
      "fitting 325 \n",
      "{'ampl_guess': 360.682489221716, 'sigma_guess': 22.480977553651577, 'ampl_boundaires': [501.95529534760163, 1803.41244610858], 'sigma_boundaries': [2.2480977553651575, 46.418060302734375]}\n",
      "{'ampl_guess': 60.82807631989722, 'sigma_guess': 4.492804648608333, 'ampl_boundaires': [122.93527469074989, 304.1403815994861], 'sigma_boundaries': [0.4492804648608333, 8.740074157714844]}\n",
      "fitting 326 \n",
      "fitting 327 \n",
      "{'ampl_guess': 94.26021563354335, 'sigma_guess': 5.764037896674282, 'ampl_boundaires': [252.49223466487615, 471.30107816771675], 'sigma_boundaries': [0.5764037896674281, 12.366340637207031]}\n",
      "fitting 328 \n",
      "{'ampl_guess': 110.63059885320035, 'sigma_guess': 4.973809511602496, 'ampl_boundaires': [229.63493338482957, 553.1529942660018], 'sigma_boundaries': [0.49738095116024955, 10.771681785583496]}\n",
      "fitting 329 \n",
      "{'ampl_guess': 45.68912931743412, 'sigma_guess': 4.718815110578577, 'ampl_boundaires': [128.10516682109224, 228.44564658717061], 'sigma_boundaries': [0.4718815110578577, 9.153522491455078]}\n",
      "{'ampl_guess': 185.48731772938967, 'sigma_guess': 21.69311889792532, 'ampl_boundaires': [376.25547580029775, 927.4365886469483], 'sigma_boundaries': [2.169311889792532, 36.67416763305664]}\n",
      "fitting 330 \n",
      "fitting 331 \n",
      "{'ampl_guess': 196.26117981430514, 'sigma_guess': 14.010566645459834, 'ampl_boundaires': [417.2851053572892, 981.3058990715257], 'sigma_boundaries': [1.4010566645459834, 27.548898696899414]}\n",
      "fitting 332 \n",
      "{'ampl_guess': 163.4730239640984, 'sigma_guess': 11.91218544919219, 'ampl_boundaires': [392.0312156211253, 817.3651198204919], 'sigma_boundaries': [1.191218544919219, 23.66086769104004]}\n",
      "fitting 333 \n",
      "{'ampl_guess': 83.21345326878942, 'sigma_guess': 7.009741411409181, 'ampl_boundaires': [184.12174538305862, 416.0672663439471], 'sigma_boundaries': [0.7009741411409182, 13.16959285736084]}\n",
      "{'ampl_guess': 60.68525308829923, 'sigma_guess': 4.027428193065511, 'ampl_boundaires': [120.11480153227666, 303.4262654414961], 'sigma_boundaries': [0.4027428193065511, 8.968950271606445]}\n",
      "fitting 334 \n",
      "fitting 335 \n",
      "{'ampl_guess': 58.66396467014194, 'sigma_guess': 4.571129434980734, 'ampl_boundaires': [111.2942514082875, 293.31982335070967], 'sigma_boundaries': [0.4571129434980734, 9.127195358276367]}\n",
      "fitting 336 \n",
      "{'ampl_guess': 27.86080695122992, 'sigma_guess': 3.7952618783875773, 'ampl_boundaires': [55.829320586135395, 139.3040347561496], 'sigma_boundaries': [0.37952618783875774, 6.041363716125488]}\n",
      "fitting 337 \n",
      "{'ampl_guess': 124.52311637852607, 'sigma_guess': 4.636919823591741, 'ampl_boundaires': [318.9066581216961, 622.6155818926304], 'sigma_boundaries': [0.46369198235917414, 10.591269493103027]}\n",
      "fitting 338 \n",
      "{'ampl_guess': 136.96010199785994, 'sigma_guess': 7.473719146931083, 'ampl_boundaires': [240.09663350283526, 684.8005099892997], 'sigma_boundaries': [0.7473719146931084, 15.369826316833496]}\n",
      "fitting 339 \n",
      "{'ampl_guess': 54.60062867098472, 'sigma_guess': 7.962231216345339, 'ampl_boundaires': [131.22353540066172, 273.00314335492357], 'sigma_boundaries': [0.7962231216345339, 13.212200164794922]}\n",
      "fitting 340 \n",
      "{'ampl_guess': 135.23231046790733, 'sigma_guess': 7.591611767951397, 'ampl_boundaires': [229.39775684169317, 676.1615523395366], 'sigma_boundaries': [0.7591611767951397, 15.408047676086426]}\n",
      "{'ampl_guess': 56.291649422166536, 'sigma_guess': 3.4107524367608666, 'ampl_boundaires': [105.26677923247945, 281.45824711083264], 'sigma_boundaries': [0.34107524367608666, 8.267892837524414]}\n",
      "fitting 341 \n",
      "fitting 342 \n",
      "{'ampl_guess': 141.3851503931534, 'sigma_guess': 9.786133138272614, 'ampl_boundaires': [278.11464496113024, 706.9257519657671], 'sigma_boundaries': [0.9786133138272615, 19.124298095703125]}\n",
      "fitting 343 \n",
      "{'ampl_guess': 218.04837541399857, 'sigma_guess': 11.387966252754103, 'ampl_boundaires': [305.2103342873909, 1090.2418770699928], 'sigma_boundaries': [1.1387966252754103, 22.755598068237305]}\n",
      "fitting 344 \n",
      "{'ampl_guess': 183.4019159133236, 'sigma_guess': 9.575134614783156, 'ampl_boundaires': [314.947423921649, 917.009579566618], 'sigma_boundaries': [0.9575134614783156, 19.53817367553711]}\n",
      "{'ampl_guess': 123.07406752753528, 'sigma_guess': 7.7028653292211615, 'ampl_boundaires': [257.59581413086397, 615.3703376376764], 'sigma_boundaries': [0.7702865329221161, 15.432476043701172]}\n",
      "fitting 345 \n",
      "fitting 346 \n",
      "{'ampl_guess': nan, 'sigma_guess': nan, 'ampl_boundaires': [nan, nan], 'sigma_boundaries': [nan, nan]}\n",
      "fitting 347 \n",
      "{'ampl_guess': 141.3924079724245, 'sigma_guess': 5.519551393063024, 'ampl_boundaires': [281.764547554563, 706.9620398621225], 'sigma_boundaries': [0.5519551393063024, 11.622397422790527]}\n",
      "fitting 348 \n",
      "{'ampl_guess': 62.48163304527641, 'sigma_guess': 3.4721632092335857, 'ampl_boundaires': [100.36010104758603, 312.40816522638204], 'sigma_boundaries': [0.3472163209233586, 7.298145771026611]}\n",
      "fitting 349 \n",
      "{'ampl_guess': 20.2903557326328, 'sigma_guess': 3.121584304581389, 'ampl_boundaires': [40.23369112519003, 101.451778663164], 'sigma_boundaries': [0.3121584304581389, 4.681336402893066]}\n",
      "{'ampl_guess': 73.05876118458796, 'sigma_guess': 4.442022310199055, 'ampl_boundaires': [109.91576076209445, 365.29380592293984], 'sigma_boundaries': [0.44420223101990547, 9.904036521911621]}\n",
      "fitting 350 \n",
      "fitting 351 \n",
      "{'ampl_guess': nan, 'sigma_guess': nan, 'ampl_boundaires': [nan, nan], 'sigma_boundaries': [nan, nan]}\n",
      "fitting 352 \n",
      "{'ampl_guess': 73.52895478866981, 'sigma_guess': 5.450188029478182, 'ampl_boundaires': [136.0827189923541, 367.64477394334904], 'sigma_boundaries': [0.5450188029478182, 10.405657768249512]}\n",
      "fitting 353 \n",
      "{'ampl_guess': 143.90424755232922, 'sigma_guess': 6.374579009066094, 'ampl_boundaires': [197.47741240693904, 719.5212377616461], 'sigma_boundaries': [0.6374579009066095, 13.347637176513672]}\n",
      "{'ampl_guess': 143.76725237681256, 'sigma_guess': 11.722919577794274, 'ampl_boundaires': [284.34338826484014, 718.8362618840629], 'sigma_boundaries': [1.1722919577794273, 22.875944137573242]}\n",
      "fitting 354 \n",
      "fitting 355 \n",
      "{'ampl_guess': nan, 'sigma_guess': nan, 'ampl_boundaires': [nan, nan], 'sigma_boundaries': [nan, nan]}\n",
      "fitting 356 \n",
      "{'ampl_guess': 131.54805150778006, 'sigma_guess': 9.975980837609482, 'ampl_boundaires': [323.4639015544376, 657.7402575389003], 'sigma_boundaries': [0.9975980837609482, 19.003124237060547]}\n",
      "fitting 357 \n",
      "{'ampl_guess': 111.0335618382372, 'sigma_guess': 7.4626297750593835, 'ampl_boundaires': [294.4102531216304, 555.1678091911859], 'sigma_boundaries': [0.7462629775059384, 14.78809642791748]}\n",
      "{'ampl_guess': 186.86654465174064, 'sigma_guess': 11.49242098135205, 'ampl_boundaires': [341.8486215978776, 934.3327232587033], 'sigma_boundaries': [1.149242098135205, 24.082372665405273]}\n",
      "fitting 358 \n",
      "fitting 359 \n",
      "{'ampl_guess': nan, 'sigma_guess': nan, 'ampl_boundaires': [nan, nan], 'sigma_boundaries': [nan, nan]}\n",
      "fitting 360 \n",
      "{'ampl_guess': 64.36407603549416, 'sigma_guess': 8.979255142277049, 'ampl_boundaires': [132.7744485362047, 321.82038017747084], 'sigma_boundaries': [0.897925514227705, 14.335175514221191]}\n",
      "fitting 361 \n",
      "{'ampl_guess': 87.91910893850962, 'sigma_guess': 5.713605856860084, 'ampl_boundaires': [145.97746734469123, 439.5955446925481], 'sigma_boundaries': [0.5713605856860083, 13.657331466674805]}\n",
      "{'ampl_guess': 214.1413690110249, 'sigma_guess': 6.904427019659637, 'ampl_boundaires': [250.71046548672143, 1070.7068450551244], 'sigma_boundaries': [0.6904427019659637, 15.475317001342773]}\n",
      "fitting 362 \n",
      "{'ampl_guess': 336.3971564282779, 'sigma_guess': 25.849386631477376, 'ampl_boundaires': [571.8930392708571, 1681.9857821413898], 'sigma_boundaries': [2.584938663147738, 49.518470764160156]}\n",
      "fitting 363 \n",
      "fitting 364 \n",
      "{'ampl_guess': 183.47829739318868, 'sigma_guess': 5.583911601940737, 'ampl_boundaires': [232.92012110532622, 917.3914869659434], 'sigma_boundaries': [0.5583911601940736, 12.890752792358398]}\n",
      "fitting 365 \n",
      "{'ampl_guess': 316.291711193596, 'sigma_guess': 13.030283421821395, 'ampl_boundaires': [448.2885278006534, 1581.4585559679797], 'sigma_boundaries': [1.3030283421821394, 26.570714950561523]}\n",
      "{'ampl_guess': 50.69757138558545, 'sigma_guess': 3.7402003121356753, 'ampl_boundaires': [120.95149810853536, 253.48785692792725], 'sigma_boundaries': [0.3740200312135675, 8.036620140075684]}\n",
      "fitting 366 \n",
      "fitting 367 \n",
      "{'ampl_guess': 57.15490453126516, 'sigma_guess': 5.68207403458407, 'ampl_boundaires': [150.84133633011595, 285.77452265632576], 'sigma_boundaries': [0.568207403458407, 10.471332550048828]}\n",
      "fitting 368 \n",
      "{'ampl_guess': 82.81595976378297, 'sigma_guess': 8.857321538876354, 'ampl_boundaires': [184.91963924959117, 414.07979881891487], 'sigma_boundaries': [0.8857321538876354, 15.993958473205566]}\n",
      "{'ampl_guess': nan, 'sigma_guess': nan, 'ampl_boundaires': [nan, nan], 'sigma_boundaries': [nan, nan]}\n",
      "fitting 369 \n",
      "{'ampl_guess': nan, 'sigma_guess': nan, 'ampl_boundaires': [nan, nan], 'sigma_boundaries': [nan, nan]}\n",
      "fitting 370 \n",
      "fitting 371 \n",
      "{'ampl_guess': 57.40036657168537, 'sigma_guess': 4.400332535625545, 'ampl_boundaires': [131.27976968747777, 287.00183285842684], 'sigma_boundaries': [0.4400332535625545, 9.221278190612793]}\n",
      "fitting 372 \n",
      "{'ampl_guess': 84.98406356023877, 'sigma_guess': 9.542886642200752, 'ampl_boundaires': [174.762776585028, 424.9203178011938], 'sigma_boundaries': [0.9542886642200752, 17.08489418029785]}\n",
      "fitting 373 \n",
      "{'ampl_guess': 231.6029134967465, 'sigma_guess': 15.972243019667644, 'ampl_boundaires': [422.69901088080593, 1158.0145674837324], 'sigma_boundaries': [1.5972243019667645, 31.12962532043457]}\n",
      "{'ampl_guess': 60.03835320631218, 'sigma_guess': 3.5616851788515507, 'ampl_boundaires': [131.04737415835396, 300.1917660315609], 'sigma_boundaries': [0.3561685178851551, 8.018040657043457]}\n",
      "fitting 374 \n",
      "fitting 375 \n",
      "{'ampl_guess': 175.29157585887614, 'sigma_guess': 7.062111581593536, 'ampl_boundaires': [329.616110385834, 876.4578792943807], 'sigma_boundaries': [0.7062111581593535, 15.660501480102539]}\n",
      "fitting 376 \n",
      "{'ampl_guess': nan, 'sigma_guess': nan, 'ampl_boundaires': [nan, nan], 'sigma_boundaries': [nan, nan]}\n",
      "fitting 377 \n",
      "{'ampl_guess': 143.68769630364312, 'sigma_guess': 11.486695313700073, 'ampl_boundaires': [411.35171397522083, 718.4384815182157], 'sigma_boundaries': [1.1486695313700073, 24.77526092529297]}\n",
      "fitting 378 \n",
      "{'ampl_guess': 1058.8081824895519, 'sigma_guess': 11.778606803494503, 'ampl_boundaires': [385.06634915192546, 5294.040912447759], 'sigma_boundaries': [1.1778606803494502, 39.85327911376953]}\n",
      "fitting 379 \n",
      "{'ampl_guess': 209.18255864933823, 'sigma_guess': 11.063686607206405, 'ampl_boundaires': [289.4452083176713, 1045.912793246691], 'sigma_boundaries': [1.1063686607206404, 22.77647590637207]}\n",
      "fitting 380 \n",
      "{'ampl_guess': 95.32632438618201, 'sigma_guess': 5.00483444368139, 'ampl_boundaires': [176.86871763729215, 476.63162193091006], 'sigma_boundaries': [0.500483444368139, 10.512614250183105]}\n",
      "fitting 381 \n",
      "{'ampl_guess': 114.43005156494687, 'sigma_guess': 11.240741868444434, 'ampl_boundaires': [233.56578748569802, 572.1502578247344], 'sigma_boundaries': [1.1240741868444435, 19.387733459472656]}\n",
      "fitting 382 \n",
      "{'ampl_guess': 57.63399560242442, 'sigma_guess': 5.392952915233195, 'ampl_boundaires': [120.58517681489097, 288.1699780121221], 'sigma_boundaries': [0.5392952915233196, 9.220996856689453]}\n",
      "fitting 383 \n",
      "{'ampl_guess': 715.8386617184514, 'sigma_guess': 39.889736080597224, 'ampl_boundaires': [912.8253890952506, 3579.1933085922565], 'sigma_boundaries': [3.9889736080597222, 80.65554809570312]}\n",
      "fitting 384 \n",
      "{'ampl_guess': 261.40391091594523, 'sigma_guess': 17.521821198416845, 'ampl_boundaires': [465.45944400657794, 1307.019554579726], 'sigma_boundaries': [1.7521821198416845, 38.14760971069336]}\n",
      "fitting 385 \n",
      "{'ampl_guess': 54.54110982754203, 'sigma_guess': 5.2036174082921605, 'ampl_boundaires': [93.98172156731017, 272.70554913771014], 'sigma_boundaries': [0.520361740829216, 9.425503730773926]}\n",
      "{'ampl_guess': nan, 'sigma_guess': nan, 'ampl_boundaires': [nan, nan], 'sigma_boundaries': [nan, nan]}\n",
      "fitting 386 \n",
      "fitting 387 \n",
      "{'ampl_guess': 10.232010642812998, 'sigma_guess': 1.4782924146503904, 'ampl_boundaires': [20.4566537430326, 51.16005321406499], 'sigma_boundaries': [0.14782924146503904, 2.333524703979492]}\n",
      "{'ampl_guess': 96.62490516416868, 'sigma_guess': 8.232671629184814, 'ampl_boundaires': [237.96715073757312, 483.12452582084336], 'sigma_boundaries': [0.8232671629184815, 16.22803497314453]}\n",
      "fitting 388 \n",
      "fitting 389 \n",
      "{'ampl_guess': nan, 'sigma_guess': nan, 'ampl_boundaires': [nan, nan], 'sigma_boundaries': [nan, nan]}\n",
      "fitting 390 \n",
      "{'ampl_guess': 50.467016546856485, 'sigma_guess': 4.444054466226417, 'ampl_boundaires': [116.18746625772147, 252.33508273428242], 'sigma_boundaries': [0.4444054466226417, 8.854669570922852]}\n",
      "fitting 391 \n",
      "{'ampl_guess': 57.91879582614019, 'sigma_guess': 5.442265837638691, 'ampl_boundaires': [171.85484911823656, 289.593979130701], 'sigma_boundaries': [0.5442265837638691, 11.227357864379883]}\n",
      "fitting 392 \n",
      "{'ampl_guess': nan, 'sigma_guess': nan, 'ampl_boundaires': [nan, nan], 'sigma_boundaries': [nan, nan]}\n",
      "fitting 393 \n",
      "{'ampl_guess': 164.6859672190916, 'sigma_guess': 15.38274032481567, 'ampl_boundaires': [341.98761523725153, 823.429836095458], 'sigma_boundaries': [1.538274032481567, 28.384052276611328]}\n",
      "fitting 394 \n",
      "{'ampl_guess': 251.0201795744568, 'sigma_guess': 10.340724742867781, 'ampl_boundaires': [286.22311085808474, 1255.100897872284], 'sigma_boundaries': [1.0340724742867782, 22.660673141479492]}\n",
      "fitting 395 \n",
      "{'ampl_guess': 244.7725608274252, 'sigma_guess': 5.663775439860039, 'ampl_boundaires': [436.65647370047867, 1223.862804137126], 'sigma_boundaries': [0.5663775439860039, 13.058735847473145]}\n",
      "fitting 396 \n",
      "{'ampl_guess': 121.32960938273479, 'sigma_guess': 9.916606109443183, 'ampl_boundaires': [209.02937496037495, 606.6480469136739], 'sigma_boundaries': [0.9916606109443183, 18.087827682495117]}\n",
      "fitting 397 \n",
      "{'ampl_guess': 75.47429679923715, 'sigma_guess': 5.536923516931651, 'ampl_boundaires': [225.07893301573134, 377.3714839961858], 'sigma_boundaries': [0.5536923516931651, 11.464177131652832]}\n",
      "{'ampl_guess': 184.0119541772736, 'sigma_guess': 13.18338688406585, 'ampl_boundaires': [347.5042934379828, 920.0597708863679], 'sigma_boundaries': [1.318338688406585, 25.40118980407715]}\n",
      "fitting 398 \n",
      "fitting 399 \n",
      "{'ampl_guess': 197.25019949700487, 'sigma_guess': 14.91760034733552, 'ampl_boundaires': [421.5058227757128, 986.2509974850243], 'sigma_boundaries': [1.491760034733552, 29.56102752685547]}\n",
      "fitting 400 \n",
      "{'ampl_guess': nan, 'sigma_guess': nan, 'ampl_boundaires': [nan, nan], 'sigma_boundaries': [nan, nan]}\n",
      "fitting 401 \n",
      "{'ampl_guess': -0.40754797747491905, 'sigma_guess': 0.0, 'ampl_boundaires': [0.8150959549498381, -2.0377398873745953], 'sigma_boundaries': [0.0, 0.0]}\n"
     ]
    },
    {
     "name": "stderr",
     "output_type": "stream",
     "text": [
      "/home/nicolas/.installs/anaconda3/lib/python3.7/site-packages/scipy/stats/_distn_infrastructure.py:1740: RuntimeWarning: divide by zero encountered in true_divide\n",
      "  x = np.asarray((x - loc)/scale, dtype=dtyp)\n",
      "/home/nicolas/.installs/anaconda3/lib/python3.7/site-packages/ztflc-0.2.2-py3.7.egg/ztflc/fitter.py:119: RuntimeWarning: divide by zero encountered in true_divide\n"
     ]
    },
    {
     "name": "stdout",
     "output_type": "stream",
     "text": [
      "{'ampl_guess': 237.79744386418236, 'sigma_guess': 14.097266784921873, 'ampl_boundaires': [406.61445580287744, 1188.987219320912], 'sigma_boundaries': [1.4097266784921874, 27.518404006958008]}\n",
      "fitting 402 \n",
      "fitting 403 \n",
      "{'ampl_guess': nan, 'sigma_guess': nan, 'ampl_boundaires': [nan, nan], 'sigma_boundaries': [nan, nan]}\n",
      "fitting 404 \n",
      "{'ampl_guess': nan, 'sigma_guess': nan, 'ampl_boundaires': [nan, nan], 'sigma_boundaries': [nan, nan]}\n",
      "{'ampl_guess': 141.34618512895082, 'sigma_guess': 13.65213235667195, 'ampl_boundaires': [381.0154915993411, 706.7309256447542], 'sigma_boundaries': [1.365213235667195, 27.065933227539062]}\n",
      "{'ampl_guess': nan, 'sigma_guess': nan, 'ampl_boundaires': [nan, nan], 'sigma_boundaries': [nan, nan]}\n",
      "fitting 405 \n",
      "fitting 406 \n",
      "fitting 407 \n",
      "{'ampl_guess': nan, 'sigma_guess': nan, 'ampl_boundaires': [nan, nan], 'sigma_boundaries': [nan, nan]}\n",
      "fitting 408 \n",
      "{'ampl_guess': 93.69261364996906, 'sigma_guess': 5.684080740057602, 'ampl_boundaires': [178.33417492837415, 468.4630682498453], 'sigma_boundaries': [0.5684080740057602, 11.832326889038086]}\n",
      "fitting 409 \n",
      "{'ampl_guess': 1664.062602066669, 'sigma_guess': 5.879829079604029, 'ampl_boundaires': [174.1991141570001, 8320.313010333344], 'sigma_boundaries': [0.5879829079604029, 56.33598327636719]}\n",
      "{'ampl_guess': 299.15799127668936, 'sigma_guess': 7.815284667248316, 'ampl_boundaires': [404.66422281497523, 1495.789956383447], 'sigma_boundaries': [0.7815284667248317, 20.550704956054688]}\n",
      "fitting 410 \n",
      "fitting 411 \n",
      "{'ampl_guess': nan, 'sigma_guess': nan, 'ampl_boundaires': [nan, nan], 'sigma_boundaries': [nan, nan]}\n",
      "fitting 412 \n",
      "{'ampl_guess': 392.5842450739892, 'sigma_guess': 19.772323182767167, 'ampl_boundaires': [503.29218160985715, 1962.9212253699461], 'sigma_boundaries': [1.9772323182767166, 48.9224853515625]}\n",
      "{'ampl_guess': 106.56450898997188, 'sigma_guess': 5.994755650663377, 'ampl_boundaires': [219.8037151466917, 532.8225449498594], 'sigma_boundaries': [0.5994755650663377, 11.807696342468262]}\n",
      "fitting 413 \n",
      "fitting 414 \n",
      "{'ampl_guess': nan, 'sigma_guess': nan, 'ampl_boundaires': [nan, nan], 'sigma_boundaries': [nan, nan]}\n",
      "fitting 415 \n",
      "{'ampl_guess': 258.15004839925905, 'sigma_guess': 9.221443319485468, 'ampl_boundaires': [290.49856132492437, 1290.7502419962952], 'sigma_boundaries': [0.9221443319485468, 20.17101287841797]}\n",
      "fitting 416 \n",
      "{'ampl_guess': 158.03330096491365, 'sigma_guess': 11.851755230001764, 'ampl_boundaires': [274.976999333062, 790.1665048245683], 'sigma_boundaries': [1.1851755230001764, 22.991498947143555]}\n",
      "{'ampl_guess': 78.3166909069581, 'sigma_guess': 4.669731950117382, 'ampl_boundaires': [107.20081414490703, 391.5834545347905], 'sigma_boundaries': [0.4669731950117382, 9.816300392150879]}\n",
      "{'ampl_guess': 69.01293803975885, 'sigma_guess': 5.6229181104847274, 'ampl_boundaires': [121.4422787589554, 345.06469019879427], 'sigma_boundaries': [0.5622918110484727, 10.557183265686035]}\n",
      "fitting 418 \n",
      "fitting 417 \n",
      "fitting 419 \n",
      "{'ampl_guess': 61.33969262938412, 'sigma_guess': 4.415061690174884, 'ampl_boundaires': [110.68643153483933, 306.6984631469206], 'sigma_boundaries': [0.4415061690174884, 8.9237060546875]}\n",
      "fitting 420 \n",
      "{'ampl_guess': nan, 'sigma_guess': nan, 'ampl_boundaires': [nan, nan], 'sigma_boundaries': [nan, nan]}\n",
      "{'ampl_guess': 180.07100257481056, 'sigma_guess': 8.206606020303674, 'ampl_boundaires': [383.46532142750254, 900.3550128740528], 'sigma_boundaries': [0.8206606020303674, 18.160430908203125]}\n",
      "{'ampl_guess': 58.12280647507127, 'sigma_guess': 5.854373223575071, 'ampl_boundaires': [122.62047360410514, 290.6140323753564], 'sigma_boundaries': [0.5854373223575071, 10.207818031311035]}\n",
      "fitting 421 \n",
      "fitting 422 \n",
      "fitting 423 \n",
      "{'ampl_guess': 1036.8903313389224, 'sigma_guess': 6.9699325034597095, 'ampl_boundaires': [171.55450581796586, 5184.451656694612], 'sigma_boundaries': [0.6969932503459709, 42.28263473510742]}\n",
      "fitting 424 \n",
      "{'ampl_guess': nan, 'sigma_guess': nan, 'ampl_boundaires': [nan, nan], 'sigma_boundaries': [nan, nan]}\n",
      "{'ampl_guess': nan, 'sigma_guess': nan, 'ampl_boundaires': [nan, nan], 'sigma_boundaries': [nan, nan]}\n",
      "{'ampl_guess': 54.719508584407684, 'sigma_guess': 4.392319499448076, 'ampl_boundaires': [87.39240374879901, 273.59754292203843], 'sigma_boundaries': [0.43923194994480763, 8.782645225524902]}\n",
      "fitting 425 \n",
      "fitting 426 \n",
      "fitting 427 \n",
      "{'ampl_guess': 328.79534414826526, 'sigma_guess': 16.010209590303738, 'ampl_boundaires': [558.4334903745113, 1643.9767207413263], 'sigma_boundaries': [1.601020959030374, 33.36824417114258]}\n",
      "fitting 428 \n",
      "{'ampl_guess': nan, 'sigma_guess': nan, 'ampl_boundaires': [nan, nan], 'sigma_boundaries': [nan, nan]}\n",
      "{'ampl_guess': 211.1160198400843, 'sigma_guess': 6.777677605906398, 'ampl_boundaires': [261.8549517778926, 1055.5800992004215], 'sigma_boundaries': [0.6777677605906398, 15.218422889709473]}\n",
      "fitting 429 \n",
      "fitting 430 \n",
      "{'ampl_guess': 264.18921493534185, 'sigma_guess': 22.726688511686, 'ampl_boundaires': [496.2722761073444, 1320.9460746767093], 'sigma_boundaries': [2.2726688511686, 42.56996154785156]}\n",
      "fitting 431 \n",
      "{'ampl_guess': 880.4609075827832, 'sigma_guess': 5.552280805288716, 'ampl_boundaires': [218.38340975194458, 4402.304537913916], 'sigma_boundaries': [0.5552280805288716, 23.981563568115234]}\n",
      "fitting 432 \n",
      "{'ampl_guess': 114.29012084682648, 'sigma_guess': 7.954474453105743, 'ampl_boundaires': [167.55310307432768, 571.4506042341324], 'sigma_boundaries': [0.7954474453105743, 16.537763595581055]}\n",
      "{'ampl_guess': 2253.84282993876, 'sigma_guess': 6.048430161731531, 'ampl_boundaires': [220.27389918874553, 11269.2141496938], 'sigma_boundaries': [0.6048430161731531, 54.36894226074219]}\n",
      "fitting 433 \n",
      "{'ampl_guess': nan, 'sigma_guess': nan, 'ampl_boundaires': [nan, nan], 'sigma_boundaries': [nan, nan]}\n",
      "fitting 434 \n",
      "fitting 435 \n",
      "{'ampl_guess': 1672.8462045143688, 'sigma_guess': 5.596008038088303, 'ampl_boundaires': [198.54296656195223, 8364.231022571843], 'sigma_boundaries': [0.5596008038088303, 46.7791862487793]}\n",
      "fitting 436 \n",
      "{'ampl_guess': 150.64489402636679, 'sigma_guess': 7.286465990165242, 'ampl_boundaires': [230.14525882053306, 753.224470131834], 'sigma_boundaries': [0.7286465990165242, 15.150592803955078]}\n",
      "fitting 437 \n",
      "{'ampl_guess': 278.22043923920074, 'sigma_guess': 10.046015813031511, 'ampl_boundaires': [406.88169536212496, 1391.1021961960037], 'sigma_boundaries': [1.004601581303151, 21.217578887939453]}\n",
      "{'ampl_guess': nan, 'sigma_guess': nan, 'ampl_boundaires': [nan, nan], 'sigma_boundaries': [nan, nan]}\n",
      "fitting 438 \n",
      "fitting 439 \n",
      "{'ampl_guess': 203.41485808889007, 'sigma_guess': 7.592479207661111, 'ampl_boundaires': [256.1950917695124, 1017.0742904444503], 'sigma_boundaries': [0.7592479207661111, 16.365468978881836]}\n",
      "fitting 440 \n",
      "{'ampl_guess': 301.7037473699994, 'sigma_guess': 7.425298761309217, 'ampl_boundaires': [278.72294293597963, 1508.518736849997], 'sigma_boundaries': [0.7425298761309217, 16.12596321105957]}\n",
      "fitting 441 \n",
      "{'ampl_guess': 883.1095128495319, 'sigma_guess': 6.320909446716741, 'ampl_boundaires': [694.0852009536308, 4415.5475642476595], 'sigma_boundaries': [0.6320909446716741, 30.880773544311523]}\n",
      "fitting 442 \n",
      "{'ampl_guess': 791.8588499166316, 'sigma_guess': 5.777464477739391, 'ampl_boundaires': [738.8744286895597, 3959.294249583158], 'sigma_boundaries': [0.5777464477739391, 26.986923217773438]}\n",
      "fitting 443 \n",
      "{'ampl_guess': nan, 'sigma_guess': nan, 'ampl_boundaires': [nan, nan], 'sigma_boundaries': [nan, nan]}\n",
      "fitting 444 \n",
      "{'ampl_guess': 2724.8254925732385, 'sigma_guess': 8.752217114195908, 'ampl_boundaires': [628.0881600201096, 13624.127462866194], 'sigma_boundaries': [0.8752217114195908, 83.39718627929688]}\n",
      "fitting 445 \n",
      "{'ampl_guess': nan, 'sigma_guess': nan, 'ampl_boundaires': [nan, nan], 'sigma_boundaries': [nan, nan]}\n",
      "fitting 446 \n",
      "{'ampl_guess': nan, 'sigma_guess': nan, 'ampl_boundaires': [nan, nan], 'sigma_boundaries': [nan, nan]}\n",
      "fitting 447 \n",
      "{'ampl_guess': nan, 'sigma_guess': nan, 'ampl_boundaires': [nan, nan], 'sigma_boundaries': [nan, nan]}\n",
      "{'ampl_guess': 266.56358123832865, 'sigma_guess': 6.100764983924454, 'ampl_boundaires': [184.28120176240643, 1332.8179061916433], 'sigma_boundaries': [0.6100764983924454, 13.91882038116455]}\n",
      "fitting 448 \n",
      "fitting 449 \n",
      "{'ampl_guess': 107.77003211121756, 'sigma_guess': 5.147467477384101, 'ampl_boundaires': [162.9955919048015, 538.8501605560879], 'sigma_boundaries': [0.5147467477384101, 10.525418281555176]}\n",
      "fitting 450 \n",
      "{'ampl_guess': 54.36329435438591, 'sigma_guess': 5.041424563531165, 'ampl_boundaires': [127.37181664372962, 271.8164717719295], 'sigma_boundaries': [0.5041424563531165, 10.277480125427246]}\n",
      "fitting 451 \n",
      "{'ampl_guess': 73.32139662734139, 'sigma_guess': 4.8384334205405475, 'ampl_boundaires': [133.72981944228383, 366.60698313670696], 'sigma_boundaries': [0.48384334205405477, 10.708465576171875]}\n",
      "fitting 452 \n",
      "{'ampl_guess': nan, 'sigma_guess': nan, 'ampl_boundaires': [nan, nan], 'sigma_boundaries': [nan, nan]}\n",
      "fitting 453 \n",
      "{'ampl_guess': 227.44012284409945, 'sigma_guess': 6.680062713650329, 'ampl_boundaires': [289.95662382456965, 1137.2006142204973], 'sigma_boundaries': [0.668006271365033, 15.158309936523438]}\n",
      "fitting 454 \n",
      "{'ampl_guess': 193.39262877892133, 'sigma_guess': 5.913159054204132, 'ampl_boundaires': [213.75888789001797, 966.9631438946067], 'sigma_boundaries': [0.5913159054204132, 14.289427757263184]}\n",
      "fitting 455 \n",
      "{'ampl_guess': nan, 'sigma_guess': nan, 'ampl_boundaires': [nan, nan], 'sigma_boundaries': [nan, nan]}\n",
      "{'ampl_guess': nan, 'sigma_guess': nan, 'ampl_boundaires': [nan, nan], 'sigma_boundaries': [nan, nan]}\n",
      "fitting 456 \n",
      "fitting 457 \n",
      "{'ampl_guess': 1135.296757068517, 'sigma_guess': 6.243365850954962, 'ampl_boundaires': [173.13904860607335, 5676.483785342586], 'sigma_boundaries': [0.6243365850954963, 43.419612884521484]}\n",
      "fitting 458 \n",
      "{'ampl_guess': nan, 'sigma_guess': nan, 'ampl_boundaires': [nan, nan], 'sigma_boundaries': [nan, nan]}\n",
      "fitting 459 \n",
      "{'ampl_guess': 3512.790761174244, 'sigma_guess': 9.184366811273605, 'ampl_boundaires': [363.64392579733635, 17563.95380587122], 'sigma_boundaries': [0.9184366811273605, 86.78660583496094]}\n",
      "fitting 460 \n",
      "{'ampl_guess': 894.0838906621353, 'sigma_guess': 5.881965158726198, 'ampl_boundaires': [193.22303664986688, 4470.4194533106765], 'sigma_boundaries': [0.5881965158726198, 24.452611923217773]}\n",
      "fitting 461 \n",
      "{'ampl_guess': 462.487909929363, 'sigma_guess': 7.318943017732118, 'ampl_boundaires': [253.298600488239, 2312.439549646815], 'sigma_boundaries': [0.7318943017732118, 20.628173828125]}\n",
      "fitting 462 \n",
      "{'ampl_guess': 76.519584235851, 'sigma_guess': 4.334797712992584, 'ampl_boundaires': [116.57521605617026, 382.597921179255], 'sigma_boundaries': [0.4334797712992584, 9.196483612060547]}\n",
      "fitting 463 \n",
      "{'ampl_guess': 132.61342398426078, 'sigma_guess': 8.677603159963923, 'ampl_boundaires': [330.81476797095763, 663.0671199213039], 'sigma_boundaries': [0.8677603159963923, 18.498987197875977]}\n",
      "fitting 464 \n",
      "{'ampl_guess': 2557.5695582058775, 'sigma_guess': 5.931275606772294, 'ampl_boundaires': [284.472858124301, 12787.847791029386], 'sigma_boundaries': [0.5931275606772294, 69.82966613769531]}\n",
      "fitting 465 \n",
      "{'ampl_guess': 64.40724859202783, 'sigma_guess': 6.1510269998998695, 'ampl_boundaires': [160.08569466023684, 322.03624296013913], 'sigma_boundaries': [0.6151026999899869, 11.601020812988281]}\n",
      "{'ampl_guess': nan, 'sigma_guess': nan, 'ampl_boundaires': [nan, nan], 'sigma_boundaries': [nan, nan]}\n",
      "fitting 466 \n",
      "fitting 467 \n",
      "{'ampl_guess': nan, 'sigma_guess': nan, 'ampl_boundaires': [nan, nan], 'sigma_boundaries': [nan, nan]}\n",
      "fitting 468 \n",
      "{'ampl_guess': 122.5163813670231, 'sigma_guess': 11.3159284601376, 'ampl_boundaires': [253.0905498824673, 612.5819068351155], 'sigma_boundaries': [1.13159284601376, 21.274871826171875]}\n",
      "fitting 469 \n",
      "{'ampl_guess': 108.93068063494111, 'sigma_guess': 3.668389453624159, 'ampl_boundaires': [156.64167209221404, 544.6534031747055], 'sigma_boundaries': [0.3668389453624159, 8.543204307556152]}\n",
      "fitting 470 \n",
      "{'ampl_guess': 128.48373707263687, 'sigma_guess': 6.262423367055014, 'ampl_boundaires': [125.99251322515444, 642.4186853631844], 'sigma_boundaries': [0.6262423367055014, 12.26309585571289]}\n",
      "{'ampl_guess': 221.2779121313887, 'sigma_guess': 6.7219592739737095, 'ampl_boundaires': [191.90806655584507, 1106.3895606569436], 'sigma_boundaries': [0.672195927397371, 14.587228775024414]}\n",
      "fitting 471 \n",
      "fitting 472 \n",
      "{'ampl_guess': nan, 'sigma_guess': nan, 'ampl_boundaires': [nan, nan], 'sigma_boundaries': [nan, nan]}\n",
      "{'ampl_guess': nan, 'sigma_guess': nan, 'ampl_boundaires': [nan, nan], 'sigma_boundaries': [nan, nan]}\n",
      "fitting 473 \n",
      "fitting 474 \n",
      "{'ampl_guess': nan, 'sigma_guess': nan, 'ampl_boundaires': [nan, nan], 'sigma_boundaries': [nan, nan]}\n",
      "{'ampl_guess': 65.7027169298923, 'sigma_guess': 6.015277987528325, 'ampl_boundaires': [114.53553985812057, 328.5135846494615], 'sigma_boundaries': [0.6015277987528325, 10.654205322265625]}\n",
      "fitting 475 \n",
      "fitting 476 \n",
      "{'ampl_guess': 51.18536390224762, 'sigma_guess': 5.096599243355645, 'ampl_boundaires': [119.58563890136357, 255.9268195112381], 'sigma_boundaries': [0.5096599243355645, 9.51672649383545]}\n",
      "{'ampl_guess': 69.70737076305903, 'sigma_guess': 5.0250131980696295, 'ampl_boundaires': [124.78757338761828, 348.53685381529516], 'sigma_boundaries': [0.502501319806963, 10.326868057250977]}\n",
      "fitting 477 \n",
      "fitting 478 \n",
      "{'ampl_guess': 208.8091232068431, 'sigma_guess': 11.975960295331808, 'ampl_boundaires': [374.28221744891096, 1044.0456160342155], 'sigma_boundaries': [1.1975960295331807, 24.898067474365234]}\n",
      "{'ampl_guess': 106.073030311506, 'sigma_guess': 8.817690784803695, 'ampl_boundaires': [194.48109355308284, 530.36515155753], 'sigma_boundaries': [0.8817690784803695, 17.70554542541504]}\n",
      "fitting 479 \n",
      "fitting 480 \n",
      "{'ampl_guess': 92.80407175775787, 'sigma_guess': 6.465693405698022, 'ampl_boundaires': [225.1266284115209, 464.0203587887894], 'sigma_boundaries': [0.6465693405698022, 13.240222930908203]}\n",
      "{'ampl_guess': 1698.9231553748275, 'sigma_guess': 5.918802361036074, 'ampl_boundaires': [151.40317241079106, 8494.615776874138], 'sigma_boundaries': [0.5918802361036074, 43.738548278808594]}\n",
      "fitting 481 \n",
      "fitting 482 \n",
      "{'ampl_guess': 109.55224114266144, 'sigma_guess': 6.212345867594868, 'ampl_boundaires': [244.17675086117666, 547.7612057133072], 'sigma_boundaries': [0.6212345867594868, 12.46473217010498]}\n",
      "fitting 483 \n",
      "{'ampl_guess': nan, 'sigma_guess': nan, 'ampl_boundaires': [nan, nan], 'sigma_boundaries': [nan, nan]}\n",
      "fitting 484 \n",
      "{'ampl_guess': 2045.8115012155406, 'sigma_guess': 6.835679418085521, 'ampl_boundaires': [229.399592751074, 10229.057506077703], 'sigma_boundaries': [0.6835679418085521, 63.70556640625]}\n",
      "fitting 485 \n",
      "{'ampl_guess': 182.88109137084845, 'sigma_guess': 7.251586713100722, 'ampl_boundaires': [261.5050006762273, 914.4054568542423], 'sigma_boundaries': [0.7251586713100722, 15.823251724243164]}\n",
      "fitting 486 \n",
      "{'ampl_guess': nan, 'sigma_guess': nan, 'ampl_boundaires': [nan, nan], 'sigma_boundaries': [nan, nan]}\n",
      "fitting 487 \n",
      "{'ampl_guess': 1524.0070421083876, 'sigma_guess': 7.142420804204867, 'ampl_boundaires': [200.18809435962723, 7620.035210541939], 'sigma_boundaries': [0.7142420804204866, 41.617733001708984]}\n",
      "fitting 488 \n",
      "{'ampl_guess': nan, 'sigma_guess': nan, 'ampl_boundaires': [nan, nan], 'sigma_boundaries': [nan, nan]}\n",
      "fitting 489 \n",
      "{'ampl_guess': nan, 'sigma_guess': nan, 'ampl_boundaires': [nan, nan], 'sigma_boundaries': [nan, nan]}\n",
      "fitting 490 \n",
      "{'ampl_guess': 76.12299912350694, 'sigma_guess': 4.988751814540162, 'ampl_boundaires': [172.81891190779055, 380.6149956175347], 'sigma_boundaries': [0.4988751814540162, 10.72753620147705]}\n",
      "fitting 491 \n",
      "{'ampl_guess': 162.54849059840043, 'sigma_guess': 17.110851310844712, 'ampl_boundaires': [387.852379885452, 812.7424529920022], 'sigma_boundaries': [1.7110851310844712, 29.58371353149414]}\n",
      "fitting 492 \n",
      "{'ampl_guess': nan, 'sigma_guess': nan, 'ampl_boundaires': [nan, nan], 'sigma_boundaries': [nan, nan]}\n",
      "{'ampl_guess': 221.28571474625724, 'sigma_guess': 8.778584594923869, 'ampl_boundaires': [343.48617626935663, 1106.4285737312862], 'sigma_boundaries': [0.8778584594923868, 19.09480857849121]}\n",
      "fitting 493 \n",
      "fitting 494 \n",
      "{'ampl_guess': 558.0626749276951, 'sigma_guess': 9.435389158500435, 'ampl_boundaires': [255.8456378933044, 2790.3133746384756], 'sigma_boundaries': [0.9435389158500435, 28.352949142456055]}\n",
      "{'ampl_guess': 152.74010648318668, 'sigma_guess': 14.643052497891775, 'ampl_boundaires': [380.2341591653481, 763.7005324159335], 'sigma_boundaries': [1.4643052497891775, 28.683408737182617]}\n",
      "fitting 495 \n",
      "fitting 496 \n",
      "{'ampl_guess': nan, 'sigma_guess': nan, 'ampl_boundaires': [nan, nan], 'sigma_boundaries': [nan, nan]}\n",
      "fitting 497 \n",
      "{'ampl_guess': nan, 'sigma_guess': nan, 'ampl_boundaires': [nan, nan], 'sigma_boundaries': [nan, nan]}\n",
      "fitting 498 \n",
      "{'ampl_guess': nan, 'sigma_guess': nan, 'ampl_boundaires': [nan, nan], 'sigma_boundaries': [nan, nan]}\n",
      "{'ampl_guess': 2643.9396090422806, 'sigma_guess': 5.6020688046990434, 'ampl_boundaires': [533.4729636581598, 13219.698045211404], 'sigma_boundaries': [0.5602068804699043, 82.28890991210938]}\n"
     ]
    },
    {
     "name": "stderr",
     "output_type": "stream",
     "text": [
      "/home/nicolas/.installs/anaconda3/lib/python3.7/site-packages/ztflc-0.2.2-py3.7.egg/ztflc/fitter.py:136: RuntimeWarning: divide by zero encountered in log\n"
     ]
    },
    {
     "name": "stdout",
     "output_type": "stream",
     "text": [
      "fitting 499 \n",
      "fitting 500 \n",
      "{'ampl_guess': 93.06829927817749, 'sigma_guess': 5.463513515287801, 'ampl_boundaires': [154.4577144532925, 465.3414963908874], 'sigma_boundaries': [0.5463513515287801, 10.767170906066895]}\n",
      "fitting 501 \n",
      "{'ampl_guess': 97.13579475952565, 'sigma_guess': 7.953890504287305, 'ampl_boundaires': [154.46099422890512, 485.67897379762826], 'sigma_boundaries': [0.7953890504287304, 15.622358322143555]}\n",
      "fitting 502 \n",
      "{'ampl_guess': nan, 'sigma_guess': nan, 'ampl_boundaires': [nan, nan], 'sigma_boundaries': [nan, nan]}\n",
      "fitting 503 \n",
      "{'ampl_guess': nan, 'sigma_guess': nan, 'ampl_boundaires': [nan, nan], 'sigma_boundaries': [nan, nan]}\n",
      "fitting 504 \n",
      "{'ampl_guess': 118.03236394489839, 'sigma_guess': 7.847154416322409, 'ampl_boundaires': [219.6542797727143, 590.1618197244919], 'sigma_boundaries': [0.7847154416322409, 17.120698928833008]}\n",
      "fitting 505 \n",
      "{'ampl_guess': 120.58592265307693, 'sigma_guess': 6.4382478112314185, 'ampl_boundaires': [235.35687007914925, 602.9296132653847], 'sigma_boundaries': [0.6438247811231419, 13.935746192932129]}\n",
      "fitting 506 \n",
      "{'ampl_guess': 51.971042277978015, 'sigma_guess': 4.589820038929733, 'ampl_boundaires': [159.18235074864268, 259.8552113898901], 'sigma_boundaries': [0.4589820038929733, 9.372357368469238]}\n",
      "{'ampl_guess': nan, 'sigma_guess': nan, 'ampl_boundaires': [nan, nan], 'sigma_boundaries': [nan, nan]}\n",
      "fitting 507 \n",
      "fitting 508 \n",
      "{'ampl_guess': 1153.4252912571067, 'sigma_guess': 5.407045098976949, 'ampl_boundaires': [186.04910599992465, 5767.126456285534], 'sigma_boundaries': [0.5407045098976949, 40.561431884765625]}\n",
      "fitting 509 \n",
      "{'ampl_guess': nan, 'sigma_guess': nan, 'ampl_boundaires': [nan, nan], 'sigma_boundaries': [nan, nan]}\n",
      "fitting 510 \n",
      "{'ampl_guess': 80.53473717578937, 'sigma_guess': 5.225620825998062, 'ampl_boundaires': [140.20662087702277, 402.67368587894686], 'sigma_boundaries': [0.5225620825998062, 11.402152061462402]}\n",
      "{'ampl_guess': nan, 'sigma_guess': nan, 'ampl_boundaires': [nan, nan], 'sigma_boundaries': [nan, nan]}\n",
      "fitting 511 \n",
      "fitting 512 \n",
      "{'ampl_guess': 69.32163377150954, 'sigma_guess': 5.611989218494124, 'ampl_boundaires': [143.97854451008482, 346.6081688575477], 'sigma_boundaries': [0.5611989218494123, 11.499527931213379]}\n",
      "fitting 513 \n",
      "{'ampl_guess': 114.89175408814235, 'sigma_guess': 7.579243505749728, 'ampl_boundaires': [195.689064553503, 574.4587704407118], 'sigma_boundaries': [0.7579243505749729, 15.44678020477295]}\n",
      "fitting 514 \n"
     ]
    },
    {
     "name": "stderr",
     "output_type": "stream",
     "text": [
      "/home/nicolas/.installs/anaconda3/lib/python3.7/site-packages/ztflc-0.2.2-py3.7.egg/ztflc/forcephotometry.py:275: UserWarning: Shape of diffimg and psfimg do notcorrespond (index: 512). Skipping.\n"
     ]
    },
    {
     "name": "stdout",
     "output_type": "stream",
     "text": [
      "fitting 515 \n",
      "{'ampl_guess': 44.53975920576627, 'sigma_guess': 6.0438320950062, 'ampl_boundaires': [89.15855813518863, 222.69879602883134], 'sigma_boundaries': [0.6043832095006201, 9.751327514648438]}\n",
      "fitting 516 \n",
      "{'ampl_guess': 58.00112488743693, 'sigma_guess': 7.3734298256433535, 'ampl_boundaires': [115.39448727359385, 290.0056244371847], 'sigma_boundaries': [0.7373429825643354, 13.175010681152344]}\n",
      "fitting 517 \n",
      "{'ampl_guess': 104.75115643325002, 'sigma_guess': 5.784888969859536, 'ampl_boundaires': [346.78067740514985, 523.75578216625], 'sigma_boundaries': [0.5784888969859536, 13.38766098022461]}\n",
      "fitting 518 \n",
      "{'ampl_guess': 251.90665606861455, 'sigma_guess': 17.84865438286551, 'ampl_boundaires': [453.29715632835126, 1259.5332803430729], 'sigma_boundaries': [1.7848654382865512, 34.04697036743164]}\n",
      "fitting 519 \n",
      "{'ampl_guess': 130.42399686530885, 'sigma_guess': 12.248158210305228, 'ampl_boundaires': [263.83234092538635, 652.1199843265442], 'sigma_boundaries': [1.2248158210305227, 24.558313369750977]}\n",
      "fitting 520 \n",
      "{'ampl_guess': 66.04323030989674, 'sigma_guess': 5.455677926027315, 'ampl_boundaires': [123.46716249965014, 330.2161515494837], 'sigma_boundaries': [0.5455677926027315, 10.555392265319824]}\n",
      "fitting 521 \n",
      "{'ampl_guess': 195.4385202951874, 'sigma_guess': 18.797475066291142, 'ampl_boundaires': [345.4225251925663, 977.192601475937], 'sigma_boundaries': [1.8797475066291143, 31.042068481445312]}\n",
      "fitting 522 \n",
      "{'ampl_guess': 78.93845221726697, 'sigma_guess': 6.064085787136273, 'ampl_boundaires': [122.5416059969535, 394.69226108633484], 'sigma_boundaries': [0.6064085787136273, 11.067678451538086]}\n",
      "fitting 523 \n",
      "{'ampl_guess': nan, 'sigma_guess': nan, 'ampl_boundaires': [nan, nan], 'sigma_boundaries': [nan, nan]}\n",
      "fitting 524 \n",
      "{'ampl_guess': 263.00377207294906, 'sigma_guess': 19.999694188927585, 'ampl_boundaires': [678.817243069052, 1315.0188603647453], 'sigma_boundaries': [1.9999694188927584, 42.066349029541016]}\n",
      "{'ampl_guess': 130.50056958573444, 'sigma_guess': 6.155392476841585, 'ampl_boundaires': [195.75636210674415, 652.5028479286722], 'sigma_boundaries': [0.6155392476841585, 12.910451889038086]}\n",
      "fitting 525 \n",
      "fitting 526 \n",
      "{'ampl_guess': 72.94891738764879, 'sigma_guess': 4.704935721743237, 'ampl_boundaires': [132.1930581082181, 364.74458693824397], 'sigma_boundaries': [0.47049357217432364, 9.833878517150879]}\n",
      "fitting 527 \n",
      "{'ampl_guess': 24.097376789561242, 'sigma_guess': 4.143946837658906, 'ampl_boundaires': [586.3802001950123, 120.4868839478062], 'sigma_boundaries': [0.4143946837658906, 13.771819114685059]}\n",
      "fitting 528 \n",
      "{'ampl_guess': 126.19136515996594, 'sigma_guess': 6.249794236676585, 'ampl_boundaires': [215.91912213740903, 630.9568257998297], 'sigma_boundaries': [0.6249794236676585, 13.210165023803711]}\n",
      "fitting 529 \n",
      "{'ampl_guess': 138.36870347030424, 'sigma_guess': 11.19692379130687, 'ampl_boundaires': [244.1367815840314, 691.8435173515212], 'sigma_boundaries': [1.119692379130687, 21.864578247070312]}\n",
      "fitting 530 \n",
      "{'ampl_guess': 113.25371175323401, 'sigma_guess': 11.5547663547182, 'ampl_boundaires': [235.62219723279176, 566.26855876617], 'sigma_boundaries': [1.15547663547182, 20.16813850402832]}\n",
      "fitting 531 \n",
      "{'ampl_guess': 120.6985346571294, 'sigma_guess': 11.768085827325011, 'ampl_boundaires': [238.12859601875016, 603.492673285647], 'sigma_boundaries': [1.1768085827325012, 21.977073669433594]}\n",
      "fitting 532 \n",
      "{'ampl_guess': 56.003798911510735, 'sigma_guess': 4.388930334029682, 'ampl_boundaires': [111.79625787960909, 280.01899455755364], 'sigma_boundaries': [0.43889303340296826, 8.75102424621582]}\n",
      "fitting 533 \n"
     ]
    },
    {
     "name": "stderr",
     "output_type": "stream",
     "text": [
      "/home/nicolas/.installs/anaconda3/lib/python3.7/site-packages/ztflc-0.2.2-py3.7.egg/ztflc/forcephotometry.py:275: UserWarning: Shape of diffimg and psfimg do notcorrespond (index: 530). Skipping.\n"
     ]
    },
    {
     "name": "stdout",
     "output_type": "stream",
     "text": [
      "fitting 534 \n"
     ]
    },
    {
     "name": "stderr",
     "output_type": "stream",
     "text": [
      "/home/nicolas/.installs/anaconda3/lib/python3.7/site-packages/ztflc-0.2.2-py3.7.egg/ztflc/forcephotometry.py:275: UserWarning: Shape of diffimg and psfimg do notcorrespond (index: 531). Skipping.\n"
     ]
    },
    {
     "name": "stdout",
     "output_type": "stream",
     "text": [
      "fitting 535 \n",
      "{'ampl_guess': 165.44127181280004, 'sigma_guess': 12.232572573923518, 'ampl_boundaires': [362.8629375963523, 827.2063590640001], 'sigma_boundaries': [1.2232572573923517, 24.431720733642578]}\n",
      "fitting 536 \n",
      "{'ampl_guess': 45.483660459229206, 'sigma_guess': 3.652612231128894, 'ampl_boundaires': [112.78218902725666, 227.418302296146], 'sigma_boundaries': [0.36526122311288944, 8.077987670898438]}\n",
      "fitting 537 \n",
      "{'ampl_guess': 46.49418992397155, 'sigma_guess': 4.277799783770098, 'ampl_boundaires': [80.62039382283888, 232.47094961985772], 'sigma_boundaries': [0.42777997837700976, 8.379925727844238]}\n",
      "{'ampl_guess': 6.8732269807403465, 'sigma_guess': 1.1774665148970043, 'ampl_boundaires': [13.93210432134994, 34.366134903701735], 'sigma_boundaries': [0.11774665148970043, 1.752612829208374]}\n",
      "fitting 538 \n",
      "fitting 539 \n",
      "{'ampl_guess': 60.81110372015254, 'sigma_guess': 3.4583011409140467, 'ampl_boundaires': [128.5608165805478, 304.0555186007627], 'sigma_boundaries': [0.3458301140914047, 7.618430137634277]}\n",
      "fitting 540 \n",
      "{'ampl_guess': 192.27846127342815, 'sigma_guess': 14.675089089485422, 'ampl_boundaires': [403.89757765602894, 961.3923063671408], 'sigma_boundaries': [1.4675089089485422, 29.858165740966797]}\n",
      "fitting 541 \n",
      "{'ampl_guess': nan, 'sigma_guess': nan, 'ampl_boundaires': [nan, nan], 'sigma_boundaries': [nan, nan]}\n",
      "fitting 542 \n",
      "{'ampl_guess': 161.98886334619917, 'sigma_guess': 12.359303606721213, 'ampl_boundaires': [326.8837035054726, 809.9443167309958], 'sigma_boundaries': [1.2359303606721213, 27.0186824798584]}\n",
      "fitting 543 \n",
      "{'ampl_guess': 86.54078084679301, 'sigma_guess': 6.089673491173269, 'ampl_boundaires': [387.139014346662, 432.70390423396503], 'sigma_boundaries': [0.6089673491173269, 14.389841079711914]}\n",
      "{'ampl_guess': 101.90339324679293, 'sigma_guess': 6.1508354137863135, 'ampl_boundaires': [217.76101734778607, 509.51696623396464], 'sigma_boundaries': [0.6150835413786313, 12.691801071166992]}\n",
      "fitting 544 \n",
      "fitting 545 \n"
     ]
    },
    {
     "name": "stderr",
     "output_type": "stream",
     "text": [
      "/home/nicolas/.installs/anaconda3/lib/python3.7/site-packages/ztflc-0.2.2-py3.7.egg/ztflc/forcephotometry.py:275: UserWarning: Shape of diffimg and psfimg do notcorrespond (index: 542). Skipping.\n"
     ]
    },
    {
     "name": "stdout",
     "output_type": "stream",
     "text": [
      "fitting 546 \n",
      "{'ampl_guess': 199.7915570574233, 'sigma_guess': 12.290899587623805, 'ampl_boundaires': [245.14802341986163, 998.9577852871164], 'sigma_boundaries': [1.2290899587623805, 24.837570190429688]}\n",
      "fitting 547 \n",
      "{'ampl_guess': 155.40214639931082, 'sigma_guess': 10.439125774453272, 'ampl_boundaires': [258.03983646424086, 777.0107319965541], 'sigma_boundaries': [1.0439125774453273, 21.09994125366211]}\n",
      "fitting 548 \n",
      "{'ampl_guess': 200.96596533947505, 'sigma_guess': 18.437421839495723, 'ampl_boundaires': [414.6407456309836, 1004.8298266973753], 'sigma_boundaries': [1.8437421839495722, 34.06515884399414]}\n",
      "{'ampl_guess': 80.02416312735723, 'sigma_guess': 5.7663174886416595, 'ampl_boundaires': [92.19971333845483, 400.1208156367861], 'sigma_boundaries': [0.5766317488641659, 10.521954536437988]}\n",
      "fitting 549 \n",
      "fitting 550 \n",
      "{'ampl_guess': 133.42409272023497, 'sigma_guess': 12.715679228488161, 'ampl_boundaires': [264.9503332420896, 667.1204636011748], 'sigma_boundaries': [1.2715679228488161, 24.270288467407227]}\n",
      "fitting 551 \n",
      "{'ampl_guess': 52.988623738388924, 'sigma_guess': 4.44443869889327, 'ampl_boundaires': [103.27976112276438, 264.9431186919446], 'sigma_boundaries': [0.44444386988932705, 8.279387474060059]}\n",
      "{'ampl_guess': 158.38367279581206, 'sigma_guess': 10.744561405769161, 'ampl_boundaires': [243.62073805556886, 791.9183639790602], 'sigma_boundaries': [1.0744561405769162, 19.238407135009766]}\n",
      "{'ampl_guess': 73.49572196026833, 'sigma_guess': 4.9307683833165825, 'ampl_boundaires': [132.97140718946721, 367.47860980134163], 'sigma_boundaries': [0.4930768383316583, 9.902782440185547]}\n",
      "fitting 552 \n",
      "fitting 553 \n",
      "fitting 554 \n",
      "{'ampl_guess': 44.26834104027173, 'sigma_guess': 5.2763165618283345, 'ampl_boundaires': [87.65521608907089, 221.34170520135865], 'sigma_boundaries': [0.5276316561828335, 8.743744850158691]}\n",
      "fitting 555 \n",
      "{'ampl_guess': 126.39771372474918, 'sigma_guess': 8.556572344264373, 'ampl_boundaires': [313.9859811277738, 631.9885686237459], 'sigma_boundaries': [0.8556572344264373, 17.858102798461914]}\n",
      "{'ampl_guess': 125.10613235127693, 'sigma_guess': 7.100515760363543, 'ampl_boundaires': [253.02447626881334, 625.5306617563847], 'sigma_boundaries': [0.7100515760363544, 14.166446685791016]}\n",
      "fitting 556 \n",
      "{'ampl_guess': 71.73736540773324, 'sigma_guess': 7.813971135886744, 'ampl_boundaires': [1066.6067430582104, 358.6868270386662], 'sigma_boundaries': [0.7813971135886744, 27.08575439453125]}\n",
      "fitting 557 \n",
      "fitting 558 \n",
      "{'ampl_guess': nan, 'sigma_guess': nan, 'ampl_boundaires': [nan, nan], 'sigma_boundaries': [nan, nan]}\n",
      "fitting 559 \n",
      "{'ampl_guess': nan, 'sigma_guess': nan, 'ampl_boundaires': [nan, nan], 'sigma_boundaries': [nan, nan]}\n",
      "fitting 560 \n",
      "{'ampl_guess': 49.18862121003096, 'sigma_guess': 4.0332609651315225, 'ampl_boundaires': [275.02758246131515, 245.9431060501548], 'sigma_boundaries': [0.40332609651315227, 11.131006240844727]}\n",
      "{'ampl_guess': nan, 'sigma_guess': nan, 'ampl_boundaires': [nan, nan], 'sigma_boundaries': [nan, nan]}\n",
      "fitting 561 \n",
      "fitting 562 \n",
      "{'ampl_guess': 92.53306475946842, 'sigma_guess': 6.720504350646414, 'ampl_boundaires': [477.53073942611707, 462.66532379734207], 'sigma_boundaries': [0.6720504350646415, 17.612606048583984]}\n",
      "{'ampl_guess': 67.281637245521, 'sigma_guess': 5.068359026041676, 'ampl_boundaires': [211.6548401193028, 336.408186227605], 'sigma_boundaries': [0.5068359026041677, 10.261402130126953]}\n",
      "{'ampl_guess': 41.52755304234628, 'sigma_guess': 5.239412551814654, 'ampl_boundaires': [81.0125995263474, 207.63776521173136], 'sigma_boundaries': [0.5239412551814654, 8.48723316192627]}\n",
      "{'ampl_guess': nan, 'sigma_guess': nan, 'ampl_boundaires': [nan, nan], 'sigma_boundaries': [nan, nan]}\n"
     ]
    }
   ],
   "source": [
    "# and run the forcephotometry\n",
    "fp_20aaocqkr.run_forcefit(verbose=True, force_refit=True, no_badsub=False)"
   ]
  },
  {
   "cell_type": "code",
   "execution_count": 8,
   "metadata": {},
   "outputs": [],
   "source": [
    "fp_20aaocqkr.store('../Data/ztf/forcephotometry/ZTF20aaocqkr_with_badsub.csv')"
   ]
  },
  {
   "cell_type": "code",
   "execution_count": 8,
   "metadata": {},
   "outputs": [
    {
     "data": {
      "text/html": [
       "<div>\n",
       "<style scoped>\n",
       "    .dataframe tbody tr th:only-of-type {\n",
       "        vertical-align: middle;\n",
       "    }\n",
       "\n",
       "    .dataframe tbody tr th {\n",
       "        vertical-align: top;\n",
       "    }\n",
       "\n",
       "    .dataframe thead th {\n",
       "        text-align: right;\n",
       "    }\n",
       "</style>\n",
       "<table border=\"1\" class=\"dataframe\">\n",
       "  <thead>\n",
       "    <tr style=\"text-align: right;\">\n",
       "      <th></th>\n",
       "      <th>sigma</th>\n",
       "      <th>sigma.err</th>\n",
       "      <th>ampl</th>\n",
       "      <th>ampl.err</th>\n",
       "      <th>fval</th>\n",
       "      <th>chi2</th>\n",
       "      <th>chi2dof</th>\n",
       "      <th>filename</th>\n",
       "      <th>humidity</th>\n",
       "      <th>filter</th>\n",
       "      <th>...</th>\n",
       "      <th>seeing</th>\n",
       "      <th>maglim</th>\n",
       "      <th>status</th>\n",
       "      <th>filterid</th>\n",
       "      <th>fieldid</th>\n",
       "      <th>moonalt</th>\n",
       "      <th>moonillf</th>\n",
       "      <th>target_x</th>\n",
       "      <th>target_y</th>\n",
       "      <th>data_hasnan</th>\n",
       "    </tr>\n",
       "  </thead>\n",
       "  <tbody>\n",
       "  </tbody>\n",
       "</table>\n",
       "<p>0 rows × 40 columns</p>\n",
       "</div>"
      ],
      "text/plain": [
       "Empty DataFrame\n",
       "Columns: [sigma, sigma.err, ampl, ampl.err, fval, chi2, chi2dof, filename, humidity, filter, obsmjd, ccdid, amp_id, gain, readnoi, darkcur, magzp, magzpunc, magzprms, clrcoeff, clrcounc, zpclrcov, zpmed, zpavg, zprmsall, clrmed, clravg, clrrms, qid, rcid, seeing, maglim, status, filterid, fieldid, moonalt, moonillf, target_x, target_y, data_hasnan]\n",
       "Index: []\n",
       "\n",
       "[0 rows x 40 columns]"
      ]
     },
     "execution_count": 8,
     "metadata": {},
     "output_type": "execute_result"
    }
   ],
   "source": [
    "df = fp_20aaocqkr._data_forcefit\n",
    "#df = pd.read_csv('../Data/ztf/forcephotometry/hand_ZTF20aanakcd_latest.csv')\n",
    "df[np.abs(df['ampl']) > 10000]\n",
    "#df"
   ]
  },
  {
   "cell_type": "code",
   "execution_count": 9,
   "metadata": {},
   "outputs": [
    {
     "data": {
      "application/vnd.jupyter.widget-view+json": {
       "model_id": "",
       "version_major": 2,
       "version_minor": 0
      },
      "text/plain": [
       "Canvas(toolbar=Toolbar(toolitems=[('Home', 'Reset original view', 'home', 'home'), ('Back', 'Back to previous …"
      ]
     },
     "metadata": {},
     "output_type": "display_data"
    },
    {
     "data": {
      "text/plain": [
       "<matplotlib.axes._subplots.AxesSubplot at 0x7f99cb198dd0>"
      ]
     },
     "execution_count": 9,
     "metadata": {},
     "output_type": "execute_result"
    }
   ],
   "source": [
    "%matplotlib widget\n",
    "plt.close()\n",
    "fp_20aaocqkr.show_lc()"
   ]
  },
  {
   "cell_type": "markdown",
   "metadata": {},
   "source": [
    "# Hand test of _forcefit_"
   ]
  },
  {
   "cell_type": "code",
   "execution_count": 26,
   "metadata": {
    "collapsed": true,
    "jupyter": {
     "outputs_hidden": true
    }
   },
   "outputs": [
    {
     "name": "stderr",
     "output_type": "stream",
     "text": [
      "/home/nicolas/.installs/anaconda3/lib/python3.7/site-packages/numpy/core/fromnumeric.py:3257: RuntimeWarning: Mean of empty slice.\n",
      "  out=out, **kwargs)\n",
      "/home/nicolas/.installs/anaconda3/lib/python3.7/site-packages/numpy/core/_methods.py:161: RuntimeWarning: invalid value encountered in true_divide\n",
      "  ret = ret.dtype.type(ret / rcount)\n",
      "/home/nicolas/.installs/anaconda3/lib/python3.7/site-packages/ztflc-0.2.2-py3.7.egg/ztflc/diffdata.py:34: RuntimeWarning: All-NaN slice encountered\n",
      "/home/nicolas/.installs/anaconda3/lib/python3.7/site-packages/ztflc-0.2.2-py3.7.egg/ztflc/diffdata.py:37: RuntimeWarning: All-NaN slice encountered\n",
      "/home/nicolas/.installs/anaconda3/lib/python3.7/site-packages/ztflc-0.2.2-py3.7.egg/ztflc/diffdata.py:38: RuntimeWarning: All-NaN slice encountered\n",
      "/home/nicolas/.installs/anaconda3/lib/python3.7/site-packages/numpy/lib/nanfunctions.py:1666: RuntimeWarning: Degrees of freedom <= 0 for slice.\n",
      "  keepdims=keepdims)\n",
      "/home/nicolas/.installs/anaconda3/lib/python3.7/site-packages/scipy/stats/_distn_infrastructure.py:899: RuntimeWarning: invalid value encountered in greater_equal\n",
      "  return (a <= x) & (x <= b)\n",
      "/home/nicolas/.installs/anaconda3/lib/python3.7/site-packages/scipy/stats/_distn_infrastructure.py:899: RuntimeWarning: invalid value encountered in less_equal\n",
      "  return (a <= x) & (x <= b)\n",
      "/home/nicolas/.installs/anaconda3/lib/python3.7/site-packages/ztflc-0.2.2-py3.7.egg/ztflc/fitter.py:42: UserWarning: migrad is not valid\n",
      "/home/nicolas/.installs/anaconda3/lib/python3.7/site-packages/ztflc-0.2.2-py3.7.egg/ztflc/fitter.py:168: UserWarning: Inaccurate covariance Matrix. Only trace defined\n"
     ]
    },
    {
     "name": "stdout",
     "output_type": "stream",
     "text": [
      "{'ampl_guess': nan, 'sigma_guess': nan, 'ampl_boundaires': [nan, nan], 'sigma_boundaries': [nan, nan]}\n",
      "{'ampl_guess': nan, 'sigma_guess': nan, 'ampl_boundaires': [nan, nan], 'sigma_boundaries': [nan, nan]}\n",
      "{'ampl_guess': nan, 'sigma_guess': nan, 'ampl_boundaires': [nan, nan], 'sigma_boundaries': [nan, nan]}\n",
      "{'ampl_guess': nan, 'sigma_guess': nan, 'ampl_boundaires': [nan, nan], 'sigma_boundaries': [nan, nan]}\n",
      "{'ampl_guess': nan, 'sigma_guess': nan, 'ampl_boundaires': [nan, nan], 'sigma_boundaries': [nan, nan]}\n",
      "{'ampl_guess': nan, 'sigma_guess': nan, 'ampl_boundaires': [nan, nan], 'sigma_boundaries': [nan, nan]}\n",
      "{'ampl_guess': nan, 'sigma_guess': nan, 'ampl_boundaires': [nan, nan], 'sigma_boundaries': [nan, nan]}\n",
      "{'ampl_guess': nan, 'sigma_guess': nan, 'ampl_boundaires': [nan, nan], 'sigma_boundaries': [nan, nan]}\n",
      "{'ampl_guess': nan, 'sigma_guess': nan, 'ampl_boundaires': [nan, nan], 'sigma_boundaries': [nan, nan]}\n",
      "{'ampl_guess': nan, 'sigma_guess': nan, 'ampl_boundaires': [nan, nan], 'sigma_boundaries': [nan, nan]}\n",
      "{'ampl_guess': 518.8396184495557, 'sigma_guess': 26.851290100594607, 'ampl_boundaires': [1368.0474581612934, 2594.1980922477783], 'sigma_boundaries': [2.6851290100594607, 56.693939208984375]}\n",
      "{'ampl_guess': nan, 'sigma_guess': nan, 'ampl_boundaires': [nan, nan], 'sigma_boundaries': [nan, nan]}\n",
      "{'ampl_guess': nan, 'sigma_guess': nan, 'ampl_boundaires': [nan, nan], 'sigma_boundaries': [nan, nan]}\n",
      "{'ampl_guess': 124.52311637852607, 'sigma_guess': 4.636919823591741, 'ampl_boundaires': [318.9066581216961, 622.6155818926304], 'sigma_boundaries': [0.46369198235917414, 10.591269493103027]}\n",
      "{'ampl_guess': nan, 'sigma_guess': nan, 'ampl_boundaires': [nan, nan], 'sigma_boundaries': [nan, nan]}\n",
      "{'ampl_guess': 120.58592265307693, 'sigma_guess': 6.4382478112314185, 'ampl_boundaires': [235.35687007914925, 602.9296132653847], 'sigma_boundaries': [0.6438247811231419, 13.935746192932129]}\n",
      "{'ampl_guess': 126.19136515996594, 'sigma_guess': 6.249794236676585, 'ampl_boundaires': [215.91912213740903, 630.9568257998297], 'sigma_boundaries': [0.6249794236676585, 13.210165023803711]}\n",
      "{'ampl_guess': 179.53824462136, 'sigma_guess': 7.244226554324982, 'ampl_boundaires': [121.01018027452585, 897.6912231068001], 'sigma_boundaries': [0.7244226554324982, 15.908881187438965]}\n",
      "{'ampl_guess': 1024.520356411989, 'sigma_guess': 9.528905804630005, 'ampl_boundaires': [289.5612339657288, 5122.6017820599445], 'sigma_boundaries': [0.9528905804630006, 30.34004020690918]}\n",
      "{'ampl_guess': nan, 'sigma_guess': nan, 'ampl_boundaires': [nan, nan], 'sigma_boundaries': [nan, nan]}\n",
      "{'ampl_guess': nan, 'sigma_guess': nan, 'ampl_boundaires': [nan, nan], 'sigma_boundaries': [nan, nan]}\n",
      "{'ampl_guess': 136.88796605843802, 'sigma_guess': 8.633348888612101, 'ampl_boundaires': [257.27837392448424, 684.4398302921901], 'sigma_boundaries': [0.8633348888612101, 17.711576461791992]}\n",
      "{'ampl_guess': 80.29378363158304, 'sigma_guess': 4.678572482774248, 'ampl_boundaires': [190.70154898368475, 401.4689181579152], 'sigma_boundaries': [0.4678572482774248, 9.552802085876465]}\n",
      "{'ampl_guess': nan, 'sigma_guess': nan, 'ampl_boundaires': [nan, nan], 'sigma_boundaries': [nan, nan]}\n",
      "{'ampl_guess': 80.69722471802115, 'sigma_guess': 5.429150318898173, 'ampl_boundaires': [118.45070267099972, 403.4861235901057], 'sigma_boundaries': [0.5429150318898173, 10.017049789428711]}\n",
      "{'ampl_guess': nan, 'sigma_guess': nan, 'ampl_boundaires': [nan, nan], 'sigma_boundaries': [nan, nan]}\n",
      "{'ampl_guess': nan, 'sigma_guess': nan, 'ampl_boundaires': [nan, nan], 'sigma_boundaries': [nan, nan]}\n",
      "{'ampl_guess': 2724.8254925732385, 'sigma_guess': 8.752217114195908, 'ampl_boundaires': [628.0881600201096, 13624.127462866194], 'sigma_boundaries': [0.8752217114195908, 83.39718627929688]}\n",
      "{'ampl_guess': 154.11207582626656, 'sigma_guess': 11.084804911206879, 'ampl_boundaires': [320.6836845339503, 770.5603791313329], 'sigma_boundaries': [1.1084804911206878, 22.22246742248535]}\n",
      "{'ampl_guess': 94.35617058477597, 'sigma_guess': 11.149862182475609, 'ampl_boundaires': [187.48216714005733, 471.7808529238798], 'sigma_boundaries': [1.114986218247561, 17.548032760620117]}\n",
      "{'ampl_guess': nan, 'sigma_guess': nan, 'ampl_boundaires': [nan, nan], 'sigma_boundaries': [nan, nan]}\n",
      "{'ampl_guess': 19.4039007530381, 'sigma_guess': 2.6164558513552993, 'ampl_boundaires': [38.592641532467766, 97.0195037651905], 'sigma_boundaries': [0.26164558513552993, 4.607885837554932]}\n",
      "{'ampl_guess': 143.90424755232922, 'sigma_guess': 6.374579009066094, 'ampl_boundaires': [197.47741240693904, 719.5212377616461], 'sigma_boundaries': [0.6374579009066095, 13.347637176513672]}\n",
      "{'ampl_guess': 93.19054980647932, 'sigma_guess': 5.770609088281284, 'ampl_boundaires': [218.22137162503, 465.95274903239664], 'sigma_boundaries': [0.5770609088281284, 12.021807670593262]}\n",
      "{'ampl_guess': nan, 'sigma_guess': nan, 'ampl_boundaires': [nan, nan], 'sigma_boundaries': [nan, nan]}\n",
      "{'ampl_guess': nan, 'sigma_guess': nan, 'ampl_boundaires': [nan, nan], 'sigma_boundaries': [nan, nan]}\n",
      "{'ampl_guess': 58.61952992590896, 'sigma_guess': 4.346493302917324, 'ampl_boundaires': [100.39698178967912, 293.0976496295448], 'sigma_boundaries': [0.43464933029173236, 8.225142478942871]}\n",
      "{'ampl_guess': 67.06819365594308, 'sigma_guess': 5.700793977365956, 'ampl_boundaires': [132.04254222507387, 335.3409682797154], 'sigma_boundaries': [0.5700793977365957, 10.727484703063965]}\n",
      "{'ampl_guess': 183.4019159133236, 'sigma_guess': 9.575134614783156, 'ampl_boundaires': [314.947423921649, 917.009579566618], 'sigma_boundaries': [0.9575134614783156, 19.53817367553711]}\n",
      "{'ampl_guess': 114.89175408814235, 'sigma_guess': 7.579243505749728, 'ampl_boundaires': [195.689064553503, 574.4587704407118], 'sigma_boundaries': [0.7579243505749729, 15.44678020477295]}\n",
      "{'ampl_guess': 113.25371175323401, 'sigma_guess': 11.5547663547182, 'ampl_boundaires': [235.62219723279176, 566.26855876617], 'sigma_boundaries': [1.15547663547182, 20.16813850402832]}\n",
      "{'ampl_guess': 82.84212147245984, 'sigma_guess': 9.374736953923822, 'ampl_boundaires': [166.0670300508234, 414.2106073622992], 'sigma_boundaries': [0.9374736953923822, 16.57586097717285]}\n",
      "{'ampl_guess': 163.30377606805283, 'sigma_guess': 13.12918427400572, 'ampl_boundaires': [457.7388330903805, 816.5188803402641], 'sigma_boundaries': [1.312918427400572, 26.86923599243164]}\n",
      "{'ampl_guess': 111.94999616619782, 'sigma_guess': 8.540426795698398, 'ampl_boundaires': [660.0062860643619, 559.7499808309891], 'sigma_boundaries': [0.8540426795698398, 22.4841365814209]}\n",
      "{'ampl_guess': 422.84297677475297, 'sigma_guess': 24.35499232303043, 'ampl_boundaires': [696.0676771000338, 2114.214883873765], 'sigma_boundaries': [2.435499232303043, 49.145172119140625]}\n",
      "{'ampl_guess': 58.00112488743693, 'sigma_guess': 7.3734298256433535, 'ampl_boundaires': [115.39448727359385, 290.0056244371847], 'sigma_boundaries': [0.7373429825643354, 13.175010681152344]}\n",
      "{'ampl_guess': 66.04323030989674, 'sigma_guess': 5.455677926027315, 'ampl_boundaires': [123.46716249965014, 330.2161515494837], 'sigma_boundaries': [0.5455677926027315, 10.555392265319824]}\n",
      "{'ampl_guess': nan, 'sigma_guess': nan, 'ampl_boundaires': [nan, nan], 'sigma_boundaries': [nan, nan]}\n",
      "{'ampl_guess': 125.10613235127693, 'sigma_guess': 7.100515760363543, 'ampl_boundaires': [253.02447626881334, 625.5306617563847], 'sigma_boundaries': [0.7100515760363544, 14.166446685791016]}\n",
      "{'ampl_guess': 178.86729623888965, 'sigma_guess': 15.649751982486348, 'ampl_boundaires': [389.26951068689476, 894.3364811944483], 'sigma_boundaries': [1.5649751982486348, 31.04113006591797]}\n",
      "{'ampl_guess': 41.75764890373003, 'sigma_guess': 4.969555734313702, 'ampl_boundaires': [174.6305146133838, 208.78824451865015], 'sigma_boundaries': [0.4969555734313702, 9.185113906860352]}\n",
      "{'ampl_guess': 85.84460783439225, 'sigma_guess': 5.296546570804149, 'ampl_boundaires': [134.45362671567733, 429.22303917196126], 'sigma_boundaries': [0.5296546570804149, 11.478482246398926]}\n",
      "{'ampl_guess': 119.5738011106684, 'sigma_guess': 9.309572224761142, 'ampl_boundaires': [232.29082491693353, 597.869005553342], 'sigma_boundaries': [0.9309572224761142, 18.806215286254883]}\n",
      "{'ampl_guess': 86.54078084679301, 'sigma_guess': 6.089673491173269, 'ampl_boundaires': [387.139014346662, 432.70390423396503], 'sigma_boundaries': [0.6089673491173269, 14.389841079711914]}\n",
      "{'ampl_guess': 20.2903557326328, 'sigma_guess': 3.121584304581389, 'ampl_boundaires': [40.23369112519003, 101.451778663164], 'sigma_boundaries': [0.3121584304581389, 4.681336402893066]}\n",
      "{'ampl_guess': 46.49418992397155, 'sigma_guess': 4.277799783770098, 'ampl_boundaires': [80.62039382283888, 232.47094961985772], 'sigma_boundaries': [0.42777997837700976, 8.379925727844238]}\n",
      "{'ampl_guess': 110.63059885320035, 'sigma_guess': 4.973809511602496, 'ampl_boundaires': [229.63493338482957, 553.1529942660018], 'sigma_boundaries': [0.49738095116024955, 10.771681785583496]}\n",
      "{'ampl_guess': 47.533022991668396, 'sigma_guess': 5.496919488069481, 'ampl_boundaires': [95.01627562746577, 237.66511495834197], 'sigma_boundaries': [0.549691948806948, 9.459037780761719]}\n",
      "{'ampl_guess': 24.097376789561242, 'sigma_guess': 4.143946837658906, 'ampl_boundaires': [586.3802001950123, 120.4868839478062], 'sigma_boundaries': [0.4143946837658906, 13.771819114685059]}\n",
      "{'ampl_guess': 92.03645127195303, 'sigma_guess': 6.014420445256212, 'ampl_boundaires': [172.20942824146601, 460.1822563597651], 'sigma_boundaries': [0.6014420445256212, 12.489811897277832]}\n",
      "{'ampl_guess': 124.5021564130949, 'sigma_guess': 6.526443877690811, 'ampl_boundaires': [229.71404960470986, 622.5107820654745], 'sigma_boundaries': [0.6526443877690811, 14.017481803894043]}\n",
      "{'ampl_guess': nan, 'sigma_guess': nan, 'ampl_boundaires': [nan, nan], 'sigma_boundaries': [nan, nan]}\n",
      "{'ampl_guess': 1072.6000692319406, 'sigma_guess': 6.550754812277322, 'ampl_boundaires': [157.9793806888797, 5363.000346159703], 'sigma_boundaries': [0.6550754812277322, 42.791133880615234]}\n",
      "{'ampl_guess': 60.82807631989722, 'sigma_guess': 4.492804648608333, 'ampl_boundaires': [122.93527469074989, 304.1403815994861], 'sigma_boundaries': [0.4492804648608333, 8.740074157714844]}\n",
      "{'ampl_guess': 67.281637245521, 'sigma_guess': 5.068359026041676, 'ampl_boundaires': [211.6548401193028, 336.408186227605], 'sigma_boundaries': [0.5068359026041677, 10.261402130126953]}\n",
      "{'ampl_guess': 219.41411987683404, 'sigma_guess': 14.4082937615223, 'ampl_boundaires': [354.9455401433968, 1097.0705993841702], 'sigma_boundaries': [1.44082937615223, 29.007932662963867]}\n",
      "{'ampl_guess': 90.97412908241233, 'sigma_guess': 6.180743349335993, 'ampl_boundaires': [252.95606952032125, 454.87064541206166], 'sigma_boundaries': [0.6180743349335993, 12.436205863952637]}\n",
      "{'ampl_guess': 49.18862121003096, 'sigma_guess': 4.0332609651315225, 'ampl_boundaires': [275.02758246131515, 245.9431060501548], 'sigma_boundaries': [0.40332609651315227, 11.131006240844727]}\n",
      "{'ampl_guess': 71.33929818104528, 'sigma_guess': 5.328148382103196, 'ampl_boundaires': [138.37132346598315, 356.69649090522637], 'sigma_boundaries': [0.5328148382103196, 10.228124618530273]}\n",
      "{'ampl_guess': 237.79744386418236, 'sigma_guess': 14.097266784921873, 'ampl_boundaires': [406.61445580287744, 1188.987219320912], 'sigma_boundaries': [1.4097266784921874, 27.518404006958008]}\n",
      "{'ampl_guess': 76.12299912350694, 'sigma_guess': 4.988751814540162, 'ampl_boundaires': [172.81891190779055, 380.6149956175347], 'sigma_boundaries': [0.4988751814540162, 10.72753620147705]}\n",
      "{'ampl_guess': 82.81595976378297, 'sigma_guess': 8.857321538876354, 'ampl_boundaires': [184.91963924959117, 414.07979881891487], 'sigma_boundaries': [0.8857321538876354, 15.993958473205566]}\n",
      "{'ampl_guess': 62.50590625341831, 'sigma_guess': 4.511153790960109, 'ampl_boundaires': [144.41291875718437, 312.52953126709156], 'sigma_boundaries': [0.4511153790960109, 9.628111839294434]}\n",
      "{'ampl_guess': 261.40391091594523, 'sigma_guess': 17.521821198416845, 'ampl_boundaires': [465.45944400657794, 1307.019554579726], 'sigma_boundaries': [1.7521821198416845, 38.14760971069336]}\n",
      "{'ampl_guess': 244.7725608274252, 'sigma_guess': 5.663775439860039, 'ampl_boundaires': [436.65647370047867, 1223.862804137126], 'sigma_boundaries': [0.5663775439860039, 13.058735847473145]}\n",
      "{'ampl_guess': 111.83426694100915, 'sigma_guess': 4.047568064663176, 'ampl_boundaires': [126.91765856064599, 559.1713347050458], 'sigma_boundaries': [0.4047568064663176, 10.464888572692871]}\n",
      "{'ampl_guess': nan, 'sigma_guess': nan, 'ampl_boundaires': [nan, nan], 'sigma_boundaries': [nan, nan]}\n",
      "{'ampl_guess': 1.7841937498858544, 'sigma_guess': 0.5217595064543679, 'ampl_boundaires': [3.4887023392239285, 8.920968749429273], 'sigma_boundaries': [0.052175950645436786, 0.7038428783416748]}\n",
      "{'ampl_guess': nan, 'sigma_guess': nan, 'ampl_boundaires': [nan, nan], 'sigma_boundaries': [nan, nan]}\n",
      "{'ampl_guess': 131.39367256531364, 'sigma_guess': 7.739832965619418, 'ampl_boundaires': [277.0127742236774, 656.9683628265682], 'sigma_boundaries': [0.7739832965619418, 15.367064476013184]}\n",
      "{'ampl_guess': nan, 'sigma_guess': nan, 'ampl_boundaires': [nan, nan], 'sigma_boundaries': [nan, nan]}\n",
      "{'ampl_guess': 182.88109137084845, 'sigma_guess': 7.251586713100722, 'ampl_boundaires': [261.5050006762273, 914.4054568542423], 'sigma_boundaries': [0.7251586713100722, 15.823251724243164]}\n",
      "{'ampl_guess': nan, 'sigma_guess': nan, 'ampl_boundaires': [nan, nan], 'sigma_boundaries': [nan, nan]}\n",
      "{'ampl_guess': 1410.9320064108322, 'sigma_guess': 5.114601268431571, 'ampl_boundaires': [527.2560007729768, 7054.66003205416], 'sigma_boundaries': [0.5114601268431571, 42.30261993408203]}\n",
      "{'ampl_guess': 24.511314592263982, 'sigma_guess': 3.25952171110242, 'ampl_boundaires': [48.1006345372707, 122.55657296131992], 'sigma_boundaries': [0.325952171110242, 5.565160274505615]}\n",
      "{'ampl_guess': 58.580708092126756, 'sigma_guess': 3.6547203853378325, 'ampl_boundaires': [91.25198249276781, 292.9035404606338], 'sigma_boundaries': [0.36547203853378324, 8.323275566101074]}\n",
      "{'ampl_guess': nan, 'sigma_guess': nan, 'ampl_boundaires': [nan, nan], 'sigma_boundaries': [nan, nan]}\n",
      "{'ampl_guess': 59.05143238876399, 'sigma_guess': 5.2673954357510056, 'ampl_boundaires': [120.57005924858318, 295.25716194382], 'sigma_boundaries': [0.5267395435751006, 10.422394752502441]}\n",
      "{'ampl_guess': 69.32163377150954, 'sigma_guess': 5.611989218494124, 'ampl_boundaires': [143.97854451008482, 346.6081688575477], 'sigma_boundaries': [0.5611989218494123, 11.499527931213379]}\n",
      "{'ampl_guess': nan, 'sigma_guess': nan, 'ampl_boundaires': [nan, nan], 'sigma_boundaries': [nan, nan]}\n",
      "{'ampl_guess': 880.4609075827832, 'sigma_guess': 5.552280805288716, 'ampl_boundaires': [218.38340975194458, 4402.304537913916], 'sigma_boundaries': [0.5552280805288716, 23.981563568115234]}\n",
      "{'ampl_guess': nan, 'sigma_guess': nan, 'ampl_boundaires': [nan, nan], 'sigma_boundaries': [nan, nan]}\n",
      "{'ampl_guess': 55.591962364466525, 'sigma_guess': 5.047525626852137, 'ampl_boundaires': [132.75939790409308, 277.9598118223326], 'sigma_boundaries': [0.5047525626852136, 10.024625778198242]}\n",
      "{'ampl_guess': 83.48180202328788, 'sigma_guess': 6.85700415435595, 'ampl_boundaires': [280.8198956819001, 417.4090101164394], 'sigma_boundaries': [0.685700415435595, 13.497124671936035]}\n",
      "{'ampl_guess': 75.29539125488617, 'sigma_guess': 5.964091268097078, 'ampl_boundaires': [117.38171574792548, 376.47695627443085], 'sigma_boundaries': [0.5964091268097078, 10.888101577758789]}\n",
      "{'ampl_guess': 203.41485808889007, 'sigma_guess': 7.592479207661111, 'ampl_boundaires': [256.1950917695124, 1017.0742904444503], 'sigma_boundaries': [0.7592479207661111, 16.365468978881836]}\n",
      "{'ampl_guess': nan, 'sigma_guess': nan, 'ampl_boundaires': [nan, nan], 'sigma_boundaries': [nan, nan]}\n",
      "{'ampl_guess': nan, 'sigma_guess': nan, 'ampl_boundaires': [nan, nan], 'sigma_boundaries': [nan, nan]}\n",
      "{'ampl_guess': 51.971042277978015, 'sigma_guess': 4.589820038929733, 'ampl_boundaires': [159.18235074864268, 259.8552113898901], 'sigma_boundaries': [0.4589820038929733, 9.372357368469238]}\n",
      "{'ampl_guess': 90.26785856841698, 'sigma_guess': 6.478133070842381, 'ampl_boundaires': [242.98117224907713, 451.33929284208494], 'sigma_boundaries': [0.6478133070842381, 13.154747009277344]}\n",
      "{'ampl_guess': 6.636789104268895, 'sigma_guess': 1.3528886989309257, 'ampl_boundaires': [9.632359131805343, 33.18394552134448], 'sigma_boundaries': [0.13528886989309258, 1.7069557905197144]}\n",
      "{'ampl_guess': nan, 'sigma_guess': nan, 'ampl_boundaires': [nan, nan], 'sigma_boundaries': [nan, nan]}\n",
      "{'ampl_guess': 100.90453423725532, 'sigma_guess': 8.7794845547857, 'ampl_boundaires': [198.70852351518008, 504.52267118627657], 'sigma_boundaries': [0.87794845547857, 16.873212814331055]}\n",
      "{'ampl_guess': 73.49572196026833, 'sigma_guess': 4.9307683833165825, 'ampl_boundaires': [132.97140718946721, 367.47860980134163], 'sigma_boundaries': [0.4930768383316583, 9.902782440185547]}\n",
      "{'ampl_guess': 134.05512919772823, 'sigma_guess': 8.452409590075646, 'ampl_boundaires': [265.81481707178943, 670.2756459886413], 'sigma_boundaries': [0.8452409590075647, 17.217927932739258]}\n",
      "{'ampl_guess': 66.8188685562007, 'sigma_guess': 4.983221974760713, 'ampl_boundaires': [152.90627540620815, 334.0943427810035], 'sigma_boundaries': [0.4983221974760713, 11.966175079345703]}\n",
      "{'ampl_guess': nan, 'sigma_guess': nan, 'ampl_boundaires': [nan, nan], 'sigma_boundaries': [nan, nan]}\n",
      "{'ampl_guess': nan, 'sigma_guess': nan, 'ampl_boundaires': [nan, nan], 'sigma_boundaries': [nan, nan]}\n",
      "{'ampl_guess': nan, 'sigma_guess': nan, 'ampl_boundaires': [nan, nan], 'sigma_boundaries': [nan, nan]}\n",
      "{'ampl_guess': nan, 'sigma_guess': nan, 'ampl_boundaires': [nan, nan], 'sigma_boundaries': [nan, nan]}\n",
      "{'ampl_guess': 120.35663478306131, 'sigma_guess': 6.309268646178719, 'ampl_boundaires': [167.5773906255116, 601.7831739153065], 'sigma_boundaries': [0.6309268646178718, 12.93488883972168]}\n",
      "{'ampl_guess': 65.38152840852673, 'sigma_guess': 5.14690296996095, 'ampl_boundaires': [147.2468743751731, 326.90764204263365], 'sigma_boundaries': [0.5146902969960949, 10.146862983703613]}\n",
      "{'ampl_guess': 185.35467327662445, 'sigma_guess': 7.808049640362241, 'ampl_boundaires': [405.3977833569544, 926.7733663831223], 'sigma_boundaries': [0.7808049640362241, 19.78348731994629]}\n",
      "{'ampl_guess': nan, 'sigma_guess': nan, 'ampl_boundaires': [nan, nan], 'sigma_boundaries': [nan, nan]}\n",
      "{'ampl_guess': nan, 'sigma_guess': nan, 'ampl_boundaires': [nan, nan], 'sigma_boundaries': [nan, nan]}\n",
      "{'ampl_guess': nan, 'sigma_guess': nan, 'ampl_boundaires': [nan, nan], 'sigma_boundaries': [nan, nan]}\n",
      "{'ampl_guess': nan, 'sigma_guess': nan, 'ampl_boundaires': [nan, nan], 'sigma_boundaries': [nan, nan]}\n",
      "{'ampl_guess': nan, 'sigma_guess': nan, 'ampl_boundaires': [nan, nan], 'sigma_boundaries': [nan, nan]}\n",
      "{'ampl_guess': nan, 'sigma_guess': nan, 'ampl_boundaires': [nan, nan], 'sigma_boundaries': [nan, nan]}\n",
      "{'ampl_guess': nan, 'sigma_guess': nan, 'ampl_boundaires': [nan, nan], 'sigma_boundaries': [nan, nan]}\n",
      "{'ampl_guess': nan, 'sigma_guess': nan, 'ampl_boundaires': [nan, nan], 'sigma_boundaries': [nan, nan]}\n",
      "{'ampl_guess': nan, 'sigma_guess': nan, 'ampl_boundaires': [nan, nan], 'sigma_boundaries': [nan, nan]}\n",
      "{'ampl_guess': 213.1882069334196, 'sigma_guess': 7.3666691688022805, 'ampl_boundaires': [299.073520321115, 1065.941034667098], 'sigma_boundaries': [0.736666916880228, 17.00111961364746]}\n",
      "{'ampl_guess': nan, 'sigma_guess': nan, 'ampl_boundaires': [nan, nan], 'sigma_boundaries': [nan, nan]}\n",
      "{'ampl_guess': 255.02058786718035, 'sigma_guess': 11.101156185082981, 'ampl_boundaires': [445.42397369298413, 1275.1029393359017], 'sigma_boundaries': [1.110115618508298, 23.392070770263672]}\n",
      "{'ampl_guess': nan, 'sigma_guess': nan, 'ampl_boundaires': [nan, nan], 'sigma_boundaries': [nan, nan]}\n",
      "{'ampl_guess': nan, 'sigma_guess': nan, 'ampl_boundaires': [nan, nan], 'sigma_boundaries': [nan, nan]}\n",
      "{'ampl_guess': nan, 'sigma_guess': nan, 'ampl_boundaires': [nan, nan], 'sigma_boundaries': [nan, nan]}\n",
      "{'ampl_guess': 44.53975920576627, 'sigma_guess': 6.0438320950062, 'ampl_boundaires': [89.15855813518863, 222.69879602883134], 'sigma_boundaries': [0.6043832095006201, 9.751327514648438]}\n",
      "{'ampl_guess': nan, 'sigma_guess': nan, 'ampl_boundaires': [nan, nan], 'sigma_boundaries': [nan, nan]}\n",
      "{'ampl_guess': nan, 'sigma_guess': nan, 'ampl_boundaires': [nan, nan], 'sigma_boundaries': [nan, nan]}\n",
      "{'ampl_guess': 135.23231046790733, 'sigma_guess': 7.591611767951397, 'ampl_boundaires': [229.39775684169317, 676.1615523395366], 'sigma_boundaries': [0.7591611767951397, 15.408047676086426]}\n",
      "{'ampl_guess': 143.76725237681256, 'sigma_guess': 11.722919577794274, 'ampl_boundaires': [284.34338826484014, 718.8362618840629], 'sigma_boundaries': [1.1722919577794273, 22.875944137573242]}\n",
      "{'ampl_guess': nan, 'sigma_guess': nan, 'ampl_boundaires': [nan, nan], 'sigma_boundaries': [nan, nan]}\n",
      "{'ampl_guess': 160.1034226601955, 'sigma_guess': 9.542839275892234, 'ampl_boundaires': [268.32664708966615, 800.5171133009775], 'sigma_boundaries': [0.9542839275892234, 21.124656677246094]}\n",
      "{'ampl_guess': 360.682489221716, 'sigma_guess': 22.480977553651577, 'ampl_boundaires': [501.95529534760163, 1803.41244610858], 'sigma_boundaries': [2.2480977553651575, 46.418060302734375]}\n",
      "{'ampl_guess': nan, 'sigma_guess': nan, 'ampl_boundaires': [nan, nan], 'sigma_boundaries': [nan, nan]}\n",
      "{'ampl_guess': 89.9535738312856, 'sigma_guess': 5.9729325077137725, 'ampl_boundaires': [215.69284630622136, 449.767869156428], 'sigma_boundaries': [0.5972932507713773, 12.924762725830078]}\n",
      "{'ampl_guess': 130.59693570417213, 'sigma_guess': 10.432002447220118, 'ampl_boundaires': [291.0895329049922, 652.9846785208607], 'sigma_boundaries': [1.0432002447220117, 19.787120819091797]}\n",
      "{'ampl_guess': 74.14420435789353, 'sigma_guess': 7.571539764497279, 'ampl_boundaires': [657.5602427992984, 370.72102178946767], 'sigma_boundaries': [0.7571539764497279, 18.27467155456543]}\n",
      "{'ampl_guess': 155.40214639931082, 'sigma_guess': 10.439125774453272, 'ampl_boundaires': [258.03983646424086, 777.0107319965541], 'sigma_boundaries': [1.0439125774453273, 21.09994125366211]}\n",
      "{'ampl_guess': 123.07406752753528, 'sigma_guess': 7.7028653292211615, 'ampl_boundaires': [257.59581413086397, 615.3703376376764], 'sigma_boundaries': [0.7702865329221161, 15.432476043701172]}\n",
      "{'ampl_guess': 138.36870347030424, 'sigma_guess': 11.19692379130687, 'ampl_boundaires': [244.1367815840314, 691.8435173515212], 'sigma_boundaries': [1.119692379130687, 21.864578247070312]}\n",
      "{'ampl_guess': 58.12280647507127, 'sigma_guess': 5.854373223575071, 'ampl_boundaires': [122.62047360410514, 290.6140323753564], 'sigma_boundaries': [0.5854373223575071, 10.207818031311035]}\n",
      "{'ampl_guess': 204.34386648370378, 'sigma_guess': 13.567113367682367, 'ampl_boundaires': [448.12972163921137, 1021.719332418519], 'sigma_boundaries': [1.3567113367682366, 26.446563720703125]}\n",
      "{'ampl_guess': 61.33969262938412, 'sigma_guess': 4.415061690174884, 'ampl_boundaires': [110.68643153483933, 306.6984631469206], 'sigma_boundaries': [0.4415061690174884, 8.9237060546875]}\n",
      "{'ampl_guess': 180.07100257481056, 'sigma_guess': 8.206606020303674, 'ampl_boundaires': [383.46532142750254, 900.3550128740528], 'sigma_boundaries': [0.8206606020303674, 18.160430908203125]}\n",
      "{'ampl_guess': 66.31015432221945, 'sigma_guess': 5.472806502234983, 'ampl_boundaires': [121.74481176364385, 331.5507716110973], 'sigma_boundaries': [0.5472806502234983, 10.836494445800781]}\n",
      "{'ampl_guess': 60.24314794154133, 'sigma_guess': 4.114517160433288, 'ampl_boundaires': [96.35742655422051, 301.21573970770663], 'sigma_boundaries': [0.4114517160433288, 7.572125434875488]}\n",
      "{'ampl_guess': 2253.84282993876, 'sigma_guess': 6.048430161731531, 'ampl_boundaires': [220.27389918874553, 11269.2141496938], 'sigma_boundaries': [0.6048430161731531, 54.36894226074219]}\n",
      "{'ampl_guess': 335.8917841230915, 'sigma_guess': 5.3454162293971015, 'ampl_boundaires': [168.22892809109086, 1679.4589206154576], 'sigma_boundaries': [0.5345416229397102, 13.414405822753906]}\n",
      "{'ampl_guess': 118.03236394489839, 'sigma_guess': 7.847154416322409, 'ampl_boundaires': [219.6542797727143, 590.1618197244919], 'sigma_boundaries': [0.7847154416322409, 17.120698928833008]}\n",
      "{'ampl_guess': 316.291711193596, 'sigma_guess': 13.030283421821395, 'ampl_boundaires': [448.2885278006534, 1581.4585559679797], 'sigma_boundaries': [1.3030283421821394, 26.570714950561523]}\n",
      "{'ampl_guess': nan, 'sigma_guess': nan, 'ampl_boundaires': [nan, nan], 'sigma_boundaries': [nan, nan]}\n",
      "{'ampl_guess': 214.1413690110249, 'sigma_guess': 6.904427019659637, 'ampl_boundaires': [250.71046548672143, 1070.7068450551244], 'sigma_boundaries': [0.6904427019659637, 15.475317001342773]}\n",
      "{'ampl_guess': 133.0106784385666, 'sigma_guess': 8.975137808235178, 'ampl_boundaires': [179.1121606525583, 665.053392192833], 'sigma_boundaries': [0.8975137808235178, 16.56900978088379]}\n",
      "{'ampl_guess': 46.65607983945174, 'sigma_guess': 5.33216674176906, 'ampl_boundaires': [99.28468844167888, 233.2803991972587], 'sigma_boundaries': [0.533216674176906, 9.171401977539062]}\n",
      "{'ampl_guess': nan, 'sigma_guess': nan, 'ampl_boundaires': [nan, nan], 'sigma_boundaries': [nan, nan]}\n",
      "{'ampl_guess': 220.75092964286534, 'sigma_guess': 14.319499607047897, 'ampl_boundaires': [490.8348862429978, 1103.7546482143268], 'sigma_boundaries': [1.4319499607047896, 30.48186683654785]}\n",
      "{'ampl_guess': nan, 'sigma_guess': nan, 'ampl_boundaires': [nan, nan], 'sigma_boundaries': [nan, nan]}\n",
      "{'ampl_guess': nan, 'sigma_guess': nan, 'ampl_boundaires': [nan, nan], 'sigma_boundaries': [nan, nan]}\n",
      "{'ampl_guess': 392.5842450739892, 'sigma_guess': 19.772323182767167, 'ampl_boundaires': [503.29218160985715, 1962.9212253699461], 'sigma_boundaries': [1.9772323182767166, 48.9224853515625]}\n",
      "{'ampl_guess': 44.26834104027173, 'sigma_guess': 5.2763165618283345, 'ampl_boundaires': [87.65521608907089, 221.34170520135865], 'sigma_boundaries': [0.5276316561828335, 8.743744850158691]}\n",
      "{'ampl_guess': 64.44485126723681, 'sigma_guess': 4.964107194914544, 'ampl_boundaires': [147.2947323254391, 322.2242563361841], 'sigma_boundaries': [0.49641071949145443, 10.683465003967285]}\n",
      "{'ampl_guess': 62.126288959804924, 'sigma_guess': 6.596594087564904, 'ampl_boundaires': [202.72101821132745, 310.6314447990246], 'sigma_boundaries': [0.6596594087564904, 12.245827674865723]}\n",
      "{'ampl_guess': nan, 'sigma_guess': nan, 'ampl_boundaires': [nan, nan], 'sigma_boundaries': [nan, nan]}\n",
      "{'ampl_guess': 310.7945777781481, 'sigma_guess': 19.26734177718543, 'ampl_boundaires': [521.6240810104861, 1553.9728888907405], 'sigma_boundaries': [1.926734177718543, 38.045310974121094]}\n",
      "{'ampl_guess': 715.8386617184514, 'sigma_guess': 39.889736080597224, 'ampl_boundaires': [912.8253890952506, 3579.1933085922565], 'sigma_boundaries': [3.9889736080597222, 80.65554809570312]}\n",
      "{'ampl_guess': 143.68769630364312, 'sigma_guess': 11.486695313700073, 'ampl_boundaires': [411.35171397522083, 718.4384815182157], 'sigma_boundaries': [1.1486695313700073, 24.77526092529297]}\n",
      "{'ampl_guess': 122.85607241261738, 'sigma_guess': 10.006790853900478, 'ampl_boundaires': [250.57103199405836, 614.2803620630868], 'sigma_boundaries': [1.0006790853900478, 20.483367919921875]}\n",
      "{'ampl_guess': 137.9938910957735, 'sigma_guess': 7.183179866164001, 'ampl_boundaires': [252.46639806515213, 689.9694554788675], 'sigma_boundaries': [0.7183179866164001, 14.831934928894043]}\n",
      "{'ampl_guess': 1394.101919131837, 'sigma_guess': 6.581130755233546, 'ampl_boundaires': [149.321958763, 6970.509595659184], 'sigma_boundaries': [0.6581130755233546, 39.82463836669922]}\n",
      "{'ampl_guess': 266.56358123832865, 'sigma_guess': 6.100764983924454, 'ampl_boundaires': [184.28120176240643, 1332.8179061916433], 'sigma_boundaries': [0.6100764983924454, 13.91882038116455]}\n",
      "{'ampl_guess': 122.5163813670231, 'sigma_guess': 11.3159284601376, 'ampl_boundaires': [253.0905498824673, 612.5819068351155], 'sigma_boundaries': [1.13159284601376, 21.274871826171875]}\n",
      "{'ampl_guess': 50.467016546856485, 'sigma_guess': 4.444054466226417, 'ampl_boundaires': [116.18746625772147, 252.33508273428242], 'sigma_boundaries': [0.4444054466226417, 8.854669570922852]}\n",
      "{'ampl_guess': 192.27846127342815, 'sigma_guess': 14.675089089485422, 'ampl_boundaires': [403.89757765602894, 961.3923063671408], 'sigma_boundaries': [1.4675089089485422, 29.858165740966797]}\n",
      "{'ampl_guess': 109.66885007442843, 'sigma_guess': 5.5788158354960595, 'ampl_boundaires': [236.347802167454, 548.3442503721421], 'sigma_boundaries': [0.5578815835496059, 12.040115356445312]}\n",
      "{'ampl_guess': 105.58521388977377, 'sigma_guess': 6.071382319527438, 'ampl_boundaires': [327.89276519891314, 527.9260694488688], 'sigma_boundaries': [0.6071382319527439, 14.72768783569336]}\n",
      "{'ampl_guess': 161.98886334619917, 'sigma_guess': 12.359303606721213, 'ampl_boundaires': [326.8837035054726, 809.9443167309958], 'sigma_boundaries': [1.2359303606721213, 27.0186824798584]}\n",
      "{'ampl_guess': 141.3924079724245, 'sigma_guess': 5.519551393063024, 'ampl_boundaires': [281.764547554563, 706.9620398621225], 'sigma_boundaries': [0.5519551393063024, 11.622397422790527]}\n",
      "{'ampl_guess': 74.68728930161127, 'sigma_guess': 3.733045525190148, 'ampl_boundaires': [137.8307820217201, 373.43644650805635], 'sigma_boundaries': [0.3733045525190148, 8.795897483825684]}\n",
      "{'ampl_guess': 80.02416312735723, 'sigma_guess': 5.7663174886416595, 'ampl_boundaires': [92.19971333845483, 400.1208156367861], 'sigma_boundaries': [0.5766317488641659, 10.521954536437988]}\n",
      "{'ampl_guess': 107.31484132910722, 'sigma_guess': 10.942174351863567, 'ampl_boundaires': [211.69272487433855, 536.5742066455362], 'sigma_boundaries': [1.0942174351863567, 20.824806213378906]}\n",
      "{'ampl_guess': 45.483660459229206, 'sigma_guess': 3.652612231128894, 'ampl_boundaires': [112.78218902725666, 227.418302296146], 'sigma_boundaries': [0.36526122311288944, 8.077987670898438]}\n",
      "{'ampl_guess': 147.5720598242532, 'sigma_guess': 11.153816915756897, 'ampl_boundaires': [290.07995486203833, 737.8602991212659], 'sigma_boundaries': [1.1153816915756898, 22.233871459960938]}\n",
      "{'ampl_guess': 78.93845221726697, 'sigma_guess': 6.064085787136273, 'ampl_boundaires': [122.5416059969535, 394.69226108633484], 'sigma_boundaries': [0.6064085787136273, 11.067678451538086]}\n",
      "{'ampl_guess': 99.07372141735948, 'sigma_guess': 6.595953581960177, 'ampl_boundaires': [141.07940454704848, 495.3686070867974], 'sigma_boundaries': [0.6595953581960177, 13.947530746459961]}\n",
      "{'ampl_guess': nan, 'sigma_guess': nan, 'ampl_boundaires': [nan, nan], 'sigma_boundaries': [nan, nan]}\n",
      "{'ampl_guess': nan, 'sigma_guess': nan, 'ampl_boundaires': [nan, nan], 'sigma_boundaries': [nan, nan]}\n",
      "{'ampl_guess': 1048.3386032604533, 'sigma_guess': 6.101388522493295, 'ampl_boundaires': [155.7643942690165, 5241.693016302267], 'sigma_boundaries': [0.6101388522493295, 38.915672302246094]}\n",
      "{'ampl_guess': 336.3971564282779, 'sigma_guess': 25.849386631477376, 'ampl_boundaires': [571.8930392708571, 1681.9857821413898], 'sigma_boundaries': [2.584938663147738, 49.518470764160156]}\n",
      "{'ampl_guess': 165.44127181280004, 'sigma_guess': 12.232572573923518, 'ampl_boundaires': [362.8629375963523, 827.2063590640001], 'sigma_boundaries': [1.2232572573923517, 24.431720733642578]}\n",
      "{'ampl_guess': 301.7037473699994, 'sigma_guess': 7.425298761309217, 'ampl_boundaires': [278.72294293597963, 1508.518736849997], 'sigma_boundaries': [0.7425298761309217, 16.12596321105957]}\n",
      "{'ampl_guess': 54.54110982754203, 'sigma_guess': 5.2036174082921605, 'ampl_boundaires': [93.98172156731017, 272.70554913771014], 'sigma_boundaries': [0.520361740829216, 9.425503730773926]}\n",
      "{'ampl_guess': nan, 'sigma_guess': nan, 'ampl_boundaires': [nan, nan], 'sigma_boundaries': [nan, nan]}\n",
      "{'ampl_guess': 208.8091232068431, 'sigma_guess': 11.975960295331808, 'ampl_boundaires': [374.28221744891096, 1044.0456160342155], 'sigma_boundaries': [1.1975960295331807, 24.898067474365234]}\n",
      "{'ampl_guess': nan, 'sigma_guess': nan, 'ampl_boundaires': [nan, nan], 'sigma_boundaries': [nan, nan]}\n",
      "{'ampl_guess': nan, 'sigma_guess': nan, 'ampl_boundaires': [nan, nan], 'sigma_boundaries': [nan, nan]}\n",
      "{'ampl_guess': 120.01594928655241, 'sigma_guess': 9.845753181499443, 'ampl_boundaires': [212.68333185369045, 600.079746432762], 'sigma_boundaries': [0.9845753181499444, 19.809894561767578]}\n",
      "{'ampl_guess': nan, 'sigma_guess': nan, 'ampl_boundaires': [nan, nan], 'sigma_boundaries': [nan, nan]}\n",
      "{'ampl_guess': 130.50056958573444, 'sigma_guess': 6.155392476841585, 'ampl_boundaires': [195.75636210674415, 652.5028479286722], 'sigma_boundaries': [0.6155392476841585, 12.910451889038086]}\n",
      "{'ampl_guess': 47.111997335691996, 'sigma_guess': 4.201922492324371, 'ampl_boundaires': [220.14286115668855, 235.55998667845998], 'sigma_boundaries': [0.42019224923243714, 10.74007511138916]}\n",
      "{'ampl_guess': 174.10684058655718, 'sigma_guess': 10.140513012443375, 'ampl_boundaires': [341.6447209122688, 870.5342029327859], 'sigma_boundaries': [1.0140513012443375, 21.149728775024414]}\n",
      "{'ampl_guess': nan, 'sigma_guess': nan, 'ampl_boundaires': [nan, nan], 'sigma_boundaries': [nan, nan]}\n",
      "{'ampl_guess': 186.551399332087, 'sigma_guess': 6.431504828386061, 'ampl_boundaires': [302.8850594362853, 932.7569966604349], 'sigma_boundaries': [0.6431504828386061, 13.926905632019043]}\n",
      "{'ampl_guess': 270.2559966083614, 'sigma_guess': 5.720766299484239, 'ampl_boundaires': [234.2050281832369, 1351.2799830418069], 'sigma_boundaries': [0.5720766299484239, 14.07606315612793]}\n",
      "{'ampl_guess': 88.86968926854814, 'sigma_guess': 5.449669120963978, 'ampl_boundaires': [123.60926379813225, 444.3484463427407], 'sigma_boundaries': [0.5449669120963978, 10.278474807739258]}\n",
      "{'ampl_guess': nan, 'sigma_guess': nan, 'ampl_boundaires': [nan, nan], 'sigma_boundaries': [nan, nan]}\n",
      "{'ampl_guess': nan, 'sigma_guess': nan, 'ampl_boundaires': [nan, nan], 'sigma_boundaries': [nan, nan]}\n",
      "{'ampl_guess': nan, 'sigma_guess': nan, 'ampl_boundaires': [nan, nan], 'sigma_boundaries': [nan, nan]}\n",
      "{'ampl_guess': 195.4385202951874, 'sigma_guess': 18.797475066291142, 'ampl_boundaires': [345.4225251925663, 977.192601475937], 'sigma_boundaries': [1.8797475066291143, 31.042068481445312]}\n",
      "{'ampl_guess': 688.590400673021, 'sigma_guess': 7.865504265634015, 'ampl_boundaires': [1559.6859520230528, 3442.952003365105], 'sigma_boundaries': [0.7865504265634015, 43.23109436035156]}\n",
      "{'ampl_guess': 133.65040679953475, 'sigma_guess': 6.209023156400364, 'ampl_boundaires': [297.89027672516795, 668.2520339976738], 'sigma_boundaries': [0.6209023156400364, 14.780879974365234]}\n",
      "{'ampl_guess': nan, 'sigma_guess': nan, 'ampl_boundaires': [nan, nan], 'sigma_boundaries': [nan, nan]}\n",
      "{'ampl_guess': nan, 'sigma_guess': nan, 'ampl_boundaires': [nan, nan], 'sigma_boundaries': [nan, nan]}\n",
      "{'ampl_guess': 61.74614097363614, 'sigma_guess': 4.460381703468347, 'ampl_boundaires': [107.63749284076064, 308.7307048681807], 'sigma_boundaries': [0.4460381703468347, 8.125280380249023]}\n",
      "{'ampl_guess': 60.81110372015254, 'sigma_guess': 3.4583011409140467, 'ampl_boundaires': [128.5608165805478, 304.0555186007627], 'sigma_boundaries': [0.3458301140914047, 7.618430137634277]}\n",
      "{'ampl_guess': nan, 'sigma_guess': nan, 'ampl_boundaires': [nan, nan], 'sigma_boundaries': [nan, nan]}\n",
      "{'ampl_guess': 72.85415290890532, 'sigma_guess': 7.019395654828787, 'ampl_boundaires': [144.71590117719, 364.27076454452657], 'sigma_boundaries': [0.7019395654828787, 12.176065444946289]}\n",
      "{'ampl_guess': 128.48373707263687, 'sigma_guess': 6.262423367055014, 'ampl_boundaires': [125.99251322515444, 642.4186853631844], 'sigma_boundaries': [0.6262423367055014, 12.26309585571289]}\n",
      "{'ampl_guess': 264.18921493534185, 'sigma_guess': 22.726688511686, 'ampl_boundaires': [496.2722761073444, 1320.9460746767093], 'sigma_boundaries': [2.2726688511686, 42.56996154785156]}\n",
      "{'ampl_guess': 54.719508584407684, 'sigma_guess': 4.392319499448076, 'ampl_boundaires': [87.39240374879901, 273.59754292203843], 'sigma_boundaries': [0.43923194994480763, 8.782645225524902]}\n",
      "{'ampl_guess': nan, 'sigma_guess': nan, 'ampl_boundaires': [nan, nan], 'sigma_boundaries': [nan, nan]}\n",
      "{'ampl_guess': nan, 'sigma_guess': nan, 'ampl_boundaires': [nan, nan], 'sigma_boundaries': [nan, nan]}\n",
      "{'ampl_guess': 101.4647352111381, 'sigma_guess': 5.923151224421817, 'ampl_boundaires': [196.36400986368787, 507.32367605569056], 'sigma_boundaries': [0.5923151224421817, 12.289118766784668]}\n",
      "{'ampl_guess': nan, 'sigma_guess': nan, 'ampl_boundaires': [nan, nan], 'sigma_boundaries': [nan, nan]}\n",
      "{'ampl_guess': 186.86654465174064, 'sigma_guess': 11.49242098135205, 'ampl_boundaires': [341.8486215978776, 934.3327232587033], 'sigma_boundaries': [1.149242098135205, 24.082372665405273]}\n",
      "{'ampl_guess': 132.53159214842134, 'sigma_guess': 6.041441156865814, 'ampl_boundaires': [234.45392777273216, 662.6579607421068], 'sigma_boundaries': [0.6041441156865814, 12.931937217712402]}\n",
      "{'ampl_guess': 199.7915570574233, 'sigma_guess': 12.290899587623805, 'ampl_boundaires': [245.14802341986163, 998.9577852871164], 'sigma_boundaries': [1.2290899587623805, 24.837570190429688]}\n",
      "{'ampl_guess': 52.46570989279029, 'sigma_guess': 4.9482373606817305, 'ampl_boundaires': [146.51203252143853, 262.32854946395145], 'sigma_boundaries': [0.49482373606817304, 9.625591278076172]}\n",
      "{'ampl_guess': 57.40036657168537, 'sigma_guess': 4.400332535625545, 'ampl_boundaires': [131.27976968747777, 287.00183285842684], 'sigma_boundaries': [0.4400332535625545, 9.221278190612793]}\n",
      "{'ampl_guess': nan, 'sigma_guess': nan, 'ampl_boundaires': [nan, nan], 'sigma_boundaries': [nan, nan]}\n",
      "{'ampl_guess': 68.7198666618013, 'sigma_guess': 4.793355187508472, 'ampl_boundaires': [151.98745057124123, 343.59933330900657], 'sigma_boundaries': [0.4793355187508472, 10.550041198730469]}\n",
      "{'ampl_guess': nan, 'sigma_guess': nan, 'ampl_boundaires': [nan, nan], 'sigma_boundaries': [nan, nan]}\n",
      "{'ampl_guess': nan, 'sigma_guess': nan, 'ampl_boundaires': [nan, nan], 'sigma_boundaries': [nan, nan]}\n",
      "{'ampl_guess': 95.32632438618201, 'sigma_guess': 5.00483444368139, 'ampl_boundaires': [176.86871763729215, 476.63162193091006], 'sigma_boundaries': [0.500483444368139, 10.512614250183105]}\n",
      "{'ampl_guess': 106.56450898997188, 'sigma_guess': 5.994755650663377, 'ampl_boundaires': [219.8037151466917, 532.8225449498594], 'sigma_boundaries': [0.5994755650663377, 11.807696342468262]}\n",
      "{'ampl_guess': nan, 'sigma_guess': nan, 'ampl_boundaires': [nan, nan], 'sigma_boundaries': [nan, nan]}\n",
      "{'ampl_guess': 121.32960938273479, 'sigma_guess': 9.916606109443183, 'ampl_boundaires': [209.02937496037495, 606.6480469136739], 'sigma_boundaries': [0.9916606109443183, 18.087827682495117]}\n",
      "{'ampl_guess': 299.15799127668936, 'sigma_guess': 7.815284667248316, 'ampl_boundaires': [404.66422281497523, 1495.789956383447], 'sigma_boundaries': [0.7815284667248317, 20.550704956054688]}\n",
      "{'ampl_guess': 151.39433709689578, 'sigma_guess': 10.212693610945257, 'ampl_boundaires': [323.37700184374484, 756.9716854844789], 'sigma_boundaries': [1.0212693610945256, 20.332889556884766]}\n",
      "{'ampl_guess': 92.80407175775787, 'sigma_guess': 6.465693405698022, 'ampl_boundaires': [225.1266284115209, 464.0203587887894], 'sigma_boundaries': [0.6465693405698022, 13.240222930908203]}\n",
      "{'ampl_guess': nan, 'sigma_guess': nan, 'ampl_boundaires': [nan, nan], 'sigma_boundaries': [nan, nan]}\n",
      "{'ampl_guess': 193.39262877892133, 'sigma_guess': 5.913159054204132, 'ampl_boundaires': [213.75888789001797, 966.9631438946067], 'sigma_boundaries': [0.5913159054204132, 14.289427757263184]}\n",
      "{'ampl_guess': 93.69261364996906, 'sigma_guess': 5.684080740057602, 'ampl_boundaires': [178.33417492837415, 468.4630682498453], 'sigma_boundaries': [0.5684080740057602, 11.832326889038086]}\n",
      "{'ampl_guess': 106.073030311506, 'sigma_guess': 8.817690784803695, 'ampl_boundaires': [194.48109355308284, 530.36515155753], 'sigma_boundaries': [0.8817690784803695, 17.70554542541504]}\n",
      "{'ampl_guess': 141.34618512895082, 'sigma_guess': 13.65213235667195, 'ampl_boundaires': [381.0154915993411, 706.7309256447542], 'sigma_boundaries': [1.365213235667195, 27.065933227539062]}\n",
      "{'ampl_guess': 51.625853066269265, 'sigma_guess': 5.672760899281772, 'ampl_boundaires': [97.63687371412881, 258.12926533134635], 'sigma_boundaries': [0.5672760899281772, 9.405323028564453]}\n",
      "{'ampl_guess': 108.58195347286305, 'sigma_guess': 8.946090242796927, 'ampl_boundaires': [295.3146488563073, 542.9097673643153], 'sigma_boundaries': [0.8946090242796927, 20.998180389404297]}\n",
      "{'ampl_guess': 278.22043923920074, 'sigma_guess': 10.046015813031511, 'ampl_boundaires': [406.88169536212496, 1391.1021961960037], 'sigma_boundaries': [1.004601581303151, 21.217578887939453]}\n",
      "{'ampl_guess': 158.03330096491365, 'sigma_guess': 11.851755230001764, 'ampl_boundaires': [274.976999333062, 790.1665048245683], 'sigma_boundaries': [1.1851755230001764, 22.991498947143555]}\n",
      "{'ampl_guess': 21.604400700443183, 'sigma_guess': 2.9489385285344074, 'ampl_boundaires': [43.18516884862215, 108.02200350221591], 'sigma_boundaries': [0.2948938528534407, 4.951939582824707]}\n",
      "{'ampl_guess': 125.37528431612951, 'sigma_guess': 15.62350115013011, 'ampl_boundaires': [255.1306850578622, 626.8764215806475], 'sigma_boundaries': [1.562350115013011, 28.201902389526367]}\n",
      "{'ampl_guess': 82.36640101617945, 'sigma_guess': 6.047858938190008, 'ampl_boundaires': [170.66866041765778, 411.83200508089726], 'sigma_boundaries': [0.6047858938190008, 12.270201683044434]}\n",
      "{'ampl_guess': 127.24639152212342, 'sigma_guess': 11.46872298093695, 'ampl_boundaires': [277.93202934990546, 636.2319576106171], 'sigma_boundaries': [1.1468722980936952, 21.483505249023438]}\n",
      "{'ampl_guess': 50.69757138558545, 'sigma_guess': 3.7402003121356753, 'ampl_boundaires': [120.95149810853536, 253.48785692792725], 'sigma_boundaries': [0.3740200312135675, 8.036620140075684]}\n",
      "{'ampl_guess': nan, 'sigma_guess': nan, 'ampl_boundaires': [nan, nan], 'sigma_boundaries': [nan, nan]}\n",
      "{'ampl_guess': 154.17998534930135, 'sigma_guess': 7.815564623340449, 'ampl_boundaires': [243.30595609298018, 770.8999267465067], 'sigma_boundaries': [0.7815564623340449, 15.83655071258545]}\n",
      "{'ampl_guess': 57.15490453126516, 'sigma_guess': 5.68207403458407, 'ampl_boundaires': [150.84133633011595, 285.77452265632576], 'sigma_boundaries': [0.568207403458407, 10.471332550048828]}\n",
      "{'ampl_guess': 114.43005156494687, 'sigma_guess': 11.240741868444434, 'ampl_boundaires': [233.56578748569802, 572.1502578247344], 'sigma_boundaries': [1.1240741868444435, 19.387733459472656]}\n",
      "{'ampl_guess': 38.56734996834118, 'sigma_guess': 5.543326452099443, 'ampl_boundaires': [68.19580059182564, 192.83674984170594], 'sigma_boundaries': [0.5543326452099443, 8.823060989379883]}\n",
      "{'ampl_guess': nan, 'sigma_guess': nan, 'ampl_boundaires': [nan, nan], 'sigma_boundaries': [nan, nan]}\n",
      "{'ampl_guess': 93.06829927817749, 'sigma_guess': 5.463513515287801, 'ampl_boundaires': [154.4577144532925, 465.3414963908874], 'sigma_boundaries': [0.5463513515287801, 10.767170906066895]}\n",
      "{'ampl_guess': 2643.9396090422806, 'sigma_guess': 5.6020688046990434, 'ampl_boundaires': [533.4729636581598, 13219.698045211404], 'sigma_boundaries': [0.5602068804699043, 82.28890991210938]}\n"
     ]
    },
    {
     "name": "stderr",
     "output_type": "stream",
     "text": [
      "/home/nicolas/.installs/anaconda3/lib/python3.7/site-packages/ztflc-0.2.2-py3.7.egg/ztflc/fitter.py:136: RuntimeWarning: divide by zero encountered in log\n"
     ]
    },
    {
     "name": "stdout",
     "output_type": "stream",
     "text": [
      "{'ampl_guess': 104.7434398766337, 'sigma_guess': 12.36489000328695, 'ampl_boundaires': [209.18663207327697, 523.7171993831685], 'sigma_boundaries': [1.236489000328695, 21.660463333129883]}\n",
      "{'ampl_guess': 2009.699316686999, 'sigma_guess': 5.666213037349114, 'ampl_boundaires': [304.8883999278394, 10048.496583434995], 'sigma_boundaries': [0.5666213037349114, 60.37824249267578]}\n",
      "{'ampl_guess': nan, 'sigma_guess': nan, 'ampl_boundaires': [nan, nan], 'sigma_boundaries': [nan, nan]}\n",
      "{'ampl_guess': 136.96010199785994, 'sigma_guess': 7.473719146931083, 'ampl_boundaires': [240.09663350283526, 684.8005099892997], 'sigma_boundaries': [0.7473719146931084, 15.369826316833496]}\n",
      "{'ampl_guess': 1036.8903313389224, 'sigma_guess': 6.9699325034597095, 'ampl_boundaires': [171.55450581796586, 5184.451656694612], 'sigma_boundaries': [0.6969932503459709, 42.28263473510742]}\n",
      "{'ampl_guess': nan, 'sigma_guess': nan, 'ampl_boundaires': [nan, nan], 'sigma_boundaries': [nan, nan]}\n",
      "{'ampl_guess': nan, 'sigma_guess': nan, 'ampl_boundaires': [nan, nan], 'sigma_boundaries': [nan, nan]}\n",
      "{'ampl_guess': 270.6923119471501, 'sigma_guess': 8.272728680034131, 'ampl_boundaires': [276.7195259482014, 1353.4615597357501], 'sigma_boundaries': [0.8272728680034132, 19.473649978637695]}\n",
      "{'ampl_guess': nan, 'sigma_guess': nan, 'ampl_boundaires': [nan, nan], 'sigma_boundaries': [nan, nan]}\n",
      "{'ampl_guess': nan, 'sigma_guess': nan, 'ampl_boundaires': [nan, nan], 'sigma_boundaries': [nan, nan]}\n",
      "{'ampl_guess': 281.9545068033111, 'sigma_guess': 17.01466518440228, 'ampl_boundaires': [517.5405595701677, 1409.7725340165557], 'sigma_boundaries': [1.701466518440228, 34.203495025634766]}\n",
      "{'ampl_guess': 150.64489402636679, 'sigma_guess': 7.286465990165242, 'ampl_boundaires': [230.14525882053306, 753.224470131834], 'sigma_boundaries': [0.7286465990165242, 15.150592803955078]}\n",
      "{'ampl_guess': 175.29157585887614, 'sigma_guess': 7.062111581593536, 'ampl_boundaires': [329.616110385834, 876.4578792943807], 'sigma_boundaries': [0.7062111581593535, 15.660501480102539]}\n",
      "{'ampl_guess': nan, 'sigma_guess': nan, 'ampl_boundaires': [nan, nan], 'sigma_boundaries': [nan, nan]}\n",
      "{'ampl_guess': 1763.9420390894854, 'sigma_guess': 6.688265568541782, 'ampl_boundaires': [600.2614727753805, 8819.710195447427], 'sigma_boundaries': [0.6688265568541782, 56.76757049560547]}\n",
      "{'ampl_guess': 197.25019949700487, 'sigma_guess': 14.91760034733552, 'ampl_boundaires': [421.5058227757128, 986.2509974850243], 'sigma_boundaries': [1.491760034733552, 29.56102752685547]}\n",
      "{'ampl_guess': 791.8588499166316, 'sigma_guess': 5.777464477739391, 'ampl_boundaires': [738.8744286895597, 3959.294249583158], 'sigma_boundaries': [0.5777464477739391, 26.986923217773438]}\n",
      "{'ampl_guess': 78.3166909069581, 'sigma_guess': 4.669731950117382, 'ampl_boundaires': [107.20081414490703, 391.5834545347905], 'sigma_boundaries': [0.4669731950117382, 9.816300392150879]}\n",
      "{'ampl_guess': nan, 'sigma_guess': nan, 'ampl_boundaires': [nan, nan], 'sigma_boundaries': [nan, nan]}\n",
      "{'ampl_guess': 57.91879582614019, 'sigma_guess': 5.442265837638691, 'ampl_boundaires': [171.85484911823656, 289.593979130701], 'sigma_boundaries': [0.5442265837638691, 11.227357864379883]}\n",
      "{'ampl_guess': 132.61342398426078, 'sigma_guess': 8.677603159963923, 'ampl_boundaires': [330.81476797095763, 663.0671199213039], 'sigma_boundaries': [0.8677603159963923, 18.498987197875977]}\n",
      "{'ampl_guess': 99.86821120191507, 'sigma_guess': 5.987999235581277, 'ampl_boundaires': [242.55919995232625, 499.34105600957537], 'sigma_boundaries': [0.5987999235581276, 11.922073364257812]}\n",
      "{'ampl_guess': nan, 'sigma_guess': nan, 'ampl_boundaires': [nan, nan], 'sigma_boundaries': [nan, nan]}\n",
      "{'ampl_guess': 1811.8961451092985, 'sigma_guess': 5.525105976436475, 'ampl_boundaires': [238.53974409977656, 9059.480725546491], 'sigma_boundaries': [0.5525105976436475, 49.707969665527344]}\n",
      "{'ampl_guess': 305.99956495653265, 'sigma_guess': 14.50671105318385, 'ampl_boundaires': [471.4931601866864, 1529.9978247826632], 'sigma_boundaries': [1.450671105318385, 30.83086395263672]}\n",
      "{'ampl_guess': 1664.062602066669, 'sigma_guess': 5.879829079604029, 'ampl_boundaires': [174.1991141570001, 8320.313010333344], 'sigma_boundaries': [0.5879829079604029, 56.33598327636719]}\n",
      "{'ampl_guess': nan, 'sigma_guess': nan, 'ampl_boundaires': [nan, nan], 'sigma_boundaries': [nan, nan]}\n",
      "{'ampl_guess': 883.1095128495319, 'sigma_guess': 6.320909446716741, 'ampl_boundaires': [694.0852009536308, 4415.5475642476595], 'sigma_boundaries': [0.6320909446716741, 30.880773544311523]}\n",
      "{'ampl_guess': nan, 'sigma_guess': nan, 'ampl_boundaires': [nan, nan], 'sigma_boundaries': [nan, nan]}\n",
      "{'ampl_guess': nan, 'sigma_guess': nan, 'ampl_boundaires': [nan, nan], 'sigma_boundaries': [nan, nan]}\n",
      "{'ampl_guess': nan, 'sigma_guess': nan, 'ampl_boundaires': [nan, nan], 'sigma_boundaries': [nan, nan]}\n",
      "{'ampl_guess': nan, 'sigma_guess': nan, 'ampl_boundaires': [nan, nan], 'sigma_boundaries': [nan, nan]}\n",
      "{'ampl_guess': nan, 'sigma_guess': nan, 'ampl_boundaires': [nan, nan], 'sigma_boundaries': [nan, nan]}\n",
      "{'ampl_guess': nan, 'sigma_guess': nan, 'ampl_boundaires': [nan, nan], 'sigma_boundaries': [nan, nan]}\n",
      "{'ampl_guess': nan, 'sigma_guess': nan, 'ampl_boundaires': [nan, nan], 'sigma_boundaries': [nan, nan]}\n",
      "{'ampl_guess': nan, 'sigma_guess': nan, 'ampl_boundaires': [nan, nan], 'sigma_boundaries': [nan, nan]}\n",
      "{'ampl_guess': nan, 'sigma_guess': nan, 'ampl_boundaires': [nan, nan], 'sigma_boundaries': [nan, nan]}\n",
      "{'ampl_guess': nan, 'sigma_guess': nan, 'ampl_boundaires': [nan, nan], 'sigma_boundaries': [nan, nan]}\n",
      "{'ampl_guess': nan, 'sigma_guess': nan, 'ampl_boundaires': [nan, nan], 'sigma_boundaries': [nan, nan]}\n",
      "{'ampl_guess': nan, 'sigma_guess': nan, 'ampl_boundaires': [nan, nan], 'sigma_boundaries': [nan, nan]}\n",
      "{'ampl_guess': nan, 'sigma_guess': nan, 'ampl_boundaires': [nan, nan], 'sigma_boundaries': [nan, nan]}\n",
      "{'ampl_guess': nan, 'sigma_guess': nan, 'ampl_boundaires': [nan, nan], 'sigma_boundaries': [nan, nan]}\n",
      "{'ampl_guess': 122.02253130560698, 'sigma_guess': 5.443803828745849, 'ampl_boundaires': [130.79070064007425, 610.1126565280349], 'sigma_boundaries': [0.5443803828745849, 11.763669967651367]}\n",
      "{'ampl_guess': nan, 'sigma_guess': nan, 'ampl_boundaires': [nan, nan], 'sigma_boundaries': [nan, nan]}\n",
      "{'ampl_guess': 93.89780520936127, 'sigma_guess': 8.096737393338172, 'ampl_boundaires': [255.2542838321156, 469.4890260468063], 'sigma_boundaries': [0.8096737393338171, 16.398191452026367]}\n",
      "{'ampl_guess': 53.14820920511505, 'sigma_guess': 4.847489222465228, 'ampl_boundaires': [102.29464274749894, 265.74104602557526], 'sigma_boundaries': [0.4847489222465228, 8.666942596435547]}\n",
      "{'ampl_guess': 263.00377207294906, 'sigma_guess': 19.999694188927585, 'ampl_boundaires': [678.817243069052, 1315.0188603647453], 'sigma_boundaries': [1.9999694188927584, 42.066349029541016]}\n",
      "{'ampl_guess': 71.8370638929377, 'sigma_guess': 4.310510815040246, 'ampl_boundaires': [103.98817353103736, 359.1853194646885], 'sigma_boundaries': [0.4310510815040246, 9.741039276123047]}\n",
      "{'ampl_guess': 148.96498913276423, 'sigma_guess': 8.945694345292901, 'ampl_boundaires': [305.684056279814, 744.8249456638212], 'sigma_boundaries': [0.8945694345292902, 17.802860260009766]}\n",
      "{'ampl_guess': 51.18536390224762, 'sigma_guess': 5.096599243355645, 'ampl_boundaires': [119.58563890136357, 255.9268195112381], 'sigma_boundaries': [0.5096599243355645, 9.51672649383545]}\n",
      "{'ampl_guess': 55.81940954408731, 'sigma_guess': 5.1221774034349545, 'ampl_boundaires': [171.66351293745282, 279.09704772043654], 'sigma_boundaries': [0.5122177403434954, 10.39784049987793]}\n",
      "{'ampl_guess': 215.41221990773857, 'sigma_guess': 15.157187619334456, 'ampl_boundaires': [291.06652666556363, 1077.0610995386928], 'sigma_boundaries': [1.5157187619334456, 28.638059616088867]}\n",
      "{'ampl_guess': nan, 'sigma_guess': nan, 'ampl_boundaires': [nan, nan], 'sigma_boundaries': [nan, nan]}\n",
      "{'ampl_guess': 2045.8115012155406, 'sigma_guess': 6.835679418085521, 'ampl_boundaires': [229.399592751074, 10229.057506077703], 'sigma_boundaries': [0.6835679418085521, 63.70556640625]}\n",
      "{'ampl_guess': nan, 'sigma_guess': nan, 'ampl_boundaires': [nan, nan], 'sigma_boundaries': [nan, nan]}\n",
      "{'ampl_guess': nan, 'sigma_guess': nan, 'ampl_boundaires': [nan, nan], 'sigma_boundaries': [nan, nan]}\n",
      "{'ampl_guess': 94.26021563354335, 'sigma_guess': 5.764037896674282, 'ampl_boundaires': [252.49223466487615, 471.30107816771675], 'sigma_boundaries': [0.5764037896674281, 12.366340637207031]}\n",
      "{'ampl_guess': 328.79534414826526, 'sigma_guess': 16.010209590303738, 'ampl_boundaires': [558.4334903745113, 1643.9767207413263], 'sigma_boundaries': [1.601020959030374, 33.36824417114258]}\n",
      "{'ampl_guess': 191.7060400277292, 'sigma_guess': 12.291712591426716, 'ampl_boundaires': [448.82614326434077, 958.530200138646], 'sigma_boundaries': [1.2291712591426716, 25.321577072143555]}\n",
      "{'ampl_guess': nan, 'sigma_guess': nan, 'ampl_boundaires': [nan, nan], 'sigma_boundaries': [nan, nan]}\n",
      "{'ampl_guess': 76.519584235851, 'sigma_guess': 4.334797712992584, 'ampl_boundaires': [116.57521605617026, 382.597921179255], 'sigma_boundaries': [0.4334797712992584, 9.196483612060547]}\n",
      "{'ampl_guess': 133.42409272023497, 'sigma_guess': 12.715679228488161, 'ampl_boundaires': [264.9503332420896, 667.1204636011748], 'sigma_boundaries': [1.2715679228488161, 24.270288467407227]}\n",
      "{'ampl_guess': 71.73736540773324, 'sigma_guess': 7.813971135886744, 'ampl_boundaires': [1066.6067430582104, 358.6868270386662], 'sigma_boundaries': [0.7813971135886744, 27.08575439453125]}\n",
      "{'ampl_guess': 64.40724859202783, 'sigma_guess': 6.1510269998998695, 'ampl_boundaires': [160.08569466023684, 322.03624296013913], 'sigma_boundaries': [0.6151026999899869, 11.601020812988281]}\n",
      "{'ampl_guess': 121.85516712908237, 'sigma_guess': 7.144762255157249, 'ampl_boundaires': [465.09650767085446, 609.2758356454119], 'sigma_boundaries': [0.7144762255157249, 18.914304733276367]}\n",
      "{'ampl_guess': 126.39771372474918, 'sigma_guess': 8.556572344264373, 'ampl_boundaires': [313.9859811277738, 631.9885686237459], 'sigma_boundaries': [0.8556572344264373, 17.858102798461914]}\n",
      "{'ampl_guess': 60.554391953760714, 'sigma_guess': 4.716050897648681, 'ampl_boundaires': [117.57383601500726, 302.7719597688036], 'sigma_boundaries': [0.4716050897648681, 10.242398262023926]}\n",
      "{'ampl_guess': 154.44205185138728, 'sigma_guess': 6.031586136854882, 'ampl_boundaires': [364.5731636808227, 772.2102592569363], 'sigma_boundaries': [0.6031586136854882, 14.444188117980957]}\n",
      "{'ampl_guess': 112.27260942973913, 'sigma_guess': 6.094235502947339, 'ampl_boundaires': [230.87851337761543, 561.3630471486957], 'sigma_boundaries': [0.6094235502947339, 13.827127456665039]}\n",
      "{'ampl_guess': 200.96596533947505, 'sigma_guess': 18.437421839495723, 'ampl_boundaires': [414.6407456309836, 1004.8298266973753], 'sigma_boundaries': [1.8437421839495722, 34.06515884399414]}\n",
      "{'ampl_guess': 251.90665606861455, 'sigma_guess': 17.84865438286551, 'ampl_boundaires': [453.29715632835126, 1259.5332803430729], 'sigma_boundaries': [1.7848654382865512, 34.04697036743164]}\n",
      "{'ampl_guess': 185.4860364176343, 'sigma_guess': 14.567079766869185, 'ampl_boundaires': [311.0735403837545, 927.4301820881715], 'sigma_boundaries': [1.4567079766869184, 27.549394607543945]}\n",
      "{'ampl_guess': 101.27234720727162, 'sigma_guess': 9.538302714671994, 'ampl_boundaires': [178.982518676593, 506.36173603635814], 'sigma_boundaries': [0.9538302714671995, 17.636079788208008]}\n",
      "{'ampl_guess': nan, 'sigma_guess': nan, 'ampl_boundaires': [nan, nan], 'sigma_boundaries': [nan, nan]}\n",
      "{'ampl_guess': 57.63399560242442, 'sigma_guess': 5.392952915233195, 'ampl_boundaires': [120.58517681489097, 288.1699780121221], 'sigma_boundaries': [0.5392952915233196, 9.220996856689453]}\n",
      "{'ampl_guess': 1223.65012550979, 'sigma_guess': 15.947041315697074, 'ampl_boundaires': [392.8085702514598, 6118.25062754895], 'sigma_boundaries': [1.5947041315697075, 45.24224090576172]}\n",
      "{'ampl_guess': 2284.5006806892948, 'sigma_guess': 6.939589080655603, 'ampl_boundaires': [188.65864082016256, 11422.503403446473], 'sigma_boundaries': [0.6939589080655603, 67.39358520507812]}\n",
      "{'ampl_guess': 462.487909929363, 'sigma_guess': 7.318943017732118, 'ampl_boundaires': [253.298600488239, 2312.439549646815], 'sigma_boundaries': [0.7318943017732118, 20.628173828125]}\n",
      "{'ampl_guess': nan, 'sigma_guess': nan, 'ampl_boundaires': [nan, nan], 'sigma_boundaries': [nan, nan]}\n",
      "{'ampl_guess': 87.91910893850962, 'sigma_guess': 5.713605856860084, 'ampl_boundaires': [145.97746734469123, 439.5955446925481], 'sigma_boundaries': [0.5713605856860083, 13.657331466674805]}\n",
      "{'ampl_guess': nan, 'sigma_guess': nan, 'ampl_boundaires': [nan, nan], 'sigma_boundaries': [nan, nan]}\n",
      "{'ampl_guess': nan, 'sigma_guess': nan, 'ampl_boundaires': [nan, nan], 'sigma_boundaries': [nan, nan]}\n",
      "{'ampl_guess': 145.6103619647488, 'sigma_guess': 9.86679230599911, 'ampl_boundaires': [237.8522725328787, 728.051809823744], 'sigma_boundaries': [0.986679230599911, 20.926679611206055]}\n",
      "{'ampl_guess': 62.48163304527641, 'sigma_guess': 3.4721632092335857, 'ampl_boundaires': [100.36010104758603, 312.40816522638204], 'sigma_boundaries': [0.3472163209233586, 7.298145771026611]}\n",
      "{'ampl_guess': 221.2779121313887, 'sigma_guess': 6.7219592739737095, 'ampl_boundaires': [191.90806655584507, 1106.3895606569436], 'sigma_boundaries': [0.672195927397371, 14.587228775024414]}\n",
      "{'ampl_guess': 107.77003211121756, 'sigma_guess': 5.147467477384101, 'ampl_boundaires': [162.9955919048015, 538.8501605560879], 'sigma_boundaries': [0.5147467477384101, 10.525418281555176]}\n",
      "{'ampl_guess': 3512.790761174244, 'sigma_guess': 9.184366811273605, 'ampl_boundaires': [363.64392579733635, 17563.95380587122], 'sigma_boundaries': [0.9184366811273605, 86.78660583496094]}\n",
      "{'ampl_guess': 103.61472852651423, 'sigma_guess': 6.1101435130108985, 'ampl_boundaires': [208.21174506799844, 518.0736426325711], 'sigma_boundaries': [0.6110143513010898, 13.508559226989746]}\n",
      "{'ampl_guess': 92.53974861705801, 'sigma_guess': 7.579534066239289, 'ampl_boundaires': [152.92329581609295, 462.69874308529006], 'sigma_boundaries': [0.757953406623929, 13.651056289672852]}\n",
      "{'ampl_guess': 211.1160198400843, 'sigma_guess': 6.777677605906398, 'ampl_boundaires': [261.8549517778926, 1055.5800992004215], 'sigma_boundaries': [0.6777677605906398, 15.218422889709473]}\n",
      "{'ampl_guess': nan, 'sigma_guess': nan, 'ampl_boundaires': [nan, nan], 'sigma_boundaries': [nan, nan]}\n",
      "{'ampl_guess': 56.291649422166536, 'sigma_guess': 3.4107524367608666, 'ampl_boundaires': [105.26677923247945, 281.45824711083264], 'sigma_boundaries': [0.34107524367608666, 8.267892837524414]}\n",
      "{'ampl_guess': 65.62323257193304, 'sigma_guess': 4.758721578984398, 'ampl_boundaires': [100.3587623636625, 328.1161628596652], 'sigma_boundaries': [0.4758721578984398, 9.72636604309082]}\n",
      "{'ampl_guess': 225.89193488654368, 'sigma_guess': 9.076901847725404, 'ampl_boundaires': [483.5553908036577, 1129.4596744327184], 'sigma_boundaries': [0.9076901847725404, 19.883548736572266]}\n",
      "{'ampl_guess': 162.54849059840043, 'sigma_guess': 17.110851310844712, 'ampl_boundaires': [387.852379885452, 812.7424529920022], 'sigma_boundaries': [1.7110851310844712, 29.58371353149414]}\n",
      "{'ampl_guess': 209.18255864933823, 'sigma_guess': 11.063686607206405, 'ampl_boundaires': [289.4452083176713, 1045.912793246691], 'sigma_boundaries': [1.1063686607206404, 22.77647590637207]}\n",
      "{'ampl_guess': 73.32139662734139, 'sigma_guess': 4.8384334205405475, 'ampl_boundaires': [133.72981944228383, 366.60698313670696], 'sigma_boundaries': [0.48384334205405477, 10.708465576171875]}\n",
      "{'ampl_guess': 116.05906734539944, 'sigma_guess': 4.756255349622264, 'ampl_boundaires': [162.68027446864338, 580.2953367269972], 'sigma_boundaries': [0.47562553496222637, 10.795939445495605]}\n",
      "{'ampl_guess': 152.74010648318668, 'sigma_guess': 14.643052497891775, 'ampl_boundaires': [380.2341591653481, 763.7005324159335], 'sigma_boundaries': [1.4643052497891775, 28.683408737182617]}\n",
      "{'ampl_guess': 93.63076645270225, 'sigma_guess': 12.381578497001303, 'ampl_boundaires': [186.26415601021077, 468.1538322635112], 'sigma_boundaries': [1.2381578497001304, 19.917871475219727]}\n",
      "{'ampl_guess': 52.31695342280267, 'sigma_guess': 3.829535290878971, 'ampl_boundaires': [97.92029222479493, 261.58476711401335], 'sigma_boundaries': [0.3829535290878971, 7.990821838378906]}\n",
      "{'ampl_guess': 52.988623738388924, 'sigma_guess': 4.44443869889327, 'ampl_boundaires': [103.27976112276438, 264.9431186919446], 'sigma_boundaries': [0.44444386988932705, 8.279387474060059]}\n",
      "{'ampl_guess': 104.75115643325002, 'sigma_guess': 5.784888969859536, 'ampl_boundaires': [346.78067740514985, 523.75578216625], 'sigma_boundaries': [0.5784888969859536, 13.38766098022461]}\n",
      "{'ampl_guess': 60.68525308829923, 'sigma_guess': 4.027428193065511, 'ampl_boundaires': [120.11480153227666, 303.4262654414961], 'sigma_boundaries': [0.4027428193065511, 8.968950271606445]}\n",
      "{'ampl_guess': 299.6895252905527, 'sigma_guess': 6.1524635422716205, 'ampl_boundaires': [227.817516966197, 1498.4476264527634], 'sigma_boundaries': [0.615246354227162, 15.564552307128906]}\n",
      "{'ampl_guess': 109.55224114266144, 'sigma_guess': 6.212345867594868, 'ampl_boundaires': [244.17675086117666, 547.7612057133072], 'sigma_boundaries': [0.6212345867594868, 12.46473217010498]}\n",
      "{'ampl_guess': nan, 'sigma_guess': nan, 'ampl_boundaires': [nan, nan], 'sigma_boundaries': [nan, nan]}\n",
      "{'ampl_guess': nan, 'sigma_guess': nan, 'ampl_boundaires': [nan, nan], 'sigma_boundaries': [nan, nan]}\n",
      "{'ampl_guess': nan, 'sigma_guess': nan, 'ampl_boundaires': [nan, nan], 'sigma_boundaries': [nan, nan]}\n",
      "{'ampl_guess': 60.03835320631218, 'sigma_guess': 3.5616851788515507, 'ampl_boundaires': [131.04737415835396, 300.1917660315609], 'sigma_boundaries': [0.3561685178851551, 8.018040657043457]}\n",
      "{'ampl_guess': 116.69347921878561, 'sigma_guess': 6.510496277876849, 'ampl_boundaires': [445.54621465925794, 583.4673960939281], 'sigma_boundaries': [0.6510496277876849, 16.138622283935547]}\n",
      "{'ampl_guess': nan, 'sigma_guess': nan, 'ampl_boundaires': [nan, nan], 'sigma_boundaries': [nan, nan]}\n",
      "{'ampl_guess': 69.01293803975885, 'sigma_guess': 5.6229181104847274, 'ampl_boundaires': [121.4422787589554, 345.06469019879427], 'sigma_boundaries': [0.5622918110484727, 10.557183265686035]}\n",
      "{'ampl_guess': 77.5725643240111, 'sigma_guess': 6.011078646146335, 'ampl_boundaires': [459.6141380266775, 387.8628216200555], 'sigma_boundaries': [0.6011078646146335, 14.828156471252441]}\n",
      "{'ampl_guess': 82.13950365317012, 'sigma_guess': 5.090919881572444, 'ampl_boundaires': [160.03651715010338, 410.6975182658506], 'sigma_boundaries': [0.5090919881572444, 10.226367950439453]}\n",
      "{'ampl_guess': 131.54805150778006, 'sigma_guess': 9.975980837609482, 'ampl_boundaires': [323.4639015544376, 657.7402575389003], 'sigma_boundaries': [0.9975980837609482, 19.003124237060547]}\n",
      "{'ampl_guess': 62.69172036301749, 'sigma_guess': 6.4802921261589805, 'ampl_boundaires': [105.05303922003276, 313.45860181508743], 'sigma_boundaries': [0.6480292126158981, 10.436722755432129]}\n",
      "{'ampl_guess': 41.52755304234628, 'sigma_guess': 5.239412551814654, 'ampl_boundaires': [81.0125995263474, 207.63776521173136], 'sigma_boundaries': [0.5239412551814654, 8.48723316192627]}\n",
      "{'ampl_guess': 251.0201795744568, 'sigma_guess': 10.340724742867781, 'ampl_boundaires': [286.22311085808474, 1255.100897872284], 'sigma_boundaries': [1.0340724742867782, 22.660673141479492]}\n",
      "{'ampl_guess': 194.66361354402736, 'sigma_guess': 10.838695227829115, 'ampl_boundaires': [331.546492603556, 973.3180677201368], 'sigma_boundaries': [1.0838695227829116, 21.96359634399414]}\n",
      "{'ampl_guess': nan, 'sigma_guess': nan, 'ampl_boundaires': [nan, nan], 'sigma_boundaries': [nan, nan]}\n",
      "{'ampl_guess': nan, 'sigma_guess': nan, 'ampl_boundaires': [nan, nan], 'sigma_boundaries': [nan, nan]}\n",
      "{'ampl_guess': 100.62748403725395, 'sigma_guess': 5.401591610858991, 'ampl_boundaires': [144.3580040302358, 503.13742018626976], 'sigma_boundaries': [0.5401591610858991, 11.510394096374512]}\n",
      "{'ampl_guess': 141.3851503931534, 'sigma_guess': 9.786133138272614, 'ampl_boundaires': [278.11464496113024, 706.9257519657671], 'sigma_boundaries': [0.9786133138272615, 19.124298095703125]}\n",
      "{'ampl_guess': 45.68912931743412, 'sigma_guess': 4.718815110578577, 'ampl_boundaires': [128.10516682109224, 228.44564658717061], 'sigma_boundaries': [0.4718815110578577, 9.153522491455078]}\n",
      "{'ampl_guess': nan, 'sigma_guess': nan, 'ampl_boundaires': [nan, nan], 'sigma_boundaries': [nan, nan]}\n",
      "{'ampl_guess': 1524.0070421083876, 'sigma_guess': 7.142420804204867, 'ampl_boundaires': [200.18809435962723, 7620.035210541939], 'sigma_boundaries': [0.7142420804204866, 41.617733001708984]}\n",
      "{'ampl_guess': 1657.8102596777928, 'sigma_guess': 6.398731584650995, 'ampl_boundaires': [188.0987267071205, 8289.051298388964], 'sigma_boundaries': [0.6398731584650995, 51.5352668762207]}\n",
      "{'ampl_guess': 64.04725257992209, 'sigma_guess': 5.702079230334383, 'ampl_boundaires': [141.94099108225672, 320.23626289961044], 'sigma_boundaries': [0.5702079230334383, 11.043709754943848]}\n",
      "{'ampl_guess': nan, 'sigma_guess': nan, 'ampl_boundaires': [nan, nan], 'sigma_boundaries': [nan, nan]}\n",
      "{'ampl_guess': 88.5285734807781, 'sigma_guess': 7.567440811410953, 'ampl_boundaires': [224.17444166077416, 442.64286740389053], 'sigma_boundaries': [0.7567440811410953, 17.141271591186523]}\n",
      "{'ampl_guess': 158.33106251761757, 'sigma_guess': 8.900183099365798, 'ampl_boundaires': [246.05408294741494, 791.6553125880878], 'sigma_boundaries': [0.8900183099365797, 17.81598472595215]}\n",
      "{'ampl_guess': 1672.8462045143688, 'sigma_guess': 5.596008038088303, 'ampl_boundaires': [198.54296656195223, 8364.231022571843], 'sigma_boundaries': [0.5596008038088303, 46.7791862487793]}\n",
      "{'ampl_guess': 28.896338728751086, 'sigma_guess': 3.8280839023508184, 'ampl_boundaires': [61.55579924376704, 144.48169364375542], 'sigma_boundaries': [0.38280839023508184, 5.993411064147949]}\n",
      "{'ampl_guess': nan, 'sigma_guess': nan, 'ampl_boundaires': [nan, nan], 'sigma_boundaries': [nan, nan]}\n",
      "{'ampl_guess': 64.4873879489068, 'sigma_guess': 4.814637859669099, 'ampl_boundaires': [180.2907953509972, 322.436939744534], 'sigma_boundaries': [0.48146378596690986, 10.158445358276367]}\n",
      "{'ampl_guess': 184.0119541772736, 'sigma_guess': 13.18338688406585, 'ampl_boundaires': [347.5042934379828, 920.0597708863679], 'sigma_boundaries': [1.318338688406585, 25.40118980407715]}\n",
      "{'ampl_guess': 94.30553008435464, 'sigma_guess': 4.928452382918031, 'ampl_boundaires': [113.71836894308927, 471.5276504217732], 'sigma_boundaries': [0.49284523829180304, 11.829142570495605]}\n",
      "{'ampl_guess': 258.15004839925905, 'sigma_guess': 9.221443319485468, 'ampl_boundaires': [290.49856132492437, 1290.7502419962952], 'sigma_boundaries': [0.9221443319485468, 20.17101287841797]}\n",
      "{'ampl_guess': nan, 'sigma_guess': nan, 'ampl_boundaires': [nan, nan], 'sigma_boundaries': [nan, nan]}\n",
      "{'ampl_guess': nan, 'sigma_guess': nan, 'ampl_boundaires': [nan, nan], 'sigma_boundaries': [nan, nan]}\n",
      "{'ampl_guess': 69.70737076305903, 'sigma_guess': 5.0250131980696295, 'ampl_boundaires': [124.78757338761828, 348.53685381529516], 'sigma_boundaries': [0.502501319806963, 10.326868057250977]}\n",
      "{'ampl_guess': nan, 'sigma_guess': nan, 'ampl_boundaires': [nan, nan], 'sigma_boundaries': [nan, nan]}\n",
      "{'ampl_guess': 231.6029134967465, 'sigma_guess': 15.972243019667644, 'ampl_boundaires': [422.69901088080593, 1158.0145674837324], 'sigma_boundaries': [1.5972243019667645, 31.12962532043457]}\n",
      "{'ampl_guess': nan, 'sigma_guess': nan, 'ampl_boundaires': [nan, nan], 'sigma_boundaries': [nan, nan]}\n",
      "{'ampl_guess': 894.0838906621353, 'sigma_guess': 5.881965158726198, 'ampl_boundaires': [193.22303664986688, 4470.4194533106765], 'sigma_boundaries': [0.5881965158726198, 24.452611923217773]}\n",
      "{'ampl_guess': 558.0626749276951, 'sigma_guess': 9.435389158500435, 'ampl_boundaires': [255.8456378933044, 2790.3133746384756], 'sigma_boundaries': [0.9435389158500435, 28.352949142456055]}\n",
      "{'ampl_guess': nan, 'sigma_guess': nan, 'ampl_boundaires': [nan, nan], 'sigma_boundaries': [nan, nan]}\n",
      "{'ampl_guess': 64.36407603549416, 'sigma_guess': 8.979255142277049, 'ampl_boundaires': [132.7744485362047, 321.82038017747084], 'sigma_boundaries': [0.897925514227705, 14.335175514221191]}\n",
      "{'ampl_guess': nan, 'sigma_guess': nan, 'ampl_boundaires': [nan, nan], 'sigma_boundaries': [nan, nan]}\n",
      "{'ampl_guess': 2162.93410512804, 'sigma_guess': 9.992120730496827, 'ampl_boundaires': [339.47414055055447, 10814.6705256402], 'sigma_boundaries': [0.9992120730496827, 74.142822265625]}\n",
      "{'ampl_guess': 96.62490516416868, 'sigma_guess': 8.232671629184814, 'ampl_boundaires': [237.96715073757312, 483.12452582084336], 'sigma_boundaries': [0.8232671629184815, 16.22803497314453]}\n",
      "{'ampl_guess': 101.55110901028951, 'sigma_guess': 5.661043393602346, 'ampl_boundaires': [120.53785433819439, 507.7555450514475], 'sigma_boundaries': [0.5661043393602345, 10.343951225280762]}\n",
      "{'ampl_guess': -0.40754797747491905, 'sigma_guess': 0.0, 'ampl_boundaires': [0.8150959549498381, -2.0377398873745953], 'sigma_boundaries': [0.0, 0.0]}\n"
     ]
    },
    {
     "name": "stderr",
     "output_type": "stream",
     "text": [
      "/home/nicolas/.installs/anaconda3/lib/python3.7/site-packages/scipy/stats/_distn_infrastructure.py:1740: RuntimeWarning: divide by zero encountered in true_divide\n",
      "  x = np.asarray((x - loc)/scale, dtype=dtyp)\n",
      "/home/nicolas/.installs/anaconda3/lib/python3.7/site-packages/ztflc-0.2.2-py3.7.egg/ztflc/fitter.py:119: RuntimeWarning: divide by zero encountered in true_divide\n"
     ]
    },
    {
     "name": "stdout",
     "output_type": "stream",
     "text": [
      "{'ampl_guess': 56.003798911510735, 'sigma_guess': 4.388930334029682, 'ampl_boundaires': [111.79625787960909, 280.01899455755364], 'sigma_boundaries': [0.43889303340296826, 8.75102424621582]}\n",
      "{'ampl_guess': 65.6898416591564, 'sigma_guess': 6.475976136405268, 'ampl_boundaires': [129.45522955796645, 328.449208295782], 'sigma_boundaries': [0.6475976136405268, 11.854731559753418]}\n",
      "{'ampl_guess': 177.9642583121923, 'sigma_guess': 11.010397389244849, 'ampl_boundaires': [270.4515018333641, 889.8212915609615], 'sigma_boundaries': [1.1010397389244848, 21.842018127441406]}\n",
      "{'ampl_guess': 114.17623709304667, 'sigma_guess': 7.3552743902846185, 'ampl_boundaires': [261.98126616810515, 570.8811854652333], 'sigma_boundaries': [0.7355274390284618, 13.636103630065918]}\n",
      "{'ampl_guess': 57.09415696722123, 'sigma_guess': 4.616222160689296, 'ampl_boundaires': [140.54148309846434, 285.47078483610613], 'sigma_boundaries': [0.4616222160689296, 9.430912017822266]}\n",
      "{'ampl_guess': 1058.8081824895519, 'sigma_guess': 11.778606803494503, 'ampl_boundaires': [385.06634915192546, 5294.040912447759], 'sigma_boundaries': [1.1778606803494502, 39.85327911376953]}\n",
      "{'ampl_guess': 75.47429679923715, 'sigma_guess': 5.536923516931651, 'ampl_boundaires': [225.07893301573134, 377.3714839961858], 'sigma_boundaries': [0.5536923516931651, 11.464177131652832]}\n",
      "{'ampl_guess': 54.10331715542348, 'sigma_guess': 4.943864814141729, 'ampl_boundaires': [119.63342991743339, 270.5165857771174], 'sigma_boundaries': [0.49438648141417285, 9.459592819213867]}\n",
      "{'ampl_guess': nan, 'sigma_guess': nan, 'ampl_boundaires': [nan, nan], 'sigma_boundaries': [nan, nan]}\n",
      "{'ampl_guess': 6.8732269807403465, 'sigma_guess': 1.1774665148970043, 'ampl_boundaires': [13.93210432134994, 34.366134903701735], 'sigma_boundaries': [0.11774665148970043, 1.752612829208374]}\n",
      "{'ampl_guess': 84.98406356023877, 'sigma_guess': 9.542886642200752, 'ampl_boundaires': [174.762776585028, 424.9203178011938], 'sigma_boundaries': [0.9542886642200752, 17.08489418029785]}\n",
      "{'ampl_guess': 76.5691155410214, 'sigma_guess': 4.190379252242699, 'ampl_boundaires': [127.15999859891598, 382.845577705107], 'sigma_boundaries': [0.41903792522426986, 9.464127540588379]}\n",
      "{'ampl_guess': 70.71702052122306, 'sigma_guess': 5.565855494437923, 'ampl_boundaires': [140.16104825145482, 353.5851026061153], 'sigma_boundaries': [0.5565855494437922, 10.69556999206543]}\n",
      "{'ampl_guess': nan, 'sigma_guess': nan, 'ampl_boundaires': [nan, nan], 'sigma_boundaries': [nan, nan]}\n",
      "{'ampl_guess': nan, 'sigma_guess': nan, 'ampl_boundaires': [nan, nan], 'sigma_boundaries': [nan, nan]}\n",
      "{'ampl_guess': 164.6859672190916, 'sigma_guess': 15.38274032481567, 'ampl_boundaires': [341.98761523725153, 823.429836095458], 'sigma_boundaries': [1.538274032481567, 28.384052276611328]}\n",
      "{'ampl_guess': 101.90339324679293, 'sigma_guess': 6.1508354137863135, 'ampl_boundaires': [217.76101734778607, 509.51696623396464], 'sigma_boundaries': [0.6150835413786313, 12.691801071166992]}\n",
      "{'ampl_guess': 10.232010642812998, 'sigma_guess': 1.4782924146503904, 'ampl_boundaires': [20.4566537430326, 51.16005321406499], 'sigma_boundaries': [0.14782924146503904, 2.333524703979492]}\n",
      "{'ampl_guess': 178.11719338842693, 'sigma_guess': 12.848296408818928, 'ampl_boundaires': [414.67574265355574, 890.5859669421346], 'sigma_boundaries': [1.2848296408818929, 25.388442993164062]}\n",
      "{'ampl_guess': 120.6985346571294, 'sigma_guess': 11.768085827325011, 'ampl_boundaires': [238.12859601875016, 603.492673285647], 'sigma_boundaries': [1.1768085827325012, 21.977073669433594]}\n",
      "{'ampl_guess': 55.88917888157298, 'sigma_guess': 5.737692331701008, 'ampl_boundaires': [111.14178487142611, 279.4458944078649], 'sigma_boundaries': [0.5737692331701008, 10.296762466430664]}\n",
      "{'ampl_guess': 108.93068063494111, 'sigma_guess': 3.668389453624159, 'ampl_boundaires': [156.64167209221404, 544.6534031747055], 'sigma_boundaries': [0.3668389453624159, 8.543204307556152]}\n",
      "{'ampl_guess': nan, 'sigma_guess': nan, 'ampl_boundaires': [nan, nan], 'sigma_boundaries': [nan, nan]}\n",
      "{'ampl_guess': 1118.348559619355, 'sigma_guess': 11.206482595149613, 'ampl_boundaires': [632.8806102182143, 5591.742798096775], 'sigma_boundaries': [1.1206482595149612, 41.401363372802734]}\n",
      "{'ampl_guess': 35.36420922931453, 'sigma_guess': 4.343538210833701, 'ampl_boundaires': [76.65938108557904, 176.82104614657266], 'sigma_boundaries': [0.4343538210833701, 7.645763874053955]}\n",
      "{'ampl_guess': nan, 'sigma_guess': nan, 'ampl_boundaires': [nan, nan], 'sigma_boundaries': [nan, nan]}\n",
      "{'ampl_guess': nan, 'sigma_guess': nan, 'ampl_boundaires': [nan, nan], 'sigma_boundaries': [nan, nan]}\n",
      "{'ampl_guess': nan, 'sigma_guess': nan, 'ampl_boundaires': [nan, nan], 'sigma_boundaries': [nan, nan]}\n",
      "{'ampl_guess': 27.86080695122992, 'sigma_guess': 3.7952618783875773, 'ampl_boundaires': [55.829320586135395, 139.3040347561496], 'sigma_boundaries': [0.37952618783875774, 6.041363716125488]}\n",
      "{'ampl_guess': 221.28571474625724, 'sigma_guess': 8.778584594923869, 'ampl_boundaires': [343.48617626935663, 1106.4285737312862], 'sigma_boundaries': [0.8778584594923868, 19.09480857849121]}\n",
      "{'ampl_guess': 1502.5397537183046, 'sigma_guess': 6.7891840840769815, 'ampl_boundaires': [167.15838255744853, 7512.698768591523], 'sigma_boundaries': [0.6789184084076981, 47.51632308959961]}\n",
      "{'ampl_guess': 8.7886966181303, 'sigma_guess': 1.3532202630905474, 'ampl_boundaires': [16.467583625039893, 43.943483090651505], 'sigma_boundaries': [0.13532202630905474, 2.134202718734741]}\n",
      "{'ampl_guess': 54.60062867098472, 'sigma_guess': 7.962231216345339, 'ampl_boundaires': [131.22353540066172, 273.00314335492357], 'sigma_boundaries': [0.7962231216345339, 13.212200164794922]}\n",
      "{'ampl_guess': 58.66396467014194, 'sigma_guess': 4.571129434980734, 'ampl_boundaires': [111.2942514082875, 293.31982335070967], 'sigma_boundaries': [0.4571129434980734, 9.127195358276367]}\n",
      "{'ampl_guess': nan, 'sigma_guess': nan, 'ampl_boundaires': [nan, nan], 'sigma_boundaries': [nan, nan]}\n",
      "{'ampl_guess': 73.52895478866981, 'sigma_guess': 5.450188029478182, 'ampl_boundaires': [136.0827189923541, 367.64477394334904], 'sigma_boundaries': [0.5450188029478182, 10.405657768249512]}\n",
      "{'ampl_guess': 61.44116008977324, 'sigma_guess': 6.102614390836118, 'ampl_boundaires': [124.62670182812278, 307.20580044886617], 'sigma_boundaries': [0.6102614390836119, 11.264618873596191]}\n",
      "{'ampl_guess': 65.7027169298923, 'sigma_guess': 6.015277987528325, 'ampl_boundaires': [114.53553985812057, 328.5135846494615], 'sigma_boundaries': [0.6015277987528325, 10.654205322265625]}\n",
      "{'ampl_guess': 54.36329435438591, 'sigma_guess': 5.041424563531165, 'ampl_boundaires': [127.37181664372962, 271.8164717719295], 'sigma_boundaries': [0.5041424563531165, 10.277480125427246]}\n",
      "{'ampl_guess': 101.00632202558329, 'sigma_guess': 9.737101232398993, 'ampl_boundaires': [219.3897558294259, 505.0316101279164], 'sigma_boundaries': [0.9737101232398994, 19.71359634399414]}\n",
      "{'ampl_guess': 218.04837541399857, 'sigma_guess': 11.387966252754103, 'ampl_boundaires': [305.2103342873909, 1090.2418770699928], 'sigma_boundaries': [1.1387966252754103, 22.755598068237305]}\n",
      "{'ampl_guess': 83.21345326878942, 'sigma_guess': 7.009741411409181, 'ampl_boundaires': [184.12174538305862, 416.0672663439471], 'sigma_boundaries': [0.7009741411409182, 13.16959285736084]}\n",
      "{'ampl_guess': 107.29723763551287, 'sigma_guess': 9.005450831766655, 'ampl_boundaires': [255.70021857109757, 536.4861881775644], 'sigma_boundaries': [0.9005450831766655, 17.910398483276367]}\n",
      "{'ampl_guess': nan, 'sigma_guess': nan, 'ampl_boundaires': [nan, nan], 'sigma_boundaries': [nan, nan]}\n",
      "{'ampl_guess': nan, 'sigma_guess': nan, 'ampl_boundaires': [nan, nan], 'sigma_boundaries': [nan, nan]}\n",
      "{'ampl_guess': nan, 'sigma_guess': nan, 'ampl_boundaires': [nan, nan], 'sigma_boundaries': [nan, nan]}\n"
     ]
    }
   ],
   "source": [
    "hand_fit = {'ampl': [],\n",
    "            'ampl.err': [],\n",
    "            'obsmjd': []}\n",
    "\n",
    "for i in range(len(df)):\n",
    "    \n",
    "    diffdta = fp_20aaocqkr.get_ith_diffdata(i)\n",
    "    #dta = diffdta._datatmp\n",
    "    dtt = diffdta.diffimg\n",
    "    psa = diffdta.psfimg\n",
    "    if np.shape(psa) == np.shape(dtt):\n",
    "        fit = diffdta.fit_flux()\n",
    "        hand_fit['ampl'].append(fit['ampl'])\n",
    "        hand_fit['ampl.err'].append(fit['ampl.err'])\n",
    "        hand_fit['obsmjd'].append(df['obsmjd'][i])"
   ]
  },
  {
   "cell_type": "code",
   "execution_count": 27,
   "metadata": {},
   "outputs": [
    {
     "data": {
      "application/vnd.jupyter.widget-view+json": {
       "model_id": "",
       "version_major": 2,
       "version_minor": 0
      },
      "text/plain": [
       "Canvas(toolbar=Toolbar(toolitems=[('Home', 'Reset original view', 'home', 'home'), ('Back', 'Back to previous …"
      ]
     },
     "metadata": {},
     "output_type": "display_data"
    },
    {
     "data": {
      "text/plain": [
       "<matplotlib.collections.PathCollection at 0x7fc24ba13c10>"
      ]
     },
     "execution_count": 27,
     "metadata": {},
     "output_type": "execute_result"
    }
   ],
   "source": [
    "plt.close()\n",
    "fig = plt.figure()\n",
    "ax = fig.add_subplot(111)\n",
    "ax.scatter(hand_fit['obsmjd'], hand_fit['ampl'])"
   ]
  },
  {
   "cell_type": "code",
   "execution_count": 39,
   "metadata": {},
   "outputs": [
    {
     "name": "stderr",
     "output_type": "stream",
     "text": [
      "/home/nicolas/.installs/anaconda3/lib/python3.7/site-packages/ipykernel_launcher.py:1: RuntimeWarning: invalid value encountered in greater\n",
      "  \"\"\"Entry point for launching an IPython kernel.\n"
     ]
    },
    {
     "data": {
      "text/plain": [
       "array([ 50,  58,  67,  77, 178, 182, 201, 215, 228, 246, 358])"
      ]
     },
     "execution_count": 39,
     "metadata": {},
     "output_type": "execute_result"
    }
   ],
   "source": [
    "np.asarray(np.where(np.abs(hand_fit['ampl']) > 10000)[0])"
   ]
  },
  {
   "cell_type": "code",
   "execution_count": 76,
   "metadata": {},
   "outputs": [
    {
     "data": {
      "text/html": [
       "<div>\n",
       "<style scoped>\n",
       "    .dataframe tbody tr th:only-of-type {\n",
       "        vertical-align: middle;\n",
       "    }\n",
       "\n",
       "    .dataframe tbody tr th {\n",
       "        vertical-align: top;\n",
       "    }\n",
       "\n",
       "    .dataframe thead th {\n",
       "        text-align: right;\n",
       "    }\n",
       "</style>\n",
       "<table border=\"1\" class=\"dataframe\">\n",
       "  <thead>\n",
       "    <tr style=\"text-align: right;\">\n",
       "      <th></th>\n",
       "      <th>sigma</th>\n",
       "      <th>sigma.err</th>\n",
       "      <th>ampl</th>\n",
       "      <th>ampl.err</th>\n",
       "      <th>fval</th>\n",
       "      <th>chi2</th>\n",
       "      <th>chi2dof</th>\n",
       "      <th>filename</th>\n",
       "      <th>humidity</th>\n",
       "      <th>filter</th>\n",
       "      <th>...</th>\n",
       "      <th>seeing</th>\n",
       "      <th>maglim</th>\n",
       "      <th>status</th>\n",
       "      <th>filterid</th>\n",
       "      <th>fieldid</th>\n",
       "      <th>moonalt</th>\n",
       "      <th>moonillf</th>\n",
       "      <th>target_x</th>\n",
       "      <th>target_y</th>\n",
       "      <th>data_hasnan</th>\n",
       "    </tr>\n",
       "  </thead>\n",
       "  <tbody>\n",
       "    <tr>\n",
       "      <td>249</td>\n",
       "      <td>10.21149</td>\n",
       "      <td>0.297692</td>\n",
       "      <td>247.066494</td>\n",
       "      <td>34.790839</td>\n",
       "      <td>4438.531556</td>\n",
       "      <td>591.859924</td>\n",
       "      <td>0.950016</td>\n",
       "      <td>ztf_20200207511435_000715_zr_c03_o.fits</td>\n",
       "      <td>19.0</td>\n",
       "      <td>ZTF_r</td>\n",
       "      <td>...</td>\n",
       "      <td>1.644</td>\n",
       "      <td>20.95</td>\n",
       "      <td>1</td>\n",
       "      <td>2</td>\n",
       "      <td>715</td>\n",
       "      <td>12.6138</td>\n",
       "      <td>0.956095</td>\n",
       "      <td>632.134502</td>\n",
       "      <td>2954.63529</td>\n",
       "      <td>True</td>\n",
       "    </tr>\n",
       "  </tbody>\n",
       "</table>\n",
       "<p>1 rows × 40 columns</p>\n",
       "</div>"
      ],
      "text/plain": [
       "        sigma  sigma.err        ampl   ampl.err         fval        chi2  \\\n",
       "249  10.21149   0.297692  247.066494  34.790839  4438.531556  591.859924   \n",
       "\n",
       "      chi2dof                                 filename  humidity filter  ...  \\\n",
       "249  0.950016  ztf_20200207511435_000715_zr_c03_o.fits      19.0  ZTF_r  ...   \n",
       "\n",
       "     seeing maglim status  filterid  fieldid  moonalt  moonillf    target_x  \\\n",
       "249   1.644  20.95      1         2      715  12.6138  0.956095  632.134502   \n",
       "\n",
       "       target_y  data_hasnan  \n",
       "249  2954.63529         True  \n",
       "\n",
       "[1 rows x 40 columns]"
      ]
     },
     "execution_count": 76,
     "metadata": {},
     "output_type": "execute_result"
    }
   ],
   "source": [
    "df[df['obsmjd'] == hand_fit['obsmjd'][215]]"
   ]
  },
  {
   "cell_type": "code",
   "execution_count": 94,
   "metadata": {},
   "outputs": [
    {
     "name": "stdout",
     "output_type": "stream",
     "text": [
      "{'ampl_guess': 83.48180202328788, 'sigma_guess': 6.85700415435595, 'ampl_boundaires': [280.8198956819001, 417.4090101164394], 'sigma_boundaries': [0.685700415435595, 13.497124671936035]}\n"
     ]
    },
    {
     "name": "stderr",
     "output_type": "stream",
     "text": [
      "/home/nicolas/.installs/anaconda3/lib/python3.7/site-packages/scipy/stats/_distn_infrastructure.py:899: RuntimeWarning: invalid value encountered in greater_equal\n",
      "  return (a <= x) & (x <= b)\n",
      "/home/nicolas/.installs/anaconda3/lib/python3.7/site-packages/scipy/stats/_distn_infrastructure.py:899: RuntimeWarning: invalid value encountered in less_equal\n",
      "  return (a <= x) & (x <= b)\n"
     ]
    },
    {
     "data": {
      "text/plain": [
       "{'sigma': 6.70687261298757,\n",
       " 'sigma.err': 0.19461312813884257,\n",
       " 'ampl': -65.61120596270908,\n",
       " 'ampl.err': 23.345943259701297,\n",
       " 'fval': 3999.7873487754164,\n",
       " 'chi2': 600.9537,\n",
       " 'chi2dof': 0.964612639352177}"
      ]
     },
     "execution_count": 94,
     "metadata": {},
     "output_type": "execute_result"
    }
   ],
   "source": [
    "diffdta = fp_20aaocqkr.get_ith_diffdata(109)\n",
    "dta = diffdta._datatmp\n",
    "dtt = diffdta.diffimg\n",
    "psa = diffdta.psfimg\n",
    "diffdta.fit_flux()"
   ]
  },
  {
   "cell_type": "code",
   "execution_count": 95,
   "metadata": {},
   "outputs": [
    {
     "name": "stderr",
     "output_type": "stream",
     "text": [
      "/home/nicolas/.installs/anaconda3/lib/python3.7/site-packages/ztflc-0.2.2-py3.7.egg/ztflc/diffdata.py:144: RuntimeWarning: More than 20 figures have been opened. Figures created through the pyplot interface (`matplotlib.pyplot.figure`) are retained until explicitly closed and may consume too much memory. (To control this warning, see the rcParam `figure.max_open_warning`).\n"
     ]
    },
    {
     "data": {
      "application/vnd.jupyter.widget-view+json": {
       "model_id": "",
       "version_major": 2,
       "version_minor": 0
      },
      "text/plain": [
       "Canvas(toolbar=Toolbar(toolitems=[('Home', 'Reset original view', 'home', 'home'), ('Back', 'Back to previous …"
      ]
     },
     "metadata": {},
     "output_type": "display_data"
    }
   ],
   "source": [
    "diffdta.show()"
   ]
  }
 ],
 "metadata": {
  "kernelspec": {
   "display_name": "Python 3",
   "language": "python",
   "name": "python3"
  },
  "language_info": {
   "codemirror_mode": {
    "name": "ipython",
    "version": 3
   },
   "file_extension": ".py",
   "mimetype": "text/x-python",
   "name": "python",
   "nbconvert_exporter": "python",
   "pygments_lexer": "ipython3",
   "version": "3.7.4"
  }
 },
 "nbformat": 4,
 "nbformat_minor": 4
}
