{
 "cells": [
  {
   "cell_type": "markdown",
   "metadata": {},
   "source": [
    "## Modules"
   ]
  },
  {
   "cell_type": "code",
   "execution_count": 1,
   "metadata": {
    "jupyter": {
     "source_hidden": true
    }
   },
   "outputs": [],
   "source": [
    "%matplotlib widget\n",
    "import glob\n",
    "import sncosmo\n",
    "import numpy as np\n",
    "import pandas as pd\n",
    "import astropy as ap\n",
    "import ipywidgets as ipw\n",
    "import matplotlib.pyplot as plt\n",
    "import ztfquery\n",
    "\n",
    "from ztfquery import marshal\n",
    "from ztflc import forcephotometry\n",
    "from sncosmo.models import Source, Model, get_source\n",
    "from sncosmo import get_bandpass, get_magsystem\n",
    "from sncosmo.photdata import photometric_data"
   ]
  },
  {
   "cell_type": "markdown",
   "metadata": {},
   "source": [
    "## Read df, create normalization value, keep those with SNR > 5"
   ]
  },
  {
   "cell_type": "code",
   "execution_count": 28,
   "metadata": {},
   "outputs": [
    {
     "data": {
      "application/vnd.jupyter.widget-view+json": {
       "model_id": "0140b5bcb3c642e6b5fb36ea23b20f16",
       "version_major": 2,
       "version_minor": 0
      },
      "text/plain": [
       "Dropdown(description='SN choice:', options=('../Data/ztf/forcephotometry/ZTF20aanakcd_SNT_5.0.csv', '../Data/z…"
      ]
     },
     "metadata": {},
     "output_type": "display_data"
    }
   ],
   "source": [
    "path = glob.glob(\"../Data/ztf/forcephotometry/*ZTF*\")\n",
    "pc = ipw.Dropdown(options=path,\n",
    "                  description='SN choice:')\n",
    "display(pc)"
   ]
  },
  {
   "cell_type": "code",
   "execution_count": 133,
   "metadata": {},
   "outputs": [],
   "source": [
    "name = pc.value.split('/')[-1].split('_')[0]\n",
    "with_out = pc.value.split('/')[-1].split('_')[1]"
   ]
  },
  {
   "cell_type": "code",
   "execution_count": 138,
   "metadata": {},
   "outputs": [
    {
     "data": {
      "text/html": [
       "<div>\n",
       "<style scoped>\n",
       "    .dataframe tbody tr th:only-of-type {\n",
       "        vertical-align: middle;\n",
       "    }\n",
       "\n",
       "    .dataframe tbody tr th {\n",
       "        vertical-align: top;\n",
       "    }\n",
       "\n",
       "    .dataframe thead th {\n",
       "        text-align: right;\n",
       "    }\n",
       "</style>\n",
       "<table border=\"1\" class=\"dataframe\">\n",
       "  <thead>\n",
       "    <tr style=\"text-align: right;\">\n",
       "      <th></th>\n",
       "      <th>sigma.err</th>\n",
       "      <th>ampl</th>\n",
       "      <th>ampl.err</th>\n",
       "      <th>fval</th>\n",
       "      <th>chi2</th>\n",
       "      <th>chi2dof</th>\n",
       "      <th>filename</th>\n",
       "      <th>humidity</th>\n",
       "      <th>filter</th>\n",
       "      <th>obsmjd</th>\n",
       "      <th>...</th>\n",
       "      <th>maglim</th>\n",
       "      <th>status</th>\n",
       "      <th>filterid</th>\n",
       "      <th>fieldid</th>\n",
       "      <th>moonalt</th>\n",
       "      <th>moonillf</th>\n",
       "      <th>target_x</th>\n",
       "      <th>target_y</th>\n",
       "      <th>data_hasnan</th>\n",
       "      <th>zpcoef</th>\n",
       "    </tr>\n",
       "    <tr>\n",
       "      <th>sigma</th>\n",
       "      <th></th>\n",
       "      <th></th>\n",
       "      <th></th>\n",
       "      <th></th>\n",
       "      <th></th>\n",
       "      <th></th>\n",
       "      <th></th>\n",
       "      <th></th>\n",
       "      <th></th>\n",
       "      <th></th>\n",
       "      <th></th>\n",
       "      <th></th>\n",
       "      <th></th>\n",
       "      <th></th>\n",
       "      <th></th>\n",
       "      <th></th>\n",
       "      <th></th>\n",
       "      <th></th>\n",
       "      <th></th>\n",
       "      <th></th>\n",
       "      <th></th>\n",
       "    </tr>\n",
       "  </thead>\n",
       "  <tbody>\n",
       "    <tr>\n",
       "      <td>NaN</td>\n",
       "      <td>NaN</td>\n",
       "      <td>NaN</td>\n",
       "      <td>0.0</td>\n",
       "      <td>-0.0</td>\n",
       "      <td>0.0</td>\n",
       "      <td>0.0</td>\n",
       "      <td>ztf_20180611238079_000715_zg_c03_o.fits</td>\n",
       "      <td>23.0</td>\n",
       "      <td>ZTF_g</td>\n",
       "      <td>58280.238125</td>\n",
       "      <td>...</td>\n",
       "      <td>21.82</td>\n",
       "      <td>1</td>\n",
       "      <td>1</td>\n",
       "      <td>715</td>\n",
       "      <td>-45.67820</td>\n",
       "      <td>-0.093153</td>\n",
       "      <td>558.514709</td>\n",
       "      <td>-16.070919</td>\n",
       "      <td>True</td>\n",
       "      <td>0.295121</td>\n",
       "    </tr>\n",
       "    <tr>\n",
       "      <td>NaN</td>\n",
       "      <td>NaN</td>\n",
       "      <td>NaN</td>\n",
       "      <td>0.0</td>\n",
       "      <td>-0.0</td>\n",
       "      <td>0.0</td>\n",
       "      <td>0.0</td>\n",
       "      <td>ztf_20180522200868_000715_zr_c03_o.fits</td>\n",
       "      <td>59.0</td>\n",
       "      <td>ZTF_r</td>\n",
       "      <td>58260.200891</td>\n",
       "      <td>...</td>\n",
       "      <td>20.28</td>\n",
       "      <td>1</td>\n",
       "      <td>2</td>\n",
       "      <td>715</td>\n",
       "      <td>46.78990</td>\n",
       "      <td>0.506057</td>\n",
       "      <td>547.237859</td>\n",
       "      <td>89.163715</td>\n",
       "      <td>True</td>\n",
       "      <td>0.309030</td>\n",
       "    </tr>\n",
       "    <tr>\n",
       "      <td>NaN</td>\n",
       "      <td>NaN</td>\n",
       "      <td>NaN</td>\n",
       "      <td>0.0</td>\n",
       "      <td>-0.0</td>\n",
       "      <td>0.0</td>\n",
       "      <td>0.0</td>\n",
       "      <td>ztf_20180603196806_000715_zg_c03_o.fits</td>\n",
       "      <td>41.0</td>\n",
       "      <td>ZTF_g</td>\n",
       "      <td>58272.196829</td>\n",
       "      <td>...</td>\n",
       "      <td>21.75</td>\n",
       "      <td>1</td>\n",
       "      <td>1</td>\n",
       "      <td>715</td>\n",
       "      <td>-19.19330</td>\n",
       "      <td>-0.818466</td>\n",
       "      <td>553.764930</td>\n",
       "      <td>148.052262</td>\n",
       "      <td>True</td>\n",
       "      <td>0.313666</td>\n",
       "    </tr>\n",
       "    <tr>\n",
       "      <td>NaN</td>\n",
       "      <td>NaN</td>\n",
       "      <td>NaN</td>\n",
       "      <td>0.0</td>\n",
       "      <td>-0.0</td>\n",
       "      <td>0.0</td>\n",
       "      <td>0.0</td>\n",
       "      <td>ztf_20200216341134_000715_zi_c03_o.fits</td>\n",
       "      <td>16.0</td>\n",
       "      <td>ZTF_i</td>\n",
       "      <td>58895.341134</td>\n",
       "      <td>...</td>\n",
       "      <td>21.38</td>\n",
       "      <td>1</td>\n",
       "      <td>3</td>\n",
       "      <td>715</td>\n",
       "      <td>-9.70203</td>\n",
       "      <td>-0.457487</td>\n",
       "      <td>625.146999</td>\n",
       "      <td>2945.194820</td>\n",
       "      <td>True</td>\n",
       "      <td>0.176088</td>\n",
       "    </tr>\n",
       "    <tr>\n",
       "      <td>NaN</td>\n",
       "      <td>NaN</td>\n",
       "      <td>NaN</td>\n",
       "      <td>0.0</td>\n",
       "      <td>-0.0</td>\n",
       "      <td>0.0</td>\n",
       "      <td>0.0</td>\n",
       "      <td>ztf_20191210535104_000715_zi_c03_o.fits</td>\n",
       "      <td>29.0</td>\n",
       "      <td>ZTF_i</td>\n",
       "      <td>58827.535104</td>\n",
       "      <td>...</td>\n",
       "      <td>20.88</td>\n",
       "      <td>1</td>\n",
       "      <td>3</td>\n",
       "      <td>715</td>\n",
       "      <td>1.25982</td>\n",
       "      <td>0.968722</td>\n",
       "      <td>591.258402</td>\n",
       "      <td>2953.782242</td>\n",
       "      <td>True</td>\n",
       "      <td>0.200733</td>\n",
       "    </tr>\n",
       "    <tr>\n",
       "      <td>...</td>\n",
       "      <td>...</td>\n",
       "      <td>...</td>\n",
       "      <td>...</td>\n",
       "      <td>...</td>\n",
       "      <td>...</td>\n",
       "      <td>...</td>\n",
       "      <td>...</td>\n",
       "      <td>...</td>\n",
       "      <td>...</td>\n",
       "      <td>...</td>\n",
       "      <td>...</td>\n",
       "      <td>...</td>\n",
       "      <td>...</td>\n",
       "      <td>...</td>\n",
       "      <td>...</td>\n",
       "      <td>...</td>\n",
       "      <td>...</td>\n",
       "      <td>...</td>\n",
       "      <td>...</td>\n",
       "      <td>...</td>\n",
       "      <td>...</td>\n",
       "    </tr>\n",
       "    <tr>\n",
       "      <td>NaN</td>\n",
       "      <td>NaN</td>\n",
       "      <td>NaN</td>\n",
       "      <td>0.0</td>\n",
       "      <td>-0.0</td>\n",
       "      <td>0.0</td>\n",
       "      <td>0.0</td>\n",
       "      <td>ztf_20180609174688_000715_zi_c03_o.fits</td>\n",
       "      <td>22.0</td>\n",
       "      <td>ZTF_i</td>\n",
       "      <td>58278.174722</td>\n",
       "      <td>...</td>\n",
       "      <td>20.89</td>\n",
       "      <td>1</td>\n",
       "      <td>3</td>\n",
       "      <td>715</td>\n",
       "      <td>-54.67030</td>\n",
       "      <td>-0.264620</td>\n",
       "      <td>553.682064</td>\n",
       "      <td>3060.910653</td>\n",
       "      <td>True</td>\n",
       "      <td>0.591656</td>\n",
       "    </tr>\n",
       "    <tr>\n",
       "      <td>NaN</td>\n",
       "      <td>NaN</td>\n",
       "      <td>NaN</td>\n",
       "      <td>0.0</td>\n",
       "      <td>-0.0</td>\n",
       "      <td>0.0</td>\n",
       "      <td>0.0</td>\n",
       "      <td>ztf_20180406357674_000715_zi_c03_o.fits</td>\n",
       "      <td>26.0</td>\n",
       "      <td>ZTF_i</td>\n",
       "      <td>58214.357697</td>\n",
       "      <td>...</td>\n",
       "      <td>19.64</td>\n",
       "      <td>1</td>\n",
       "      <td>3</td>\n",
       "      <td>715</td>\n",
       "      <td>12.18360</td>\n",
       "      <td>-0.682680</td>\n",
       "      <td>544.273400</td>\n",
       "      <td>3032.389011</td>\n",
       "      <td>True</td>\n",
       "      <td>0.924943</td>\n",
       "    </tr>\n",
       "    <tr>\n",
       "      <td>NaN</td>\n",
       "      <td>NaN</td>\n",
       "      <td>NaN</td>\n",
       "      <td>0.0</td>\n",
       "      <td>-0.0</td>\n",
       "      <td>0.0</td>\n",
       "      <td>0.0</td>\n",
       "      <td>ztf_20180505342373_000715_zi_c03_o.fits</td>\n",
       "      <td>26.0</td>\n",
       "      <td>ZTF_i</td>\n",
       "      <td>58243.342407</td>\n",
       "      <td>...</td>\n",
       "      <td>20.39</td>\n",
       "      <td>1</td>\n",
       "      <td>3</td>\n",
       "      <td>715</td>\n",
       "      <td>13.03110</td>\n",
       "      <td>-0.750978</td>\n",
       "      <td>555.069973</td>\n",
       "      <td>3003.914521</td>\n",
       "      <td>True</td>\n",
       "      <td>0.588822</td>\n",
       "    </tr>\n",
       "    <tr>\n",
       "      <td>NaN</td>\n",
       "      <td>NaN</td>\n",
       "      <td>NaN</td>\n",
       "      <td>0.0</td>\n",
       "      <td>-0.0</td>\n",
       "      <td>0.0</td>\n",
       "      <td>0.0</td>\n",
       "      <td>ztf_20180424321343_000715_zi_c03_o.fits</td>\n",
       "      <td>23.0</td>\n",
       "      <td>ZTF_i</td>\n",
       "      <td>58232.321366</td>\n",
       "      <td>...</td>\n",
       "      <td>20.81</td>\n",
       "      <td>1</td>\n",
       "      <td>3</td>\n",
       "      <td>715</td>\n",
       "      <td>27.21710</td>\n",
       "      <td>0.658827</td>\n",
       "      <td>554.269570</td>\n",
       "      <td>3061.438981</td>\n",
       "      <td>True</td>\n",
       "      <td>0.586446</td>\n",
       "    </tr>\n",
       "    <tr>\n",
       "      <td>NaN</td>\n",
       "      <td>NaN</td>\n",
       "      <td>NaN</td>\n",
       "      <td>0.0</td>\n",
       "      <td>-0.0</td>\n",
       "      <td>0.0</td>\n",
       "      <td>0.0</td>\n",
       "      <td>ztf_20190224389444_000715_zi_c03_o.fits</td>\n",
       "      <td>36.0</td>\n",
       "      <td>ZTF_i</td>\n",
       "      <td>58538.389444</td>\n",
       "      <td>...</td>\n",
       "      <td>19.49</td>\n",
       "      <td>1</td>\n",
       "      <td>3</td>\n",
       "      <td>715</td>\n",
       "      <td>30.25730</td>\n",
       "      <td>-0.715611</td>\n",
       "      <td>542.712901</td>\n",
       "      <td>3012.894140</td>\n",
       "      <td>True</td>\n",
       "      <td>1.382713</td>\n",
       "    </tr>\n",
       "  </tbody>\n",
       "</table>\n",
       "<p>161 rows × 40 columns</p>\n",
       "</div>"
      ],
      "text/plain": [
       "       sigma.err  ampl  ampl.err  fval  chi2  chi2dof  \\\n",
       "sigma                                                   \n",
       "NaN          NaN   NaN       0.0  -0.0   0.0      0.0   \n",
       "NaN          NaN   NaN       0.0  -0.0   0.0      0.0   \n",
       "NaN          NaN   NaN       0.0  -0.0   0.0      0.0   \n",
       "NaN          NaN   NaN       0.0  -0.0   0.0      0.0   \n",
       "NaN          NaN   NaN       0.0  -0.0   0.0      0.0   \n",
       "...          ...   ...       ...   ...   ...      ...   \n",
       "NaN          NaN   NaN       0.0  -0.0   0.0      0.0   \n",
       "NaN          NaN   NaN       0.0  -0.0   0.0      0.0   \n",
       "NaN          NaN   NaN       0.0  -0.0   0.0      0.0   \n",
       "NaN          NaN   NaN       0.0  -0.0   0.0      0.0   \n",
       "NaN          NaN   NaN       0.0  -0.0   0.0      0.0   \n",
       "\n",
       "                                      filename  humidity filter        obsmjd  \\\n",
       "sigma                                                                           \n",
       "NaN    ztf_20180611238079_000715_zg_c03_o.fits      23.0  ZTF_g  58280.238125   \n",
       "NaN    ztf_20180522200868_000715_zr_c03_o.fits      59.0  ZTF_r  58260.200891   \n",
       "NaN    ztf_20180603196806_000715_zg_c03_o.fits      41.0  ZTF_g  58272.196829   \n",
       "NaN    ztf_20200216341134_000715_zi_c03_o.fits      16.0  ZTF_i  58895.341134   \n",
       "NaN    ztf_20191210535104_000715_zi_c03_o.fits      29.0  ZTF_i  58827.535104   \n",
       "...                                        ...       ...    ...           ...   \n",
       "NaN    ztf_20180609174688_000715_zi_c03_o.fits      22.0  ZTF_i  58278.174722   \n",
       "NaN    ztf_20180406357674_000715_zi_c03_o.fits      26.0  ZTF_i  58214.357697   \n",
       "NaN    ztf_20180505342373_000715_zi_c03_o.fits      26.0  ZTF_i  58243.342407   \n",
       "NaN    ztf_20180424321343_000715_zi_c03_o.fits      23.0  ZTF_i  58232.321366   \n",
       "NaN    ztf_20190224389444_000715_zi_c03_o.fits      36.0  ZTF_i  58538.389444   \n",
       "\n",
       "       ...  maglim  status  filterid  fieldid   moonalt  moonillf    target_x  \\\n",
       "sigma  ...                                                                      \n",
       "NaN    ...   21.82       1         1      715 -45.67820 -0.093153  558.514709   \n",
       "NaN    ...   20.28       1         2      715  46.78990  0.506057  547.237859   \n",
       "NaN    ...   21.75       1         1      715 -19.19330 -0.818466  553.764930   \n",
       "NaN    ...   21.38       1         3      715  -9.70203 -0.457487  625.146999   \n",
       "NaN    ...   20.88       1         3      715   1.25982  0.968722  591.258402   \n",
       "...    ...     ...     ...       ...      ...       ...       ...         ...   \n",
       "NaN    ...   20.89       1         3      715 -54.67030 -0.264620  553.682064   \n",
       "NaN    ...   19.64       1         3      715  12.18360 -0.682680  544.273400   \n",
       "NaN    ...   20.39       1         3      715  13.03110 -0.750978  555.069973   \n",
       "NaN    ...   20.81       1         3      715  27.21710  0.658827  554.269570   \n",
       "NaN    ...   19.49       1         3      715  30.25730 -0.715611  542.712901   \n",
       "\n",
       "          target_y  data_hasnan    zpcoef  \n",
       "sigma                                      \n",
       "NaN     -16.070919         True  0.295121  \n",
       "NaN      89.163715         True  0.309030  \n",
       "NaN     148.052262         True  0.313666  \n",
       "NaN    2945.194820         True  0.176088  \n",
       "NaN    2953.782242         True  0.200733  \n",
       "...            ...          ...       ...  \n",
       "NaN    3060.910653         True  0.591656  \n",
       "NaN    3032.389011         True  0.924943  \n",
       "NaN    3003.914521         True  0.588822  \n",
       "NaN    3061.438981         True  0.586446  \n",
       "NaN    3012.894140         True  1.382713  \n",
       "\n",
       "[161 rows x 40 columns]"
      ]
     },
     "execution_count": 138,
     "metadata": {},
     "output_type": "execute_result"
    }
   ],
   "source": [
    "df[df['ampl.err'] == 0]"
   ]
  },
  {
   "cell_type": "code",
   "execution_count": 134,
   "metadata": {},
   "outputs": [],
   "source": [
    "df = pd.read_csv(pc.value, index_col=0)\n",
    "\n",
    "scalezp = 25.\n",
    "f0coef = 10**(-(df[\"magzp\"]-scalezp)/2.5)\n",
    "df['zpcoef'] = f0coef\n",
    "\n",
    "df_snr5 = df[df['ampl']/df[df['ampl.err'] != 0]['ampl.err'] > 5]"
   ]
  },
  {
   "cell_type": "markdown",
   "metadata": {},
   "source": [
    "## Plot it (normalized)"
   ]
  },
  {
   "cell_type": "code",
   "execution_count": 135,
   "metadata": {},
   "outputs": [
    {
     "data": {
      "application/vnd.jupyter.widget-view+json": {
       "model_id": "3def9ae3068047fb9b358f6d5b435675",
       "version_major": 2,
       "version_minor": 0
      },
      "text/plain": [
       "Canvas(toolbar=Toolbar(toolitems=[('Home', 'Reset original view', 'home', 'home'), ('Back', 'Back to previous …"
      ]
     },
     "metadata": {},
     "output_type": "display_data"
    }
   ],
   "source": [
    "%matplotlib widget\n",
    "plt.close()\n",
    "fig = plt.figure(figsize = [8,5])\n",
    "ax = fig.add_axes([0.12, 0.12, 0.8, 0.8])\n",
    "\n",
    "ax.scatter(df['obsmjd'], df['ampl']*df['zpcoef'],\n",
    "           c=df['filterid'], alpha=0.2, cmap='viridis')\n",
    "ax.errorbar(df['obsmjd'], df['ampl']*df['zpcoef'],\n",
    "            yerr=df[df['ampl.err'] != 0]['ampl.err']*df['zpcoef'],\n",
    "            ls='None', ecolor='0.6')\n",
    "ax.scatter(df_snr5['obsmjd'], df_snr5['ampl']*df_snr5['zpcoef'],\n",
    "           c=df_snr5['filterid'], cmap='viridis')\n",
    "ax.errorbar(df_snr5['obsmjd'], df_snr5['ampl']*df_snr5['zpcoef'],\n",
    "            yerr=df_snr5['ampl.err']*df_snr5['zpcoef'],\n",
    "            ls='None', ecolor='0.6')\n",
    "\n",
    "plt.title(name + ' ' + with_out + ' badsub')\n",
    "\n",
    "fig.savefig('../Images/' + name + '_' + with_out + '_badsub.pdf', bbox_inches='tight')"
   ]
  },
  {
   "cell_type": "code",
   "execution_count": 136,
   "metadata": {},
   "outputs": [
    {
     "data": {
      "application/vnd.jupyter.widget-view+json": {
       "model_id": "b99b5ba667344b5bade62781fe09057a",
       "version_major": 2,
       "version_minor": 0
      },
      "text/plain": [
       "Canvas(toolbar=Toolbar(toolitems=[('Home', 'Reset original view', 'home', 'home'), ('Back', 'Back to previous …"
      ]
     },
     "metadata": {},
     "output_type": "display_data"
    },
    {
     "name": "stderr",
     "output_type": "stream",
     "text": [
      "/home/nicolas/.installs/anaconda3/lib/python3.7/site-packages/numpy/lib/histograms.py:829: RuntimeWarning: invalid value encountered in greater_equal\n",
      "  keep = (tmp_a >= first_edge)\n",
      "/home/nicolas/.installs/anaconda3/lib/python3.7/site-packages/numpy/lib/histograms.py:830: RuntimeWarning: invalid value encountered in less_equal\n",
      "  keep &= (tmp_a <= last_edge)\n"
     ]
    }
   ],
   "source": [
    "plt.close()\n",
    "fig = plt.figure(figsize = [8,5])\n",
    "ax = fig.add_axes([0.12, 0.12, 0.8, 0.8])\n",
    "\n",
    "ax.hist(df['ampl']*df['zpcoef'], bins=100)\n",
    "\n",
    "ax.set_xlabel('Flux')\n",
    "ax.set_ylabel('N')\n",
    "\n",
    "plt.title(name + ' ' + with_out + ' badsub')\n",
    "\n",
    "fig.savefig('../Images/' + name + '_' + with_out + '_badsub-flux_hist.pdf', bbox_inches='tight')"
   ]
  },
  {
   "cell_type": "code",
   "execution_count": 139,
   "metadata": {},
   "outputs": [
    {
     "data": {
      "application/vnd.jupyter.widget-view+json": {
       "model_id": "7fbd9b99da6e4100a8917b70740b755f",
       "version_major": 2,
       "version_minor": 0
      },
      "text/plain": [
       "Canvas(toolbar=Toolbar(toolitems=[('Home', 'Reset original view', 'home', 'home'), ('Back', 'Back to previous …"
      ]
     },
     "metadata": {},
     "output_type": "display_data"
    },
    {
     "name": "stderr",
     "output_type": "stream",
     "text": [
      "/home/nicolas/.installs/anaconda3/lib/python3.7/site-packages/numpy/lib/histograms.py:829: RuntimeWarning: invalid value encountered in greater_equal\n",
      "  keep = (tmp_a >= first_edge)\n",
      "/home/nicolas/.installs/anaconda3/lib/python3.7/site-packages/numpy/lib/histograms.py:830: RuntimeWarning: invalid value encountered in less_equal\n",
      "  keep &= (tmp_a <= last_edge)\n"
     ]
    }
   ],
   "source": [
    "plt.close()\n",
    "fig = plt.figure(figsize = [8,5])\n",
    "ax = fig.add_axes([0.12, 0.12, 0.8, 0.8])\n",
    "\n",
    "ax.hist((df['ampl']*df['zpcoef'])/(df[df['ampl.err'] != 0]['ampl.err']*df['zpcoef']),\n",
    "        bins=100)\n",
    "\n",
    "ax.set_xlabel('Flux/flux_err')\n",
    "ax.set_ylabel('N')\n",
    "\n",
    "plt.title(name + ' ' + with_out + ' badsub')\n",
    "\n",
    "fig.savefig('../Images/' + name + '_' + with_out + '_badsub-fluxerr_hist.pdf', bbox_inches='tight')"
   ]
  },
  {
   "cell_type": "markdown",
   "metadata": {},
   "source": [
    "# SNCOSMO tests "
   ]
  },
  {
   "cell_type": "markdown",
   "metadata": {},
   "source": [
    "## Create *table* of *non-normalized* data with correct names (+ normalization column, not used) for sncosmo"
   ]
  },
  {
   "cell_type": "code",
   "execution_count": 59,
   "metadata": {},
   "outputs": [],
   "source": [
    "dt = pd.DataFrame({'time': df_snr5['obsmjd'],\n",
    "                   'band': df_snr5['filter'],\n",
    "                   'flux': df_snr5['ampl'],\n",
    "                   'fluxerr': df_snr5['ampl.err'],\n",
    "                   'zp': df_snr5['magzp'],\n",
    "                   'zpsys': ['ab' for i in range(len(df_snr5))],\n",
    "                   'zpcoef': df_snr5['zpcoef']}\n",
    "                 ).sort_values(by='time')\n",
    "\n",
    "dt_sn = ap.table.QTable.from_pandas(dt)\n",
    "tb_g = dt_sn[dt_sn['band']=='ZTF_g']"
   ]
  },
  {
   "cell_type": "markdown",
   "metadata": {},
   "source": [
    "## Fit"
   ]
  },
  {
   "cell_type": "markdown",
   "metadata": {},
   "source": [
    "### Add to registry"
   ]
  },
  {
   "cell_type": "code",
   "execution_count": 60,
   "metadata": {
    "collapsed": true,
    "jupyter": {
     "outputs_hidden": true,
     "source_hidden": true
    }
   },
   "outputs": [
    {
     "ename": "Exception",
     "evalue": "ztf_g already in registry. Use force=True to override.",
     "output_type": "error",
     "traceback": [
      "\u001b[0;31m---------------------------------------------------------------------------\u001b[0m",
      "\u001b[0;31mException\u001b[0m                                 Traceback (most recent call last)",
      "\u001b[0;32m<ipython-input-60-dd17cf32817b>\u001b[0m in \u001b[0;36m<module>\u001b[0;34m\u001b[0m\n\u001b[1;32m      1\u001b[0m \u001b[0mband\u001b[0m \u001b[0;34m=\u001b[0m \u001b[0msncosmo\u001b[0m\u001b[0;34m.\u001b[0m\u001b[0mget_bandpass\u001b[0m\u001b[0;34m(\u001b[0m\u001b[0;34m'ztfg'\u001b[0m\u001b[0;34m)\u001b[0m\u001b[0;34m\u001b[0m\u001b[0;34m\u001b[0m\u001b[0m\n\u001b[1;32m      2\u001b[0m \u001b[0mband\u001b[0m\u001b[0;34m.\u001b[0m\u001b[0mname\u001b[0m \u001b[0;34m=\u001b[0m \u001b[0;34m'ZTF_g'\u001b[0m\u001b[0;34m\u001b[0m\u001b[0;34m\u001b[0m\u001b[0m\n\u001b[0;32m----> 3\u001b[0;31m \u001b[0msncosmo\u001b[0m\u001b[0;34m.\u001b[0m\u001b[0mregistry\u001b[0m\u001b[0;34m.\u001b[0m\u001b[0mregister\u001b[0m\u001b[0;34m(\u001b[0m\u001b[0mband\u001b[0m\u001b[0;34m)\u001b[0m\u001b[0;34m\u001b[0m\u001b[0;34m\u001b[0m\u001b[0m\n\u001b[0m\u001b[1;32m      4\u001b[0m \u001b[0;34m\u001b[0m\u001b[0m\n\u001b[1;32m      5\u001b[0m \u001b[0mband\u001b[0m \u001b[0;34m=\u001b[0m \u001b[0msncosmo\u001b[0m\u001b[0;34m.\u001b[0m\u001b[0mget_bandpass\u001b[0m\u001b[0;34m(\u001b[0m\u001b[0;34m'ztfi'\u001b[0m\u001b[0;34m)\u001b[0m\u001b[0;34m\u001b[0m\u001b[0;34m\u001b[0m\u001b[0m\n",
      "\u001b[0;32m~/.installs/anaconda3/lib/python3.7/site-packages/sncosmo/registry.py\u001b[0m in \u001b[0;36mregister\u001b[0;34m(instance, name, data_class, force)\u001b[0m\n\u001b[1;32m     70\u001b[0m         \u001b[0mdata_class\u001b[0m \u001b[0;34m=\u001b[0m \u001b[0minstance\u001b[0m\u001b[0;34m.\u001b[0m\u001b[0m__class__\u001b[0m\u001b[0;34m\u001b[0m\u001b[0;34m\u001b[0m\u001b[0m\n\u001b[1;32m     71\u001b[0m \u001b[0;34m\u001b[0m\u001b[0m\n\u001b[0;32m---> 72\u001b[0;31m     \u001b[0m_get_registry\u001b[0m\u001b[0;34m(\u001b[0m\u001b[0mdata_class\u001b[0m\u001b[0;34m)\u001b[0m\u001b[0;34m.\u001b[0m\u001b[0mregister\u001b[0m\u001b[0;34m(\u001b[0m\u001b[0minstance\u001b[0m\u001b[0;34m,\u001b[0m \u001b[0mname\u001b[0m\u001b[0;34m=\u001b[0m\u001b[0mname\u001b[0m\u001b[0;34m,\u001b[0m \u001b[0mforce\u001b[0m\u001b[0;34m=\u001b[0m\u001b[0mforce\u001b[0m\u001b[0;34m)\u001b[0m\u001b[0;34m\u001b[0m\u001b[0;34m\u001b[0m\u001b[0m\n\u001b[0m\u001b[1;32m     73\u001b[0m \u001b[0;34m\u001b[0m\u001b[0m\n\u001b[1;32m     74\u001b[0m \u001b[0;34m\u001b[0m\u001b[0m\n",
      "\u001b[0;32m~/.installs/anaconda3/lib/python3.7/site-packages/sncosmo/_registry.py\u001b[0m in \u001b[0;36mregister\u001b[0;34m(self, instance, name, force)\u001b[0m\n\u001b[1;32m     83\u001b[0m         \u001b[0;32mif\u001b[0m \u001b[0;34m(\u001b[0m\u001b[0mkey\u001b[0m \u001b[0;32min\u001b[0m \u001b[0mself\u001b[0m\u001b[0;34m.\u001b[0m\u001b[0m_instances\u001b[0m \u001b[0;32mor\u001b[0m \u001b[0mkey\u001b[0m \u001b[0;32min\u001b[0m \u001b[0mself\u001b[0m\u001b[0;34m.\u001b[0m\u001b[0m_loaders\u001b[0m\u001b[0;34m)\u001b[0m \u001b[0;32mand\u001b[0m \u001b[0;32mnot\u001b[0m \u001b[0mforce\u001b[0m\u001b[0;34m:\u001b[0m\u001b[0;34m\u001b[0m\u001b[0;34m\u001b[0m\u001b[0m\n\u001b[1;32m     84\u001b[0m             raise Exception(\"{0:s} already in registry. Use force=True\"\n\u001b[0;32m---> 85\u001b[0;31m                             \" to override.\".format(name))\n\u001b[0m\u001b[1;32m     86\u001b[0m \u001b[0;34m\u001b[0m\u001b[0m\n\u001b[1;32m     87\u001b[0m         \u001b[0mself\u001b[0m\u001b[0;34m.\u001b[0m\u001b[0m_instances\u001b[0m\u001b[0;34m[\u001b[0m\u001b[0mkey\u001b[0m\u001b[0;34m]\u001b[0m \u001b[0;34m=\u001b[0m \u001b[0minstance\u001b[0m\u001b[0;34m\u001b[0m\u001b[0;34m\u001b[0m\u001b[0m\n",
      "\u001b[0;31mException\u001b[0m: ztf_g already in registry. Use force=True to override."
     ]
    }
   ],
   "source": [
    "band = sncosmo.get_bandpass('ztfg')\n",
    "band.name = 'ZTF_g'\n",
    "sncosmo.registry.register(band)\n",
    "\n",
    "band = sncosmo.get_bandpass('ztfi')\n",
    "band.name = 'ZTF_i'\n",
    "sncosmo.registry.register(band)\n",
    "\n",
    "band = sncosmo.get_bandpass('ztfr')\n",
    "band.name = 'ZTF_r'\n",
    "sncosmo.registry.register(band)"
   ]
  },
  {
   "cell_type": "markdown",
   "metadata": {},
   "source": [
    "### And fit"
   ]
  },
  {
   "cell_type": "code",
   "execution_count": 64,
   "metadata": {},
   "outputs": [],
   "source": [
    "md_sn = sncosmo.Model(source='salt2')\n",
    "res, fitted_model = sncosmo.fit_lc(dt_sn, md_sn,\n",
    "                                   ['z', 't0', 'x0', 'x1', 'c'],\n",
    "                                   bounds={'z':(0.02, 0.7)})"
   ]
  },
  {
   "cell_type": "markdown",
   "metadata": {},
   "source": [
    "## Create time grid for plotting"
   ]
  },
  {
   "cell_type": "code",
   "execution_count": 65,
   "metadata": {
    "jupyter": {
     "source_hidden": true
    }
   },
   "outputs": [],
   "source": [
    "tmin, tmax = [], []\n",
    "tmin.append(np.min(tb_g['time']) - 10.)\n",
    "tmax.append(np.max(tb_g['time']) + 10.)\n",
    "tmin.append(fitted_model.mintime())\n",
    "tmax.append(fitted_model.maxtime())\n",
    "tmin = min(tmin)\n",
    "tmax = max(tmax)\n",
    "tgrid = np.linspace(tmin, tmax, int(tmax - tmin) + 1)"
   ]
  },
  {
   "cell_type": "markdown",
   "metadata": {},
   "source": [
    "## Plot normalized-by-hand data, fitted model and residuals"
   ]
  },
  {
   "cell_type": "code",
   "execution_count": 66,
   "metadata": {
    "jupyter": {
     "source_hidden": true
    }
   },
   "outputs": [
    {
     "data": {
      "application/vnd.jupyter.widget-view+json": {
       "model_id": "dd32afce5a8542bab48fee3d741d807f",
       "version_major": 2,
       "version_minor": 0
      },
      "text/plain": [
       "Canvas(toolbar=Toolbar(toolitems=[('Home', 'Reset original view', 'home', 'home'), ('Back', 'Back to previous …"
      ]
     },
     "metadata": {},
     "output_type": "display_data"
    },
    {
     "data": {
      "text/plain": [
       "(-28.302162115640385, 73.76165714394665)"
      ]
     },
     "execution_count": 66,
     "metadata": {},
     "output_type": "execute_result"
    }
   ],
   "source": [
    "fig = plt.figure(figsize = [8,5])\n",
    "ax = fig.add_axes([0.1, 0.25, 0.85, 0.7])\n",
    "ax2 = fig.add_axes([0.1, 0.1, 0.85, 0.1])\n",
    "\n",
    "toff = fitted_model.parameters[1]\n",
    "ax.errorbar(tb_g['time']-toff,\n",
    "            tb_g['flux']*tb_g['zpcoef'],\n",
    "            tb_g['fluxerr']*tb_g['zpcoef'],\n",
    "            ls='None',\n",
    "            marker='.', markersize=3.)\n",
    "ax.plot(tgrid - toff,\n",
    "        fitted_model.bandflux('ztfg', tgrid, zp=25., zpsys='ab'),\n",
    "        color='C0')\n",
    "\n",
    "residuals = (tb_g['flux']*tb_g['zpcoef'] - fitted_model.bandflux('ztfg', tb_g['time'], zp=25., zpsys='ab'))/(tb_g['fluxerr']*tb_g['zpcoef'])\n",
    "ax2.scatter(tb_g['time'] - toff, residuals, s=5)\n",
    "ax2.axhline(0)\n",
    "ax2.set_xlim(ax.get_xlim())\n",
    "\n",
    "#### Check that plot_lc normalizes the data the same way that we do (or he other way around?)\n",
    "#data = photometric_data(dt_sn)\n",
    "#data = data.normalized(zp=25., zpsys='ab')\n",
    "\n",
    "#mask = data.band == list(set(data.band))[2]\n",
    "#time = data.time[mask]\n",
    "#flux = data.flux[mask]#*dt_sn['zpcoef'][mask]\n",
    "#fluxerr = data.fluxerr[mask]#*dt_sn['zpcoef'][mask]\n",
    "#ax.errorbar(time - toff, flux, fluxerr, ls='None',\n",
    "#            color='r', marker='.', markersize=5.)"
   ]
  },
  {
   "cell_type": "markdown",
   "metadata": {},
   "source": [
    "## Code-copying for understanding"
   ]
  },
  {
   "cell_type": "code",
   "execution_count": 55,
   "metadata": {
    "collapsed": true,
    "jupyter": {
     "outputs_hidden": true,
     "source_hidden": true
    }
   },
   "outputs": [
    {
     "data": {
      "application/vnd.jupyter.widget-view+json": {
       "model_id": "e88709da1ba0457d8d4dc71142bf140a",
       "version_major": 2,
       "version_minor": 0
      },
      "text/plain": [
       "Canvas(toolbar=Toolbar(toolitems=[('Home', 'Reset original view', 'home', 'home'), ('Back', 'Back to previous …"
      ]
     },
     "metadata": {},
     "output_type": "display_data"
    },
    {
     "name": "stdout",
     "output_type": "stream",
     "text": [
      "<Bandpass 'ZTF_g' at 0x7facc00a6e50>\n",
      "<Bandpass 'ZTF_r' at 0x7facc02c6190>\n",
      "<Bandpass 'ZTF_i' at 0x7facc2007050>\n"
     ]
    }
   ],
   "source": [
    "models = [fitted_model]\n",
    "_model_ls = ['-', '--', ':', '-.']\n",
    "\n",
    "zp = 25.\n",
    "zpsys='ab'\n",
    "\n",
    "# Get the model labels\n",
    "model_labels = [None] * len(models)\n",
    "\n",
    "# Color options.\n",
    "cmap = plt.cm.get_cmap('jet_r')\n",
    "cmap_lims=(3000., 10000.)\n",
    "\n",
    "# Standardize and normalize data.\n",
    "data = photometric_data(dt_sn)\n",
    "data = data.normalized(zp=zp, zpsys=zpsys)\n",
    "if not np.all(np.ediff1d(data.time) >= 0.0):\n",
    "    sortidx = np.argsort(data.time)\n",
    "    data = data[sortidx]\n",
    "else:\n",
    "    sortidx = None\n",
    "\n",
    "# Bands to plot\n",
    "bands = set(data.band)\n",
    "\n",
    "# Build figtext (including model parameters, if there is exactly 1 model).\n",
    "\n",
    "figtext = []\n",
    "\n",
    "if len(figtext) == 0:\n",
    "    figtextsize = 0.\n",
    "\n",
    "# Calculate layout of figure (columns, rows, figure size). We have to\n",
    "# calculate these explicitly because plt.tight_layout() doesn't space the\n",
    "# subplots as we'd like them when only some of them have xlabels/xticks.\n",
    "wspace = 0.6  # All in inches.\n",
    "hspace = 0.3\n",
    "lspace = 1.0\n",
    "bspace = 0.7\n",
    "trspace = 0.2\n",
    "ncol = 2\n",
    "nrow = (len(bands) - 1) // ncol + 1\n",
    "hpanel = 2.25\n",
    "wpanel = 3.\n",
    "\n",
    "figsize = (lspace + wpanel * ncol + wspace * (ncol - 1) + trspace,\n",
    "           bspace + hpanel * nrow + hspace * (nrow - 1) + trspace +\n",
    "           figtextsize)\n",
    "\n",
    "# Create the figure and axes.\n",
    "fig, axes = plt.subplots(nrow, ncol, figsize=figsize, squeeze=False)\n",
    "\n",
    "fig.subplots_adjust(left=lspace / figsize[0],\n",
    "                    bottom=bspace / figsize[1],\n",
    "                    right=1. - trspace / figsize[0],\n",
    "                    top=1. - (figtextsize + trspace) / figsize[1],\n",
    "                    wspace=wspace / wpanel,\n",
    "                    hspace=hspace / hpanel)\n",
    "\n",
    "# If there is exactly one model, offset the time axis by the model's t0.\n",
    "toff = models[0].parameters[1]\n",
    "\n",
    "# Global min and max of time axis.\n",
    "tmin, tmax = [], []\n",
    "tmin.append(np.min(data.time) - 10.)\n",
    "tmax.append(np.max(data.time) + 10.)\n",
    "for model in models:\n",
    "    tmin.append(model.mintime())\n",
    "    tmax.append(model.maxtime())\n",
    "tmin = min(tmin)\n",
    "tmax = max(tmax)\n",
    "tgrid = np.linspace(tmin, tmax, int(tmax - tmin) + 1)\n",
    "\n",
    "# Loop over bands\n",
    "bands = list(bands)\n",
    "waves = [get_bandpass(b).wave_eff for b in bands]\n",
    "waves_and_bands = sorted(zip(waves, bands))\n",
    "for axnum in range(ncol * nrow):\n",
    "    row = axnum // ncol\n",
    "    col = axnum % ncol\n",
    "    ax = axes[row, col]\n",
    "\n",
    "    if axnum >= len(waves_and_bands):\n",
    "        ax.set_visible(False)\n",
    "        ax.set_frame_on(False)\n",
    "        continue\n",
    "\n",
    "    wave, band = waves_and_bands[axnum]\n",
    "\n",
    "    bandname_coords = (0.92, 0.92)\n",
    "    bandname_ha = 'right'\n",
    "    bandcolor = cmap((cmap_lims[1] - wave) /\n",
    "                     (cmap_lims[1] - cmap_lims[0]))\n",
    "    \n",
    "    print(band)\n",
    "    \n",
    "    # Plot data if there are any.\n",
    "    mask = data.band == band\n",
    "    time = data.time[mask]\n",
    "    flux = data.flux[mask]#*dt_sn['zpcoef'][mask]\n",
    "    fluxerr = data.fluxerr[mask]#*dt_sn['zpcoef'][mask]\n",
    "    ax.errorbar(time - toff, flux, fluxerr, ls='None',\n",
    "                color=bandcolor, marker='.', markersize=3.)\n",
    "\n",
    "    # Plot model(s) if there are any.\n",
    "    lines = []\n",
    "    labels = []\n",
    "    mflux_ranges = []\n",
    "    for i, model in enumerate(models):\n",
    "        if model.bandoverlap(band):\n",
    "            mflux = model.bandflux(band, tgrid, zp=zp, zpsys=zpsys)\n",
    "            mflux_ranges.append((mflux.min(), mflux.max()))\n",
    "            l, = ax.plot(tgrid - toff, mflux,\n",
    "                         ls=_model_ls[i % len(_model_ls)],\n",
    "                         marker='None', color=bandcolor)\n",
    "            lines.append(l)\n",
    "        else:\n",
    "            # Add a dummy line so the legend displays all models in the\n",
    "            # first panel.\n",
    "            lines.append(plt.Line2D([0, 1], [0, 1],\n",
    "                                    ls=_model_ls[i % len(_model_ls)],\n",
    "                                    marker='None', color=bandcolor))\n",
    "        labels.append(model_labels[i])\n",
    "\n",
    "    # Band name in corner\n",
    "    text = band.name if band.name is not None else str(band)\n",
    "    ax.text(bandname_coords[0], bandname_coords[1], text,\n",
    "            color='k', ha=bandname_ha, va='top', transform=ax.transAxes)\n",
    "\n",
    "    ax.axhline(y=0., ls='--', c='k')  # horizontal line at flux = 0.\n",
    "    ax.set_xlim((tmin-toff, tmax-toff))"
   ]
  },
  {
   "cell_type": "markdown",
   "metadata": {},
   "source": [
    "## Code-using for verification"
   ]
  },
  {
   "cell_type": "code",
   "execution_count": 53,
   "metadata": {
    "collapsed": true,
    "jupyter": {
     "outputs_hidden": true
    }
   },
   "outputs": [
    {
     "data": {
      "application/vnd.jupyter.widget-view+json": {
       "model_id": "c83b803b12ba4c1990ddbc9f83c8a7c2",
       "version_major": 2,
       "version_minor": 0
      },
      "text/plain": [
       "Canvas(toolbar=Toolbar(toolitems=[('Home', 'Reset original view', 'home', 'home'), ('Back', 'Back to previous …"
      ]
     },
     "metadata": {},
     "output_type": "display_data"
    },
    {
     "data": {
      "image/png": "[encoded data removed]",
      "text/plain": [
       "<Figure size 780x670 with 7 Axes>"
      ]
     },
     "execution_count": 53,
     "metadata": {},
     "output_type": "execute_result"
    }
   ],
   "source": [
    "sncosmo.plot_lc(dt_sn, model=fitted_model, errors=res.errors)"
   ]
  }
 ],
 "metadata": {
  "kernelspec": {
   "display_name": "Python 3",
   "language": "python",
   "name": "python3"
  },
  "language_info": {
   "codemirror_mode": {
    "name": "ipython",
    "version": 3
   },
   "file_extension": ".py",
   "mimetype": "text/x-python",
   "name": "python",
   "nbconvert_exporter": "python",
   "pygments_lexer": "ipython3",
   "version": "3.7.4"
  }
 },
 "nbformat": 4,
 "nbformat_minor": 4
}
