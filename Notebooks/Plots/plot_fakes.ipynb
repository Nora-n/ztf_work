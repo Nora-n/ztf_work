{
 "cells": [
  {
   "cell_type": "markdown",
   "metadata": {},
   "source": [
    "# Modules"
   ]
  },
  {
   "cell_type": "code",
   "execution_count": 1,
   "metadata": {
    "jupyter": {
     "source_hidden": true
    }
   },
   "outputs": [],
   "source": [
    "import pickle\n",
    "import zogytf\n",
    "import numpy as np\n",
    "import matplotlib.pyplot as plt\n",
    "\n",
    "from zogytf import fakes\n",
    "from astropy.io import fits\n",
    "from astrobject import photometry\n",
    "from scipy.spatial.distance import cdist\n",
    "from astrobject import baseobject\n",
    "from astropy import units"
   ]
  },
  {
   "cell_type": "markdown",
   "metadata": {},
   "source": [
    "# Input"
   ]
  },
  {
   "cell_type": "code",
   "execution_count": 2,
   "metadata": {},
   "outputs": [],
   "source": [
    "your_path = '/home/nicolas/Work/Data/ztf/ZOGYexample/'\n",
    "FILE_IN = your_path + \"ztf_20180216349352_000519_zr_c09_o_q3_newscibmtch.fits\"\n",
    "ztfimg = photometry.Image(FILE_IN, background=0)\n",
    "hdul = fits.open(FILE_IN)\n",
    "header = hdul[0].header"
   ]
  },
  {
   "cell_type": "markdown",
   "metadata": {},
   "source": [
    "### To show, select and convert to code by pressing y"
   ]
  },
  {
   "cell_type": "markdown",
   "metadata": {},
   "source": [
    "ztfimg.show()"
   ]
  },
  {
   "cell_type": "markdown",
   "metadata": {},
   "source": [
    "### Define zoomtarget: how to get ra, dec inside boundaries?"
   ]
  },
  {
   "cell_type": "markdown",
   "metadata": {},
   "source": [
    "sn_ra, sn_dec = 8.1570973, 41.31573905\n",
    "sn_target = baseobject.get_target(name=\"SN_test\", ra=sn_ra, dec=sn_dec)\n",
    "ztfimg.set_target(sn_target)"
   ]
  },
  {
   "cell_type": "markdown",
   "metadata": {},
   "source": [
    "### To show, select and convert to code by pressing y"
   ]
  },
  {
   "cell_type": "markdown",
   "metadata": {},
   "source": [
    "ztfimg.show(zoomon=\"target\")"
   ]
  },
  {
   "cell_type": "markdown",
   "metadata": {},
   "source": [
    "### Catalogue selection"
   ]
  },
  {
   "cell_type": "code",
   "execution_count": 3,
   "metadata": {},
   "outputs": [],
   "source": [
    "ztfimg.download_catalogue(\"gaia\")"
   ]
  },
  {
   "cell_type": "markdown",
   "metadata": {},
   "source": [
    "### To show, select and convert to code by pressing y"
   ]
  },
  {
   "cell_type": "markdown",
   "metadata": {},
   "source": [
    "ztfimg.show(show_catalogue=True)#, zoomon=\"target\")"
   ]
  },
  {
   "cell_type": "markdown",
   "metadata": {},
   "source": [
    "## Select isolated stars depending on mag and arcsecs isolation"
   ]
  },
  {
   "cell_type": "code",
   "execution_count": 4,
   "metadata": {},
   "outputs": [
    {
     "name": "stderr",
     "output_type": "stream",
     "text": [
      "/home/nicolas/.installs/anaconda3/lib/python3.7/site-packages/astrobject-0.8.6-py3.7.egg/astrobject/catalogue/basecatalogue.py:541: RuntimeWarning: invalid value encountered in greater_equal\n",
      "/home/nicolas/.installs/anaconda3/lib/python3.7/site-packages/astrobject-0.8.6-py3.7.egg/astrobject/catalogue/basecatalogue.py:541: RuntimeWarning: invalid value encountered in less_equal\n"
     ]
    }
   ],
   "source": [
    "arcsecs = 20\n",
    "mag_range = [14, 20]\n",
    "ztfimg.catalogue.define_around(arcsecs*units.arcsec)\n",
    "maskiso = ztfimg.catalogue.get_mask(catmag_range=mag_range,\n",
    "                                    isolated_only=True)"
   ]
  },
  {
   "cell_type": "markdown",
   "metadata": {},
   "source": [
    "### Take values"
   ]
  },
  {
   "cell_type": "code",
   "execution_count": 5,
   "metadata": {},
   "outputs": [],
   "source": [
    "ra, dec, mag, color = ztfimg.catalogue.get([\"ra\", \"dec\", \"mag\", \"BP-RP\"],\n",
    "                                           mask=maskiso)\n",
    "x,y = ztfimg.coords_to_pixel(ra,dec).T"
   ]
  },
  {
   "cell_type": "markdown",
   "metadata": {},
   "source": [
    "### Show it"
   ]
  },
  {
   "cell_type": "markdown",
   "metadata": {},
   "source": [
    "%matplotlib widget\n",
    "plt.close()\n",
    "ax = ztfimg.show()['ax']\n",
    "ax.scatter(x,y, marker=\"x\", color=\"C1\")"
   ]
  },
  {
   "cell_type": "markdown",
   "metadata": {},
   "source": [
    "# Select star to duplicate"
   ]
  },
  {
   "cell_type": "markdown",
   "metadata": {},
   "source": [
    "### _star_idx_ is the star closest to the center"
   ]
  },
  {
   "cell_type": "code",
   "execution_count": 6,
   "metadata": {},
   "outputs": [],
   "source": [
    "center_point = np.asarray(np.shape(ztfimg.rawdata))/2\n",
    "stars_coords = np.dstack([x.ravel(),y.ravel()])[0]\n",
    "\n",
    "#star_idx = cdist([center_point], stars_coords).argmin()"
   ]
  },
  {
   "cell_type": "markdown",
   "metadata": {},
   "source": [
    "### Or you can set it yourself with _star_idx = int_"
   ]
  },
  {
   "cell_type": "code",
   "execution_count": 7,
   "metadata": {},
   "outputs": [],
   "source": [
    "star_idx = 1000"
   ]
  },
  {
   "cell_type": "markdown",
   "metadata": {},
   "source": [
    "## Actual patching"
   ]
  },
  {
   "cell_type": "code",
   "execution_count": 8,
   "metadata": {},
   "outputs": [],
   "source": [
    "patch_size = 25\n",
    "data_patch = fakes.get_patch(ztfimg.rawdata,\n",
    "                             x[star_idx], y[star_idx],\n",
    "                             patch_size, patch_size)\n",
    "patch = fakes.StarPatch(data_patch)"
   ]
  },
  {
   "cell_type": "markdown",
   "metadata": {},
   "source": [
    "#### Plot the patch if you want"
   ]
  },
  {
   "cell_type": "code",
   "execution_count": 14,
   "metadata": {},
   "outputs": [
    {
     "data": {
      "image/png": "[encoded data removed]",
      "text/plain": [
       "<Figure size 432x288 with 1 Axes>"
      ]
     },
     "metadata": {
      "needs_background": "light"
     },
     "output_type": "display_data"
    }
   ],
   "source": [
    "plt.close()\n",
    "fig, ax = plt.subplots()\n",
    "prop={'interpolation': 'nearest',\n",
    "      'origin': 'lower',\n",
    "      'cmap': 'viridis'}\n",
    "im = ax.imshow(data_patch, **prop)#, vmin=120, vmax=1500)\n",
    "\n",
    "#path_r = '../../Data/ztf/ZOGYexample/central_patch'\n",
    "#with open(path_r, 'wb') as f:\n",
    "#    pickle.dump(data_patch, f)\n",
    "\n",
    "#fig.savefig('../../Images/png/central_patch.png')"
   ]
  },
  {
   "cell_type": "markdown",
   "metadata": {},
   "source": [
    "### Plot the ztfimg around the future patch, to see before/after"
   ]
  },
  {
   "cell_type": "code",
   "execution_count": 9,
   "metadata": {},
   "outputs": [
    {
     "data": {
      "image/png": "[encoded data removed]",
      "text/plain": [
       "<Figure size 432x288 with 1 Axes>"
      ]
     },
     "metadata": {
      "needs_background": "light"
     },
     "output_type": "display_data"
    }
   ],
   "source": [
    "view_x_inc = 10\n",
    "view_y_inc = 10\n",
    "view_size = 40\n",
    "ztf_zoomed = fakes.get_patch(ztfimg.rawdata,\n",
    "                             x[star_idx]+view_x_inc,\n",
    "                             y[star_idx]+view_y_inc,\n",
    "                             view_size, view_size)\n",
    "plt.close()\n",
    "fig, ax = plt.subplots()\n",
    "prop={'interpolation': 'nearest',\n",
    "      'origin': 'lower',\n",
    "      'cmap': 'viridis'}\n",
    "im = ax.imshow(ztf_zoomed, **prop)#, vmin=120, vmax=1500)"
   ]
  },
  {
   "cell_type": "markdown",
   "metadata": {},
   "source": [
    "## Choose the patch's _x, y_ translations, and inject it"
   ]
  },
  {
   "cell_type": "code",
   "execution_count": 10,
   "metadata": {},
   "outputs": [
    {
     "name": "stderr",
     "output_type": "stream",
     "text": [
      "WARNING: Input data contains invalid values (NaNs or infs), which were automatically clipped. [astropy.stats.sigma_clipping]\n",
      "WARNING: Input data contains invalid values (NaNs or infs), which were automatically clipped. [astropy.stats.sigma_clipping]\n",
      "WARNING: Input data contains invalid values (NaNs or infs), which were automatically clipped. [astropy.stats.sigma_clipping]\n"
     ]
    }
   ],
   "source": [
    "x_inc, y_inc = 20, 20\n",
    "ztf_patched = patch.inject_in_image(ztfimg.rawdata,\n",
    "                                    x[star_idx]+x_inc,\n",
    "                                    y[star_idx]+y_inc)"
   ]
  },
  {
   "cell_type": "markdown",
   "metadata": {},
   "source": [
    "#### Get _x, y_ and _ra, dec_ of new star"
   ]
  },
  {
   "cell_type": "code",
   "execution_count": 11,
   "metadata": {},
   "outputs": [
    {
     "name": "stdout",
     "output_type": "stream",
     "text": [
      "xy_new = [1710.1536345841566, 822.1381841907526]\n",
      "radec_new = [145.47729522608248, 12.483558931690714]\n"
     ]
    }
   ],
   "source": [
    "x_new, y_new = x[star_idx]+x_inc, y[star_idx]+y_inc\n",
    "xy_new = [x_new, y_new]\n",
    "\n",
    "ra_new, dec_new = ztfimg.pixel_to_coords(x_new, y_new)\n",
    "radec_new = [ra_new, dec_new]\n",
    "\n",
    "print('xy_new =', xy_new)\n",
    "print('radec_new =', radec_new)"
   ]
  },
  {
   "cell_type": "markdown",
   "metadata": {},
   "source": [
    "## Visualize change"
   ]
  },
  {
   "cell_type": "code",
   "execution_count": 12,
   "metadata": {},
   "outputs": [
    {
     "data": {
      "image/png": "[encoded data removed]",
      "text/plain": [
       "<Figure size 432x288 with 1 Axes>"
      ]
     },
     "metadata": {
      "needs_background": "light"
     },
     "output_type": "display_data"
    }
   ],
   "source": [
    "ztf_patched_zoomed = fakes.get_patch(ztf_patched,\n",
    "                                     x[star_idx]+view_x_inc,\n",
    "                                     y[star_idx]+view_y_inc,\n",
    "                                     view_size, view_size)\n",
    "\n",
    "plt.close()\n",
    "fig, ax = plt.subplots()\n",
    "im = ax.imshow(ztf_patched_zoomed, **prop)#, vmin=120, vmax=1500)"
   ]
  },
  {
   "cell_type": "markdown",
   "metadata": {},
   "source": [
    "# Create new fake.fits from modified data"
   ]
  },
  {
   "cell_type": "markdown",
   "metadata": {},
   "source": [
    "#### Convert to cell (y) to run"
   ]
  },
  {
   "cell_type": "markdown",
   "metadata": {},
   "source": [
    "FILE_OUT = FILE_IN[:-16] + 'fake_' + FILE_IN[-16:]\n",
    "fake_sci = fits.HDUList(fits.PrimaryHDU(data=ztf_patched,\n",
    "                                        header=header))\n",
    "fake_sci.writeto(FILE_OUT, overwrite=True)"
   ]
  },
  {
   "cell_type": "code",
   "execution_count": null,
   "metadata": {},
   "outputs": [],
   "source": []
  }
 ],
 "metadata": {
  "kernelspec": {
   "display_name": "Python 3",
   "language": "python",
   "name": "python3"
  },
  "language_info": {
   "codemirror_mode": {
    "name": "ipython",
    "version": 3
   },
   "file_extension": ".py",
   "mimetype": "text/x-python",
   "name": "python",
   "nbconvert_exporter": "python",
   "pygments_lexer": "ipython3",
   "version": "3.7.4"
  }
 },
 "nbformat": 4,
 "nbformat_minor": 4
}
