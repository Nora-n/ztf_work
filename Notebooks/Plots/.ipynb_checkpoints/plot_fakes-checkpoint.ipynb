{
 "cells": [
  {
   "cell_type": "markdown",
   "metadata": {},
   "source": [
    "# Modules"
   ]
  },
  {
   "cell_type": "code",
   "execution_count": 69,
   "metadata": {},
   "outputs": [],
   "source": [
    "import zogytf\n",
    "import numpy as np\n",
    "from zogytf import fakes\n",
    "from astropy.io import fits\n",
    "import matplotlib.pyplot as plt\n",
    "from astrobject import photometry\n",
    "from astrobject import baseobject\n",
    "from astropy import units"
   ]
  },
  {
   "cell_type": "markdown",
   "metadata": {},
   "source": [
    "# Input"
   ]
  },
  {
   "cell_type": "code",
   "execution_count": 59,
   "metadata": {},
   "outputs": [],
   "source": [
    "your_path = '/home/nicolas/Work/Data/ztf/ZOGYexample/'\n",
    "FILE_IN = your_path + \"ztf_20180216349352_000519_zr_c09_o_q3_newscibmtch.fits\"\n",
    "ztfimg = photometry.Image(FILE_IN, background=0)\n",
    "hdul = fits.open(FILE_IN)\n",
    "header = hdul[0].header"
   ]
  },
  {
   "cell_type": "markdown",
   "metadata": {},
   "source": [
    "### To show, select and convert to code by pressing y"
   ]
  },
  {
   "cell_type": "markdown",
   "metadata": {},
   "source": [
    "ztfimg.show()"
   ]
  },
  {
   "cell_type": "markdown",
   "metadata": {},
   "source": [
    "### Define zoomtarget: how to get ra, dec inside boundaries?"
   ]
  },
  {
   "cell_type": "code",
   "execution_count": 61,
   "metadata": {},
   "outputs": [
    {
     "name": "stderr",
     "output_type": "stream",
     "text": [
      "/home/nicolas/.installs/anaconda3/lib/python3.7/site-packages/astrobject-0.8.6-py3.7.egg/astrobject/photometry.py:529: UserWarning: The new 'target' is not inside the image  boundaries\n",
      "--> object radec: 8.1571,+41.3157\n",
      "  newtarget.dec))\n"
     ]
    }
   ],
   "source": [
    "sn_ra, sn_dec = 8.1570973, 41.31573905\n",
    "sn_target = baseobject.get_target(name=\"SN_test\", ra=sn_ra, dec=sn_dec)\n",
    "ztfimg.set_target(sn_target)"
   ]
  },
  {
   "cell_type": "markdown",
   "metadata": {},
   "source": [
    "### To show, select and convert to code by pressing y"
   ]
  },
  {
   "cell_type": "markdown",
   "metadata": {},
   "source": [
    "ztfimg.show(zoomon=\"target\")"
   ]
  },
  {
   "cell_type": "markdown",
   "metadata": {},
   "source": [
    "### Catalogue selection"
   ]
  },
  {
   "cell_type": "code",
   "execution_count": 31,
   "metadata": {},
   "outputs": [],
   "source": [
    "ztfimg.download_catalogue(\"gaia\")"
   ]
  },
  {
   "cell_type": "markdown",
   "metadata": {},
   "source": [
    "### To show, select and convert to code by pressing y"
   ]
  },
  {
   "cell_type": "markdown",
   "metadata": {},
   "source": [
    "ztfimg.show(show_catalogue=True)#, zoomon=\"target\")"
   ]
  },
  {
   "cell_type": "markdown",
   "metadata": {},
   "source": [
    "## Select isolated stars depending on mag and arcsecs isolation"
   ]
  },
  {
   "cell_type": "code",
   "execution_count": 32,
   "metadata": {},
   "outputs": [
    {
     "name": "stderr",
     "output_type": "stream",
     "text": [
      "/home/nicolas/.installs/anaconda3/lib/python3.7/site-packages/astrobject-0.8.6-py3.7.egg/astrobject/catalogue/basecatalogue.py:541: RuntimeWarning: invalid value encountered in greater_equal\n",
      "/home/nicolas/.installs/anaconda3/lib/python3.7/site-packages/astrobject-0.8.6-py3.7.egg/astrobject/catalogue/basecatalogue.py:541: RuntimeWarning: invalid value encountered in less_equal\n"
     ]
    }
   ],
   "source": [
    "arcsecs = 20\n",
    "mag_range = [14, 20]\n",
    "ztfimg.catalogue.define_around(arcsecs*units.arcsec)\n",
    "maskiso = ztfimg.catalogue.get_mask(catmag_range=mag_range,\n",
    "                                    isolated_only=True)"
   ]
  },
  {
   "cell_type": "markdown",
   "metadata": {},
   "source": [
    "### Take values"
   ]
  },
  {
   "cell_type": "code",
   "execution_count": 33,
   "metadata": {},
   "outputs": [],
   "source": [
    "ra, dec, mag, color = ztfimg.catalogue.get([\"ra\", \"dec\", \"mag\", \"BP-RP\"],\n",
    "                                          mask=maskiso)\n",
    "x,y = ztfimg.coords_to_pixel(ra,dec).T"
   ]
  },
  {
   "cell_type": "markdown",
   "metadata": {},
   "source": [
    "### Show it"
   ]
  },
  {
   "cell_type": "markdown",
   "metadata": {},
   "source": [
    "%matplotlib widget\n",
    "plt.close()\n",
    "ax = ztfimg.show()['ax']\n",
    "ax.scatter(x,y, marker=\"x\", color=\"C1\")"
   ]
  },
  {
   "cell_type": "markdown",
   "metadata": {},
   "source": [
    "# Select star to duplicate"
   ]
  },
  {
   "cell_type": "code",
   "execution_count": 101,
   "metadata": {},
   "outputs": [
    {
     "data": {
      "text/plain": [
       "(3080, 3072)"
      ]
     },
     "execution_count": 101,
     "metadata": {},
     "output_type": "execute_result"
    }
   ],
   "source": [
    "np.shape(ztfimg.rawdata)\n",
    "star_idx = "
   ]
  },
  {
   "cell_type": "code",
   "execution_count": 95,
   "metadata": {},
   "outputs": [
    {
     "data": {
      "application/vnd.jupyter.widget-view+json": {
       "model_id": "af6bc4c949cc4757bb692faac908de0c",
       "version_major": 2,
       "version_minor": 0
      },
      "text/plain": [
       "Canvas(toolbar=Toolbar(toolitems=[('Home', 'Reset original view', 'home', 'home'), ('Back', 'Back to previous …"
      ]
     },
     "metadata": {},
     "output_type": "display_data"
    }
   ],
   "source": [
    "star_idx = 1000\n",
    "view_x_inc = 10\n",
    "view_y_inc = 20\n",
    "view_size = 40\n",
    "ztf_zoomed = fakes.get_patch(ztfimg.rawdata,\n",
    "                             x[star_idx]+view_x_inc,\n",
    "                             y[star_idx]+view_y_inc,\n",
    "                             view_size, view_size)\n",
    "plt.close()\n",
    "fig, ax = plt.subplots()\n",
    "prop={'interpolation': 'nearest',\n",
    "      'origin': 'lower',\n",
    "      'cmap': 'viridis'}\n",
    "im = ax.imshow(ztf_zoomed, **prop)#, vmin=120, vmax=1500)"
   ]
  },
  {
   "cell_type": "markdown",
   "metadata": {},
   "source": [
    "## Actual patching"
   ]
  },
  {
   "cell_type": "code",
   "execution_count": 96,
   "metadata": {},
   "outputs": [],
   "source": [
    "patch_size = 23\n",
    "data_patch = fakes.get_patch(ztfimg.rawdata,\n",
    "                             x[star_idx], y[star_idx],\n",
    "                             patch_size, patch_size)"
   ]
  },
  {
   "cell_type": "markdown",
   "metadata": {},
   "source": [
    "plt.close()\n",
    "fig, ax = plt.subplots()\n",
    "im = ax.imshow(data_patch, **prop)#, vmin=120, vmax=1500)"
   ]
  },
  {
   "cell_type": "markdown",
   "metadata": {},
   "source": [
    "## Make it a StarPatch object, choose its x, y translations, and inject it"
   ]
  },
  {
   "cell_type": "code",
   "execution_count": 97,
   "metadata": {},
   "outputs": [
    {
     "name": "stderr",
     "output_type": "stream",
     "text": [
      "WARNING: Input data contains invalid values (NaNs or infs), which were automatically clipped. [astropy.stats.sigma_clipping]\n"
     ]
    }
   ],
   "source": [
    "patch = fakes.StarPatch(data_patch)\n",
    "x_inc, y_inc = 20, 20\n",
    "ztf_patched = patch.inject_in_image(ztfimg.rawdata,\n",
    "                                    x[star_idx]+x_inc,\n",
    "                                    y[star_idx]+y_inc)"
   ]
  },
  {
   "cell_type": "markdown",
   "metadata": {},
   "source": [
    "#### Get ra, dec of new star"
   ]
  },
  {
   "cell_type": "code",
   "execution_count": 98,
   "metadata": {},
   "outputs": [
    {
     "name": "stdout",
     "output_type": "stream",
     "text": [
      "145.47729522608248 12.483558931690714\n"
     ]
    }
   ],
   "source": [
    "ra_new, dec_new = ztfimg.pixel_to_coords(x[star_idx]+x_inc,\n",
    "                                         y[star_idx]+y_inc)\n",
    "print(ra_new, dec_new)"
   ]
  },
  {
   "cell_type": "markdown",
   "metadata": {},
   "source": [
    "## Visualize change"
   ]
  },
  {
   "cell_type": "code",
   "execution_count": 99,
   "metadata": {},
   "outputs": [
    {
     "data": {
      "application/vnd.jupyter.widget-view+json": {
       "model_id": "e643651aacac4fb39668b5e56e725444",
       "version_major": 2,
       "version_minor": 0
      },
      "text/plain": [
       "Canvas(toolbar=Toolbar(toolitems=[('Home', 'Reset original view', 'home', 'home'), ('Back', 'Back to previous …"
      ]
     },
     "metadata": {},
     "output_type": "display_data"
    }
   ],
   "source": [
    "ztf_patched_zoomed = fakes.get_patch(ztf_patched,\n",
    "                                     x[star_idx]+view_x_inc,\n",
    "                                     y[star_idx]+view_y_inc,\n",
    "                                     view_size, view_size)\n",
    "\n",
    "plt.close()\n",
    "fig, ax = plt.subplots()\n",
    "im = ax.imshow(ztf_patched_zoomed, **prop)#, vmin=120, vmax=1500)"
   ]
  },
  {
   "cell_type": "markdown",
   "metadata": {},
   "source": [
    "# Create new fake.fits from modified data"
   ]
  },
  {
   "cell_type": "code",
   "execution_count": 100,
   "metadata": {},
   "outputs": [],
   "source": [
    "FILE_OUT = FILE_IN[:-16] + 'fake_' + FILE_IN[-16:]\n",
    "fake_sci = fits.HDUList(fits.PrimaryHDU(data=ztf_patched,\n",
    "                                        header=header))\n",
    "fake_sci.writeto(FILE_OUT, overwrite=True)"
   ]
  },
  {
   "cell_type": "code",
   "execution_count": null,
   "metadata": {},
   "outputs": [],
   "source": []
  }
 ],
 "metadata": {
  "kernelspec": {
   "display_name": "Python 3",
   "language": "python",
   "name": "python3"
  },
  "language_info": {
   "codemirror_mode": {
    "name": "ipython",
    "version": 3
   },
   "file_extension": ".py",
   "mimetype": "text/x-python",
   "name": "python",
   "nbconvert_exporter": "python",
   "pygments_lexer": "ipython3",
   "version": "3.7.4"
  }
 },
 "nbformat": 4,
 "nbformat_minor": 4
}
