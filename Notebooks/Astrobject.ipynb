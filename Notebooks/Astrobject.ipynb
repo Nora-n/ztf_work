{
 "cells": [
  {
   "cell_type": "code",
   "execution_count": 3,
   "metadata": {},
   "outputs": [],
   "source": [
    "from astrobject import photometry\n",
    "from astropy import units"
   ]
  },
  {
   "cell_type": "code",
   "execution_count": 6,
   "metadata": {},
   "outputs": [
    {
     "name": "stderr",
     "output_type": "stream",
     "text": [
      "/home/nicolas/.installs/anaconda3/lib/python3.7/site-packages/astrobject-0.8.6-py3.7.egg/astrobject/catalogue/basecatalogue.py:292: UserWarning: loading default fovmask since no wcs solution or no Shapely or wcssolution without image\n"
     ]
    }
   ],
   "source": [
    "ztfimg = photometry.Image('/home/nicolas/Work/Data/ztf/sci/2018/1006/408484/ztf_20181006408484_000695_zr_c12_o_q2_sciimg.fits', background=0)\n",
    "ztfimg.download_catalogue(\"gaia\")\n",
    "ztfimg.catalogue.define_around(15*units.arcsec)"
   ]
  },
  {
   "cell_type": "code",
   "execution_count": 7,
   "metadata": {},
   "outputs": [
    {
     "data": {
      "text/plain": [
       "{'contours': None,\n",
       " 'fits': None,\n",
       " 'naround': array([2, 2, 1, ..., 1, 1, 1]),\n",
       " 'naround_nofovcut': array([2, 2, 1, ..., 1, 1, 1])}"
      ]
     },
     "execution_count": 7,
     "metadata": {},
     "output_type": "execute_result"
    }
   ],
   "source": [
    "ztfimg.catalogue._derived_properties"
   ]
  }
 ],
 "metadata": {
  "kernelspec": {
   "display_name": "Python 3",
   "language": "python",
   "name": "python3"
  },
  "language_info": {
   "codemirror_mode": {
    "name": "ipython",
    "version": 3
   },
   "file_extension": ".py",
   "mimetype": "text/x-python",
   "name": "python",
   "nbconvert_exporter": "python",
   "pygments_lexer": "ipython3",
   "version": "3.7.4"
  }
 },
 "nbformat": 4,
 "nbformat_minor": 4
}
