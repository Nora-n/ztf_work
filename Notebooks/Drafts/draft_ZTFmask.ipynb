{
 "cells": [
  {
   "cell_type": "code",
   "execution_count": 7,
   "metadata": {},
   "outputs": [],
   "source": [
    "%matplotlib widget"
   ]
  },
  {
   "cell_type": "code",
   "execution_count": 5,
   "metadata": {},
   "outputs": [],
   "source": [
    "import numpy as np\n",
    "import matplotlib.pyplot as plt\n",
    "import astropy.io.fits as fits\n",
    "import matplotlib"
   ]
  },
  {
   "cell_type": "code",
   "execution_count": 2,
   "metadata": {},
   "outputs": [
    {
     "name": "stdout",
     "output_type": "stream",
     "text": [
      "Filename: /home/nicolas/Work/Data/ztf/sci/2018/1006/408484/ztf_20181006408484_000695_zr_c12_o_q2_mskimg.fits\n",
      "No.    Name      Ver    Type      Cards   Dimensions   Format\n",
      "  0  2             1 PrimaryHDU     208   (3072, 3080)   int16   \n",
      "None\n"
     ]
    }
   ],
   "source": [
    "imgFile_sciimg = '/home/nicolas/Work/Data/ztf/sci/2018/1006/408484/ztf_20181006408484_000695_zr_c12_o_q2_scimrefdiffimg.fits.fz'\n",
    "imgFile_mskimg = '/home/nicolas/Work/Data/ztf/sci/2018/1006/408484/ztf_20181006408484_000695_zr_c12_o_q2_mskimg.fits'\n",
    "fData = fits.open(imgFile_mskimg)\n",
    "print(fData.info())"
   ]
  },
  {
   "cell_type": "code",
   "execution_count": 25,
   "metadata": {},
   "outputs": [],
   "source": [
    "refimg = fits.getdata('/home/nicolas/Work/Data/ztf/ref/001/field001735/zg/ccd02/q2/ztf_001735_zg_c02_q2_refimg.fits')"
   ]
  },
  {
   "cell_type": "code",
   "execution_count": 26,
   "metadata": {},
   "outputs": [
    {
     "data": {
      "application/vnd.jupyter.widget-view+json": {
       "model_id": "b64c6d35aecc466798f22d67197758a1",
       "version_major": 2,
       "version_minor": 0
      },
      "text/plain": [
       "Canvas(toolbar=Toolbar(toolitems=[('Home', 'Reset original view', 'home', 'home'), ('Back', 'Back to previous …"
      ]
     },
     "metadata": {},
     "output_type": "display_data"
    },
    {
     "data": {
      "text/plain": [
       "<matplotlib.image.AxesImage at 0x7fd5b10247d0>"
      ]
     },
     "execution_count": 26,
     "metadata": {},
     "output_type": "execute_result"
    }
   ],
   "source": [
    "plt.close()\n",
    "plt.imshow(refimg)"
   ]
  },
  {
   "cell_type": "code",
   "execution_count": 24,
   "metadata": {},
   "outputs": [
    {
     "name": "stdout",
     "output_type": "stream",
     "text": [
      "<class 'numpy.ndarray'>\n",
      "(3080, 3072)\n",
      "[[2 2 2 ... 2 0 0]\n",
      " [2 2 2 ... 2 0 0]\n",
      " [0 0 0 ... 0 0 0]\n",
      " ...\n",
      " [0 0 0 ... 0 0 0]\n",
      " [0 0 0 ... 0 0 0]\n",
      " [0 0 0 ... 0 0 0]]\n",
      "Min = 0\n",
      "Max = 2306\n",
      "Mean = 3.0895106195887445\n",
      "Std = 78.18628877814218\n",
      "Median = 0.0\n"
     ]
    },
    {
     "data": {
      "application/vnd.jupyter.widget-view+json": {
       "model_id": "83734b7907864db391b57674e43f5dde",
       "version_major": 2,
       "version_minor": 0
      },
      "text/plain": [
       "Canvas(toolbar=Toolbar(toolitems=[('Home', 'Reset original view', 'home', 'home'), ('Back', 'Back to previous …"
      ]
     },
     "metadata": {},
     "output_type": "display_data"
    }
   ],
   "source": [
    "# mskimg data\n",
    "imgData_mskimg = fits.getdata(imgFile_mskimg)\n",
    "imgData_sciimg = fits.getdata(imgFile_sciimg)\n",
    "print(type(imgData_mskimg))\n",
    "print(imgData_mskimg.shape)\n",
    "print(imgData_mskimg)\n",
    "print('Min =', np.min(imgData_mskimg))\n",
    "print('Max =', np.max(imgData_mskimg))\n",
    "print('Mean =', np.mean(imgData_mskimg))\n",
    "print('Std =', np.std(imgData_mskimg))\n",
    "print('Median =', np.median(imgData_mskimg)) \n",
    "\n",
    "plt.close()\n",
    "\n",
    "fig = plt.figure()\n",
    "ax  = fig.add_subplot(311)\n",
    "plt.imshow(imgData_mskimg, interpolation='nearest',\n",
    "           origin='lower', cmap='viridis',\n",
    "           norm=matplotlib.colors.LogNorm(), vmin=1)\n",
    "           #norm=LogNorm())\n",
    "           #vmax=3)\n",
    "plt.colorbar()\n",
    "#plt.xlim(0,300)\n",
    "#plt.ylim(0,300)\n",
    "plt.show()\n",
    "ax = fig.add_subplot(312)\n",
    "plt.hist(imgData_mskimg.flatten(), bins=1000)\n",
    "#         range=[-500,500])\n",
    "#plt.xlim(-500,500)\n",
    "#plt.ylim(0,100)\n",
    "plt.yscale('log')\n",
    "plt.show()\n",
    "ax = fig.add_subplot(313)\n",
    "plt.imshow(imgData_sciimg, cmap='viridis', vmin=-15, vmax=15)\n",
    "plt.show()"
   ]
  },
  {
   "cell_type": "markdown",
   "metadata": {},
   "source": [
    "# Bit-mask definitions\n",
    "                                            \n",
    "- BIT00   =                    0 / AIRCRAFT/SATELLITE TRACK                       \n",
    "- BIT01   =                    1 / CONTAINS SEXTRACTOR DETECTION                  \n",
    "- BIT02   =                    2 / LOW RESPONSIVITY                               \n",
    "- BIT03   =                    3 / HIGH RESPONSIVITY                              \n",
    "- BIT04   =                    4 / NOISY                                          \n",
    "- BIT05   =                    5 / GHOST FROM BRIGHT SOURCE                       \n",
    "- BIT06   =                    6 / GHOST FROM CHARGE SPILLAGE                        \n",
    "- BIT07   =                    7 / PIXEL SPIKE (POSSIBLE RAD HIT)                 \n",
    "- BIT08   =                    8 / SATURATED                                      \n",
    "- BIT09   =                    9 / DEAD (UNRESPONSIVE)                            \n",
    "- BIT10   =                   10 / NAN (not a number)                             \n",
    "- BIT11   =                   11 / CONTAINS PSF-EXTRACTED SOURCE POSITION         \n",
    "- BIT12   =                   12 / HALO FROM BRIGHT SOURCE                        \n",
    "- BIT13   =                   13 / RESERVED FOR FUTURE USE                        \n",
    "- BIT14   =                   14 / RESERVED FOR FUTURE USE                        \n",
    "- BIT15   =                   15 / RESERVED FOR FUTURE USE   "
   ]
  },
  {
   "cell_type": "code",
   "execution_count": 10,
   "metadata": {},
   "outputs": [
    {
     "name": "stdout",
     "output_type": "stream",
     "text": [
      "6141\n",
      "1011111111101\n",
      "6141\n",
      "1011111111101\n"
     ]
    }
   ],
   "source": [
    "# TESTS\n",
    "bitmask = 6141\n",
    "#bitmask = 258\n",
    "print(bitmask)\n",
    "print(\"{:b}\".format(bitmask))\n",
    "\n",
    "# Logical AND\n",
    "print(bitmask & 6141)\n",
    "print(\"{:b}\".format(bitmask & 6141))"
   ]
  },
  {
   "cell_type": "code",
   "execution_count": 11,
   "metadata": {
    "collapsed": true,
    "jupyter": {
     "outputs_hidden": true
    }
   },
   "outputs": [
    {
     "name": "stdout",
     "output_type": "stream",
     "text": [
      "<class 'numpy.ndarray'>\n",
      "[[ True  True  True ...  True  True  True]\n",
      " [ True  True  True ...  True  True  True]\n",
      " [ True  True  True ...  True  True  True]\n",
      " ...\n",
      " [ True  True  True ...  True  True  True]\n",
      " [ True  True  True ...  True  True  True]\n",
      " [ True  True  True ...  True  True  True]]\n"
     ]
    }
   ],
   "source": [
    "# Compute a mask image = 0 for good pixels\n",
    "#                     != 0 for bad pixels\n",
    "# 6141 = 2^0 + 2^2 + 2^3 + 2^4 + 2^5 + 2^6 + 2^7 + 2^8 + 2^9 + 2^10 + 2^12\n",
    "imgData_mskbit = imgData_mskimg.copy()\n",
    "imgData_mskbit = (imgData_mskimg & 0)\n",
    "\n",
    "# Cleaned image by putting all bad pixels to -99\n",
    "#imgData_cleanimg = imgData_sciimg.copy()\n",
    "mask = (imgData_mskbit == 0)\n",
    "print(type(mask))\n",
    "print(mask)\n",
    "            "
   ]
  },
  {
   "cell_type": "code",
   "execution_count": 10,
   "metadata": {},
   "outputs": [],
   "source": [
    "imgData_mskbit = imgData_mskimg.copy()"
   ]
  },
  {
   "cell_type": "code",
   "execution_count": 11,
   "metadata": {},
   "outputs": [
    {
     "data": {
      "text/plain": [
       "<matplotlib.image.AxesImage at 0x7fd5cbd73150>"
      ]
     },
     "execution_count": 11,
     "metadata": {},
     "output_type": "execute_result"
    }
   ],
   "source": [
    "plt.imshow(imgData_mskimg, interpolation='nearest',\n",
    "           origin='lower', cmap='viridis',\n",
    "           norm=matplotlib.colors.LogNorm(), vmin=1)"
   ]
  },
  {
   "cell_type": "code",
   "execution_count": 12,
   "metadata": {},
   "outputs": [],
   "source": [
    "mask_ = (imgData_mskbit == 0)"
   ]
  },
  {
   "cell_type": "code",
   "execution_count": 13,
   "metadata": {},
   "outputs": [
    {
     "data": {
      "text/plain": [
       "array([[False, False, False, ..., False,  True,  True],\n",
       "       [False, False, False, ..., False,  True,  True],\n",
       "       [ True,  True,  True, ...,  True,  True,  True],\n",
       "       ...,\n",
       "       [ True,  True,  True, ...,  True,  True,  True],\n",
       "       [ True,  True,  True, ...,  True,  True,  True],\n",
       "       [ True,  True,  True, ...,  True,  True,  True]])"
      ]
     },
     "execution_count": 13,
     "metadata": {},
     "output_type": "execute_result"
    }
   ],
   "source": [
    "mask_"
   ]
  },
  {
   "cell_type": "code",
   "execution_count": 52,
   "metadata": {},
   "outputs": [
    {
     "name": "stdout",
     "output_type": "stream",
     "text": [
      "Warning: Cannot change to a different GUI toolkit: widget. Using notebook instead.\n"
     ]
    }
   ],
   "source": [
    "%matplotlib widget"
   ]
  },
  {
   "cell_type": "code",
   "execution_count": 14,
   "metadata": {},
   "outputs": [
    {
     "data": {
      "application/vnd.jupyter.widget-view+json": {
       "model_id": "638e84b74b0b4d799790a995a321f4ce",
       "version_major": 2,
       "version_minor": 0
      },
      "text/plain": [
       "Canvas(toolbar=Toolbar(toolitems=[('Home', 'Reset original view', 'home', 'home'), ('Back', 'Back to previous …"
      ]
     },
     "metadata": {},
     "output_type": "display_data"
    },
    {
     "data": {
      "text/plain": [
       "<matplotlib.image.AxesImage at 0x7fd5cbc58450>"
      ]
     },
     "execution_count": 14,
     "metadata": {},
     "output_type": "execute_result"
    }
   ],
   "source": [
    "plt.close()\n",
    "plt.imshow(mask_*imgData_sciimg)"
   ]
  },
  {
   "cell_type": "code",
   "execution_count": 31,
   "metadata": {},
   "outputs": [
    {
     "data": {
      "text/plain": [
       "(3080, 3072)"
      ]
     },
     "execution_count": 31,
     "metadata": {},
     "output_type": "execute_result"
    }
   ],
   "source": [
    "np.shape(imgData_mskimg)"
   ]
  },
  {
   "cell_type": "code",
   "execution_count": 29,
   "metadata": {},
   "outputs": [
    {
     "data": {
      "text/plain": [
       "array([   2,    2, 2050, ...,    2,    2,    2], dtype=int16)"
      ]
     },
     "execution_count": 29,
     "metadata": {},
     "output_type": "execute_result"
    }
   ],
   "source": [
    "imgData_mskbit_t[imgData_mskbit_t != 0]"
   ]
  },
  {
   "cell_type": "code",
   "execution_count": null,
   "metadata": {},
   "outputs": [],
   "source": [
    "# Chi-2 computing with masks on vignetting image 'img' with model 'model'\n",
    "rms = mask*(img-model)**2\n",
    "chi2 = np.sum(rms)"
   ]
  },
  {
   "cell_type": "code",
   "execution_count": 14,
   "metadata": {},
   "outputs": [
    {
     "data": {
      "text/plain": [
       "3080"
      ]
     },
     "execution_count": 14,
     "metadata": {},
     "output_type": "execute_result"
    }
   ],
   "source": [
    "len(mask)"
   ]
  },
  {
   "cell_type": "code",
   "execution_count": 20,
   "metadata": {},
   "outputs": [
    {
     "data": {
      "text/plain": [
       "array([], dtype=bool)"
      ]
     },
     "execution_count": 20,
     "metadata": {},
     "output_type": "execute_result"
    }
   ],
   "source": [
    "mask[mask == False]"
   ]
  }
 ],
 "metadata": {
  "kernelspec": {
   "display_name": "Python 3",
   "language": "python",
   "name": "python3"
  },
  "language_info": {
   "codemirror_mode": {
    "name": "ipython",
    "version": 3
   },
   "file_extension": ".py",
   "mimetype": "text/x-python",
   "name": "python",
   "nbconvert_exporter": "python",
   "pygments_lexer": "ipython3",
   "version": "3.7.4"
  }
 },
 "nbformat": 4,
 "nbformat_minor": 4
}
